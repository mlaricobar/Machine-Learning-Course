{
 "cells": [
  {
   "cell_type": "markdown",
   "metadata": {},
   "source": [
    "# <font color=#003d5c>I. Aprendizaje Supervisado</font>"
   ]
  },
  {
   "cell_type": "markdown",
   "metadata": {},
   "source": [
    "## <font color=#003d5c>Algoritmos de Clasificación</font>\n",
    "\n",
    "Clasificación es el proceso que consiste en predecir, a partir de un determinado conjunto de datos, la pertenencia a una clase o categoría. Las clases a menudo son llamadas `Target, Etiquetas o Categorías`. El modelado predictivo de clasificación es la tarea de aproximar una función de mapeo $f$ que asocia un conjunto de variables de entradas $X$ a un variable discreta de salida $y$.\n",
    "\n",
    "<img src=\"images/classification.png\" width=\"600\">\n",
    "\n",
    "Por ejemplo, la detección de churners dentro de una base de clientes de una empresa Telco puede considerarse como un problema de clasificación. Esta es una clasificación binaria ya que sólo existen 2 clases o categorías tales como `churner` o `no churner`. Un clasificador utiliza algunos datos de entrenamiento para poder comprender cómo las variables de entrada dadas se relacionan con la clase.\n",
    "\n",
    "En este caso, los clientes que fueron `churners` en meses anteriores y sus variables de comportamiento de consumo, pagos y reclamos se deben usar como datos de entrenamiento. Con el uso de esos datos, podemos construir un clasificador que, una vez que esté entrenado con una alta precisión, se pueda utilizar para detectar `churners` en el futuro, y así poder aplicarles campañas de retención."
   ]
  },
  {
   "cell_type": "markdown",
   "metadata": {},
   "source": [
    "**Clasificación** pertenece a la categoría de aprendizaje supervisado donde contamos con el Target además de los datos de entrada. Asimismo, existen muchas aplicaciones de clasificación en muchos dominios de negocio, tal como en la aprobación de crédito, diagnóstico médico, marketing, etc."
   ]
  },
  {
   "cell_type": "markdown",
   "metadata": {},
   "source": [
    "Por otro lado, existen 2 tipos de algoritmos de clasificación: `Lazy Learners` y `Eager Learners`.\n",
    "\n",
    "- **Lazy Learners**\n",
    "\n",
    "Simplemente almacenan los datos de entrenamiento y sólo se utilizan en la fase de predicción de los datos de prueba. La clasificación se realiza en base a los datos más relacionados del dataset de entrenamiento. A diferencia de los `Eager Learners`, los `Lazy Learners` tienen un tiempo de entrenamiento muy corto, pero tardan más tiempo en la predicción.\n",
    "\n",
    "Por ejempo: `K-nearest neighbor`, `Case-based reasoning`\n",
    "\n",
    "<img src=\"images/lazy_learner.jpeg\" width=\"400\">\n",
    "\n",
    "- **Eager Learners**\n",
    "\n",
    "Construyen un modelo de clasificación basado en los datos de entrenamiento. Debido a la construcción del modelo, los `Eager Learners` tardan mucho tiempo en entrenar, y menos tiempo en la predicción.\n",
    "\n",
    "Por ejemplo: `Árbol de Decisión`, `Random Forest`, `XGBoost`, `Naive Bayes`, `SVM`, `Redes Neuronales`\n",
    "\n",
    "En este notebook revisaremos un algoritmo del tipo `Lazy`: **K-Nearest Neighbor**"
   ]
  },
  {
   "cell_type": "markdown",
   "metadata": {},
   "source": [
    "# <font color=#003d5c>Vecinos más cercanos (KNN)</font>"
   ]
  },
  {
   "cell_type": "markdown",
   "metadata": {},
   "source": [
    "Cuando se requiere una predicción para una instancia de datos no vistos, el algoritmo KNN buscará en el conjunto de datos de entrenamiento las k instancias más similares. El atributo de predicción de las instancias más similares se resume y se devuelve como la predicción para la instancia no vista.\n",
    "\n",
    "La medida de similitud depende del tipo de datos. Para datos de valor real, se puede usar la **distancia euclidiana**. Se pueden usar otros tipos de datos, como los datos categóricos o binarios, donde la medida puede ser la **distancia de Hamming**.\n",
    "\n",
    "En el caso de problemas de regresión, se puede devolver el **promedio del atributo predicho**; en el caso de la clasificación, **la clase más prevalente (moda)**.\n",
    "\n",
    "<img src=\"images/knn.jpeg\" width=\"400\">\n",
    "\n",
    "\n",
    "## <font color=#003d5c>Cómo trabaja k-Nearest Neighbors</font>\n",
    "\n",
    "Es un algoritmo de aprendizaje competitivo, porque internamente utiliza la competencia entre los elementos del modelo (instancias de datos) para tomar una decisión predictiva. La medida de similitud objetivo entre las instancias de datos hace que cada instancia de datos compita para \"ganar\" o sea la más similar a una instancia de datos no vista dada y contribuya a una predicción.\n",
    "\n",
    "<img src=\"images/knn.png\" width=\"400\">\n",
    "\n",
    "El aprendizaje lento se refiere al hecho de que el algoritmo no crea un modelo hasta el momento en que se requiere una predicción. Es flojo porque solo funciona en el último segundo. Esto tiene el beneficio de incluir solo datos relevantes para los datos no vistos. Una desventaja es que puede ser **computacionalmente costoso repetir búsquedas iguales o similares en conjuntos de datos de entrenamiento más grandes**.\n",
    "\n",
    "Finalmente, `KNN` es poderoso porque no asume nada sobre los datos, salvo que una medida de distancia se puede calcular de manera consistente entre dos instancias. Como tal, se llama `no paramétrico o no lineal` ya que no asume una forma funcional.\n",
    "\n",
    "## <font color=#003d5c>Ejemplo:</font>"
   ]
  },
  {
   "cell_type": "markdown",
   "metadata": {},
   "source": [
    "Importar y configurar la librería de gráfica **matplotlib**"
   ]
  },
  {
   "cell_type": "code",
   "execution_count": 1,
   "metadata": {},
   "outputs": [],
   "source": [
    "import matplotlib.pyplot as plt\n",
    "plt.rcParams['figure.figsize'] = (6, 4)\n",
    "plt.rcParams['font.size'] = 14\n",
    "%matplotlib inline"
   ]
  },
  {
   "cell_type": "markdown",
   "metadata": {},
   "source": [
    "## <font color=#003d5c>Creando un clasificador KNN</font>\n",
    "\n",
    "<img src=\"images/cheering_minions.gif\" width=\"400\">\n",
    "\n",
    "### <font color=#003d5c>1. Estime la similitud</font>\n",
    "\n",
    "Para hacer predicciones necesitamos calcular la similitud entre dos instancias de datos dadas. Esto es necesario para que podamos ubicar las k instancias de datos más similares en el conjunto de datos de entrenamiento para un miembro dado del conjunto de datos de prueba y, a su vez, hacer una predicción.\n",
    "\n",
    "Para variables numéricas podemos usar directamente la medida de distancia euclidiana. **Esto se define como la raíz cuadrada de la suma de las diferencias cuadradas entre las dos matrices de números**.\n",
    "\n",
    "Además, queremos controlar qué campos incluir en el cálculo de distancia. Específicamente, solo queremos incluir los variables numéricas.\n",
    "\n",
    "En base a lo mencionado, podemos definir la función `distanciaEuclidiana` de la siguiente manera:\n",
    "\n",
    "$$d(p,q)=\\sum_{i=0}^{n-1} \\sqrt{(p_{i}-q_{i})^{2}}$$"
   ]
  },
  {
   "cell_type": "code",
   "execution_count": 2,
   "metadata": {},
   "outputs": [],
   "source": [
    "import numpy as np\n",
    "def distanciaEuclidiana(instancia1, instancia2):\n",
    "    distancia = (instancia1 - instancia2) ** 2\n",
    "    \n",
    "    if distancia.shape[0] == distancia.size:\n",
    "        return distancia.sum() ** 0.5\n",
    "    else:\n",
    "        return distancia.sum(axis=1) ** 0.5"
   ]
  },
  {
   "cell_type": "markdown",
   "metadata": {},
   "source": [
    "¿Exactamente, qué es lo que hará la función definida?\n",
    "\n",
    "Por ejemplo, si tenemos 2 arreglos de 1 dimensión:"
   ]
  },
  {
   "cell_type": "code",
   "execution_count": 3,
   "metadata": {},
   "outputs": [],
   "source": [
    "instancia1 = np.array([2, 2])\n",
    "instancia2 = np.array([4, 4])"
   ]
  },
  {
   "cell_type": "markdown",
   "metadata": {},
   "source": [
    "Calculemos la diferencia de elemento a elemento, y las elevamos al cuadrado"
   ]
  },
  {
   "cell_type": "code",
   "execution_count": 4,
   "metadata": {},
   "outputs": [
    {
     "data": {
      "text/plain": [
       "array([4, 4], dtype=int32)"
      ]
     },
     "execution_count": 4,
     "metadata": {},
     "output_type": "execute_result"
    }
   ],
   "source": [
    "distancia = (instancia1 - instancia2) ** 2\n",
    "distancia"
   ]
  },
  {
   "cell_type": "markdown",
   "metadata": {},
   "source": [
    "Si es unidimensional, calcula la suma de todos las diferencias calculadas y les aplica la raíz cuadrada. ¿Pero cómo sabemos que es unidemensional? Una forma es verificando si el número de elementos en la dimensión x es igual al número de elementos en total. "
   ]
  },
  {
   "cell_type": "code",
   "execution_count": 5,
   "metadata": {},
   "outputs": [
    {
     "name": "stdout",
     "output_type": "stream",
     "text": [
      "Numero de elementos en la dimensión x: 2\n",
      "Numero de elementos en total: 2\n"
     ]
    }
   ],
   "source": [
    "print(\"Numero de elementos en la dimensión x: {0}\".format(distancia.shape[0]))\n",
    "print(\"Numero de elementos en total: {0}\".format(distancia.size))"
   ]
  },
  {
   "cell_type": "code",
   "execution_count": 6,
   "metadata": {},
   "outputs": [
    {
     "data": {
      "text/plain": [
       "8"
      ]
     },
     "execution_count": 6,
     "metadata": {},
     "output_type": "execute_result"
    }
   ],
   "source": [
    "distancia.sum()"
   ]
  },
  {
   "cell_type": "markdown",
   "metadata": {},
   "source": [
    "¿Y si trabajamos con matrices?"
   ]
  },
  {
   "cell_type": "code",
   "execution_count": 7,
   "metadata": {},
   "outputs": [],
   "source": [
    "instancia1 = np.array([[2, 2], [3, 5], [9, 10]])\n",
    "instancia2 = np.array([[4, 4], [7, 8], [5, 2]])"
   ]
  },
  {
   "cell_type": "markdown",
   "metadata": {},
   "source": [
    "Calculemos la diferencia de elemento a elemento, y las elevamos al cuadrado"
   ]
  },
  {
   "cell_type": "code",
   "execution_count": 8,
   "metadata": {},
   "outputs": [
    {
     "data": {
      "text/plain": [
       "array([[ 4,  4],\n",
       "       [16,  9],\n",
       "       [16, 64]], dtype=int32)"
      ]
     },
     "execution_count": 8,
     "metadata": {},
     "output_type": "execute_result"
    }
   ],
   "source": [
    "distancia = (instancia1 - instancia2) ** 2\n",
    "distancia"
   ]
  },
  {
   "cell_type": "markdown",
   "metadata": {},
   "source": [
    "En este caso como es bidimensional, calcula la suma de todos las diferencias calculadas a nivel de registro y les aplica la raíz cuadrada. ¿Pero cómo sabemos que es unidemensional? Una forma es verificando si el número de elementos en la dimensión x es igual al número de elementos en total."
   ]
  },
  {
   "cell_type": "code",
   "execution_count": 9,
   "metadata": {},
   "outputs": [
    {
     "name": "stdout",
     "output_type": "stream",
     "text": [
      "Numero de elementos en la dimensión x: 3\n",
      "Numero de elementos en total: 6\n"
     ]
    }
   ],
   "source": [
    "print(\"Numero de elementos en la dimensión x: {0}\".format(distancia.shape[0]))\n",
    "print(\"Numero de elementos en total: {0}\".format(distancia.size))"
   ]
  },
  {
   "cell_type": "code",
   "execution_count": 10,
   "metadata": {},
   "outputs": [
    {
     "data": {
      "text/plain": [
       "array([ 8, 25, 80], dtype=int32)"
      ]
     },
     "execution_count": 10,
     "metadata": {},
     "output_type": "execute_result"
    }
   ],
   "source": [
    "distancia.sum(axis=1)"
   ]
  },
  {
   "cell_type": "markdown",
   "metadata": {},
   "source": [
    "Una vez entendido esto, usemos la función."
   ]
  },
  {
   "cell_type": "code",
   "execution_count": 11,
   "metadata": {},
   "outputs": [
    {
     "name": "stdout",
     "output_type": "stream",
     "text": [
      "Distancia:  2.82842712475\n"
     ]
    }
   ],
   "source": [
    "data1 = np.array([2, 2])\n",
    "data2 = np.array([4, 4])\n",
    "distancia = distanciaEuclidiana(data1, data2)\n",
    "print('Distancia: ', distancia)"
   ]
  },
  {
   "cell_type": "code",
   "execution_count": 12,
   "metadata": {},
   "outputs": [
    {
     "data": {
      "text/plain": [
       "[<matplotlib.lines.Line2D at 0x8f8e860>]"
      ]
     },
     "execution_count": 12,
     "metadata": {},
     "output_type": "execute_result"
    },
    {
     "data": {
      "image/png": "[encoded data removed]",
      "text/plain": [
       "<matplotlib.figure.Figure at 0x8b52be0>"
      ]
     },
     "metadata": {},
     "output_type": "display_data"
    }
   ],
   "source": [
    "plt.scatter(data1[0], data1[1], c='b')\n",
    "plt.scatter(data2[0], data2[1], c='r')\n",
    "plt.plot([data1[0], data2[0]], [data1[1], data2[1]], '--y')"
   ]
  },
  {
   "cell_type": "markdown",
   "metadata": {},
   "source": [
    "### <font color=#003d5c>2. Encontrar vecinos</font>\n",
    "\n",
    "Ahora que tenemos una medida de similitud, podemos usarla para recopilar las k instancias más similares para una determinada instancia no vista. Este es un proceso directo de calcular la distancia para todas las instancias y seleccionar un subconjunto con los valores de distancia más pequeños.\n",
    "\n",
    "A continuación se muestra la función `obtenerVecinos` que devuelve los k vecinos más similares del conjunto de entrenamiento para una instancia de prueba determinada (utilizando la función `DistanciaEuclidiana` ya definida)"
   ]
  },
  {
   "cell_type": "markdown",
   "metadata": {},
   "source": [
    "Para ello, definamos los conjuntos de entrenamiento y test:"
   ]
  },
  {
   "cell_type": "code",
   "execution_count": 13,
   "metadata": {},
   "outputs": [],
   "source": [
    "conjuntoEntrenamiento = np.array([[2, 2], [4, 4], [7, 7], [4, 1], [3, 4], [5, 2]])\n",
    "conjuntoTest = np.array([5, 5])"
   ]
  },
  {
   "cell_type": "markdown",
   "metadata": {},
   "source": [
    "Y ahora, calculemos la distancia:"
   ]
  },
  {
   "cell_type": "code",
   "execution_count": 14,
   "metadata": {},
   "outputs": [
    {
     "data": {
      "text/plain": [
       "array([ 4.24264069,  1.41421356,  2.82842712,  4.12310563,  2.23606798,  3.        ])"
      ]
     },
     "execution_count": 14,
     "metadata": {},
     "output_type": "execute_result"
    }
   ],
   "source": [
    "dist = distanciaEuclidiana(conjuntoEntrenamiento, conjuntoTest)\n",
    "dist"
   ]
  },
  {
   "cell_type": "markdown",
   "metadata": {},
   "source": [
    "¿Cuáles son los dos puntos más cercanos?"
   ]
  },
  {
   "cell_type": "code",
   "execution_count": 15,
   "metadata": {},
   "outputs": [
    {
     "name": "stdout",
     "output_type": "stream",
     "text": [
      "Arreglo de distancias: [ 4.24264069  1.41421356  2.82842712  4.12310563  2.23606798  3.        ]\n",
      "Arreglo de distancias ordenado: [ 1.41421356  2.23606798  2.82842712  3.          4.12310563  4.24264069]\n"
     ]
    }
   ],
   "source": [
    "print(\"Arreglo de distancias: {}\".format(dist))\n",
    "print(\"Arreglo de distancias ordenado: {}\".format(np.sort(dist)))"
   ]
  },
  {
   "cell_type": "markdown",
   "metadata": {},
   "source": [
    "El método `argsort()` retorna los índices del arreglo ordenado."
   ]
  },
  {
   "cell_type": "code",
   "execution_count": 16,
   "metadata": {},
   "outputs": [
    {
     "data": {
      "text/plain": [
       "array([1, 4], dtype=int64)"
      ]
     },
     "execution_count": 16,
     "metadata": {},
     "output_type": "execute_result"
    }
   ],
   "source": [
    "dist.argsort()[:2]"
   ]
  },
  {
   "cell_type": "markdown",
   "metadata": {},
   "source": [
    "Dado que los índices del arreglo de distancias hacen referencia a los índices de los registros del conjunto de entrenamiento."
   ]
  },
  {
   "cell_type": "code",
   "execution_count": 17,
   "metadata": {},
   "outputs": [
    {
     "data": {
      "text/plain": [
       "array([ 1.41421356,  2.23606798])"
      ]
     },
     "execution_count": 17,
     "metadata": {},
     "output_type": "execute_result"
    }
   ],
   "source": [
    "dist[dist.argsort()[:2]]"
   ]
  },
  {
   "cell_type": "code",
   "execution_count": 18,
   "metadata": {},
   "outputs": [
    {
     "data": {
      "text/plain": [
       "array([[4, 4],\n",
       "       [3, 4]])"
      ]
     },
     "execution_count": 18,
     "metadata": {},
     "output_type": "execute_result"
    }
   ],
   "source": [
    "conjuntoEntrenamiento[dist.argsort()[:2]]"
   ]
  },
  {
   "cell_type": "code",
   "execution_count": 19,
   "metadata": {},
   "outputs": [],
   "source": [
    "def obtenerVecinos(conjuntoEntrenamiento, conjuntoTest, k):\n",
    "    dist = distanciaEuclidiana(conjuntoEntrenamiento, conjuntoTest)\n",
    "    vecinos = dist.argsort()[:k]\n",
    "    return vecinos"
   ]
  },
  {
   "cell_type": "code",
   "execution_count": 20,
   "metadata": {},
   "outputs": [
    {
     "name": "stdout",
     "output_type": "stream",
     "text": [
      "[1 4 2]\n"
     ]
    }
   ],
   "source": [
    "k = 3\n",
    "vecinos = obtenerVecinos(conjuntoEntrenamiento, conjuntoTest, k)\n",
    "print(vecinos)"
   ]
  },
  {
   "cell_type": "markdown",
   "metadata": {},
   "source": [
    "Grafiquemos el vecino más cercano al registro de prueba."
   ]
  },
  {
   "cell_type": "code",
   "execution_count": 21,
   "metadata": {},
   "outputs": [
    {
     "data": {
      "text/plain": [
       "[<matplotlib.lines.Line2D at 0x90402b0>]"
      ]
     },
     "execution_count": 21,
     "metadata": {},
     "output_type": "execute_result"
    },
    {
     "data": {
      "image/png": "[encoded data removed]",
      "text/plain": [
       "<matplotlib.figure.Figure at 0x8fab198>"
      ]
     },
     "metadata": {},
     "output_type": "display_data"
    }
   ],
   "source": [
    "plt.scatter(conjuntoEntrenamiento[:, 0], conjuntoEntrenamiento[:, 1], s=25, c='b')\n",
    "plt.scatter(conjuntoTest[0], conjuntoTest[1], c='g', s=100)\n",
    "plt.plot([conjuntoTest[0], conjuntoEntrenamiento[vecinos[0], 0]], [conjuntoTest[1], conjuntoEntrenamiento[vecinos[0], 1]], '--r')"
   ]
  },
  {
   "cell_type": "markdown",
   "metadata": {},
   "source": [
    "Probar con otra instancia de prueba"
   ]
  },
  {
   "cell_type": "code",
   "execution_count": 22,
   "metadata": {},
   "outputs": [
    {
     "name": "stdout",
     "output_type": "stream",
     "text": [
      "[4 1 0]\n"
     ]
    }
   ],
   "source": [
    "instanciaPrueba = np.array([3.4, 3])\n",
    "k = 3\n",
    "vecinos = obtenerVecinos(conjuntoEntrenamiento, instanciaPrueba, k)\n",
    "print(vecinos)"
   ]
  },
  {
   "cell_type": "code",
   "execution_count": 23,
   "metadata": {},
   "outputs": [
    {
     "data": {
      "image/png": "[encoded data removed]",
      "text/plain": [
       "<matplotlib.figure.Figure at 0x8b33fd0>"
      ]
     },
     "metadata": {},
     "output_type": "display_data"
    }
   ],
   "source": [
    "plt.scatter(conjuntoEntrenamiento[:, 0], conjuntoEntrenamiento[:, 1], s=50, c='b')\n",
    "plt.scatter(instanciaPrueba[0], instanciaPrueba[1], c='g', s=100)\n",
    "for vecino in vecinos:\n",
    "    plt.plot([instanciaPrueba[0], conjuntoEntrenamiento[vecino, 0]], [instanciaPrueba[1], conjuntoEntrenamiento[vecino, 1]], '--r')"
   ]
  },
  {
   "cell_type": "markdown",
   "metadata": {},
   "source": [
    "### <font color=#003d5c>3. Respuesta</font>\n",
    "\n",
    "Una vez que hemos localizado a los vecinos más similares para una instancia de prueba, la siguiente tarea es diseñar una respuesta pronosticada basada en esos vecinos.\n",
    "\n",
    "Podemos hacer esto al permitir que cada vecino vote por su atributo de clase, y tomar el voto de la mayoría como la predicción.\n",
    "\n",
    "Primero vamos a definir la etiqueta de cada instancia."
   ]
  },
  {
   "cell_type": "code",
   "execution_count": 24,
   "metadata": {},
   "outputs": [],
   "source": [
    "conjuntoEntrenamiento_y = np.array([0, 0, 1, 0, 1, 1])"
   ]
  },
  {
   "cell_type": "code",
   "execution_count": 25,
   "metadata": {},
   "outputs": [
    {
     "data": {
      "text/plain": [
       "<matplotlib.collections.PathCollection at 0x9109a58>"
      ]
     },
     "execution_count": 25,
     "metadata": {},
     "output_type": "execute_result"
    },
    {
     "data": {
      "image/png": "[encoded data removed]",
      "text/plain": [
       "<matplotlib.figure.Figure at 0x8f5f0f0>"
      ]
     },
     "metadata": {},
     "output_type": "display_data"
    }
   ],
   "source": [
    "plt.scatter(conjuntoEntrenamiento[conjuntoEntrenamiento_y==0, 0], conjuntoEntrenamiento[conjuntoEntrenamiento_y==0, 1], s=50)\n",
    "plt.scatter(conjuntoEntrenamiento[conjuntoEntrenamiento_y==1, 0], conjuntoEntrenamiento[conjuntoEntrenamiento_y==1, 1], c='y', s=50)"
   ]
  },
  {
   "cell_type": "markdown",
   "metadata": {},
   "source": [
    "A continuación se proporciona una función para obtener la mayoría de las respuestas votadas de un número de vecinos. Asume que la clase es el último atributo para cada vecino."
   ]
  },
  {
   "cell_type": "code",
   "execution_count": 26,
   "metadata": {
    "scrolled": true
   },
   "outputs": [
    {
     "data": {
      "image/png": "[encoded data removed]",
      "text/plain": [
       "<matplotlib.figure.Figure at 0x9057eb8>"
      ]
     },
     "metadata": {},
     "output_type": "display_data"
    }
   ],
   "source": [
    "plt.scatter(conjuntoEntrenamiento[conjuntoEntrenamiento_y==0, 0], conjuntoEntrenamiento[conjuntoEntrenamiento_y==0, 1], s=50)\n",
    "plt.scatter(conjuntoEntrenamiento[conjuntoEntrenamiento_y==1, 0], conjuntoEntrenamiento[conjuntoEntrenamiento_y==1, 1], c='y', s=50)\n",
    "plt.scatter(instanciaPrueba[0], instanciaPrueba[1], c='g', s=100)\n",
    "for vecino in vecinos:\n",
    "    plt.plot([instanciaPrueba[0], conjuntoEntrenamiento[vecino, 0]], [instanciaPrueba[1], conjuntoEntrenamiento[vecino, 1]], '--r')"
   ]
  },
  {
   "cell_type": "code",
   "execution_count": 27,
   "metadata": {},
   "outputs": [
    {
     "data": {
      "text/plain": [
       "array([1, 0, 0])"
      ]
     },
     "execution_count": 27,
     "metadata": {},
     "output_type": "execute_result"
    }
   ],
   "source": [
    "conjuntoEntrenamiento_y[vecinos]"
   ]
  },
  {
   "cell_type": "markdown",
   "metadata": {},
   "source": [
    "Contar las instancias por clase"
   ]
  },
  {
   "cell_type": "code",
   "execution_count": 28,
   "metadata": {},
   "outputs": [
    {
     "data": {
      "text/plain": [
       "array([[0, 2],\n",
       "       [1, 1]], dtype=int64)"
      ]
     },
     "execution_count": 28,
     "metadata": {},
     "output_type": "execute_result"
    }
   ],
   "source": [
    "from scipy.stats import itemfreq\n",
    "freq = itemfreq(conjuntoEntrenamiento_y[vecinos])\n",
    "freq"
   ]
  },
  {
   "cell_type": "code",
   "execution_count": 29,
   "metadata": {},
   "outputs": [
    {
     "data": {
      "text/plain": [
       "0"
      ]
     },
     "execution_count": 29,
     "metadata": {},
     "output_type": "execute_result"
    }
   ],
   "source": [
    "freq[:, 1].argmax()"
   ]
  },
  {
   "cell_type": "markdown",
   "metadata": {},
   "source": [
    "La clase ganadora es:"
   ]
  },
  {
   "cell_type": "code",
   "execution_count": 30,
   "metadata": {},
   "outputs": [
    {
     "data": {
      "text/plain": [
       "0"
      ]
     },
     "execution_count": 30,
     "metadata": {},
     "output_type": "execute_result"
    }
   ],
   "source": [
    "freq[:, 0][freq[:, 1].argmax()]"
   ]
  },
  {
   "cell_type": "markdown",
   "metadata": {},
   "source": [
    "### <font color=#003d5c>4. Probabilidad Estimada</font>\n",
    "\n",
    "Del mismo modo, la probabilidad se puede estimar como el porcentaje de votos del vecino para cada clase"
   ]
  },
  {
   "cell_type": "code",
   "execution_count": 31,
   "metadata": {},
   "outputs": [
    {
     "data": {
      "text/plain": [
       "array([ 0.66666667,  0.33333333])"
      ]
     },
     "execution_count": 31,
     "metadata": {},
     "output_type": "execute_result"
    }
   ],
   "source": [
    "freq[:, 1] / freq[:, 1].sum()"
   ]
  },
  {
   "cell_type": "markdown",
   "metadata": {},
   "source": [
    "El método `np.vstack` permite concatenar los arreglos en a nivel de un eje."
   ]
  },
  {
   "cell_type": "code",
   "execution_count": 32,
   "metadata": {},
   "outputs": [
    {
     "data": {
      "text/plain": [
       "array([[ 0.        ,  0.66666667],\n",
       "       [ 1.        ,  0.33333333]])"
      ]
     },
     "execution_count": 32,
     "metadata": {},
     "output_type": "execute_result"
    }
   ],
   "source": [
    "np.vstack((freq[:, 0], freq[:, 1] / freq[:, 1].sum())).T"
   ]
  },
  {
   "cell_type": "markdown",
   "metadata": {},
   "source": [
    "### <font color=#003d5c>5. Creando la respuesta</font>"
   ]
  },
  {
   "cell_type": "code",
   "execution_count": 33,
   "metadata": {},
   "outputs": [],
   "source": [
    "def obtenerRespuesta(conjuntoEntrenamiento_y, vecinos):\n",
    "    votes = conjuntoEntrenamiento_y[vecinos]\n",
    "    freq = itemfreq(votes)\n",
    "    return freq[:, 0][freq[:, 1].argmax()], np.vstack((freq[:, 0], freq[:, 1] / freq[:, 1].sum())).T"
   ]
  },
  {
   "cell_type": "markdown",
   "metadata": {},
   "source": [
    "Podemos probar esta función con algunos vecinos de prueba, de la siguiente manera:"
   ]
  },
  {
   "cell_type": "code",
   "execution_count": 34,
   "metadata": {},
   "outputs": [
    {
     "name": "stdout",
     "output_type": "stream",
     "text": [
      "(0, array([[ 0.        ,  0.66666667],\n",
      "       [ 1.        ,  0.33333333]]))\n"
     ]
    }
   ],
   "source": [
    "respuesta = obtenerRespuesta(conjuntoEntrenamiento_y, vecinos)\n",
    "print(respuesta)"
   ]
  },
  {
   "cell_type": "markdown",
   "metadata": {},
   "source": [
    "### <font color=#003d5c>6. Clasificador</font>\n",
    "\n",
    "Ahora podemos integrar todas las funciones definidas en una sola función."
   ]
  },
  {
   "cell_type": "code",
   "execution_count": 35,
   "metadata": {},
   "outputs": [],
   "source": [
    "def knn_clasificador_de_una_instancia(conjuntoEntrenamiento, conjuntoEntrenamiento_y, instanciaPrueba, k):\n",
    "    vecinos = obtenerVecinos(conjuntoEntrenamiento, instanciaPrueba, k)\n",
    "    pred_y, pred_prob = obtenerRespuesta(conjuntoEntrenamiento_y, vecinos)\n",
    "    return pred_y, pred_prob, vecinos"
   ]
  },
  {
   "cell_type": "code",
   "execution_count": 36,
   "metadata": {},
   "outputs": [
    {
     "data": {
      "text/plain": [
       "<matplotlib.collections.PathCollection at 0xac8d9e8>"
      ]
     },
     "execution_count": 36,
     "metadata": {},
     "output_type": "execute_result"
    },
    {
     "data": {
      "image/png": "[encoded data removed]",
      "text/plain": [
       "<matplotlib.figure.Figure at 0xac525f8>"
      ]
     },
     "metadata": {},
     "output_type": "display_data"
    }
   ],
   "source": [
    "instanciaPrueba = np.array([4.2, 5])\n",
    "plt.scatter(conjuntoEntrenamiento[conjuntoEntrenamiento_y==0, 0], conjuntoEntrenamiento[conjuntoEntrenamiento_y==0, 1], s=50)\n",
    "plt.scatter(conjuntoEntrenamiento[conjuntoEntrenamiento_y==1, 0], conjuntoEntrenamiento[conjuntoEntrenamiento_y==1, 1], c='y', s=50)\n",
    "plt.scatter(instanciaPrueba[0], instanciaPrueba[1], c='green', s=100)"
   ]
  },
  {
   "cell_type": "code",
   "execution_count": 37,
   "metadata": {},
   "outputs": [
    {
     "data": {
      "text/plain": [
       "(0, array([[ 0. ,  0.5],\n",
       "        [ 1. ,  0.5]]))"
      ]
     },
     "execution_count": 37,
     "metadata": {},
     "output_type": "execute_result"
    }
   ],
   "source": [
    "vecinos = obtenerVecinos(conjuntoEntrenamiento, instanciaPrueba, 2)\n",
    "pred_y, pred_prob = obtenerRespuesta(conjuntoEntrenamiento_y, vecinos)\n",
    "pred_y, pred_prob"
   ]
  },
  {
   "cell_type": "code",
   "execution_count": 38,
   "metadata": {
    "scrolled": true
   },
   "outputs": [
    {
     "name": "stdout",
     "output_type": "stream",
     "text": [
      "k =  2\n",
      "pred_y =  0\n",
      "pred_prob =  [[ 0.   0.5]\n",
      " [ 1.   0.5]]\n"
     ]
    },
    {
     "data": {
      "image/png": "[encoded data removed]",
      "text/plain": [
       "<matplotlib.figure.Figure at 0xac9d710>"
      ]
     },
     "metadata": {},
     "output_type": "display_data"
    },
    {
     "name": "stdout",
     "output_type": "stream",
     "text": [
      "k =  3\n",
      "pred_y =  1\n",
      "pred_prob =  [[ 0.          0.33333333]\n",
      " [ 1.          0.66666667]]\n"
     ]
    },
    {
     "data": {
      "image/png": "[encoded data removed]",
      "text/plain": [
       "<matplotlib.figure.Figure at 0xacf4a90>"
      ]
     },
     "metadata": {},
     "output_type": "display_data"
    },
    {
     "name": "stdout",
     "output_type": "stream",
     "text": [
      "k =  4\n",
      "pred_y =  1\n",
      "pred_prob =  [[ 0.    0.25]\n",
      " [ 1.    0.75]]\n"
     ]
    },
    {
     "data": {
      "image/png": "[encoded data removed]",
      "text/plain": [
       "<matplotlib.figure.Figure at 0xad37e80>"
      ]
     },
     "metadata": {},
     "output_type": "display_data"
    },
    {
     "name": "stdout",
     "output_type": "stream",
     "text": [
      "k =  5\n",
      "pred_y =  1\n",
      "pred_prob =  [[ 0.   0.4]\n",
      " [ 1.   0.6]]\n"
     ]
    },
    {
     "data": {
      "image/png": "[encoded data removed]",
      "text/plain": [
       "<matplotlib.figure.Figure at 0xade12b0>"
      ]
     },
     "metadata": {},
     "output_type": "display_data"
    }
   ],
   "source": [
    "for k in range(2, 6):\n",
    "    print('k = ', k)\n",
    "    pred_y, pred_prob, vecinos = knn_clasificador_de_una_instancia(conjuntoEntrenamiento, conjuntoEntrenamiento_y, instanciaPrueba, k)\n",
    "    print('pred_y = ', pred_y)\n",
    "    print('pred_prob = ', pred_prob)\n",
    "    plt.scatter(conjuntoEntrenamiento[conjuntoEntrenamiento_y==0, 0], conjuntoEntrenamiento[conjuntoEntrenamiento_y==0, 1], s=50)\n",
    "    plt.scatter(conjuntoEntrenamiento[conjuntoEntrenamiento_y==1, 0], conjuntoEntrenamiento[conjuntoEntrenamiento_y==1, 1], c='y', s=50)\n",
    "    plt.scatter(instanciaPrueba[0], instanciaPrueba[1], c='green', s=100)\n",
    "    for vecino in vecinos:\n",
    "        plt.plot([instanciaPrueba[0], conjuntoEntrenamiento[vecino, 0]], [instanciaPrueba[1], conjuntoEntrenamiento[vecino, 1]], '--r')\n",
    "    plt.show()"
   ]
  },
  {
   "cell_type": "markdown",
   "metadata": {},
   "source": [
    "#### <font color=#003d5c>6.1. Permitir más de una instancia</font>"
   ]
  },
  {
   "cell_type": "code",
   "execution_count": 39,
   "metadata": {},
   "outputs": [
    {
     "data": {
      "text/plain": [
       "<matplotlib.collections.PathCollection at 0xaea96a0>"
      ]
     },
     "execution_count": 39,
     "metadata": {},
     "output_type": "execute_result"
    },
    {
     "data": {
      "image/png": "[encoded data removed]",
      "text/plain": [
       "<matplotlib.figure.Figure at 0xac48b38>"
      ]
     },
     "metadata": {},
     "output_type": "display_data"
    }
   ],
   "source": [
    "instanciasPrueba = np.array([[4.2, 5], [1, 3], [6, 6]])\n",
    "plt.scatter(conjuntoEntrenamiento[conjuntoEntrenamiento_y==0, 0], conjuntoEntrenamiento[conjuntoEntrenamiento_y==0, 1], s=50)\n",
    "plt.scatter(conjuntoEntrenamiento[conjuntoEntrenamiento_y==1, 0], conjuntoEntrenamiento[conjuntoEntrenamiento_y==1, 1], c='y', s=50)\n",
    "plt.scatter(instanciasPrueba[:,0], instanciasPrueba[:,1], c='green', s=100)"
   ]
  },
  {
   "cell_type": "code",
   "execution_count": 40,
   "metadata": {},
   "outputs": [],
   "source": [
    "def knn_clasificador(conjuntoEntrenamiento, conjuntoEntrenamiento_y, instanciasPrueba, k):\n",
    "    n_instancias_prueba = instanciasPrueba.shape[0]\n",
    "    pred_y = np.zeros(n_instancias_prueba)\n",
    "    y_unico = np.unique(conjuntoEntrenamiento_y)\n",
    "    pred_prob = np.zeros((n_instancias_prueba, y_unico.shape[0]))\n",
    "    for i in range(n_instancias_prueba):\n",
    "        vecinos = obtenerVecinos(conjuntoEntrenamiento, instanciasPrueba[i], k)\n",
    "        pred_y_, pred_prob_ = obtenerRespuesta(conjuntoEntrenamiento_y, vecinos)\n",
    "        pred_y[i] = pred_y_\n",
    "        \n",
    "        # pred_y podría no incluir todos los valores de \"y\"\n",
    "        for j in range(y_unico.shape[0]):\n",
    "            pred_prob[i, j] =  pred_prob_[pred_prob_[:,0] == y_unico[j], 1].sum()\n",
    "            \n",
    "    return pred_y, pred_prob"
   ]
  },
  {
   "cell_type": "code",
   "execution_count": 41,
   "metadata": {
    "scrolled": true
   },
   "outputs": [
    {
     "data": {
      "text/plain": [
       "(array([ 1.,  0.,  1.]), array([[ 0.33333333,  0.66666667],\n",
       "        [ 0.66666667,  0.33333333],\n",
       "        [ 0.33333333,  0.66666667]]))"
      ]
     },
     "execution_count": 41,
     "metadata": {},
     "output_type": "execute_result"
    }
   ],
   "source": [
    "k = 3\n",
    "knn_clasificador(conjuntoEntrenamiento, conjuntoEntrenamiento_y, instanciasPrueba, k)"
   ]
  },
  {
   "cell_type": "markdown",
   "metadata": {},
   "source": [
    "**TAREA:**\n",
    "\n",
    "Aplicar lo mismo, pero con el método de distancia Manhattan.\n",
    "\n",
    "$$d(p,q)=\\sum_{i=0}^{n-1} |p_{i}-q_{i}|$$\n",
    "\n",
    "y, reponder la siguiente pregunta ¿qué tanto cambian las predicciones?\n",
    "\n",
    "En la siguiente clase veremos la sesión de Tunning, y responderemos las dudas que puedan tener al respecto."
   ]
  },
  {
   "cell_type": "code",
   "execution_count": null,
   "metadata": {},
   "outputs": [],
   "source": []
  },
  {
   "cell_type": "markdown",
   "metadata": {},
   "source": [
    "## <font color=#003d5c>Aplicar al Dataset De Hipotecario</font>"
   ]
  },
  {
   "cell_type": "code",
   "execution_count": 42,
   "metadata": {},
   "outputs": [],
   "source": [
    "import pandas as pd"
   ]
  },
  {
   "cell_type": "code",
   "execution_count": 43,
   "metadata": {},
   "outputs": [],
   "source": [
    "df = pd.read_csv('Data/DS_Credito Hipotecario.csv')"
   ]
  },
  {
   "cell_type": "code",
   "execution_count": 44,
   "metadata": {},
   "outputs": [
    {
     "data": {
      "text/html": [
       "<div>\n",
       "<style>\n",
       "    .dataframe thead tr:only-child th {\n",
       "        text-align: right;\n",
       "    }\n",
       "\n",
       "    .dataframe thead th {\n",
       "        text-align: left;\n",
       "    }\n",
       "\n",
       "    .dataframe tbody tr th {\n",
       "        vertical-align: top;\n",
       "    }\n",
       "</style>\n",
       "<table border=\"1\" class=\"dataframe\">\n",
       "  <thead>\n",
       "    <tr style=\"text-align: right;\">\n",
       "      <th></th>\n",
       "      <th>ID</th>\n",
       "      <th>SEXO</th>\n",
       "      <th>FLAG_CASADO</th>\n",
       "      <th>NRO_DEPENDIENTES</th>\n",
       "      <th>EDUCACION</th>\n",
       "      <th>FLAG_TRAB_INDEP</th>\n",
       "      <th>INGRESOS_SOLICITANTE</th>\n",
       "      <th>INGRESOS_COSOLICITANTE</th>\n",
       "      <th>MONTO_PRESTAMO_MILES</th>\n",
       "      <th>PLAZO_PRESTAMO_MESES</th>\n",
       "      <th>FLAG_HISTORIAL_CREDITICIO</th>\n",
       "      <th>TIPO_ZONA</th>\n",
       "      <th>FLAG_CRED_HIPO</th>\n",
       "    </tr>\n",
       "  </thead>\n",
       "  <tbody>\n",
       "    <tr>\n",
       "      <th>0</th>\n",
       "      <td>LP001002</td>\n",
       "      <td>Male</td>\n",
       "      <td>No</td>\n",
       "      <td>0</td>\n",
       "      <td>Graduate</td>\n",
       "      <td>No</td>\n",
       "      <td>5849</td>\n",
       "      <td>0.0</td>\n",
       "      <td>NaN</td>\n",
       "      <td>360.0</td>\n",
       "      <td>Bueno</td>\n",
       "      <td>Urban</td>\n",
       "      <td>Y</td>\n",
       "    </tr>\n",
       "    <tr>\n",
       "      <th>1</th>\n",
       "      <td>LP001003</td>\n",
       "      <td>Male</td>\n",
       "      <td>Yes</td>\n",
       "      <td>1</td>\n",
       "      <td>Graduate</td>\n",
       "      <td>No</td>\n",
       "      <td>4583</td>\n",
       "      <td>1508.0</td>\n",
       "      <td>128.0</td>\n",
       "      <td>360.0</td>\n",
       "      <td>Bueno</td>\n",
       "      <td>Rural</td>\n",
       "      <td>N</td>\n",
       "    </tr>\n",
       "    <tr>\n",
       "      <th>2</th>\n",
       "      <td>LP001005</td>\n",
       "      <td>Male</td>\n",
       "      <td>Yes</td>\n",
       "      <td>0</td>\n",
       "      <td>Graduate</td>\n",
       "      <td>Yes</td>\n",
       "      <td>3000</td>\n",
       "      <td>0.0</td>\n",
       "      <td>66.0</td>\n",
       "      <td>360.0</td>\n",
       "      <td>Bueno</td>\n",
       "      <td>Urban</td>\n",
       "      <td>Y</td>\n",
       "    </tr>\n",
       "    <tr>\n",
       "      <th>3</th>\n",
       "      <td>LP001006</td>\n",
       "      <td>Male</td>\n",
       "      <td>Yes</td>\n",
       "      <td>0</td>\n",
       "      <td>Not Graduate</td>\n",
       "      <td>No</td>\n",
       "      <td>2583</td>\n",
       "      <td>2358.0</td>\n",
       "      <td>120.0</td>\n",
       "      <td>360.0</td>\n",
       "      <td>Bueno</td>\n",
       "      <td>Urban</td>\n",
       "      <td>Y</td>\n",
       "    </tr>\n",
       "    <tr>\n",
       "      <th>4</th>\n",
       "      <td>LP001008</td>\n",
       "      <td>Male</td>\n",
       "      <td>No</td>\n",
       "      <td>0</td>\n",
       "      <td>Graduate</td>\n",
       "      <td>No</td>\n",
       "      <td>6000</td>\n",
       "      <td>0.0</td>\n",
       "      <td>141.0</td>\n",
       "      <td>360.0</td>\n",
       "      <td>Bueno</td>\n",
       "      <td>Urban</td>\n",
       "      <td>Y</td>\n",
       "    </tr>\n",
       "  </tbody>\n",
       "</table>\n",
       "</div>"
      ],
      "text/plain": [
       "         ID  SEXO FLAG_CASADO NRO_DEPENDIENTES     EDUCACION FLAG_TRAB_INDEP  \\\n",
       "0  LP001002  Male          No                0      Graduate              No   \n",
       "1  LP001003  Male         Yes                1      Graduate              No   \n",
       "2  LP001005  Male         Yes                0      Graduate             Yes   \n",
       "3  LP001006  Male         Yes                0  Not Graduate              No   \n",
       "4  LP001008  Male          No                0      Graduate              No   \n",
       "\n",
       "   INGRESOS_SOLICITANTE  INGRESOS_COSOLICITANTE  MONTO_PRESTAMO_MILES  \\\n",
       "0                  5849                     0.0                   NaN   \n",
       "1                  4583                  1508.0                 128.0   \n",
       "2                  3000                     0.0                  66.0   \n",
       "3                  2583                  2358.0                 120.0   \n",
       "4                  6000                     0.0                 141.0   \n",
       "\n",
       "   PLAZO_PRESTAMO_MESES FLAG_HISTORIAL_CREDITICIO TIPO_ZONA FLAG_CRED_HIPO  \n",
       "0                 360.0                     Bueno     Urban              Y  \n",
       "1                 360.0                     Bueno     Rural              N  \n",
       "2                 360.0                     Bueno     Urban              Y  \n",
       "3                 360.0                     Bueno     Urban              Y  \n",
       "4                 360.0                     Bueno     Urban              Y  "
      ]
     },
     "execution_count": 44,
     "metadata": {},
     "output_type": "execute_result"
    }
   ],
   "source": [
    "df.head()"
   ]
  },
  {
   "cell_type": "markdown",
   "metadata": {},
   "source": [
    "Transformemos la variable target a un valor entero"
   ]
  },
  {
   "cell_type": "code",
   "execution_count": 45,
   "metadata": {},
   "outputs": [],
   "source": [
    "df['FLAG_CRED_HIPO'] = df['FLAG_CRED_HIPO'].map({'N':0, 'Y':1})"
   ]
  },
  {
   "cell_type": "code",
   "execution_count": 46,
   "metadata": {
    "scrolled": true
   },
   "outputs": [],
   "source": [
    "df['SEXO'].fillna(df['SEXO'].mode()[0], inplace=True)\n",
    "df['FLAG_CASADO'].fillna(df['FLAG_CASADO'].mode()[0], inplace=True)\n",
    "df['NRO_DEPENDIENTES'].fillna(df['NRO_DEPENDIENTES'].mode()[0], inplace=True)\n",
    "df['FLAG_TRAB_INDEP'].fillna(df['FLAG_TRAB_INDEP'].mode()[0], inplace=True)\n",
    "df['INGRESOS_COSOLICITANTE'].fillna(df['INGRESOS_COSOLICITANTE'].mean(), inplace=True)\n",
    "df['MONTO_PRESTAMO_MILES'].fillna(df['MONTO_PRESTAMO_MILES'].mean(), inplace=True)\n",
    "df['PLAZO_PRESTAMO_MESES'].fillna(df['PLAZO_PRESTAMO_MESES'].mean(), inplace=True)\n",
    "df['FLAG_HISTORIAL_CREDITICIO'].fillna(df['FLAG_HISTORIAL_CREDITICIO'].mode()[0], inplace=True)"
   ]
  },
  {
   "cell_type": "code",
   "execution_count": 47,
   "metadata": {},
   "outputs": [],
   "source": [
    "df['SEXO'] = df['SEXO'].map({'Male': 0, 'Female': 1})\n",
    "df['FLAG_CASADO'] = df['FLAG_CASADO'].map({'No': 0, 'Yes': 1})\n",
    "df['EDUCACION'] = df['EDUCACION'].map({'Not Graduate': 0, 'Graduate': 1})\n",
    "df['FLAG_TRAB_INDEP'] = df['FLAG_TRAB_INDEP'].map({'No': 0, 'Yes': 1})\n",
    "df['FLAG_HISTORIAL_CREDITICIO'] = df['FLAG_HISTORIAL_CREDITICIO'].map({'Malo': 0, 'Bueno': 1})\n",
    "df = pd.concat([df, pd.get_dummies(df['TIPO_ZONA'], prefix = 'TIPO_ZONA', drop_first = True)], axis=1)\n",
    "df = pd.concat([df, pd.get_dummies(df['NRO_DEPENDIENTES'], prefix = 'NRO_DEPENDIENTES', drop_first = True)], axis=1)\n",
    "del df['TIPO_ZONA']\n",
    "del df['NRO_DEPENDIENTES']"
   ]
  },
  {
   "cell_type": "code",
   "execution_count": 48,
   "metadata": {
    "scrolled": true
   },
   "outputs": [
    {
     "data": {
      "text/html": [
       "<div>\n",
       "<style>\n",
       "    .dataframe thead tr:only-child th {\n",
       "        text-align: right;\n",
       "    }\n",
       "\n",
       "    .dataframe thead th {\n",
       "        text-align: left;\n",
       "    }\n",
       "\n",
       "    .dataframe tbody tr th {\n",
       "        vertical-align: top;\n",
       "    }\n",
       "</style>\n",
       "<table border=\"1\" class=\"dataframe\">\n",
       "  <thead>\n",
       "    <tr style=\"text-align: right;\">\n",
       "      <th></th>\n",
       "      <th>ID</th>\n",
       "      <th>SEXO</th>\n",
       "      <th>FLAG_CASADO</th>\n",
       "      <th>EDUCACION</th>\n",
       "      <th>FLAG_TRAB_INDEP</th>\n",
       "      <th>INGRESOS_SOLICITANTE</th>\n",
       "      <th>INGRESOS_COSOLICITANTE</th>\n",
       "      <th>MONTO_PRESTAMO_MILES</th>\n",
       "      <th>PLAZO_PRESTAMO_MESES</th>\n",
       "      <th>FLAG_HISTORIAL_CREDITICIO</th>\n",
       "      <th>FLAG_CRED_HIPO</th>\n",
       "      <th>TIPO_ZONA_Semiurban</th>\n",
       "      <th>TIPO_ZONA_Urban</th>\n",
       "      <th>NRO_DEPENDIENTES_1</th>\n",
       "      <th>NRO_DEPENDIENTES_2</th>\n",
       "      <th>NRO_DEPENDIENTES_3+</th>\n",
       "    </tr>\n",
       "  </thead>\n",
       "  <tbody>\n",
       "    <tr>\n",
       "      <th>0</th>\n",
       "      <td>LP001002</td>\n",
       "      <td>0</td>\n",
       "      <td>0</td>\n",
       "      <td>1</td>\n",
       "      <td>0</td>\n",
       "      <td>5849</td>\n",
       "      <td>0.0</td>\n",
       "      <td>146.412162</td>\n",
       "      <td>360.0</td>\n",
       "      <td>1</td>\n",
       "      <td>1</td>\n",
       "      <td>0</td>\n",
       "      <td>1</td>\n",
       "      <td>0</td>\n",
       "      <td>0</td>\n",
       "      <td>0</td>\n",
       "    </tr>\n",
       "    <tr>\n",
       "      <th>1</th>\n",
       "      <td>LP001003</td>\n",
       "      <td>0</td>\n",
       "      <td>1</td>\n",
       "      <td>1</td>\n",
       "      <td>0</td>\n",
       "      <td>4583</td>\n",
       "      <td>1508.0</td>\n",
       "      <td>128.000000</td>\n",
       "      <td>360.0</td>\n",
       "      <td>1</td>\n",
       "      <td>0</td>\n",
       "      <td>0</td>\n",
       "      <td>0</td>\n",
       "      <td>1</td>\n",
       "      <td>0</td>\n",
       "      <td>0</td>\n",
       "    </tr>\n",
       "    <tr>\n",
       "      <th>2</th>\n",
       "      <td>LP001005</td>\n",
       "      <td>0</td>\n",
       "      <td>1</td>\n",
       "      <td>1</td>\n",
       "      <td>1</td>\n",
       "      <td>3000</td>\n",
       "      <td>0.0</td>\n",
       "      <td>66.000000</td>\n",
       "      <td>360.0</td>\n",
       "      <td>1</td>\n",
       "      <td>1</td>\n",
       "      <td>0</td>\n",
       "      <td>1</td>\n",
       "      <td>0</td>\n",
       "      <td>0</td>\n",
       "      <td>0</td>\n",
       "    </tr>\n",
       "    <tr>\n",
       "      <th>3</th>\n",
       "      <td>LP001006</td>\n",
       "      <td>0</td>\n",
       "      <td>1</td>\n",
       "      <td>0</td>\n",
       "      <td>0</td>\n",
       "      <td>2583</td>\n",
       "      <td>2358.0</td>\n",
       "      <td>120.000000</td>\n",
       "      <td>360.0</td>\n",
       "      <td>1</td>\n",
       "      <td>1</td>\n",
       "      <td>0</td>\n",
       "      <td>1</td>\n",
       "      <td>0</td>\n",
       "      <td>0</td>\n",
       "      <td>0</td>\n",
       "    </tr>\n",
       "    <tr>\n",
       "      <th>4</th>\n",
       "      <td>LP001008</td>\n",
       "      <td>0</td>\n",
       "      <td>0</td>\n",
       "      <td>1</td>\n",
       "      <td>0</td>\n",
       "      <td>6000</td>\n",
       "      <td>0.0</td>\n",
       "      <td>141.000000</td>\n",
       "      <td>360.0</td>\n",
       "      <td>1</td>\n",
       "      <td>1</td>\n",
       "      <td>0</td>\n",
       "      <td>1</td>\n",
       "      <td>0</td>\n",
       "      <td>0</td>\n",
       "      <td>0</td>\n",
       "    </tr>\n",
       "  </tbody>\n",
       "</table>\n",
       "</div>"
      ],
      "text/plain": [
       "         ID  SEXO  FLAG_CASADO  EDUCACION  FLAG_TRAB_INDEP  \\\n",
       "0  LP001002     0            0          1                0   \n",
       "1  LP001003     0            1          1                0   \n",
       "2  LP001005     0            1          1                1   \n",
       "3  LP001006     0            1          0                0   \n",
       "4  LP001008     0            0          1                0   \n",
       "\n",
       "   INGRESOS_SOLICITANTE  INGRESOS_COSOLICITANTE  MONTO_PRESTAMO_MILES  \\\n",
       "0                  5849                     0.0            146.412162   \n",
       "1                  4583                  1508.0            128.000000   \n",
       "2                  3000                     0.0             66.000000   \n",
       "3                  2583                  2358.0            120.000000   \n",
       "4                  6000                     0.0            141.000000   \n",
       "\n",
       "   PLAZO_PRESTAMO_MESES  FLAG_HISTORIAL_CREDITICIO  FLAG_CRED_HIPO  \\\n",
       "0                 360.0                          1               1   \n",
       "1                 360.0                          1               0   \n",
       "2                 360.0                          1               1   \n",
       "3                 360.0                          1               1   \n",
       "4                 360.0                          1               1   \n",
       "\n",
       "   TIPO_ZONA_Semiurban  TIPO_ZONA_Urban  NRO_DEPENDIENTES_1  \\\n",
       "0                    0                1                   0   \n",
       "1                    0                0                   1   \n",
       "2                    0                1                   0   \n",
       "3                    0                1                   0   \n",
       "4                    0                1                   0   \n",
       "\n",
       "   NRO_DEPENDIENTES_2  NRO_DEPENDIENTES_3+  \n",
       "0                   0                    0  \n",
       "1                   0                    0  \n",
       "2                   0                    0  \n",
       "3                   0                    0  \n",
       "4                   0                    0  "
      ]
     },
     "execution_count": 48,
     "metadata": {},
     "output_type": "execute_result"
    }
   ],
   "source": [
    "df.head()"
   ]
  },
  {
   "cell_type": "code",
   "execution_count": 49,
   "metadata": {
    "scrolled": true
   },
   "outputs": [
    {
     "data": {
      "text/plain": [
       "Index(['ID', 'SEXO', 'FLAG_CASADO', 'EDUCACION', 'FLAG_TRAB_INDEP',\n",
       "       'INGRESOS_SOLICITANTE', 'INGRESOS_COSOLICITANTE',\n",
       "       'MONTO_PRESTAMO_MILES', 'PLAZO_PRESTAMO_MESES',\n",
       "       'FLAG_HISTORIAL_CREDITICIO', 'FLAG_CRED_HIPO', 'TIPO_ZONA_Semiurban',\n",
       "       'TIPO_ZONA_Urban', 'NRO_DEPENDIENTES_1', 'NRO_DEPENDIENTES_2',\n",
       "       'NRO_DEPENDIENTES_3+'],\n",
       "      dtype='object')"
      ]
     },
     "execution_count": 49,
     "metadata": {},
     "output_type": "execute_result"
    }
   ],
   "source": [
    "df.columns"
   ]
  },
  {
   "cell_type": "code",
   "execution_count": 50,
   "metadata": {},
   "outputs": [],
   "source": [
    "y = df.FLAG_CRED_HIPO\n",
    "X = df[['SEXO', 'FLAG_CASADO', 'EDUCACION', 'FLAG_TRAB_INDEP', 'INGRESOS_SOLICITANTE', 'INGRESOS_COSOLICITANTE',\n",
    "        'MONTO_PRESTAMO_MILES', 'PLAZO_PRESTAMO_MESES',\n",
    "        'FLAG_HISTORIAL_CREDITICIO', 'TIPO_ZONA_Semiurban',\n",
    "        'TIPO_ZONA_Urban', 'NRO_DEPENDIENTES_1', 'NRO_DEPENDIENTES_2',\n",
    "        'NRO_DEPENDIENTES_3+']]"
   ]
  },
  {
   "cell_type": "code",
   "execution_count": 51,
   "metadata": {},
   "outputs": [],
   "source": [
    "from sklearn.model_selection import train_test_split\n",
    "X_train, X_test, y_train, y_test = train_test_split(X.values, y.values, test_size=0.33, random_state=123)"
   ]
  },
  {
   "cell_type": "markdown",
   "metadata": {},
   "source": [
    "#### <font color=#003d5c>Normalización: </font>\n",
    "\n",
    "Por lo general, es mejor normalizar los atributos antes para calcular la distancia. La razón es que puede haber atributos que están en rangos con grandes scalas inicialmente (por ejemplo: el ingreso o salario) y que puedan pesar sobre los atributos con rangos inicialmente más pequeños (por ejemplo: atributos binarios como flag_casado o flag_educacion). La normalización de atributos aborda este problema.\n",
    "\n",
    "Por ejemplo: Normalización Min-Max\n",
    "\n",
    "$${v}^{´}=\\frac{v-Min}{Max-Min}$$"
   ]
  },
  {
   "cell_type": "code",
   "execution_count": 52,
   "metadata": {},
   "outputs": [],
   "source": [
    "from sklearn import preprocessing"
   ]
  },
  {
   "cell_type": "code",
   "execution_count": 53,
   "metadata": {},
   "outputs": [],
   "source": [
    "min_max_scaler = preprocessing.MinMaxScaler()"
   ]
  },
  {
   "cell_type": "code",
   "execution_count": 54,
   "metadata": {},
   "outputs": [
    {
     "data": {
      "text/plain": [
       "MinMaxScaler(copy=True, feature_range=(0, 1))"
      ]
     },
     "execution_count": 54,
     "metadata": {},
     "output_type": "execute_result"
    }
   ],
   "source": [
    "min_max_scaler.fit(X_train)"
   ]
  },
  {
   "cell_type": "code",
   "execution_count": 55,
   "metadata": {},
   "outputs": [],
   "source": [
    "X_train_minmax = min_max_scaler.transform(X_train)\n",
    "X_test_minmax = min_max_scaler.transform(X_test)"
   ]
  },
  {
   "cell_type": "code",
   "execution_count": 56,
   "metadata": {
    "scrolled": true
   },
   "outputs": [
    {
     "data": {
      "text/html": [
       "<div>\n",
       "<style>\n",
       "    .dataframe thead tr:only-child th {\n",
       "        text-align: right;\n",
       "    }\n",
       "\n",
       "    .dataframe thead th {\n",
       "        text-align: left;\n",
       "    }\n",
       "\n",
       "    .dataframe tbody tr th {\n",
       "        vertical-align: top;\n",
       "    }\n",
       "</style>\n",
       "<table border=\"1\" class=\"dataframe\">\n",
       "  <thead>\n",
       "    <tr style=\"text-align: right;\">\n",
       "      <th></th>\n",
       "      <th>SEXO</th>\n",
       "      <th>FLAG_CASADO</th>\n",
       "      <th>EDUCACION</th>\n",
       "      <th>FLAG_TRAB_INDEP</th>\n",
       "      <th>INGRESOS_SOLICITANTE</th>\n",
       "      <th>INGRESOS_COSOLICITANTE</th>\n",
       "      <th>MONTO_PRESTAMO_MILES</th>\n",
       "      <th>PLAZO_PRESTAMO_MESES</th>\n",
       "      <th>FLAG_HISTORIAL_CREDITICIO</th>\n",
       "      <th>TIPO_ZONA_Semiurban</th>\n",
       "      <th>TIPO_ZONA_Urban</th>\n",
       "      <th>NRO_DEPENDIENTES_1</th>\n",
       "      <th>NRO_DEPENDIENTES_2</th>\n",
       "      <th>NRO_DEPENDIENTES_3+</th>\n",
       "    </tr>\n",
       "  </thead>\n",
       "  <tbody>\n",
       "    <tr>\n",
       "      <th>0</th>\n",
       "      <td>0.0</td>\n",
       "      <td>0.0</td>\n",
       "      <td>1.0</td>\n",
       "      <td>1.0</td>\n",
       "      <td>0.086790</td>\n",
       "      <td>0.000000</td>\n",
       "      <td>0.185647</td>\n",
       "      <td>0.743590</td>\n",
       "      <td>1.0</td>\n",
       "      <td>0.0</td>\n",
       "      <td>1.0</td>\n",
       "      <td>0.0</td>\n",
       "      <td>0.0</td>\n",
       "      <td>0.0</td>\n",
       "    </tr>\n",
       "    <tr>\n",
       "      <th>1</th>\n",
       "      <td>0.0</td>\n",
       "      <td>1.0</td>\n",
       "      <td>1.0</td>\n",
       "      <td>0.0</td>\n",
       "      <td>0.044527</td>\n",
       "      <td>0.000000</td>\n",
       "      <td>0.166927</td>\n",
       "      <td>0.743590</td>\n",
       "      <td>1.0</td>\n",
       "      <td>1.0</td>\n",
       "      <td>0.0</td>\n",
       "      <td>1.0</td>\n",
       "      <td>0.0</td>\n",
       "      <td>0.0</td>\n",
       "    </tr>\n",
       "    <tr>\n",
       "      <th>2</th>\n",
       "      <td>0.0</td>\n",
       "      <td>0.0</td>\n",
       "      <td>1.0</td>\n",
       "      <td>0.0</td>\n",
       "      <td>0.040421</td>\n",
       "      <td>0.000000</td>\n",
       "      <td>0.184087</td>\n",
       "      <td>0.743590</td>\n",
       "      <td>1.0</td>\n",
       "      <td>1.0</td>\n",
       "      <td>0.0</td>\n",
       "      <td>0.0</td>\n",
       "      <td>0.0</td>\n",
       "      <td>0.0</td>\n",
       "    </tr>\n",
       "    <tr>\n",
       "      <th>3</th>\n",
       "      <td>0.0</td>\n",
       "      <td>1.0</td>\n",
       "      <td>1.0</td>\n",
       "      <td>0.0</td>\n",
       "      <td>0.032616</td>\n",
       "      <td>0.056654</td>\n",
       "      <td>0.213729</td>\n",
       "      <td>0.743590</td>\n",
       "      <td>0.0</td>\n",
       "      <td>0.0</td>\n",
       "      <td>0.0</td>\n",
       "      <td>1.0</td>\n",
       "      <td>0.0</td>\n",
       "      <td>0.0</td>\n",
       "    </tr>\n",
       "    <tr>\n",
       "      <th>4</th>\n",
       "      <td>0.0</td>\n",
       "      <td>0.0</td>\n",
       "      <td>1.0</td>\n",
       "      <td>0.0</td>\n",
       "      <td>0.058046</td>\n",
       "      <td>0.112480</td>\n",
       "      <td>0.221529</td>\n",
       "      <td>0.743590</td>\n",
       "      <td>1.0</td>\n",
       "      <td>1.0</td>\n",
       "      <td>0.0</td>\n",
       "      <td>0.0</td>\n",
       "      <td>0.0</td>\n",
       "      <td>0.0</td>\n",
       "    </tr>\n",
       "    <tr>\n",
       "      <th>5</th>\n",
       "      <td>0.0</td>\n",
       "      <td>1.0</td>\n",
       "      <td>0.0</td>\n",
       "      <td>0.0</td>\n",
       "      <td>0.026704</td>\n",
       "      <td>0.037090</td>\n",
       "      <td>0.180967</td>\n",
       "      <td>0.743590</td>\n",
       "      <td>0.0</td>\n",
       "      <td>0.0</td>\n",
       "      <td>0.0</td>\n",
       "      <td>0.0</td>\n",
       "      <td>1.0</td>\n",
       "      <td>0.0</td>\n",
       "    </tr>\n",
       "    <tr>\n",
       "      <th>6</th>\n",
       "      <td>0.0</td>\n",
       "      <td>1.0</td>\n",
       "      <td>1.0</td>\n",
       "      <td>1.0</td>\n",
       "      <td>0.041014</td>\n",
       "      <td>0.035760</td>\n",
       "      <td>0.188768</td>\n",
       "      <td>0.743590</td>\n",
       "      <td>1.0</td>\n",
       "      <td>0.0</td>\n",
       "      <td>0.0</td>\n",
       "      <td>1.0</td>\n",
       "      <td>0.0</td>\n",
       "      <td>0.0</td>\n",
       "    </tr>\n",
       "    <tr>\n",
       "      <th>7</th>\n",
       "      <td>0.0</td>\n",
       "      <td>1.0</td>\n",
       "      <td>1.0</td>\n",
       "      <td>0.0</td>\n",
       "      <td>0.027829</td>\n",
       "      <td>0.053199</td>\n",
       "      <td>0.102964</td>\n",
       "      <td>0.743590</td>\n",
       "      <td>1.0</td>\n",
       "      <td>0.0</td>\n",
       "      <td>1.0</td>\n",
       "      <td>0.0</td>\n",
       "      <td>0.0</td>\n",
       "      <td>0.0</td>\n",
       "    </tr>\n",
       "    <tr>\n",
       "      <th>8</th>\n",
       "      <td>0.0</td>\n",
       "      <td>0.0</td>\n",
       "      <td>1.0</td>\n",
       "      <td>0.0</td>\n",
       "      <td>0.049672</td>\n",
       "      <td>0.000000</td>\n",
       "      <td>0.138846</td>\n",
       "      <td>0.743590</td>\n",
       "      <td>0.0</td>\n",
       "      <td>1.0</td>\n",
       "      <td>0.0</td>\n",
       "      <td>0.0</td>\n",
       "      <td>0.0</td>\n",
       "      <td>0.0</td>\n",
       "    </tr>\n",
       "    <tr>\n",
       "      <th>9</th>\n",
       "      <td>0.0</td>\n",
       "      <td>0.0</td>\n",
       "      <td>1.0</td>\n",
       "      <td>0.0</td>\n",
       "      <td>0.020408</td>\n",
       "      <td>0.035848</td>\n",
       "      <td>0.059282</td>\n",
       "      <td>0.743590</td>\n",
       "      <td>1.0</td>\n",
       "      <td>0.0</td>\n",
       "      <td>1.0</td>\n",
       "      <td>0.0</td>\n",
       "      <td>0.0</td>\n",
       "      <td>0.0</td>\n",
       "    </tr>\n",
       "    <tr>\n",
       "      <th>10</th>\n",
       "      <td>0.0</td>\n",
       "      <td>1.0</td>\n",
       "      <td>1.0</td>\n",
       "      <td>0.0</td>\n",
       "      <td>0.068683</td>\n",
       "      <td>0.000000</td>\n",
       "      <td>0.185647</td>\n",
       "      <td>0.743590</td>\n",
       "      <td>1.0</td>\n",
       "      <td>0.0</td>\n",
       "      <td>1.0</td>\n",
       "      <td>0.0</td>\n",
       "      <td>0.0</td>\n",
       "      <td>1.0</td>\n",
       "    </tr>\n",
       "    <tr>\n",
       "      <th>11</th>\n",
       "      <td>0.0</td>\n",
       "      <td>1.0</td>\n",
       "      <td>1.0</td>\n",
       "      <td>0.0</td>\n",
       "      <td>0.063080</td>\n",
       "      <td>0.020333</td>\n",
       "      <td>0.235569</td>\n",
       "      <td>0.743590</td>\n",
       "      <td>1.0</td>\n",
       "      <td>0.0</td>\n",
       "      <td>0.0</td>\n",
       "      <td>1.0</td>\n",
       "      <td>0.0</td>\n",
       "      <td>0.0</td>\n",
       "    </tr>\n",
       "    <tr>\n",
       "      <th>12</th>\n",
       "      <td>0.0</td>\n",
       "      <td>1.0</td>\n",
       "      <td>1.0</td>\n",
       "      <td>0.0</td>\n",
       "      <td>0.023055</td>\n",
       "      <td>0.086444</td>\n",
       "      <td>0.162246</td>\n",
       "      <td>0.743590</td>\n",
       "      <td>1.0</td>\n",
       "      <td>0.0</td>\n",
       "      <td>1.0</td>\n",
       "      <td>1.0</td>\n",
       "      <td>0.0</td>\n",
       "      <td>0.0</td>\n",
       "    </tr>\n",
       "    <tr>\n",
       "      <th>13</th>\n",
       "      <td>0.0</td>\n",
       "      <td>1.0</td>\n",
       "      <td>0.0</td>\n",
       "      <td>0.0</td>\n",
       "      <td>0.046592</td>\n",
       "      <td>0.000000</td>\n",
       "      <td>0.179407</td>\n",
       "      <td>0.743590</td>\n",
       "      <td>1.0</td>\n",
       "      <td>1.0</td>\n",
       "      <td>0.0</td>\n",
       "      <td>0.0</td>\n",
       "      <td>1.0</td>\n",
       "      <td>0.0</td>\n",
       "    </tr>\n",
       "    <tr>\n",
       "      <th>14</th>\n",
       "      <td>1.0</td>\n",
       "      <td>0.0</td>\n",
       "      <td>1.0</td>\n",
       "      <td>0.0</td>\n",
       "      <td>0.043810</td>\n",
       "      <td>0.053199</td>\n",
       "      <td>0.131045</td>\n",
       "      <td>0.743590</td>\n",
       "      <td>1.0</td>\n",
       "      <td>0.0</td>\n",
       "      <td>0.0</td>\n",
       "      <td>0.0</td>\n",
       "      <td>0.0</td>\n",
       "      <td>0.0</td>\n",
       "    </tr>\n",
       "    <tr>\n",
       "      <th>15</th>\n",
       "      <td>0.0</td>\n",
       "      <td>1.0</td>\n",
       "      <td>1.0</td>\n",
       "      <td>0.0</td>\n",
       "      <td>0.041398</td>\n",
       "      <td>0.058043</td>\n",
       "      <td>0.166927</td>\n",
       "      <td>0.743590</td>\n",
       "      <td>1.0</td>\n",
       "      <td>0.0</td>\n",
       "      <td>0.0</td>\n",
       "      <td>0.0</td>\n",
       "      <td>0.0</td>\n",
       "      <td>0.0</td>\n",
       "    </tr>\n",
       "    <tr>\n",
       "      <th>16</th>\n",
       "      <td>0.0</td>\n",
       "      <td>1.0</td>\n",
       "      <td>1.0</td>\n",
       "      <td>0.0</td>\n",
       "      <td>0.044119</td>\n",
       "      <td>0.000000</td>\n",
       "      <td>0.173167</td>\n",
       "      <td>0.743590</td>\n",
       "      <td>1.0</td>\n",
       "      <td>1.0</td>\n",
       "      <td>0.0</td>\n",
       "      <td>0.0</td>\n",
       "      <td>1.0</td>\n",
       "      <td>0.0</td>\n",
       "    </tr>\n",
       "    <tr>\n",
       "      <th>17</th>\n",
       "      <td>0.0</td>\n",
       "      <td>1.0</td>\n",
       "      <td>1.0</td>\n",
       "      <td>0.0</td>\n",
       "      <td>0.040198</td>\n",
       "      <td>0.073884</td>\n",
       "      <td>0.177847</td>\n",
       "      <td>0.743590</td>\n",
       "      <td>0.0</td>\n",
       "      <td>0.0</td>\n",
       "      <td>0.0</td>\n",
       "      <td>0.0</td>\n",
       "      <td>0.0</td>\n",
       "      <td>1.0</td>\n",
       "    </tr>\n",
       "    <tr>\n",
       "      <th>18</th>\n",
       "      <td>1.0</td>\n",
       "      <td>1.0</td>\n",
       "      <td>1.0</td>\n",
       "      <td>0.0</td>\n",
       "      <td>0.146568</td>\n",
       "      <td>0.000000</td>\n",
       "      <td>0.759750</td>\n",
       "      <td>0.743590</td>\n",
       "      <td>1.0</td>\n",
       "      <td>1.0</td>\n",
       "      <td>0.0</td>\n",
       "      <td>1.0</td>\n",
       "      <td>0.0</td>\n",
       "      <td>0.0</td>\n",
       "    </tr>\n",
       "    <tr>\n",
       "      <th>19</th>\n",
       "      <td>0.0</td>\n",
       "      <td>0.0</td>\n",
       "      <td>1.0</td>\n",
       "      <td>0.0</td>\n",
       "      <td>0.082028</td>\n",
       "      <td>0.053199</td>\n",
       "      <td>0.214372</td>\n",
       "      <td>0.743590</td>\n",
       "      <td>1.0</td>\n",
       "      <td>0.0</td>\n",
       "      <td>1.0</td>\n",
       "      <td>0.0</td>\n",
       "      <td>0.0</td>\n",
       "      <td>0.0</td>\n",
       "    </tr>\n",
       "    <tr>\n",
       "      <th>20</th>\n",
       "      <td>0.0</td>\n",
       "      <td>1.0</td>\n",
       "      <td>1.0</td>\n",
       "      <td>0.0</td>\n",
       "      <td>0.055040</td>\n",
       "      <td>0.000000</td>\n",
       "      <td>0.099844</td>\n",
       "      <td>0.358974</td>\n",
       "      <td>1.0</td>\n",
       "      <td>1.0</td>\n",
       "      <td>0.0</td>\n",
       "      <td>0.0</td>\n",
       "      <td>0.0</td>\n",
       "      <td>0.0</td>\n",
       "    </tr>\n",
       "    <tr>\n",
       "      <th>21</th>\n",
       "      <td>0.0</td>\n",
       "      <td>1.0</td>\n",
       "      <td>0.0</td>\n",
       "      <td>0.0</td>\n",
       "      <td>0.092888</td>\n",
       "      <td>0.053199</td>\n",
       "      <td>0.148206</td>\n",
       "      <td>0.743590</td>\n",
       "      <td>0.0</td>\n",
       "      <td>0.0</td>\n",
       "      <td>1.0</td>\n",
       "      <td>0.0</td>\n",
       "      <td>0.0</td>\n",
       "      <td>0.0</td>\n",
       "    </tr>\n",
       "    <tr>\n",
       "      <th>22</th>\n",
       "      <td>0.0</td>\n",
       "      <td>0.0</td>\n",
       "      <td>1.0</td>\n",
       "      <td>0.0</td>\n",
       "      <td>0.042461</td>\n",
       "      <td>0.000000</td>\n",
       "      <td>0.135725</td>\n",
       "      <td>0.743590</td>\n",
       "      <td>1.0</td>\n",
       "      <td>0.0</td>\n",
       "      <td>1.0</td>\n",
       "      <td>0.0</td>\n",
       "      <td>0.0</td>\n",
       "      <td>0.0</td>\n",
       "    </tr>\n",
       "    <tr>\n",
       "      <th>23</th>\n",
       "      <td>1.0</td>\n",
       "      <td>1.0</td>\n",
       "      <td>1.0</td>\n",
       "      <td>0.0</td>\n",
       "      <td>0.055139</td>\n",
       "      <td>0.084080</td>\n",
       "      <td>0.204368</td>\n",
       "      <td>0.358974</td>\n",
       "      <td>1.0</td>\n",
       "      <td>1.0</td>\n",
       "      <td>0.0</td>\n",
       "      <td>1.0</td>\n",
       "      <td>0.0</td>\n",
       "      <td>0.0</td>\n",
       "    </tr>\n",
       "    <tr>\n",
       "      <th>24</th>\n",
       "      <td>0.0</td>\n",
       "      <td>1.0</td>\n",
       "      <td>1.0</td>\n",
       "      <td>0.0</td>\n",
       "      <td>0.044106</td>\n",
       "      <td>0.000000</td>\n",
       "      <td>0.051482</td>\n",
       "      <td>0.358974</td>\n",
       "      <td>1.0</td>\n",
       "      <td>0.0</td>\n",
       "      <td>0.0</td>\n",
       "      <td>0.0</td>\n",
       "      <td>0.0</td>\n",
       "      <td>0.0</td>\n",
       "    </tr>\n",
       "    <tr>\n",
       "      <th>25</th>\n",
       "      <td>0.0</td>\n",
       "      <td>1.0</td>\n",
       "      <td>1.0</td>\n",
       "      <td>1.0</td>\n",
       "      <td>0.006481</td>\n",
       "      <td>0.156515</td>\n",
       "      <td>0.248050</td>\n",
       "      <td>0.743590</td>\n",
       "      <td>1.0</td>\n",
       "      <td>0.0</td>\n",
       "      <td>0.0</td>\n",
       "      <td>0.0</td>\n",
       "      <td>0.0</td>\n",
       "      <td>0.0</td>\n",
       "    </tr>\n",
       "    <tr>\n",
       "      <th>26</th>\n",
       "      <td>1.0</td>\n",
       "      <td>0.0</td>\n",
       "      <td>1.0</td>\n",
       "      <td>0.0</td>\n",
       "      <td>0.087199</td>\n",
       "      <td>0.000000</td>\n",
       "      <td>0.173167</td>\n",
       "      <td>0.743590</td>\n",
       "      <td>1.0</td>\n",
       "      <td>0.0</td>\n",
       "      <td>0.0</td>\n",
       "      <td>0.0</td>\n",
       "      <td>0.0</td>\n",
       "      <td>0.0</td>\n",
       "    </tr>\n",
       "    <tr>\n",
       "      <th>27</th>\n",
       "      <td>0.0</td>\n",
       "      <td>0.0</td>\n",
       "      <td>0.0</td>\n",
       "      <td>1.0</td>\n",
       "      <td>0.030093</td>\n",
       "      <td>0.064042</td>\n",
       "      <td>0.148206</td>\n",
       "      <td>0.743590</td>\n",
       "      <td>1.0</td>\n",
       "      <td>0.0</td>\n",
       "      <td>0.0</td>\n",
       "      <td>0.0</td>\n",
       "      <td>0.0</td>\n",
       "      <td>0.0</td>\n",
       "    </tr>\n",
       "    <tr>\n",
       "      <th>28</th>\n",
       "      <td>1.0</td>\n",
       "      <td>0.0</td>\n",
       "      <td>1.0</td>\n",
       "      <td>0.0</td>\n",
       "      <td>0.016698</td>\n",
       "      <td>0.053196</td>\n",
       "      <td>0.146646</td>\n",
       "      <td>0.743590</td>\n",
       "      <td>0.0</td>\n",
       "      <td>1.0</td>\n",
       "      <td>0.0</td>\n",
       "      <td>0.0</td>\n",
       "      <td>0.0</td>\n",
       "      <td>0.0</td>\n",
       "    </tr>\n",
       "    <tr>\n",
       "      <th>29</th>\n",
       "      <td>0.0</td>\n",
       "      <td>1.0</td>\n",
       "      <td>1.0</td>\n",
       "      <td>0.0</td>\n",
       "      <td>0.076475</td>\n",
       "      <td>0.135443</td>\n",
       "      <td>0.390016</td>\n",
       "      <td>0.743590</td>\n",
       "      <td>1.0</td>\n",
       "      <td>1.0</td>\n",
       "      <td>0.0</td>\n",
       "      <td>0.0</td>\n",
       "      <td>0.0</td>\n",
       "      <td>0.0</td>\n",
       "    </tr>\n",
       "    <tr>\n",
       "      <th>...</th>\n",
       "      <td>...</td>\n",
       "      <td>...</td>\n",
       "      <td>...</td>\n",
       "      <td>...</td>\n",
       "      <td>...</td>\n",
       "      <td>...</td>\n",
       "      <td>...</td>\n",
       "      <td>...</td>\n",
       "      <td>...</td>\n",
       "      <td>...</td>\n",
       "      <td>...</td>\n",
       "      <td>...</td>\n",
       "      <td>...</td>\n",
       "      <td>...</td>\n",
       "    </tr>\n",
       "    <tr>\n",
       "      <th>381</th>\n",
       "      <td>1.0</td>\n",
       "      <td>1.0</td>\n",
       "      <td>1.0</td>\n",
       "      <td>0.0</td>\n",
       "      <td>0.049845</td>\n",
       "      <td>0.068150</td>\n",
       "      <td>0.269891</td>\n",
       "      <td>0.743590</td>\n",
       "      <td>1.0</td>\n",
       "      <td>1.0</td>\n",
       "      <td>0.0</td>\n",
       "      <td>0.0</td>\n",
       "      <td>0.0</td>\n",
       "      <td>0.0</td>\n",
       "    </tr>\n",
       "    <tr>\n",
       "      <th>382</th>\n",
       "      <td>0.0</td>\n",
       "      <td>1.0</td>\n",
       "      <td>1.0</td>\n",
       "      <td>0.0</td>\n",
       "      <td>0.048930</td>\n",
       "      <td>0.000000</td>\n",
       "      <td>0.048362</td>\n",
       "      <td>0.358974</td>\n",
       "      <td>1.0</td>\n",
       "      <td>0.0</td>\n",
       "      <td>0.0</td>\n",
       "      <td>0.0</td>\n",
       "      <td>0.0</td>\n",
       "      <td>1.0</td>\n",
       "    </tr>\n",
       "    <tr>\n",
       "      <th>383</th>\n",
       "      <td>0.0</td>\n",
       "      <td>0.0</td>\n",
       "      <td>0.0</td>\n",
       "      <td>0.0</td>\n",
       "      <td>0.044502</td>\n",
       "      <td>0.049295</td>\n",
       "      <td>0.157566</td>\n",
       "      <td>0.743590</td>\n",
       "      <td>1.0</td>\n",
       "      <td>1.0</td>\n",
       "      <td>0.0</td>\n",
       "      <td>0.0</td>\n",
       "      <td>0.0</td>\n",
       "      <td>0.0</td>\n",
       "    </tr>\n",
       "    <tr>\n",
       "      <th>384</th>\n",
       "      <td>0.0</td>\n",
       "      <td>1.0</td>\n",
       "      <td>0.0</td>\n",
       "      <td>0.0</td>\n",
       "      <td>0.030884</td>\n",
       "      <td>0.046901</td>\n",
       "      <td>0.255850</td>\n",
       "      <td>0.743590</td>\n",
       "      <td>1.0</td>\n",
       "      <td>0.0</td>\n",
       "      <td>0.0</td>\n",
       "      <td>0.0</td>\n",
       "      <td>0.0</td>\n",
       "      <td>1.0</td>\n",
       "    </tr>\n",
       "    <tr>\n",
       "      <th>385</th>\n",
       "      <td>0.0</td>\n",
       "      <td>1.0</td>\n",
       "      <td>1.0</td>\n",
       "      <td>1.0</td>\n",
       "      <td>0.035250</td>\n",
       "      <td>0.000000</td>\n",
       "      <td>0.088924</td>\n",
       "      <td>0.743590</td>\n",
       "      <td>1.0</td>\n",
       "      <td>0.0</td>\n",
       "      <td>1.0</td>\n",
       "      <td>0.0</td>\n",
       "      <td>0.0</td>\n",
       "      <td>0.0</td>\n",
       "    </tr>\n",
       "    <tr>\n",
       "      <th>386</th>\n",
       "      <td>0.0</td>\n",
       "      <td>1.0</td>\n",
       "      <td>0.0</td>\n",
       "      <td>0.0</td>\n",
       "      <td>0.022362</td>\n",
       "      <td>0.043030</td>\n",
       "      <td>0.079563</td>\n",
       "      <td>0.615385</td>\n",
       "      <td>1.0</td>\n",
       "      <td>0.0</td>\n",
       "      <td>1.0</td>\n",
       "      <td>0.0</td>\n",
       "      <td>1.0</td>\n",
       "      <td>0.0</td>\n",
       "    </tr>\n",
       "    <tr>\n",
       "      <th>387</th>\n",
       "      <td>0.0</td>\n",
       "      <td>1.0</td>\n",
       "      <td>0.0</td>\n",
       "      <td>1.0</td>\n",
       "      <td>0.085962</td>\n",
       "      <td>0.053199</td>\n",
       "      <td>0.180967</td>\n",
       "      <td>0.102564</td>\n",
       "      <td>1.0</td>\n",
       "      <td>0.0</td>\n",
       "      <td>1.0</td>\n",
       "      <td>0.0</td>\n",
       "      <td>0.0</td>\n",
       "      <td>1.0</td>\n",
       "    </tr>\n",
       "    <tr>\n",
       "      <th>388</th>\n",
       "      <td>0.0</td>\n",
       "      <td>0.0</td>\n",
       "      <td>1.0</td>\n",
       "      <td>0.0</td>\n",
       "      <td>0.028806</td>\n",
       "      <td>0.000000</td>\n",
       "      <td>0.078003</td>\n",
       "      <td>0.743590</td>\n",
       "      <td>1.0</td>\n",
       "      <td>0.0</td>\n",
       "      <td>1.0</td>\n",
       "      <td>0.0</td>\n",
       "      <td>0.0</td>\n",
       "      <td>0.0</td>\n",
       "    </tr>\n",
       "    <tr>\n",
       "      <th>389</th>\n",
       "      <td>0.0</td>\n",
       "      <td>1.0</td>\n",
       "      <td>1.0</td>\n",
       "      <td>0.0</td>\n",
       "      <td>0.070241</td>\n",
       "      <td>0.000000</td>\n",
       "      <td>0.201248</td>\n",
       "      <td>0.743590</td>\n",
       "      <td>1.0</td>\n",
       "      <td>0.0</td>\n",
       "      <td>0.0</td>\n",
       "      <td>0.0</td>\n",
       "      <td>0.0</td>\n",
       "      <td>0.0</td>\n",
       "    </tr>\n",
       "    <tr>\n",
       "      <th>390</th>\n",
       "      <td>0.0</td>\n",
       "      <td>1.0</td>\n",
       "      <td>0.0</td>\n",
       "      <td>0.0</td>\n",
       "      <td>0.031058</td>\n",
       "      <td>0.209859</td>\n",
       "      <td>0.421217</td>\n",
       "      <td>0.358974</td>\n",
       "      <td>1.0</td>\n",
       "      <td>1.0</td>\n",
       "      <td>0.0</td>\n",
       "      <td>1.0</td>\n",
       "      <td>0.0</td>\n",
       "      <td>0.0</td>\n",
       "    </tr>\n",
       "    <tr>\n",
       "      <th>391</th>\n",
       "      <td>1.0</td>\n",
       "      <td>0.0</td>\n",
       "      <td>1.0</td>\n",
       "      <td>0.0</td>\n",
       "      <td>0.049598</td>\n",
       "      <td>0.000000</td>\n",
       "      <td>0.096724</td>\n",
       "      <td>0.743590</td>\n",
       "      <td>1.0</td>\n",
       "      <td>1.0</td>\n",
       "      <td>0.0</td>\n",
       "      <td>0.0</td>\n",
       "      <td>0.0</td>\n",
       "      <td>0.0</td>\n",
       "    </tr>\n",
       "    <tr>\n",
       "      <th>392</th>\n",
       "      <td>0.0</td>\n",
       "      <td>1.0</td>\n",
       "      <td>1.0</td>\n",
       "      <td>0.0</td>\n",
       "      <td>1.000000</td>\n",
       "      <td>0.000000</td>\n",
       "      <td>0.547582</td>\n",
       "      <td>0.743590</td>\n",
       "      <td>0.0</td>\n",
       "      <td>0.0</td>\n",
       "      <td>0.0</td>\n",
       "      <td>0.0</td>\n",
       "      <td>0.0</td>\n",
       "      <td>1.0</td>\n",
       "    </tr>\n",
       "    <tr>\n",
       "      <th>393</th>\n",
       "      <td>1.0</td>\n",
       "      <td>1.0</td>\n",
       "      <td>1.0</td>\n",
       "      <td>0.0</td>\n",
       "      <td>0.034372</td>\n",
       "      <td>0.068948</td>\n",
       "      <td>0.202808</td>\n",
       "      <td>0.743590</td>\n",
       "      <td>1.0</td>\n",
       "      <td>1.0</td>\n",
       "      <td>0.0</td>\n",
       "      <td>0.0</td>\n",
       "      <td>0.0</td>\n",
       "      <td>0.0</td>\n",
       "    </tr>\n",
       "    <tr>\n",
       "      <th>394</th>\n",
       "      <td>0.0</td>\n",
       "      <td>1.0</td>\n",
       "      <td>1.0</td>\n",
       "      <td>0.0</td>\n",
       "      <td>0.075448</td>\n",
       "      <td>0.000000</td>\n",
       "      <td>0.185647</td>\n",
       "      <td>0.743590</td>\n",
       "      <td>1.0</td>\n",
       "      <td>1.0</td>\n",
       "      <td>0.0</td>\n",
       "      <td>0.0</td>\n",
       "      <td>0.0</td>\n",
       "      <td>0.0</td>\n",
       "    </tr>\n",
       "    <tr>\n",
       "      <th>395</th>\n",
       "      <td>1.0</td>\n",
       "      <td>1.0</td>\n",
       "      <td>0.0</td>\n",
       "      <td>0.0</td>\n",
       "      <td>0.035461</td>\n",
       "      <td>0.019594</td>\n",
       "      <td>0.145086</td>\n",
       "      <td>0.743590</td>\n",
       "      <td>1.0</td>\n",
       "      <td>1.0</td>\n",
       "      <td>0.0</td>\n",
       "      <td>0.0</td>\n",
       "      <td>0.0</td>\n",
       "      <td>0.0</td>\n",
       "    </tr>\n",
       "    <tr>\n",
       "      <th>396</th>\n",
       "      <td>0.0</td>\n",
       "      <td>1.0</td>\n",
       "      <td>0.0</td>\n",
       "      <td>0.0</td>\n",
       "      <td>0.056957</td>\n",
       "      <td>0.053199</td>\n",
       "      <td>0.134165</td>\n",
       "      <td>0.705128</td>\n",
       "      <td>0.0</td>\n",
       "      <td>1.0</td>\n",
       "      <td>0.0</td>\n",
       "      <td>0.0</td>\n",
       "      <td>0.0</td>\n",
       "      <td>1.0</td>\n",
       "    </tr>\n",
       "    <tr>\n",
       "      <th>397</th>\n",
       "      <td>0.0</td>\n",
       "      <td>1.0</td>\n",
       "      <td>1.0</td>\n",
       "      <td>0.0</td>\n",
       "      <td>0.070142</td>\n",
       "      <td>0.053199</td>\n",
       "      <td>0.210608</td>\n",
       "      <td>0.743590</td>\n",
       "      <td>1.0</td>\n",
       "      <td>0.0</td>\n",
       "      <td>1.0</td>\n",
       "      <td>0.0</td>\n",
       "      <td>0.0</td>\n",
       "      <td>0.0</td>\n",
       "    </tr>\n",
       "    <tr>\n",
       "      <th>398</th>\n",
       "      <td>1.0</td>\n",
       "      <td>0.0</td>\n",
       "      <td>1.0</td>\n",
       "      <td>1.0</td>\n",
       "      <td>0.090303</td>\n",
       "      <td>0.053199</td>\n",
       "      <td>0.214372</td>\n",
       "      <td>0.743590</td>\n",
       "      <td>1.0</td>\n",
       "      <td>1.0</td>\n",
       "      <td>0.0</td>\n",
       "      <td>1.0</td>\n",
       "      <td>0.0</td>\n",
       "      <td>0.0</td>\n",
       "    </tr>\n",
       "    <tr>\n",
       "      <th>399</th>\n",
       "      <td>1.0</td>\n",
       "      <td>1.0</td>\n",
       "      <td>1.0</td>\n",
       "      <td>0.0</td>\n",
       "      <td>0.028868</td>\n",
       "      <td>0.068032</td>\n",
       "      <td>0.199688</td>\n",
       "      <td>0.743590</td>\n",
       "      <td>1.0</td>\n",
       "      <td>1.0</td>\n",
       "      <td>0.0</td>\n",
       "      <td>0.0</td>\n",
       "      <td>0.0</td>\n",
       "      <td>0.0</td>\n",
       "    </tr>\n",
       "    <tr>\n",
       "      <th>400</th>\n",
       "      <td>0.0</td>\n",
       "      <td>1.0</td>\n",
       "      <td>1.0</td>\n",
       "      <td>0.0</td>\n",
       "      <td>0.037390</td>\n",
       "      <td>0.089281</td>\n",
       "      <td>0.199688</td>\n",
       "      <td>0.743590</td>\n",
       "      <td>1.0</td>\n",
       "      <td>0.0</td>\n",
       "      <td>1.0</td>\n",
       "      <td>0.0</td>\n",
       "      <td>0.0</td>\n",
       "      <td>0.0</td>\n",
       "    </tr>\n",
       "    <tr>\n",
       "      <th>401</th>\n",
       "      <td>0.0</td>\n",
       "      <td>1.0</td>\n",
       "      <td>1.0</td>\n",
       "      <td>0.0</td>\n",
       "      <td>0.037304</td>\n",
       "      <td>0.060998</td>\n",
       "      <td>0.148206</td>\n",
       "      <td>0.743590</td>\n",
       "      <td>0.0</td>\n",
       "      <td>0.0</td>\n",
       "      <td>1.0</td>\n",
       "      <td>0.0</td>\n",
       "      <td>0.0</td>\n",
       "      <td>0.0</td>\n",
       "    </tr>\n",
       "    <tr>\n",
       "      <th>402</th>\n",
       "      <td>0.0</td>\n",
       "      <td>1.0</td>\n",
       "      <td>1.0</td>\n",
       "      <td>0.0</td>\n",
       "      <td>0.034719</td>\n",
       "      <td>0.053199</td>\n",
       "      <td>0.112324</td>\n",
       "      <td>0.743590</td>\n",
       "      <td>1.0</td>\n",
       "      <td>1.0</td>\n",
       "      <td>0.0</td>\n",
       "      <td>0.0</td>\n",
       "      <td>1.0</td>\n",
       "      <td>0.0</td>\n",
       "    </tr>\n",
       "    <tr>\n",
       "      <th>403</th>\n",
       "      <td>0.0</td>\n",
       "      <td>1.0</td>\n",
       "      <td>1.0</td>\n",
       "      <td>0.0</td>\n",
       "      <td>0.139357</td>\n",
       "      <td>0.033277</td>\n",
       "      <td>0.336973</td>\n",
       "      <td>0.743590</td>\n",
       "      <td>1.0</td>\n",
       "      <td>0.0</td>\n",
       "      <td>1.0</td>\n",
       "      <td>0.0</td>\n",
       "      <td>1.0</td>\n",
       "      <td>0.0</td>\n",
       "    </tr>\n",
       "    <tr>\n",
       "      <th>404</th>\n",
       "      <td>0.0</td>\n",
       "      <td>0.0</td>\n",
       "      <td>0.0</td>\n",
       "      <td>0.0</td>\n",
       "      <td>0.045553</td>\n",
       "      <td>0.000000</td>\n",
       "      <td>0.157566</td>\n",
       "      <td>0.743590</td>\n",
       "      <td>1.0</td>\n",
       "      <td>0.0</td>\n",
       "      <td>0.0</td>\n",
       "      <td>0.0</td>\n",
       "      <td>0.0</td>\n",
       "      <td>0.0</td>\n",
       "    </tr>\n",
       "    <tr>\n",
       "      <th>405</th>\n",
       "      <td>1.0</td>\n",
       "      <td>0.0</td>\n",
       "      <td>1.0</td>\n",
       "      <td>0.0</td>\n",
       "      <td>0.041558</td>\n",
       "      <td>0.000000</td>\n",
       "      <td>0.104524</td>\n",
       "      <td>0.743590</td>\n",
       "      <td>0.0</td>\n",
       "      <td>0.0</td>\n",
       "      <td>1.0</td>\n",
       "      <td>0.0</td>\n",
       "      <td>0.0</td>\n",
       "      <td>0.0</td>\n",
       "    </tr>\n",
       "    <tr>\n",
       "      <th>406</th>\n",
       "      <td>0.0</td>\n",
       "      <td>1.0</td>\n",
       "      <td>0.0</td>\n",
       "      <td>0.0</td>\n",
       "      <td>0.049944</td>\n",
       "      <td>0.053199</td>\n",
       "      <td>0.165367</td>\n",
       "      <td>0.358974</td>\n",
       "      <td>1.0</td>\n",
       "      <td>1.0</td>\n",
       "      <td>0.0</td>\n",
       "      <td>0.0</td>\n",
       "      <td>0.0</td>\n",
       "      <td>0.0</td>\n",
       "    </tr>\n",
       "    <tr>\n",
       "      <th>407</th>\n",
       "      <td>0.0</td>\n",
       "      <td>1.0</td>\n",
       "      <td>0.0</td>\n",
       "      <td>0.0</td>\n",
       "      <td>0.042684</td>\n",
       "      <td>0.046990</td>\n",
       "      <td>0.214372</td>\n",
       "      <td>0.743590</td>\n",
       "      <td>1.0</td>\n",
       "      <td>0.0</td>\n",
       "      <td>0.0</td>\n",
       "      <td>0.0</td>\n",
       "      <td>1.0</td>\n",
       "      <td>0.0</td>\n",
       "    </tr>\n",
       "    <tr>\n",
       "      <th>408</th>\n",
       "      <td>1.0</td>\n",
       "      <td>0.0</td>\n",
       "      <td>1.0</td>\n",
       "      <td>0.0</td>\n",
       "      <td>0.072356</td>\n",
       "      <td>0.000000</td>\n",
       "      <td>0.229329</td>\n",
       "      <td>0.743590</td>\n",
       "      <td>1.0</td>\n",
       "      <td>0.0</td>\n",
       "      <td>1.0</td>\n",
       "      <td>0.0</td>\n",
       "      <td>0.0</td>\n",
       "      <td>0.0</td>\n",
       "    </tr>\n",
       "    <tr>\n",
       "      <th>409</th>\n",
       "      <td>0.0</td>\n",
       "      <td>0.0</td>\n",
       "      <td>0.0</td>\n",
       "      <td>0.0</td>\n",
       "      <td>0.075028</td>\n",
       "      <td>0.000000</td>\n",
       "      <td>0.193448</td>\n",
       "      <td>0.743590</td>\n",
       "      <td>1.0</td>\n",
       "      <td>0.0</td>\n",
       "      <td>0.0</td>\n",
       "      <td>0.0</td>\n",
       "      <td>0.0</td>\n",
       "      <td>0.0</td>\n",
       "    </tr>\n",
       "    <tr>\n",
       "      <th>410</th>\n",
       "      <td>0.0</td>\n",
       "      <td>0.0</td>\n",
       "      <td>0.0</td>\n",
       "      <td>0.0</td>\n",
       "      <td>0.042647</td>\n",
       "      <td>0.038035</td>\n",
       "      <td>0.141966</td>\n",
       "      <td>0.743590</td>\n",
       "      <td>1.0</td>\n",
       "      <td>0.0</td>\n",
       "      <td>0.0</td>\n",
       "      <td>0.0</td>\n",
       "      <td>0.0</td>\n",
       "      <td>0.0</td>\n",
       "    </tr>\n",
       "  </tbody>\n",
       "</table>\n",
       "<p>411 rows × 14 columns</p>\n",
       "</div>"
      ],
      "text/plain": [
       "     SEXO  FLAG_CASADO  EDUCACION  FLAG_TRAB_INDEP  INGRESOS_SOLICITANTE  \\\n",
       "0     0.0          0.0        1.0              1.0              0.086790   \n",
       "1     0.0          1.0        1.0              0.0              0.044527   \n",
       "2     0.0          0.0        1.0              0.0              0.040421   \n",
       "3     0.0          1.0        1.0              0.0              0.032616   \n",
       "4     0.0          0.0        1.0              0.0              0.058046   \n",
       "5     0.0          1.0        0.0              0.0              0.026704   \n",
       "6     0.0          1.0        1.0              1.0              0.041014   \n",
       "7     0.0          1.0        1.0              0.0              0.027829   \n",
       "8     0.0          0.0        1.0              0.0              0.049672   \n",
       "9     0.0          0.0        1.0              0.0              0.020408   \n",
       "10    0.0          1.0        1.0              0.0              0.068683   \n",
       "11    0.0          1.0        1.0              0.0              0.063080   \n",
       "12    0.0          1.0        1.0              0.0              0.023055   \n",
       "13    0.0          1.0        0.0              0.0              0.046592   \n",
       "14    1.0          0.0        1.0              0.0              0.043810   \n",
       "15    0.0          1.0        1.0              0.0              0.041398   \n",
       "16    0.0          1.0        1.0              0.0              0.044119   \n",
       "17    0.0          1.0        1.0              0.0              0.040198   \n",
       "18    1.0          1.0        1.0              0.0              0.146568   \n",
       "19    0.0          0.0        1.0              0.0              0.082028   \n",
       "20    0.0          1.0        1.0              0.0              0.055040   \n",
       "21    0.0          1.0        0.0              0.0              0.092888   \n",
       "22    0.0          0.0        1.0              0.0              0.042461   \n",
       "23    1.0          1.0        1.0              0.0              0.055139   \n",
       "24    0.0          1.0        1.0              0.0              0.044106   \n",
       "25    0.0          1.0        1.0              1.0              0.006481   \n",
       "26    1.0          0.0        1.0              0.0              0.087199   \n",
       "27    0.0          0.0        0.0              1.0              0.030093   \n",
       "28    1.0          0.0        1.0              0.0              0.016698   \n",
       "29    0.0          1.0        1.0              0.0              0.076475   \n",
       "..    ...          ...        ...              ...                   ...   \n",
       "381   1.0          1.0        1.0              0.0              0.049845   \n",
       "382   0.0          1.0        1.0              0.0              0.048930   \n",
       "383   0.0          0.0        0.0              0.0              0.044502   \n",
       "384   0.0          1.0        0.0              0.0              0.030884   \n",
       "385   0.0          1.0        1.0              1.0              0.035250   \n",
       "386   0.0          1.0        0.0              0.0              0.022362   \n",
       "387   0.0          1.0        0.0              1.0              0.085962   \n",
       "388   0.0          0.0        1.0              0.0              0.028806   \n",
       "389   0.0          1.0        1.0              0.0              0.070241   \n",
       "390   0.0          1.0        0.0              0.0              0.031058   \n",
       "391   1.0          0.0        1.0              0.0              0.049598   \n",
       "392   0.0          1.0        1.0              0.0              1.000000   \n",
       "393   1.0          1.0        1.0              0.0              0.034372   \n",
       "394   0.0          1.0        1.0              0.0              0.075448   \n",
       "395   1.0          1.0        0.0              0.0              0.035461   \n",
       "396   0.0          1.0        0.0              0.0              0.056957   \n",
       "397   0.0          1.0        1.0              0.0              0.070142   \n",
       "398   1.0          0.0        1.0              1.0              0.090303   \n",
       "399   1.0          1.0        1.0              0.0              0.028868   \n",
       "400   0.0          1.0        1.0              0.0              0.037390   \n",
       "401   0.0          1.0        1.0              0.0              0.037304   \n",
       "402   0.0          1.0        1.0              0.0              0.034719   \n",
       "403   0.0          1.0        1.0              0.0              0.139357   \n",
       "404   0.0          0.0        0.0              0.0              0.045553   \n",
       "405   1.0          0.0        1.0              0.0              0.041558   \n",
       "406   0.0          1.0        0.0              0.0              0.049944   \n",
       "407   0.0          1.0        0.0              0.0              0.042684   \n",
       "408   1.0          0.0        1.0              0.0              0.072356   \n",
       "409   0.0          0.0        0.0              0.0              0.075028   \n",
       "410   0.0          0.0        0.0              0.0              0.042647   \n",
       "\n",
       "     INGRESOS_COSOLICITANTE  MONTO_PRESTAMO_MILES  PLAZO_PRESTAMO_MESES  \\\n",
       "0                  0.000000              0.185647              0.743590   \n",
       "1                  0.000000              0.166927              0.743590   \n",
       "2                  0.000000              0.184087              0.743590   \n",
       "3                  0.056654              0.213729              0.743590   \n",
       "4                  0.112480              0.221529              0.743590   \n",
       "5                  0.037090              0.180967              0.743590   \n",
       "6                  0.035760              0.188768              0.743590   \n",
       "7                  0.053199              0.102964              0.743590   \n",
       "8                  0.000000              0.138846              0.743590   \n",
       "9                  0.035848              0.059282              0.743590   \n",
       "10                 0.000000              0.185647              0.743590   \n",
       "11                 0.020333              0.235569              0.743590   \n",
       "12                 0.086444              0.162246              0.743590   \n",
       "13                 0.000000              0.179407              0.743590   \n",
       "14                 0.053199              0.131045              0.743590   \n",
       "15                 0.058043              0.166927              0.743590   \n",
       "16                 0.000000              0.173167              0.743590   \n",
       "17                 0.073884              0.177847              0.743590   \n",
       "18                 0.000000              0.759750              0.743590   \n",
       "19                 0.053199              0.214372              0.743590   \n",
       "20                 0.000000              0.099844              0.358974   \n",
       "21                 0.053199              0.148206              0.743590   \n",
       "22                 0.000000              0.135725              0.743590   \n",
       "23                 0.084080              0.204368              0.358974   \n",
       "24                 0.000000              0.051482              0.358974   \n",
       "25                 0.156515              0.248050              0.743590   \n",
       "26                 0.000000              0.173167              0.743590   \n",
       "27                 0.064042              0.148206              0.743590   \n",
       "28                 0.053196              0.146646              0.743590   \n",
       "29                 0.135443              0.390016              0.743590   \n",
       "..                      ...                   ...                   ...   \n",
       "381                0.068150              0.269891              0.743590   \n",
       "382                0.000000              0.048362              0.358974   \n",
       "383                0.049295              0.157566              0.743590   \n",
       "384                0.046901              0.255850              0.743590   \n",
       "385                0.000000              0.088924              0.743590   \n",
       "386                0.043030              0.079563              0.615385   \n",
       "387                0.053199              0.180967              0.102564   \n",
       "388                0.000000              0.078003              0.743590   \n",
       "389                0.000000              0.201248              0.743590   \n",
       "390                0.209859              0.421217              0.358974   \n",
       "391                0.000000              0.096724              0.743590   \n",
       "392                0.000000              0.547582              0.743590   \n",
       "393                0.068948              0.202808              0.743590   \n",
       "394                0.000000              0.185647              0.743590   \n",
       "395                0.019594              0.145086              0.743590   \n",
       "396                0.053199              0.134165              0.705128   \n",
       "397                0.053199              0.210608              0.743590   \n",
       "398                0.053199              0.214372              0.743590   \n",
       "399                0.068032              0.199688              0.743590   \n",
       "400                0.089281              0.199688              0.743590   \n",
       "401                0.060998              0.148206              0.743590   \n",
       "402                0.053199              0.112324              0.743590   \n",
       "403                0.033277              0.336973              0.743590   \n",
       "404                0.000000              0.157566              0.743590   \n",
       "405                0.000000              0.104524              0.743590   \n",
       "406                0.053199              0.165367              0.358974   \n",
       "407                0.046990              0.214372              0.743590   \n",
       "408                0.000000              0.229329              0.743590   \n",
       "409                0.000000              0.193448              0.743590   \n",
       "410                0.038035              0.141966              0.743590   \n",
       "\n",
       "     FLAG_HISTORIAL_CREDITICIO  TIPO_ZONA_Semiurban  TIPO_ZONA_Urban  \\\n",
       "0                          1.0                  0.0              1.0   \n",
       "1                          1.0                  1.0              0.0   \n",
       "2                          1.0                  1.0              0.0   \n",
       "3                          0.0                  0.0              0.0   \n",
       "4                          1.0                  1.0              0.0   \n",
       "5                          0.0                  0.0              0.0   \n",
       "6                          1.0                  0.0              0.0   \n",
       "7                          1.0                  0.0              1.0   \n",
       "8                          0.0                  1.0              0.0   \n",
       "9                          1.0                  0.0              1.0   \n",
       "10                         1.0                  0.0              1.0   \n",
       "11                         1.0                  0.0              0.0   \n",
       "12                         1.0                  0.0              1.0   \n",
       "13                         1.0                  1.0              0.0   \n",
       "14                         1.0                  0.0              0.0   \n",
       "15                         1.0                  0.0              0.0   \n",
       "16                         1.0                  1.0              0.0   \n",
       "17                         0.0                  0.0              0.0   \n",
       "18                         1.0                  1.0              0.0   \n",
       "19                         1.0                  0.0              1.0   \n",
       "20                         1.0                  1.0              0.0   \n",
       "21                         0.0                  0.0              1.0   \n",
       "22                         1.0                  0.0              1.0   \n",
       "23                         1.0                  1.0              0.0   \n",
       "24                         1.0                  0.0              0.0   \n",
       "25                         1.0                  0.0              0.0   \n",
       "26                         1.0                  0.0              0.0   \n",
       "27                         1.0                  0.0              0.0   \n",
       "28                         0.0                  1.0              0.0   \n",
       "29                         1.0                  1.0              0.0   \n",
       "..                         ...                  ...              ...   \n",
       "381                        1.0                  1.0              0.0   \n",
       "382                        1.0                  0.0              0.0   \n",
       "383                        1.0                  1.0              0.0   \n",
       "384                        1.0                  0.0              0.0   \n",
       "385                        1.0                  0.0              1.0   \n",
       "386                        1.0                  0.0              1.0   \n",
       "387                        1.0                  0.0              1.0   \n",
       "388                        1.0                  0.0              1.0   \n",
       "389                        1.0                  0.0              0.0   \n",
       "390                        1.0                  1.0              0.0   \n",
       "391                        1.0                  1.0              0.0   \n",
       "392                        0.0                  0.0              0.0   \n",
       "393                        1.0                  1.0              0.0   \n",
       "394                        1.0                  1.0              0.0   \n",
       "395                        1.0                  1.0              0.0   \n",
       "396                        0.0                  1.0              0.0   \n",
       "397                        1.0                  0.0              1.0   \n",
       "398                        1.0                  1.0              0.0   \n",
       "399                        1.0                  1.0              0.0   \n",
       "400                        1.0                  0.0              1.0   \n",
       "401                        0.0                  0.0              1.0   \n",
       "402                        1.0                  1.0              0.0   \n",
       "403                        1.0                  0.0              1.0   \n",
       "404                        1.0                  0.0              0.0   \n",
       "405                        0.0                  0.0              1.0   \n",
       "406                        1.0                  1.0              0.0   \n",
       "407                        1.0                  0.0              0.0   \n",
       "408                        1.0                  0.0              1.0   \n",
       "409                        1.0                  0.0              0.0   \n",
       "410                        1.0                  0.0              0.0   \n",
       "\n",
       "     NRO_DEPENDIENTES_1  NRO_DEPENDIENTES_2  NRO_DEPENDIENTES_3+  \n",
       "0                   0.0                 0.0                  0.0  \n",
       "1                   1.0                 0.0                  0.0  \n",
       "2                   0.0                 0.0                  0.0  \n",
       "3                   1.0                 0.0                  0.0  \n",
       "4                   0.0                 0.0                  0.0  \n",
       "5                   0.0                 1.0                  0.0  \n",
       "6                   1.0                 0.0                  0.0  \n",
       "7                   0.0                 0.0                  0.0  \n",
       "8                   0.0                 0.0                  0.0  \n",
       "9                   0.0                 0.0                  0.0  \n",
       "10                  0.0                 0.0                  1.0  \n",
       "11                  1.0                 0.0                  0.0  \n",
       "12                  1.0                 0.0                  0.0  \n",
       "13                  0.0                 1.0                  0.0  \n",
       "14                  0.0                 0.0                  0.0  \n",
       "15                  0.0                 0.0                  0.0  \n",
       "16                  0.0                 1.0                  0.0  \n",
       "17                  0.0                 0.0                  1.0  \n",
       "18                  1.0                 0.0                  0.0  \n",
       "19                  0.0                 0.0                  0.0  \n",
       "20                  0.0                 0.0                  0.0  \n",
       "21                  0.0                 0.0                  0.0  \n",
       "22                  0.0                 0.0                  0.0  \n",
       "23                  1.0                 0.0                  0.0  \n",
       "24                  0.0                 0.0                  0.0  \n",
       "25                  0.0                 0.0                  0.0  \n",
       "26                  0.0                 0.0                  0.0  \n",
       "27                  0.0                 0.0                  0.0  \n",
       "28                  0.0                 0.0                  0.0  \n",
       "29                  0.0                 0.0                  0.0  \n",
       "..                  ...                 ...                  ...  \n",
       "381                 0.0                 0.0                  0.0  \n",
       "382                 0.0                 0.0                  1.0  \n",
       "383                 0.0                 0.0                  0.0  \n",
       "384                 0.0                 0.0                  1.0  \n",
       "385                 0.0                 0.0                  0.0  \n",
       "386                 0.0                 1.0                  0.0  \n",
       "387                 0.0                 0.0                  1.0  \n",
       "388                 0.0                 0.0                  0.0  \n",
       "389                 0.0                 0.0                  0.0  \n",
       "390                 1.0                 0.0                  0.0  \n",
       "391                 0.0                 0.0                  0.0  \n",
       "392                 0.0                 0.0                  1.0  \n",
       "393                 0.0                 0.0                  0.0  \n",
       "394                 0.0                 0.0                  0.0  \n",
       "395                 0.0                 0.0                  0.0  \n",
       "396                 0.0                 0.0                  1.0  \n",
       "397                 0.0                 0.0                  0.0  \n",
       "398                 1.0                 0.0                  0.0  \n",
       "399                 0.0                 0.0                  0.0  \n",
       "400                 0.0                 0.0                  0.0  \n",
       "401                 0.0                 0.0                  0.0  \n",
       "402                 0.0                 1.0                  0.0  \n",
       "403                 0.0                 1.0                  0.0  \n",
       "404                 0.0                 0.0                  0.0  \n",
       "405                 0.0                 0.0                  0.0  \n",
       "406                 0.0                 0.0                  0.0  \n",
       "407                 0.0                 1.0                  0.0  \n",
       "408                 0.0                 0.0                  0.0  \n",
       "409                 0.0                 0.0                  0.0  \n",
       "410                 0.0                 0.0                  0.0  \n",
       "\n",
       "[411 rows x 14 columns]"
      ]
     },
     "execution_count": 56,
     "metadata": {},
     "output_type": "execute_result"
    }
   ],
   "source": [
    "pd.DataFrame(X_train_minmax, columns=X.columns)#.describe()"
   ]
  },
  {
   "cell_type": "code",
   "execution_count": 57,
   "metadata": {},
   "outputs": [],
   "source": [
    "y_pred, y_pred_prob = knn_clasificador(X_train_minmax, y_train, X_test_minmax, k=10)"
   ]
  },
  {
   "cell_type": "code",
   "execution_count": 58,
   "metadata": {},
   "outputs": [
    {
     "data": {
      "text/plain": [
       "array([[ 0.4,  0.6],\n",
       "       [ 0.2,  0.8],\n",
       "       [ 0.4,  0.6],\n",
       "       [ 0.2,  0.8],\n",
       "       [ 0.7,  0.3]])"
      ]
     },
     "execution_count": 58,
     "metadata": {},
     "output_type": "execute_result"
    }
   ],
   "source": [
    "y_pred_prob[:5]"
   ]
  },
  {
   "cell_type": "markdown",
   "metadata": {},
   "source": [
    "### <font color=#003d5c>Evaluación del KNN</font>\n",
    "\n",
    "Existen diferentes métricas de evaluación, que vamos a ver a detalle al final del módulo 5. Pero adelantándonos un poco, evaluaremos al KNN utilizando las métricas de accuracy y auc."
   ]
  },
  {
   "cell_type": "markdown",
   "metadata": {},
   "source": [
    "#### <font color=#003d5c>Matriz de Confusión</font>\n",
    "\n",
    "Es una matriz que nos permite evaluar e interpretar la efectividad de nuestro clasificador.\n",
    "\n",
    "<img src=\"images/confusion_matrix.png\" width=\"400\">"
   ]
  },
  {
   "cell_type": "code",
   "execution_count": 59,
   "metadata": {},
   "outputs": [
    {
     "data": {
      "text/plain": [
       "array([[ 20,  52],\n",
       "       [  4, 127]], dtype=int64)"
      ]
     },
     "execution_count": 59,
     "metadata": {},
     "output_type": "execute_result"
    }
   ],
   "source": [
    "from sklearn.metrics import confusion_matrix\n",
    "cm = confusion_matrix(y_test, y_pred)\n",
    "cm"
   ]
  },
  {
   "cell_type": "code",
   "execution_count": 60,
   "metadata": {},
   "outputs": [
    {
     "data": {
      "text/plain": [
       "1    131\n",
       "0     72\n",
       "Name: 0, dtype: int64"
      ]
     },
     "execution_count": 60,
     "metadata": {},
     "output_type": "execute_result"
    }
   ],
   "source": [
    "pd.DataFrame(y_test)[0].value_counts()"
   ]
  },
  {
   "cell_type": "markdown",
   "metadata": {},
   "source": [
    "¿El resultado no es muy intuitivo verdad? Pues usemos la siguiente función que nos da como ejemplo el módulo [Scikit-learn](http://scikit-learn.org/stable/auto_examples/model_selection/plot_confusion_matrix.html#sphx-glr-auto-examples-model-selection-plot-confusion-matrix-py)"
   ]
  },
  {
   "cell_type": "code",
   "execution_count": 61,
   "metadata": {},
   "outputs": [],
   "source": [
    "def plot_confusion_matrix(cm, classes,\n",
    "                          normalize=False,\n",
    "                          title='Matriz de Confusión',\n",
    "                          cmap=plt.cm.Blues):\n",
    "    \"\"\"\n",
    "    This function prints and plots the confusion matrix.\n",
    "    Normalization can be applied by setting `normalize=True`.\n",
    "    \"\"\"\n",
    "    import itertools\n",
    "    if normalize:\n",
    "        cm = cm.astype('float') / cm.sum(axis=1)[:, np.newaxis]\n",
    "        print(\"Normalized confusion matrix\")\n",
    "    else:\n",
    "        print('Confusion matrix, without normalization')\n",
    "\n",
    "    print(cm)\n",
    "\n",
    "    plt.imshow(cm, interpolation='nearest', cmap=cmap)\n",
    "    plt.title(title)\n",
    "    plt.colorbar()\n",
    "    tick_marks = np.arange(len(classes))\n",
    "    plt.xticks(tick_marks, classes, rotation=45)\n",
    "    plt.yticks(tick_marks, classes)\n",
    "\n",
    "    fmt = '.2f' if normalize else 'd'\n",
    "    thresh = cm.max() / 2.\n",
    "    for i, j in itertools.product(range(cm.shape[0]), range(cm.shape[1])):\n",
    "        plt.text(j, i, format(cm[i, j], fmt),\n",
    "                 horizontalalignment=\"center\",\n",
    "                 color=\"white\" if cm[i, j] > thresh else \"black\")\n",
    "\n",
    "    plt.tight_layout()\n",
    "    plt.ylabel('Clase Verdadera')\n",
    "    plt.xlabel('Clase Predicha')"
   ]
  },
  {
   "cell_type": "code",
   "execution_count": 62,
   "metadata": {},
   "outputs": [],
   "source": [
    "classes = [\"NO\", \"SI\"]"
   ]
  },
  {
   "cell_type": "code",
   "execution_count": 63,
   "metadata": {},
   "outputs": [
    {
     "name": "stdout",
     "output_type": "stream",
     "text": [
      "Confusion matrix, without normalization\n",
      "[[ 20  52]\n",
      " [  4 127]]\n"
     ]
    },
    {
     "data": {
      "image/png": "[encoded data removed]",
      "text/plain": [
       "<matplotlib.figure.Figure at 0xcc13048>"
      ]
     },
     "metadata": {},
     "output_type": "display_data"
    }
   ],
   "source": [
    "plot_confusion_matrix(cm, classes)"
   ]
  },
  {
   "cell_type": "markdown",
   "metadata": {},
   "source": [
    "#### <font color=#003d5c>Accuracy</font>\n",
    "\n",
    "Es una medida para evaluar modelos de clasificación. Informalmente, `accuracy` es la fracción de predicciones que nuestro modelo acertó. Formalmente, tiene la siguiente definición:\n",
    "\n",
    "$$\\text{Accuracy} = \\frac{\\text{Número de predicciones correctas}}{\\text{Total de predicciones}}$$\n",
    "\n",
    "Usando la matriz de confusión:\n",
    "\n",
    "$$\\text{Accuracy} = \\frac{TP+TN}{TP+TN+FP+FN}$$"
   ]
  },
  {
   "cell_type": "code",
   "execution_count": 64,
   "metadata": {},
   "outputs": [],
   "source": [
    "# acccuracy = (TP + TN) / Total\n",
    "accuracy = (127 + 20) / (127 + 20 + 52 + 4)"
   ]
  },
  {
   "cell_type": "code",
   "execution_count": 65,
   "metadata": {},
   "outputs": [],
   "source": [
    "from sklearn.metrics import accuracy_score"
   ]
  },
  {
   "cell_type": "code",
   "execution_count": 66,
   "metadata": {},
   "outputs": [
    {
     "data": {
      "text/plain": [
       "0.72413793103448276"
      ]
     },
     "execution_count": 66,
     "metadata": {},
     "output_type": "execute_result"
    }
   ],
   "source": [
    "accuracy_score(y_test, y_pred)"
   ]
  },
  {
   "cell_type": "markdown",
   "metadata": {},
   "source": [
    "## Usando Sklearn"
   ]
  },
  {
   "cell_type": "code",
   "execution_count": 67,
   "metadata": {},
   "outputs": [],
   "source": [
    "from sklearn.neighbors import KNeighborsClassifier"
   ]
  },
  {
   "cell_type": "code",
   "execution_count": 68,
   "metadata": {},
   "outputs": [],
   "source": [
    "knn = KNeighborsClassifier(n_neighbors=10)"
   ]
  },
  {
   "cell_type": "code",
   "execution_count": 69,
   "metadata": {},
   "outputs": [
    {
     "data": {
      "text/plain": [
       "KNeighborsClassifier(algorithm='auto', leaf_size=30, metric='minkowski',\n",
       "           metric_params=None, n_jobs=1, n_neighbors=10, p=2,\n",
       "           weights='uniform')"
      ]
     },
     "execution_count": 69,
     "metadata": {},
     "output_type": "execute_result"
    }
   ],
   "source": [
    "knn.fit(X_train_minmax, y_train)"
   ]
  },
  {
   "cell_type": "code",
   "execution_count": 70,
   "metadata": {},
   "outputs": [],
   "source": [
    "y_pred = knn.predict(X_test_minmax)\n",
    "y_pred_prob = knn.predict_proba(X_test_minmax)"
   ]
  },
  {
   "cell_type": "code",
   "execution_count": 71,
   "metadata": {},
   "outputs": [
    {
     "data": {
      "text/plain": [
       "array([[ 0.4,  0.6],\n",
       "       [ 0.2,  0.8],\n",
       "       [ 0.4,  0.6],\n",
       "       [ 0.2,  0.8],\n",
       "       [ 0.7,  0.3]])"
      ]
     },
     "execution_count": 71,
     "metadata": {},
     "output_type": "execute_result"
    }
   ],
   "source": [
    "y_pred_prob[:5]"
   ]
  },
  {
   "cell_type": "code",
   "execution_count": 72,
   "metadata": {
    "scrolled": false
   },
   "outputs": [
    {
     "name": "stdout",
     "output_type": "stream",
     "text": [
      "Confusion matrix, without normalization\n",
      "[[ 20  52]\n",
      " [  4 127]]\n"
     ]
    },
    {
     "data": {
      "image/png": "[encoded data removed]",
      "text/plain": [
       "<matplotlib.figure.Figure at 0xccd9da0>"
      ]
     },
     "metadata": {},
     "output_type": "display_data"
    }
   ],
   "source": [
    "plot_confusion_matrix(confusion_matrix(y_test, y_pred), classes)"
   ]
  },
  {
   "cell_type": "code",
   "execution_count": 73,
   "metadata": {},
   "outputs": [
    {
     "data": {
      "text/plain": [
       "0.72413793103448276"
      ]
     },
     "execution_count": 73,
     "metadata": {},
     "output_type": "execute_result"
    }
   ],
   "source": [
    "accuracy_score(y_test, y_pred)"
   ]
  },
  {
   "cell_type": "markdown",
   "metadata": {},
   "source": [
    "### ¿Cuál es el `K` que debo elegir?"
   ]
  },
  {
   "cell_type": "code",
   "execution_count": 74,
   "metadata": {
    "scrolled": true
   },
   "outputs": [
    {
     "name": "stdout",
     "output_type": "stream",
     "text": [
      "Accuracy del KNN con 3 vecinos: 0.6945812807881774\n",
      "Accuracy del KNN con 4 vecinos: 0.7044334975369458\n",
      "Accuracy del KNN con 5 vecinos: 0.7192118226600985\n",
      "Accuracy del KNN con 6 vecinos: 0.729064039408867\n",
      "Accuracy del KNN con 7 vecinos: 0.6945812807881774\n",
      "Accuracy del KNN con 8 vecinos: 0.7142857142857143\n",
      "Accuracy del KNN con 9 vecinos: 0.7093596059113301\n",
      "Accuracy del KNN con 10 vecinos: 0.7241379310344828\n",
      "Accuracy del KNN con 11 vecinos: 0.7142857142857143\n",
      "Accuracy del KNN con 12 vecinos: 0.7142857142857143\n",
      "Accuracy del KNN con 13 vecinos: 0.7093596059113301\n",
      "Accuracy del KNN con 14 vecinos: 0.7142857142857143\n",
      "Accuracy del KNN con 15 vecinos: 0.7142857142857143\n",
      "Accuracy del KNN con 16 vecinos: 0.7142857142857143\n",
      "Accuracy del KNN con 17 vecinos: 0.7093596059113301\n",
      "Accuracy del KNN con 18 vecinos: 0.7044334975369458\n",
      "Accuracy del KNN con 19 vecinos: 0.7093596059113301\n",
      "Accuracy del KNN con 20 vecinos: 0.7044334975369458\n",
      "Accuracy del KNN con 21 vecinos: 0.6847290640394089\n",
      "Accuracy del KNN con 22 vecinos: 0.6945812807881774\n",
      "Accuracy del KNN con 23 vecinos: 0.6896551724137931\n",
      "Accuracy del KNN con 24 vecinos: 0.6945812807881774\n",
      "Accuracy del KNN con 25 vecinos: 0.6945812807881774\n",
      "Accuracy del KNN con 26 vecinos: 0.6945812807881774\n",
      "Accuracy del KNN con 27 vecinos: 0.6896551724137931\n",
      "Accuracy del KNN con 28 vecinos: 0.6945812807881774\n",
      "Accuracy del KNN con 29 vecinos: 0.6945812807881774\n"
     ]
    }
   ],
   "source": [
    "d = {}\n",
    "for n_ in range(3, 30):\n",
    "    knn = KNeighborsClassifier(n_neighbors=n_)\n",
    "    knn.fit(X_train_minmax, y_train)\n",
    "    y_pred = knn.predict(X_test_minmax)\n",
    "    y_pred_prob = knn.predict_proba(X_test_minmax)\n",
    "    d[n_] = accuracy_score(y_test, y_pred)\n",
    "    print(\"Accuracy del KNN con {0} vecinos: {1}\".format(n_, d[n_]))"
   ]
  },
  {
   "cell_type": "code",
   "execution_count": 75,
   "metadata": {},
   "outputs": [
    {
     "data": {
      "text/plain": [
       "6"
      ]
     },
     "execution_count": 75,
     "metadata": {},
     "output_type": "execute_result"
    }
   ],
   "source": [
    "import operator\n",
    "max(d.items(), key=operator.itemgetter(1))[0]"
   ]
  },
  {
   "cell_type": "markdown",
   "metadata": {},
   "source": [
    "## Comparando KNN con otros modelos\n",
    "\n",
    "**Ventajas de KNN: **\n",
    "\n",
    "- Simple de entender y explicar\n",
    "- El entrenamiento del modelo es rápido\n",
    "-  Puede usarse para clasificación y regresión\n",
    "\n",
    "<img src=\"images/excellent.gif\" width=\"300\">\n",
    "\n",
    "**Desventajas de KNN:**\n",
    "\n",
    "- Debe almacenar todos los datos de entrenamiento\n",
    "- La fase de predicción puede ser lenta cuando n es grande\n",
    "- Sensible a las características irrelevantes\n",
    "- Sensible a la escala de los datos\n",
    "- La precisión (generalmente) no es competitiva con los mejores métodos de aprendizaje supervisado"
   ]
  },
  {
   "cell_type": "markdown",
   "metadata": {},
   "source": [
    "**Referencias:**\n",
    "- https://towardsdatascience.com/machine-learning-classifiers-a5cc4e1b0623\n",
    "- http://nbviewer.jupyter.org/github/albahnsen/PracticalMachineLearningClass/blob/master/notebooks/10-KNN.ipynb\n",
    "- https://towardsdatascience.com/understanding-confusion-matrix-a9ad42dcfd62\n",
    "- https://towardsdatascience.com/accuracy-precision-recall-or-f1-331fb37c5cb9\n",
    "- http://scikit-learn.org/stable/auto_examples/model_selection/plot_confusion_matrix.html#sphx-glr-auto-examples-model-selection-plot-confusion-matrix-py"
   ]
  }
 ],
 "metadata": {
  "kernelspec": {
   "display_name": "Python 3",
   "language": "python",
   "name": "python3"
  },
  "language_info": {
   "codemirror_mode": {
    "name": "ipython",
    "version": 3
   },
   "file_extension": ".py",
   "mimetype": "text/x-python",
   "name": "python",
   "nbconvert_exporter": "python",
   "pygments_lexer": "ipython3",
   "version": "3.6.3"
  },
  "name": "_merged"
 },
 "nbformat": 4,
 "nbformat_minor": 1
}
