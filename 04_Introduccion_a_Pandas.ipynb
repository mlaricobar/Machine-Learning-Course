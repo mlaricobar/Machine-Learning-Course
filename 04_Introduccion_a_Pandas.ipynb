{
 "cells": [
  {
   "cell_type": "markdown",
   "metadata": {},
   "source": [
    "# Pandas\n",
    "\n",
    "[Pandas](http://pandas.pydata.org/) es un paquete de Python que proporciona estructuras de datos similares a los dataframes de R. Pandas depende de Numpy, la librería que añade un potente tipo matricial a Python. Los principales tipos de datos que pueden representarse con pandas son:\n",
    "\n",
    "- Datos tabulares con columnas de tipo heterogéneo con etiquetas en columnas y filas.\n",
    "- Series temporales.\n",
    "\n",
    "Pandas proporciona herramientas que permiten:\n",
    "\n",
    "- Leer y escribir datos en diferentes formatos: CSV, Microsoft Excel, bases SQL y formato HDF5\n",
    "- Seleccionar y filtrar de manera sencilla tablas de datos en función de posición, valor o etiquetas\n",
    "- Fusionar y unir datos\n",
    "- Transformar datos aplicando funciones tanto en global como por ventanas\n",
    "- Manipulación de series temporales\n",
    "- Hacer gráficas\n",
    "\n",
    "En pandas existen tres tipos básicos de objetos todos ellos basados a su vez en Numpy:\n",
    "\n",
    "1. Series (listas, 1D),\n",
    "- DataFrame (tablas, 2D) y\n",
    "- Panels (tablas 3D)."
   ]
  },
  {
   "cell_type": "code",
   "execution_count": 1,
   "metadata": {},
   "outputs": [],
   "source": [
    "import pandas as pd"
   ]
  },
  {
   "cell_type": "code",
   "execution_count": 2,
   "metadata": {},
   "outputs": [
    {
     "name": "stdout",
     "output_type": "stream",
     "text": [
      "0.20.3\n"
     ]
    }
   ],
   "source": [
    "print(pd.__version__)"
   ]
  },
  {
   "cell_type": "code",
   "execution_count": 3,
   "metadata": {
    "scrolled": true
   },
   "outputs": [
    {
     "name": "stdout",
     "output_type": "stream",
     "text": [
      "Help on package pandas:\n",
      "\n",
      "NAME\n",
      "    pandas\n",
      "\n",
      "DESCRIPTION\n",
      "    pandas - a powerful data analysis and manipulation library for Python\n",
      "    =====================================================================\n",
      "    \n",
      "    **pandas** is a Python package providing fast, flexible, and expressive data\n",
      "    structures designed to make working with \"relational\" or \"labeled\" data both\n",
      "    easy and intuitive. It aims to be the fundamental high-level building block for\n",
      "    doing practical, **real world** data analysis in Python. Additionally, it has\n",
      "    the broader goal of becoming **the most powerful and flexible open source data\n",
      "    analysis / manipulation tool available in any language**. It is already well on\n",
      "    its way toward this goal.\n",
      "    \n",
      "    Main Features\n",
      "    -------------\n",
      "    Here are just a few of the things that pandas does well:\n",
      "    \n",
      "      - Easy handling of missing data in floating point as well as non-floating\n",
      "        point data\n",
      "      - Size mutability: columns can be inserted and deleted from DataFrame and\n",
      "        higher dimensional objects\n",
      "      - Automatic and explicit data alignment: objects can  be explicitly aligned\n",
      "        to a set of labels, or the user can simply ignore the labels and let\n",
      "        `Series`, `DataFrame`, etc. automatically align the data for you in\n",
      "        computations\n",
      "      - Powerful, flexible group by functionality to perform split-apply-combine\n",
      "        operations on data sets, for both aggregating and transforming data\n",
      "      - Make it easy to convert ragged, differently-indexed data in other Python\n",
      "        and NumPy data structures into DataFrame objects\n",
      "      - Intelligent label-based slicing, fancy indexing, and subsetting of large\n",
      "        data sets\n",
      "      - Intuitive merging and joining data sets\n",
      "      - Flexible reshaping and pivoting of data sets\n",
      "      - Hierarchical labeling of axes (possible to have multiple labels per tick)\n",
      "      - Robust IO tools for loading data from flat files (CSV and delimited),\n",
      "        Excel files, databases, and saving/loading data from the ultrafast HDF5\n",
      "        format\n",
      "      - Time series-specific functionality: date range generation and frequency\n",
      "        conversion, moving window statistics, moving window linear regressions,\n",
      "        date shifting and lagging, etc.\n",
      "\n",
      "PACKAGE CONTENTS\n",
      "    _libs (package)\n",
      "    _version\n",
      "    api (package)\n",
      "    compat (package)\n",
      "    computation (package)\n",
      "    conftest\n",
      "    core (package)\n",
      "    errors (package)\n",
      "    formats (package)\n",
      "    io (package)\n",
      "    json\n",
      "    lib\n",
      "    parser\n",
      "    plotting (package)\n",
      "    stats (package)\n",
      "    testing\n",
      "    tests (package)\n",
      "    tools (package)\n",
      "    tseries (package)\n",
      "    tslib\n",
      "    types (package)\n",
      "    util (package)\n",
      "\n",
      "SUBMODULES\n",
      "    _hashtable\n",
      "    _lib\n",
      "    _tslib\n",
      "    offsets\n",
      "\n",
      "DATA\n",
      "    IndexSlice = <pandas.core.indexing._IndexSlice object>\n",
      "    NaT = NaT\n",
      "    __docformat__ = 'restructuredtext'\n",
      "    datetools = <module 'pandas.core.datetools' from 'C:\\\\Users\\...\\lib\\\\s...\n",
      "    describe_option = <pandas.core.config.CallableDynamicDoc object>\n",
      "    get_option = <pandas.core.config.CallableDynamicDoc object>\n",
      "    json = <module 'pandas.json' from 'C:\\\\Users\\\\S73984\\\\A...\\anaconda3\\\\...\n",
      "    lib = <module 'pandas.lib' from 'C:\\\\Users\\\\S73984\\\\Ap...\\\\anaconda3\\\\...\n",
      "    options = <pandas.core.config.DictWrapper object>\n",
      "    parser = <module 'pandas.parser' from 'C:\\\\Users\\\\S73984\\...naconda3\\\\...\n",
      "    plot_params = {'xaxis.compat': False}\n",
      "    reset_option = <pandas.core.config.CallableDynamicDoc object>\n",
      "    set_option = <pandas.core.config.CallableDynamicDoc object>\n",
      "    tslib = <module 'pandas.tslib' from 'C:\\\\Users\\\\S73984\\\\...anaconda3\\\\...\n",
      "\n",
      "VERSION\n",
      "    0.20.3\n",
      "\n",
      "FILE\n",
      "    c:\\users\\s73984\\appdata\\local\\continuum\\anaconda3\\lib\\site-packages\\pandas\\__init__.py\n",
      "\n",
      "\n"
     ]
    }
   ],
   "source": [
    "help(pd)"
   ]
  },
  {
   "cell_type": "markdown",
   "metadata": {},
   "source": [
    "# 1. Series\n",
    "\n",
    "Una serie (o *Series*) de Pandas es un arreglo unidimensional de datos indexados. Puede ser creado desde una lista o arreglo como sigue:"
   ]
  },
  {
   "cell_type": "code",
   "execution_count": 4,
   "metadata": {},
   "outputs": [
    {
     "name": "stdout",
     "output_type": "stream",
     "text": [
      "[0.25, 0.5, 0.75, 1]\n"
     ]
    }
   ],
   "source": [
    "print([0.25,0.5,0.75,1])"
   ]
  },
  {
   "cell_type": "code",
   "execution_count": 5,
   "metadata": {},
   "outputs": [
    {
     "data": {
      "text/plain": [
       "0    0.25\n",
       "1    0.50\n",
       "2    0.75\n",
       "3    1.00\n",
       "dtype: float64"
      ]
     },
     "execution_count": 5,
     "metadata": {},
     "output_type": "execute_result"
    }
   ],
   "source": [
    "# Similar a un array de 1d, sólo que con índices\n",
    "data = pd.Series([0.25,0.5,0.75,1])\n",
    "data"
   ]
  },
  {
   "cell_type": "markdown",
   "metadata": {},
   "source": [
    "Como vemos en el resultado de la celda anterior, la Serie contiene una secuencia de valores y una secuencia de índices, a las cuales podemos acceder con los atributos `values` y `index`. Los valores son simplemente un arreglo de NumPy:"
   ]
  },
  {
   "cell_type": "code",
   "execution_count": 6,
   "metadata": {},
   "outputs": [
    {
     "data": {
      "text/plain": [
       "array([ 0.25,  0.5 ,  0.75,  1.  ])"
      ]
     },
     "execution_count": 6,
     "metadata": {},
     "output_type": "execute_result"
    }
   ],
   "source": [
    "data.values"
   ]
  },
  {
   "cell_type": "markdown",
   "metadata": {},
   "source": [
    "El índice es un objeto tipo arreglo."
   ]
  },
  {
   "cell_type": "code",
   "execution_count": 7,
   "metadata": {},
   "outputs": [
    {
     "data": {
      "text/plain": [
       "RangeIndex(start=0, stop=4, step=1)"
      ]
     },
     "execution_count": 7,
     "metadata": {},
     "output_type": "execute_result"
    }
   ],
   "source": [
    "data.index"
   ]
  },
  {
   "cell_type": "markdown",
   "metadata": {},
   "source": [
    "Al igual que con un arreglo NumPy, los datos pueden ser accedidos por el índice asociado, haciendo uso de los corchetes:"
   ]
  },
  {
   "cell_type": "code",
   "execution_count": 8,
   "metadata": {},
   "outputs": [
    {
     "data": {
      "text/plain": [
       "1.0"
      ]
     },
     "execution_count": 8,
     "metadata": {},
     "output_type": "execute_result"
    }
   ],
   "source": [
    "data[3]"
   ]
  },
  {
   "cell_type": "markdown",
   "metadata": {},
   "source": [
    "### Series como un arreglo de NumPy"
   ]
  },
  {
   "cell_type": "markdown",
   "metadata": {},
   "source": [
    "De lo que hemos visto hasta ahora, puede parecer que el objeto `Series` es básicamente igual que un arreglo unidimensional NumPy. **La diferencia esencial es la presencia del índice**: mientras que el arreglo NumPy tiene un índice entero implícitamente definido, usado para acceder a los valores, la serie Pandas tiene un índice explícitamente definido con valores."
   ]
  },
  {
   "cell_type": "code",
   "execution_count": 13,
   "metadata": {},
   "outputs": [
    {
     "data": {
      "text/plain": [
       "[0.25, 0.5, 0.75, 1]"
      ]
     },
     "execution_count": 13,
     "metadata": {},
     "output_type": "execute_result"
    }
   ],
   "source": [
    "x = [0.25,0.5,0.75,1]\n",
    "x"
   ]
  },
  {
   "cell_type": "code",
   "execution_count": 14,
   "metadata": {},
   "outputs": [
    {
     "data": {
      "text/plain": [
       "machine          0.25\n",
       "learning         0.50\n",
       "2018-07-21       0.75\n",
       "Primera Clase    1.00\n",
       "dtype: float64"
      ]
     },
     "execution_count": 14,
     "metadata": {},
     "output_type": "execute_result"
    }
   ],
   "source": [
    "data = pd.Series(x, index = ['machine','learning','2018-07-21','Primera Clase'])\n",
    "data"
   ]
  },
  {
   "cell_type": "markdown",
   "metadata": {},
   "source": [
    "Y el acceso a los valores funciona como es esperado:"
   ]
  },
  {
   "cell_type": "code",
   "execution_count": 15,
   "metadata": {},
   "outputs": [
    {
     "data": {
      "text/plain": [
       "0.25"
      ]
     },
     "execution_count": 15,
     "metadata": {},
     "output_type": "execute_result"
    }
   ],
   "source": [
    "# leer un valor\n",
    "data['machine']"
   ]
  },
  {
   "cell_type": "code",
   "execution_count": 16,
   "metadata": {},
   "outputs": [
    {
     "data": {
      "text/plain": [
       "machine           0.25\n",
       "learning          0.50\n",
       "2018-07-21        0.75\n",
       "Primera Clase     1.00\n",
       "Fin de Clase     18.00\n",
       "dtype: float64"
      ]
     },
     "execution_count": 16,
     "metadata": {},
     "output_type": "execute_result"
    }
   ],
   "source": [
    "# Asignar un nuevo valor\n",
    "data['Fin de Clase'] = 18\n",
    "data"
   ]
  },
  {
   "cell_type": "code",
   "execution_count": 18,
   "metadata": {},
   "outputs": [
    {
     "data": {
      "text/plain": [
       "machine          0.25\n",
       "learning         0.50\n",
       "2018-07-21       0.75\n",
       "Primera Clase    1.00\n",
       "Fin de Clase     2.00\n",
       "dtype: float64"
      ]
     },
     "execution_count": 18,
     "metadata": {},
     "output_type": "execute_result"
    }
   ],
   "source": [
    "# Actualizar un nuevo valor\n",
    "data['Fin de Clase'] = 2\n",
    "data"
   ]
  },
  {
   "cell_type": "markdown",
   "metadata": {
    "collapsed": true
   },
   "source": [
    "### Series como diccionario especializado"
   ]
  },
  {
   "cell_type": "markdown",
   "metadata": {},
   "source": [
    "De esta manera, se puede pensar en una `Serie` Pandas un como un diccionario especializado. \n",
    "\n",
    "Un diccionario es una estructura que mapea llaves arbitrarias a un conjunto de valores arbitrarios, y una serie es una estructura que mapea llaves de un mismo tipo a un conjunto de valores de un mismo tipo. Este tipado (la exigencia de un tipo definido de dato) es importante: la información del tipo de datos de una serie Pandas la hace mucho más eficiente que los diccionarios Python para ciertas operaciones."
   ]
  },
  {
   "cell_type": "code",
   "execution_count": 28,
   "metadata": {},
   "outputs": [
    {
     "data": {
      "text/plain": [
       "Argentina    3\n",
       "Brasil       5\n",
       "Chile        0\n",
       "Colombia     5\n",
       "Perú         2\n",
       "Uruguay      5\n",
       "dtype: int64"
      ]
     },
     "execution_count": 28,
     "metadata": {},
     "output_type": "execute_result"
    }
   ],
   "source": [
    "goles_favor_dict = {'Perú': 2, \n",
    "         'Brasil': 5, \n",
    "         'Colombia': 5, \n",
    "         'Argentina': 3, \n",
    "         'Uruguay': 5, \n",
    "         'Chile': 0}\n",
    "\n",
    "goles_favor = pd.Series(goles_favor_dict)\n",
    "goles_favor"
   ]
  },
  {
   "cell_type": "code",
   "execution_count": 30,
   "metadata": {},
   "outputs": [
    {
     "data": {
      "text/plain": [
       "Uruguay      5\n",
       "Colombia     5\n",
       "Brasil       5\n",
       "Argentina    3\n",
       "Perú         2\n",
       "Chile        0\n",
       "dtype: int64"
      ]
     },
     "execution_count": 30,
     "metadata": {},
     "output_type": "execute_result"
    }
   ],
   "source": [
    "goles_favor.sort_values(ascending=False)"
   ]
  },
  {
   "cell_type": "markdown",
   "metadata": {},
   "source": [
    "Puedes notar que los índices han sido ordenados. Ese es el comportamiento por defecto de Pandas."
   ]
  },
  {
   "cell_type": "code",
   "execution_count": 31,
   "metadata": {},
   "outputs": [
    {
     "data": {
      "text/plain": [
       "2"
      ]
     },
     "execution_count": 31,
     "metadata": {},
     "output_type": "execute_result"
    }
   ],
   "source": [
    "goles_favor[\"Perú\"]"
   ]
  },
  {
   "cell_type": "markdown",
   "metadata": {},
   "source": [
    "A diferencia de los diccionarios, las `Series` pueden soportar operaciones del tipo array tal como el **slicing**:"
   ]
  },
  {
   "cell_type": "code",
   "execution_count": 32,
   "metadata": {},
   "outputs": [
    {
     "data": {
      "text/plain": [
       "Brasil      5\n",
       "Chile       0\n",
       "Colombia    5\n",
       "dtype: int64"
      ]
     },
     "execution_count": 32,
     "metadata": {},
     "output_type": "execute_result"
    }
   ],
   "source": [
    "goles_favor[\"Brasil\": \"Colombia\"]"
   ]
  },
  {
   "cell_type": "markdown",
   "metadata": {},
   "source": [
    "# 2. DataFrame\n",
    "\n",
    "La siguiente estructura fundamental en Pandas es el **`DataFrame`**. Tal como el objeto `Series` discutido en la sección anterior, el `DataFrame` puede pensarse ya sea como una generalización de un arreglo NumPy, o como una especialización de un diccionario. Lo miraremos desde ambas perspectivas."
   ]
  },
  {
   "cell_type": "code",
   "execution_count": 33,
   "metadata": {},
   "outputs": [
    {
     "data": {
      "text/html": [
       "<div>\n",
       "<style>\n",
       "    .dataframe thead tr:only-child th {\n",
       "        text-align: right;\n",
       "    }\n",
       "\n",
       "    .dataframe thead th {\n",
       "        text-align: left;\n",
       "    }\n",
       "\n",
       "    .dataframe tbody tr th {\n",
       "        vertical-align: top;\n",
       "    }\n",
       "</style>\n",
       "<table border=\"1\" class=\"dataframe\">\n",
       "  <thead>\n",
       "    <tr style=\"text-align: right;\">\n",
       "      <th></th>\n",
       "    </tr>\n",
       "  </thead>\n",
       "  <tbody>\n",
       "  </tbody>\n",
       "</table>\n",
       "</div>"
      ],
      "text/plain": [
       "Empty DataFrame\n",
       "Columns: []\n",
       "Index: []"
      ]
     },
     "execution_count": 33,
     "metadata": {},
     "output_type": "execute_result"
    }
   ],
   "source": [
    "df = pd.DataFrame()\n",
    "df"
   ]
  },
  {
   "cell_type": "code",
   "execution_count": 34,
   "metadata": {},
   "outputs": [
    {
     "data": {
      "text/html": [
       "<div>\n",
       "<style>\n",
       "    .dataframe thead tr:only-child th {\n",
       "        text-align: right;\n",
       "    }\n",
       "\n",
       "    .dataframe thead th {\n",
       "        text-align: left;\n",
       "    }\n",
       "\n",
       "    .dataframe tbody tr th {\n",
       "        vertical-align: top;\n",
       "    }\n",
       "</style>\n",
       "<table border=\"1\" class=\"dataframe\">\n",
       "  <thead>\n",
       "    <tr style=\"text-align: right;\">\n",
       "      <th></th>\n",
       "      <th>col_1</th>\n",
       "      <th>col_2</th>\n",
       "      <th>col_3</th>\n",
       "    </tr>\n",
       "  </thead>\n",
       "  <tbody>\n",
       "    <tr>\n",
       "      <th>0</th>\n",
       "      <td>1</td>\n",
       "      <td>2</td>\n",
       "      <td>3</td>\n",
       "    </tr>\n",
       "    <tr>\n",
       "      <th>1</th>\n",
       "      <td>5</td>\n",
       "      <td>6</td>\n",
       "      <td>7</td>\n",
       "    </tr>\n",
       "  </tbody>\n",
       "</table>\n",
       "</div>"
      ],
      "text/plain": [
       "   col_1  col_2  col_3\n",
       "0      1      2      3\n",
       "1      5      6      7"
      ]
     },
     "execution_count": 34,
     "metadata": {},
     "output_type": "execute_result"
    }
   ],
   "source": [
    "df = pd.DataFrame([ [1,2,3],[5,6,7] ], columns = [\"col_1\", \"col_2\",\"col_3\"])\n",
    "df"
   ]
  },
  {
   "cell_type": "code",
   "execution_count": 35,
   "metadata": {},
   "outputs": [
    {
     "data": {
      "text/html": [
       "<div>\n",
       "<style>\n",
       "    .dataframe thead tr:only-child th {\n",
       "        text-align: right;\n",
       "    }\n",
       "\n",
       "    .dataframe thead th {\n",
       "        text-align: left;\n",
       "    }\n",
       "\n",
       "    .dataframe tbody tr th {\n",
       "        vertical-align: top;\n",
       "    }\n",
       "</style>\n",
       "<table border=\"1\" class=\"dataframe\">\n",
       "  <thead>\n",
       "    <tr style=\"text-align: right;\">\n",
       "      <th></th>\n",
       "      <th>0</th>\n",
       "      <th>1</th>\n",
       "      <th>2</th>\n",
       "    </tr>\n",
       "  </thead>\n",
       "  <tbody>\n",
       "    <tr>\n",
       "      <th>0</th>\n",
       "      <td>1</td>\n",
       "      <td>2</td>\n",
       "      <td>3</td>\n",
       "    </tr>\n",
       "    <tr>\n",
       "      <th>1</th>\n",
       "      <td>5</td>\n",
       "      <td>6</td>\n",
       "      <td>7</td>\n",
       "    </tr>\n",
       "  </tbody>\n",
       "</table>\n",
       "</div>"
      ],
      "text/plain": [
       "   0  1  2\n",
       "0  1  2  3\n",
       "1  5  6  7"
      ]
     },
     "execution_count": 35,
     "metadata": {},
     "output_type": "execute_result"
    }
   ],
   "source": [
    "pd.DataFrame([ [1,2,3],[5,6,7] ])"
   ]
  },
  {
   "cell_type": "markdown",
   "metadata": {},
   "source": [
    "### DataFrame como un arreglo NumPy generalizado\n",
    "\n",
    "Si una `Serie` es el análogo de un arreglo unidimensional con índices flexibles, un `DataFrame` es el análogo de un arreglo bidimensional con índices de fila y nombres de columna flexibles."
   ]
  },
  {
   "cell_type": "code",
   "execution_count": 36,
   "metadata": {},
   "outputs": [
    {
     "data": {
      "text/plain": [
       "Argentina    5\n",
       "Brasil       1\n",
       "Chile        0\n",
       "Colombia     2\n",
       "Perú         2\n",
       "Uruguay      0\n",
       "dtype: int64"
      ]
     },
     "execution_count": 36,
     "metadata": {},
     "output_type": "execute_result"
    }
   ],
   "source": [
    "# Goles en contra\n",
    "goles_contra_dict = {'Perú': 2, \n",
    "         'Brasil': 1, \n",
    "         'Colombia': 2, \n",
    "         'Argentina': 5, \n",
    "         'Uruguay': 0, \n",
    "         'Chile': 0}\n",
    "\n",
    "goles_contra = pd.Series(goles_contra_dict)\n",
    "goles_contra"
   ]
  },
  {
   "cell_type": "markdown",
   "metadata": {},
   "source": [
    "Ahora con estas 2 series podemos utilizar un diccionario para construir un único objeto bidimensional que contenga esta información:"
   ]
  },
  {
   "cell_type": "code",
   "execution_count": 37,
   "metadata": {},
   "outputs": [
    {
     "data": {
      "text/html": [
       "<div>\n",
       "<style>\n",
       "    .dataframe thead tr:only-child th {\n",
       "        text-align: right;\n",
       "    }\n",
       "\n",
       "    .dataframe thead th {\n",
       "        text-align: left;\n",
       "    }\n",
       "\n",
       "    .dataframe tbody tr th {\n",
       "        vertical-align: top;\n",
       "    }\n",
       "</style>\n",
       "<table border=\"1\" class=\"dataframe\">\n",
       "  <thead>\n",
       "    <tr style=\"text-align: right;\">\n",
       "      <th></th>\n",
       "      <th>goles_a_favor</th>\n",
       "      <th>goles_en_contra</th>\n",
       "    </tr>\n",
       "  </thead>\n",
       "  <tbody>\n",
       "    <tr>\n",
       "      <th>Argentina</th>\n",
       "      <td>3</td>\n",
       "      <td>5</td>\n",
       "    </tr>\n",
       "    <tr>\n",
       "      <th>Brasil</th>\n",
       "      <td>5</td>\n",
       "      <td>1</td>\n",
       "    </tr>\n",
       "    <tr>\n",
       "      <th>Chile</th>\n",
       "      <td>0</td>\n",
       "      <td>0</td>\n",
       "    </tr>\n",
       "    <tr>\n",
       "      <th>Colombia</th>\n",
       "      <td>5</td>\n",
       "      <td>2</td>\n",
       "    </tr>\n",
       "    <tr>\n",
       "      <th>Perú</th>\n",
       "      <td>2</td>\n",
       "      <td>2</td>\n",
       "    </tr>\n",
       "    <tr>\n",
       "      <th>Uruguay</th>\n",
       "      <td>5</td>\n",
       "      <td>0</td>\n",
       "    </tr>\n",
       "  </tbody>\n",
       "</table>\n",
       "</div>"
      ],
      "text/plain": [
       "           goles_a_favor  goles_en_contra\n",
       "Argentina              3                5\n",
       "Brasil                 5                1\n",
       "Chile                  0                0\n",
       "Colombia               5                2\n",
       "Perú                   2                2\n",
       "Uruguay                5                0"
      ]
     },
     "execution_count": 37,
     "metadata": {},
     "output_type": "execute_result"
    }
   ],
   "source": [
    "dfGoles = pd.DataFrame({'goles_a_favor': goles_favor,\n",
    "                       'goles_en_contra': goles_contra})\n",
    "dfGoles"
   ]
  },
  {
   "cell_type": "code",
   "execution_count": 38,
   "metadata": {},
   "outputs": [],
   "source": [
    "dfGoles['diferencia_goles'] = dfGoles['goles_a_favor'] - dfGoles['goles_en_contra']"
   ]
  },
  {
   "cell_type": "code",
   "execution_count": 39,
   "metadata": {},
   "outputs": [
    {
     "data": {
      "text/html": [
       "<div>\n",
       "<style>\n",
       "    .dataframe thead tr:only-child th {\n",
       "        text-align: right;\n",
       "    }\n",
       "\n",
       "    .dataframe thead th {\n",
       "        text-align: left;\n",
       "    }\n",
       "\n",
       "    .dataframe tbody tr th {\n",
       "        vertical-align: top;\n",
       "    }\n",
       "</style>\n",
       "<table border=\"1\" class=\"dataframe\">\n",
       "  <thead>\n",
       "    <tr style=\"text-align: right;\">\n",
       "      <th></th>\n",
       "      <th>goles_a_favor</th>\n",
       "      <th>goles_en_contra</th>\n",
       "      <th>diferencia_goles</th>\n",
       "    </tr>\n",
       "  </thead>\n",
       "  <tbody>\n",
       "    <tr>\n",
       "      <th>Argentina</th>\n",
       "      <td>3</td>\n",
       "      <td>5</td>\n",
       "      <td>-2</td>\n",
       "    </tr>\n",
       "    <tr>\n",
       "      <th>Brasil</th>\n",
       "      <td>5</td>\n",
       "      <td>1</td>\n",
       "      <td>4</td>\n",
       "    </tr>\n",
       "    <tr>\n",
       "      <th>Chile</th>\n",
       "      <td>0</td>\n",
       "      <td>0</td>\n",
       "      <td>0</td>\n",
       "    </tr>\n",
       "    <tr>\n",
       "      <th>Colombia</th>\n",
       "      <td>5</td>\n",
       "      <td>2</td>\n",
       "      <td>3</td>\n",
       "    </tr>\n",
       "    <tr>\n",
       "      <th>Perú</th>\n",
       "      <td>2</td>\n",
       "      <td>2</td>\n",
       "      <td>0</td>\n",
       "    </tr>\n",
       "    <tr>\n",
       "      <th>Uruguay</th>\n",
       "      <td>5</td>\n",
       "      <td>0</td>\n",
       "      <td>5</td>\n",
       "    </tr>\n",
       "  </tbody>\n",
       "</table>\n",
       "</div>"
      ],
      "text/plain": [
       "           goles_a_favor  goles_en_contra  diferencia_goles\n",
       "Argentina              3                5                -2\n",
       "Brasil                 5                1                 4\n",
       "Chile                  0                0                 0\n",
       "Colombia               5                2                 3\n",
       "Perú                   2                2                 0\n",
       "Uruguay                5                0                 5"
      ]
     },
     "execution_count": 39,
     "metadata": {},
     "output_type": "execute_result"
    }
   ],
   "source": [
    "dfGoles"
   ]
  },
  {
   "cell_type": "code",
   "execution_count": 40,
   "metadata": {},
   "outputs": [
    {
     "data": {
      "text/plain": [
       "Argentina   -2\n",
       "Brasil       4\n",
       "Chile        0\n",
       "Colombia     3\n",
       "Perú         0\n",
       "Uruguay      5\n",
       "Name: diferencia_goles, dtype: int64"
      ]
     },
     "execution_count": 40,
     "metadata": {},
     "output_type": "execute_result"
    }
   ],
   "source": [
    "# Ver sólo la diferencia de goles\n",
    "dfGoles[\"diferencia_goles\"]"
   ]
  },
  {
   "cell_type": "code",
   "execution_count": 41,
   "metadata": {},
   "outputs": [
    {
     "data": {
      "text/plain": [
       "0"
      ]
     },
     "execution_count": 41,
     "metadata": {},
     "output_type": "execute_result"
    }
   ],
   "source": [
    "# Ver la diferencia de goles de Perú\n",
    "dfGoles[\"diferencia_goles\"][\"Perú\"]"
   ]
  },
  {
   "cell_type": "code",
   "execution_count": 42,
   "metadata": {},
   "outputs": [
    {
     "data": {
      "text/plain": [
       "Index(['Argentina', 'Brasil', 'Chile', 'Colombia', 'Perú', 'Uruguay'], dtype='object')"
      ]
     },
     "execution_count": 42,
     "metadata": {},
     "output_type": "execute_result"
    }
   ],
   "source": [
    "# Índices\n",
    "dfGoles.index"
   ]
  },
  {
   "cell_type": "code",
   "execution_count": 43,
   "metadata": {},
   "outputs": [
    {
     "data": {
      "text/plain": [
       "Index(['goles_a_favor', 'goles_en_contra', 'diferencia_goles'], dtype='object')"
      ]
     },
     "execution_count": 43,
     "metadata": {},
     "output_type": "execute_result"
    }
   ],
   "source": [
    "# Columnas\n",
    "dfGoles.columns"
   ]
  },
  {
   "cell_type": "markdown",
   "metadata": {},
   "source": [
    "### DataFrame como diccionario especializado\n",
    "\n",
    "De igual manera, podemos pensar en el `DataFrame` como la especialización de un diccionario. Tal como un diccionario asocia una llave a un valor, un `DataFrame` asocia un nombre de columna a una serie de datos. \n",
    "\n",
    "Por ejemplo, preguntar por el atributo **goles_a_favor** retorna el objeto `Serie` conteniendo las goles a favor que vimos antes:"
   ]
  },
  {
   "cell_type": "code",
   "execution_count": 44,
   "metadata": {},
   "outputs": [
    {
     "data": {
      "text/plain": [
       "Argentina    3\n",
       "Brasil       5\n",
       "Chile        0\n",
       "Colombia     5\n",
       "Perú         2\n",
       "Uruguay      5\n",
       "Name: goles_a_favor, dtype: int64"
      ]
     },
     "execution_count": 44,
     "metadata": {},
     "output_type": "execute_result"
    }
   ],
   "source": [
    "dfGoles[\"goles_a_favor\"]"
   ]
  },
  {
   "cell_type": "code",
   "execution_count": 45,
   "metadata": {},
   "outputs": [
    {
     "data": {
      "text/plain": [
       "Argentina    5\n",
       "Brasil       1\n",
       "Chile        0\n",
       "Colombia     2\n",
       "Perú         2\n",
       "Uruguay      0\n",
       "Name: goles_en_contra, dtype: int64"
      ]
     },
     "execution_count": 45,
     "metadata": {},
     "output_type": "execute_result"
    }
   ],
   "source": [
    "dfGoles[\"goles_en_contra\"]"
   ]
  },
  {
   "cell_type": "markdown",
   "metadata": {},
   "source": [
    "### Construyendo objetos `DataFrame`\n",
    "Un `DataFrame` Pandas puede ser construido de una variedad de formas. Veremos algunos ejemplos."
   ]
  },
  {
   "cell_type": "markdown",
   "metadata": {},
   "source": [
    "### Desde un único objeto `Series`\n",
    "Un `DataFrame` es una colección de objetos `Series`, y un `DataFrame` de una sóla columna puede ser construido de una serie individual:"
   ]
  },
  {
   "cell_type": "code",
   "execution_count": 51,
   "metadata": {
    "scrolled": true
   },
   "outputs": [],
   "source": [
    "df = pd.DataFrame(data=goles_favor, columns=['goles_a_favor'], dtype=int)"
   ]
  },
  {
   "cell_type": "code",
   "execution_count": 52,
   "metadata": {},
   "outputs": [
    {
     "name": "stdout",
     "output_type": "stream",
     "text": [
      "<class 'pandas.core.frame.DataFrame'>\n",
      "Index: 6 entries, Argentina to Uruguay\n",
      "Data columns (total 1 columns):\n",
      "goles_a_favor    6 non-null int32\n",
      "dtypes: int32(1)\n",
      "memory usage: 232.0+ bytes\n"
     ]
    }
   ],
   "source": [
    "df.info()"
   ]
  },
  {
   "cell_type": "code",
   "execution_count": 53,
   "metadata": {},
   "outputs": [
    {
     "data": {
      "text/html": [
       "<div>\n",
       "<style>\n",
       "    .dataframe thead tr:only-child th {\n",
       "        text-align: right;\n",
       "    }\n",
       "\n",
       "    .dataframe thead th {\n",
       "        text-align: left;\n",
       "    }\n",
       "\n",
       "    .dataframe tbody tr th {\n",
       "        vertical-align: top;\n",
       "    }\n",
       "</style>\n",
       "<table border=\"1\" class=\"dataframe\">\n",
       "  <thead>\n",
       "    <tr style=\"text-align: right;\">\n",
       "      <th></th>\n",
       "      <th>goles_en_contra</th>\n",
       "    </tr>\n",
       "  </thead>\n",
       "  <tbody>\n",
       "    <tr>\n",
       "      <th>Argentina</th>\n",
       "      <td>5</td>\n",
       "    </tr>\n",
       "    <tr>\n",
       "      <th>Brasil</th>\n",
       "      <td>1</td>\n",
       "    </tr>\n",
       "    <tr>\n",
       "      <th>Chile</th>\n",
       "      <td>0</td>\n",
       "    </tr>\n",
       "    <tr>\n",
       "      <th>Colombia</th>\n",
       "      <td>2</td>\n",
       "    </tr>\n",
       "    <tr>\n",
       "      <th>Perú</th>\n",
       "      <td>2</td>\n",
       "    </tr>\n",
       "    <tr>\n",
       "      <th>Uruguay</th>\n",
       "      <td>0</td>\n",
       "    </tr>\n",
       "  </tbody>\n",
       "</table>\n",
       "</div>"
      ],
      "text/plain": [
       "          goles_en_contra\n",
       "Argentina               5\n",
       "Brasil                  1\n",
       "Chile                   0\n",
       "Colombia                2\n",
       "Perú                    2\n",
       "Uruguay                 0"
      ]
     },
     "execution_count": 53,
     "metadata": {},
     "output_type": "execute_result"
    }
   ],
   "source": [
    "pd.DataFrame(data=goles_contra, columns=['goles_en_contra'], dtype=str)"
   ]
  },
  {
   "cell_type": "markdown",
   "metadata": {},
   "source": [
    "### Desde un diccionario de objetos `Series`\n",
    "Como vimos antes, un `DataFrame` puede ser construido a partir de un diccionario de objetos `Series` también:"
   ]
  },
  {
   "cell_type": "code",
   "execution_count": 54,
   "metadata": {},
   "outputs": [
    {
     "data": {
      "text/html": [
       "<div>\n",
       "<style>\n",
       "    .dataframe thead tr:only-child th {\n",
       "        text-align: right;\n",
       "    }\n",
       "\n",
       "    .dataframe thead th {\n",
       "        text-align: left;\n",
       "    }\n",
       "\n",
       "    .dataframe tbody tr th {\n",
       "        vertical-align: top;\n",
       "    }\n",
       "</style>\n",
       "<table border=\"1\" class=\"dataframe\">\n",
       "  <thead>\n",
       "    <tr style=\"text-align: right;\">\n",
       "      <th></th>\n",
       "      <th>goles_a_favor</th>\n",
       "      <th>goles_en_contra</th>\n",
       "    </tr>\n",
       "  </thead>\n",
       "  <tbody>\n",
       "    <tr>\n",
       "      <th>Argentina</th>\n",
       "      <td>3</td>\n",
       "      <td>5</td>\n",
       "    </tr>\n",
       "    <tr>\n",
       "      <th>Brasil</th>\n",
       "      <td>5</td>\n",
       "      <td>1</td>\n",
       "    </tr>\n",
       "    <tr>\n",
       "      <th>Chile</th>\n",
       "      <td>0</td>\n",
       "      <td>0</td>\n",
       "    </tr>\n",
       "    <tr>\n",
       "      <th>Colombia</th>\n",
       "      <td>5</td>\n",
       "      <td>2</td>\n",
       "    </tr>\n",
       "    <tr>\n",
       "      <th>Perú</th>\n",
       "      <td>2</td>\n",
       "      <td>2</td>\n",
       "    </tr>\n",
       "    <tr>\n",
       "      <th>Uruguay</th>\n",
       "      <td>5</td>\n",
       "      <td>0</td>\n",
       "    </tr>\n",
       "  </tbody>\n",
       "</table>\n",
       "</div>"
      ],
      "text/plain": [
       "           goles_a_favor  goles_en_contra\n",
       "Argentina              3                5\n",
       "Brasil                 5                1\n",
       "Chile                  0                0\n",
       "Colombia               5                2\n",
       "Perú                   2                2\n",
       "Uruguay                5                0"
      ]
     },
     "execution_count": 54,
     "metadata": {},
     "output_type": "execute_result"
    }
   ],
   "source": [
    "pd.DataFrame(data={'goles_a_favor': goles_favor,\n",
    "              'goles_en_contra': goles_contra}\n",
    "            )"
   ]
  },
  {
   "cell_type": "markdown",
   "metadata": {},
   "source": [
    "## 3. Leyendo un archivo CSV y haciendo operaciones comunes con Pandas"
   ]
  },
  {
   "cell_type": "markdown",
   "metadata": {},
   "source": [
    "Definimos la ruta donde se encuentra el archivo .csv que queremos explorar."
   ]
  },
  {
   "cell_type": "code",
   "execution_count": 55,
   "metadata": {},
   "outputs": [],
   "source": [
    "clientes_path=\"data/clientes_sociodemografica.csv\"\n",
    "transacciones_path=\"data/transacciones.csv\""
   ]
  },
  {
   "cell_type": "code",
   "execution_count": 60,
   "metadata": {
    "scrolled": true
   },
   "outputs": [],
   "source": [
    "dfClientes=pd.read_csv(clientes_path, header=0, sep=',', encoding='latin1', dtype={\"CODIGOCLIENTE\":str})\n",
    "dfTransacciones=pd.read_csv(transacciones_path, header=0, sep=',', encoding='latin1', dtype={\"CODIGOCLIENTE\":str})"
   ]
  },
  {
   "cell_type": "markdown",
   "metadata": {},
   "source": [
    "Podemos ver una muestra de un DataFrame con el método `.head()`"
   ]
  },
  {
   "cell_type": "code",
   "execution_count": 61,
   "metadata": {
    "scrolled": true
   },
   "outputs": [
    {
     "data": {
      "text/html": [
       "<div>\n",
       "<style>\n",
       "    .dataframe thead tr:only-child th {\n",
       "        text-align: right;\n",
       "    }\n",
       "\n",
       "    .dataframe thead th {\n",
       "        text-align: left;\n",
       "    }\n",
       "\n",
       "    .dataframe tbody tr th {\n",
       "        vertical-align: top;\n",
       "    }\n",
       "</style>\n",
       "<table border=\"1\" class=\"dataframe\">\n",
       "  <thead>\n",
       "    <tr style=\"text-align: right;\">\n",
       "      <th></th>\n",
       "      <th>MES</th>\n",
       "      <th>CODIGOCLIENTE</th>\n",
       "      <th>DISTRITO</th>\n",
       "      <th>EDAD</th>\n",
       "      <th>DEPARTAMENTO</th>\n",
       "      <th>FLG_CELULAR</th>\n",
       "      <th>FLG_EMAIL</th>\n",
       "      <th>FLG_PROCEDENCIA</th>\n",
       "      <th>FLG_TELEFONO</th>\n",
       "      <th>RNG_EDAD</th>\n",
       "      <th>RNG_INGRESO_BRUTO</th>\n",
       "      <th>PROVINCIA</th>\n",
       "      <th>PROFESION</th>\n",
       "      <th>SEXO</th>\n",
       "      <th>SITUACION_LABORAL</th>\n",
       "    </tr>\n",
       "  </thead>\n",
       "  <tbody>\n",
       "    <tr>\n",
       "      <th>0</th>\n",
       "      <td>201702</td>\n",
       "      <td>00028227742</td>\n",
       "      <td>MAGDALENA DEL MAR</td>\n",
       "      <td>32</td>\n",
       "      <td>LIMA</td>\n",
       "      <td>1</td>\n",
       "      <td>1</td>\n",
       "      <td>LIMA Y CALLAO</td>\n",
       "      <td>1</td>\n",
       "      <td>3. 28 - 45</td>\n",
       "      <td>4. 4000 - 9999</td>\n",
       "      <td>LIMA</td>\n",
       "      <td>INGENIERO</td>\n",
       "      <td>M</td>\n",
       "      <td>INDEPENDIENTE</td>\n",
       "    </tr>\n",
       "    <tr>\n",
       "      <th>1</th>\n",
       "      <td>201703</td>\n",
       "      <td>00028048344</td>\n",
       "      <td>SANTIAGO</td>\n",
       "      <td>57</td>\n",
       "      <td>CUSCO</td>\n",
       "      <td>1</td>\n",
       "      <td>1</td>\n",
       "      <td>PROVINCIA</td>\n",
       "      <td>1</td>\n",
       "      <td>4. 46 - 65</td>\n",
       "      <td>4. 4000 - 9999</td>\n",
       "      <td>CUSCO</td>\n",
       "      <td>NaN</td>\n",
       "      <td>F</td>\n",
       "      <td>DEPENDIENTE</td>\n",
       "    </tr>\n",
       "    <tr>\n",
       "      <th>2</th>\n",
       "      <td>201703</td>\n",
       "      <td>00013431817</td>\n",
       "      <td>SAMEGUA</td>\n",
       "      <td>31</td>\n",
       "      <td>MOQUEGUA</td>\n",
       "      <td>1</td>\n",
       "      <td>0</td>\n",
       "      <td>PROVINCIA</td>\n",
       "      <td>0</td>\n",
       "      <td>3. 28 - 45</td>\n",
       "      <td>3. 1200 - 3999</td>\n",
       "      <td>MARISCAL NIETO</td>\n",
       "      <td>NaN</td>\n",
       "      <td>F</td>\n",
       "      <td>INDEPENDIENTE</td>\n",
       "    </tr>\n",
       "    <tr>\n",
       "      <th>3</th>\n",
       "      <td>201702</td>\n",
       "      <td>00028250322</td>\n",
       "      <td>SANTIAGO DE SURCO</td>\n",
       "      <td>47</td>\n",
       "      <td>LIMA</td>\n",
       "      <td>1</td>\n",
       "      <td>0</td>\n",
       "      <td>LIMA Y CALLAO</td>\n",
       "      <td>1</td>\n",
       "      <td>4. 46 - 65</td>\n",
       "      <td>3. 1200 - 3999</td>\n",
       "      <td>LIMA</td>\n",
       "      <td>NaN</td>\n",
       "      <td>M</td>\n",
       "      <td>DEPENDIENTE</td>\n",
       "    </tr>\n",
       "    <tr>\n",
       "      <th>4</th>\n",
       "      <td>201703</td>\n",
       "      <td>00025993588</td>\n",
       "      <td>ICA</td>\n",
       "      <td>28</td>\n",
       "      <td>ICA</td>\n",
       "      <td>1</td>\n",
       "      <td>0</td>\n",
       "      <td>PROVINCIA</td>\n",
       "      <td>0</td>\n",
       "      <td>3. 28 - 45</td>\n",
       "      <td>3. 1200 - 3999</td>\n",
       "      <td>ICA</td>\n",
       "      <td>NaN</td>\n",
       "      <td>M</td>\n",
       "      <td>DEPENDIENTE</td>\n",
       "    </tr>\n",
       "  </tbody>\n",
       "</table>\n",
       "</div>"
      ],
      "text/plain": [
       "      MES CODIGOCLIENTE           DISTRITO  EDAD DEPARTAMENTO  FLG_CELULAR  \\\n",
       "0  201702   00028227742  MAGDALENA DEL MAR    32         LIMA            1   \n",
       "1  201703   00028048344           SANTIAGO    57        CUSCO            1   \n",
       "2  201703   00013431817            SAMEGUA    31     MOQUEGUA            1   \n",
       "3  201702   00028250322  SANTIAGO DE SURCO    47         LIMA            1   \n",
       "4  201703   00025993588                ICA    28          ICA            1   \n",
       "\n",
       "   FLG_EMAIL FLG_PROCEDENCIA  FLG_TELEFONO    RNG_EDAD RNG_INGRESO_BRUTO  \\\n",
       "0          1   LIMA Y CALLAO             1  3. 28 - 45    4. 4000 - 9999   \n",
       "1          1       PROVINCIA             1  4. 46 - 65    4. 4000 - 9999   \n",
       "2          0       PROVINCIA             0  3. 28 - 45    3. 1200 - 3999   \n",
       "3          0   LIMA Y CALLAO             1  4. 46 - 65    3. 1200 - 3999   \n",
       "4          0       PROVINCIA             0  3. 28 - 45    3. 1200 - 3999   \n",
       "\n",
       "        PROVINCIA  PROFESION SEXO SITUACION_LABORAL  \n",
       "0            LIMA  INGENIERO    M     INDEPENDIENTE  \n",
       "1           CUSCO        NaN    F       DEPENDIENTE  \n",
       "2  MARISCAL NIETO        NaN    F     INDEPENDIENTE  \n",
       "3            LIMA        NaN    M       DEPENDIENTE  \n",
       "4             ICA        NaN    M       DEPENDIENTE  "
      ]
     },
     "execution_count": 61,
     "metadata": {},
     "output_type": "execute_result"
    }
   ],
   "source": [
    "dfClientes.head()"
   ]
  },
  {
   "cell_type": "code",
   "execution_count": 62,
   "metadata": {},
   "outputs": [
    {
     "data": {
      "text/html": [
       "<div>\n",
       "<style>\n",
       "    .dataframe thead tr:only-child th {\n",
       "        text-align: right;\n",
       "    }\n",
       "\n",
       "    .dataframe thead th {\n",
       "        text-align: left;\n",
       "    }\n",
       "\n",
       "    .dataframe tbody tr th {\n",
       "        vertical-align: top;\n",
       "    }\n",
       "</style>\n",
       "<table border=\"1\" class=\"dataframe\">\n",
       "  <thead>\n",
       "    <tr style=\"text-align: right;\">\n",
       "      <th></th>\n",
       "      <th>0</th>\n",
       "      <th>1</th>\n",
       "      <th>2</th>\n",
       "      <th>3</th>\n",
       "      <th>4</th>\n",
       "    </tr>\n",
       "  </thead>\n",
       "  <tbody>\n",
       "    <tr>\n",
       "      <th>MES</th>\n",
       "      <td>201702</td>\n",
       "      <td>201703</td>\n",
       "      <td>201703</td>\n",
       "      <td>201702</td>\n",
       "      <td>201703</td>\n",
       "    </tr>\n",
       "    <tr>\n",
       "      <th>CODIGOCLIENTE</th>\n",
       "      <td>00028227742</td>\n",
       "      <td>00028048344</td>\n",
       "      <td>00013431817</td>\n",
       "      <td>00028250322</td>\n",
       "      <td>00025993588</td>\n",
       "    </tr>\n",
       "    <tr>\n",
       "      <th>DISTRITO</th>\n",
       "      <td>MAGDALENA DEL MAR</td>\n",
       "      <td>SANTIAGO</td>\n",
       "      <td>SAMEGUA</td>\n",
       "      <td>SANTIAGO DE SURCO</td>\n",
       "      <td>ICA</td>\n",
       "    </tr>\n",
       "    <tr>\n",
       "      <th>EDAD</th>\n",
       "      <td>32</td>\n",
       "      <td>57</td>\n",
       "      <td>31</td>\n",
       "      <td>47</td>\n",
       "      <td>28</td>\n",
       "    </tr>\n",
       "    <tr>\n",
       "      <th>DEPARTAMENTO</th>\n",
       "      <td>LIMA</td>\n",
       "      <td>CUSCO</td>\n",
       "      <td>MOQUEGUA</td>\n",
       "      <td>LIMA</td>\n",
       "      <td>ICA</td>\n",
       "    </tr>\n",
       "    <tr>\n",
       "      <th>FLG_CELULAR</th>\n",
       "      <td>1</td>\n",
       "      <td>1</td>\n",
       "      <td>1</td>\n",
       "      <td>1</td>\n",
       "      <td>1</td>\n",
       "    </tr>\n",
       "    <tr>\n",
       "      <th>FLG_EMAIL</th>\n",
       "      <td>1</td>\n",
       "      <td>1</td>\n",
       "      <td>0</td>\n",
       "      <td>0</td>\n",
       "      <td>0</td>\n",
       "    </tr>\n",
       "    <tr>\n",
       "      <th>FLG_PROCEDENCIA</th>\n",
       "      <td>LIMA Y CALLAO</td>\n",
       "      <td>PROVINCIA</td>\n",
       "      <td>PROVINCIA</td>\n",
       "      <td>LIMA Y CALLAO</td>\n",
       "      <td>PROVINCIA</td>\n",
       "    </tr>\n",
       "    <tr>\n",
       "      <th>FLG_TELEFONO</th>\n",
       "      <td>1</td>\n",
       "      <td>1</td>\n",
       "      <td>0</td>\n",
       "      <td>1</td>\n",
       "      <td>0</td>\n",
       "    </tr>\n",
       "    <tr>\n",
       "      <th>RNG_EDAD</th>\n",
       "      <td>3. 28 - 45</td>\n",
       "      <td>4. 46 - 65</td>\n",
       "      <td>3. 28 - 45</td>\n",
       "      <td>4. 46 - 65</td>\n",
       "      <td>3. 28 - 45</td>\n",
       "    </tr>\n",
       "    <tr>\n",
       "      <th>RNG_INGRESO_BRUTO</th>\n",
       "      <td>4. 4000 - 9999</td>\n",
       "      <td>4. 4000 - 9999</td>\n",
       "      <td>3. 1200 - 3999</td>\n",
       "      <td>3. 1200 - 3999</td>\n",
       "      <td>3. 1200 - 3999</td>\n",
       "    </tr>\n",
       "    <tr>\n",
       "      <th>PROVINCIA</th>\n",
       "      <td>LIMA</td>\n",
       "      <td>CUSCO</td>\n",
       "      <td>MARISCAL NIETO</td>\n",
       "      <td>LIMA</td>\n",
       "      <td>ICA</td>\n",
       "    </tr>\n",
       "    <tr>\n",
       "      <th>PROFESION</th>\n",
       "      <td>INGENIERO</td>\n",
       "      <td>NaN</td>\n",
       "      <td>NaN</td>\n",
       "      <td>NaN</td>\n",
       "      <td>NaN</td>\n",
       "    </tr>\n",
       "    <tr>\n",
       "      <th>SEXO</th>\n",
       "      <td>M</td>\n",
       "      <td>F</td>\n",
       "      <td>F</td>\n",
       "      <td>M</td>\n",
       "      <td>M</td>\n",
       "    </tr>\n",
       "    <tr>\n",
       "      <th>SITUACION_LABORAL</th>\n",
       "      <td>INDEPENDIENTE</td>\n",
       "      <td>DEPENDIENTE</td>\n",
       "      <td>INDEPENDIENTE</td>\n",
       "      <td>DEPENDIENTE</td>\n",
       "      <td>DEPENDIENTE</td>\n",
       "    </tr>\n",
       "  </tbody>\n",
       "</table>\n",
       "</div>"
      ],
      "text/plain": [
       "                                   0               1               2  \\\n",
       "MES                           201702          201703          201703   \n",
       "CODIGOCLIENTE            00028227742     00028048344     00013431817   \n",
       "DISTRITO           MAGDALENA DEL MAR        SANTIAGO         SAMEGUA   \n",
       "EDAD                              32              57              31   \n",
       "DEPARTAMENTO                    LIMA           CUSCO        MOQUEGUA   \n",
       "FLG_CELULAR                        1               1               1   \n",
       "FLG_EMAIL                          1               1               0   \n",
       "FLG_PROCEDENCIA        LIMA Y CALLAO       PROVINCIA       PROVINCIA   \n",
       "FLG_TELEFONO                       1               1               0   \n",
       "RNG_EDAD                  3. 28 - 45      4. 46 - 65      3. 28 - 45   \n",
       "RNG_INGRESO_BRUTO     4. 4000 - 9999  4. 4000 - 9999  3. 1200 - 3999   \n",
       "PROVINCIA                       LIMA           CUSCO  MARISCAL NIETO   \n",
       "PROFESION                  INGENIERO             NaN             NaN   \n",
       "SEXO                               M               F               F   \n",
       "SITUACION_LABORAL      INDEPENDIENTE     DEPENDIENTE   INDEPENDIENTE   \n",
       "\n",
       "                                   3               4  \n",
       "MES                           201702          201703  \n",
       "CODIGOCLIENTE            00028250322     00025993588  \n",
       "DISTRITO           SANTIAGO DE SURCO             ICA  \n",
       "EDAD                              47              28  \n",
       "DEPARTAMENTO                    LIMA             ICA  \n",
       "FLG_CELULAR                        1               1  \n",
       "FLG_EMAIL                          0               0  \n",
       "FLG_PROCEDENCIA        LIMA Y CALLAO       PROVINCIA  \n",
       "FLG_TELEFONO                       1               0  \n",
       "RNG_EDAD                  4. 46 - 65      3. 28 - 45  \n",
       "RNG_INGRESO_BRUTO     3. 1200 - 3999  3. 1200 - 3999  \n",
       "PROVINCIA                       LIMA             ICA  \n",
       "PROFESION                        NaN             NaN  \n",
       "SEXO                               M               M  \n",
       "SITUACION_LABORAL        DEPENDIENTE     DEPENDIENTE  "
      ]
     },
     "execution_count": 62,
     "metadata": {},
     "output_type": "execute_result"
    }
   ],
   "source": [
    "dfClientes.head().T"
   ]
  },
  {
   "cell_type": "code",
   "execution_count": 63,
   "metadata": {},
   "outputs": [
    {
     "data": {
      "text/html": [
       "<div>\n",
       "<style>\n",
       "    .dataframe thead tr:only-child th {\n",
       "        text-align: right;\n",
       "    }\n",
       "\n",
       "    .dataframe thead th {\n",
       "        text-align: left;\n",
       "    }\n",
       "\n",
       "    .dataframe tbody tr th {\n",
       "        vertical-align: top;\n",
       "    }\n",
       "</style>\n",
       "<table border=\"1\" class=\"dataframe\">\n",
       "  <thead>\n",
       "    <tr style=\"text-align: right;\">\n",
       "      <th></th>\n",
       "      <th>522209</th>\n",
       "      <th>522210</th>\n",
       "      <th>522211</th>\n",
       "      <th>522212</th>\n",
       "      <th>522213</th>\n",
       "    </tr>\n",
       "  </thead>\n",
       "  <tbody>\n",
       "    <tr>\n",
       "      <th>MES</th>\n",
       "      <td>201702</td>\n",
       "      <td>201703</td>\n",
       "      <td>201703</td>\n",
       "      <td>201703</td>\n",
       "      <td>201702</td>\n",
       "    </tr>\n",
       "    <tr>\n",
       "      <th>CODIGOCLIENTE</th>\n",
       "      <td>00028048547</td>\n",
       "      <td>00026521148</td>\n",
       "      <td>00028268195</td>\n",
       "      <td>00028249188</td>\n",
       "      <td>00027034454</td>\n",
       "    </tr>\n",
       "    <tr>\n",
       "      <th>DISTRITO</th>\n",
       "      <td>AYACUCHO</td>\n",
       "      <td>CERRO COLORADO</td>\n",
       "      <td>PUENTE PIEDRA</td>\n",
       "      <td>RIMAC</td>\n",
       "      <td>SAN BORJA</td>\n",
       "    </tr>\n",
       "    <tr>\n",
       "      <th>EDAD</th>\n",
       "      <td>42</td>\n",
       "      <td>31</td>\n",
       "      <td>36</td>\n",
       "      <td>57</td>\n",
       "      <td>32</td>\n",
       "    </tr>\n",
       "    <tr>\n",
       "      <th>DEPARTAMENTO</th>\n",
       "      <td>AYACUCHO</td>\n",
       "      <td>AREQUIPA</td>\n",
       "      <td>LIMA</td>\n",
       "      <td>LIMA</td>\n",
       "      <td>LIMA</td>\n",
       "    </tr>\n",
       "    <tr>\n",
       "      <th>FLG_CELULAR</th>\n",
       "      <td>1</td>\n",
       "      <td>1</td>\n",
       "      <td>1</td>\n",
       "      <td>1</td>\n",
       "      <td>1</td>\n",
       "    </tr>\n",
       "    <tr>\n",
       "      <th>FLG_EMAIL</th>\n",
       "      <td>0</td>\n",
       "      <td>1</td>\n",
       "      <td>0</td>\n",
       "      <td>1</td>\n",
       "      <td>1</td>\n",
       "    </tr>\n",
       "    <tr>\n",
       "      <th>FLG_PROCEDENCIA</th>\n",
       "      <td>PROVINCIA</td>\n",
       "      <td>PROVINCIA</td>\n",
       "      <td>LIMA Y CALLAO</td>\n",
       "      <td>LIMA Y CALLAO</td>\n",
       "      <td>LIMA Y CALLAO</td>\n",
       "    </tr>\n",
       "    <tr>\n",
       "      <th>FLG_TELEFONO</th>\n",
       "      <td>1</td>\n",
       "      <td>1</td>\n",
       "      <td>1</td>\n",
       "      <td>1</td>\n",
       "      <td>1</td>\n",
       "    </tr>\n",
       "    <tr>\n",
       "      <th>RNG_EDAD</th>\n",
       "      <td>3. 28 - 45</td>\n",
       "      <td>3. 28 - 45</td>\n",
       "      <td>3. 28 - 45</td>\n",
       "      <td>4. 46 - 65</td>\n",
       "      <td>3. 28 - 45</td>\n",
       "    </tr>\n",
       "    <tr>\n",
       "      <th>RNG_INGRESO_BRUTO</th>\n",
       "      <td>3. 1200 - 3999</td>\n",
       "      <td>4. 4000 - 9999</td>\n",
       "      <td>4. 4000 - 9999</td>\n",
       "      <td>3. 1200 - 3999</td>\n",
       "      <td>3. 1200 - 3999</td>\n",
       "    </tr>\n",
       "    <tr>\n",
       "      <th>PROVINCIA</th>\n",
       "      <td>HUAMANGA</td>\n",
       "      <td>AREQUIPA</td>\n",
       "      <td>LIMA</td>\n",
       "      <td>LIMA</td>\n",
       "      <td>LIMA</td>\n",
       "    </tr>\n",
       "    <tr>\n",
       "      <th>PROFESION</th>\n",
       "      <td>NaN</td>\n",
       "      <td>NaN</td>\n",
       "      <td>NaN</td>\n",
       "      <td>NaN</td>\n",
       "      <td>NaN</td>\n",
       "    </tr>\n",
       "    <tr>\n",
       "      <th>SEXO</th>\n",
       "      <td>F</td>\n",
       "      <td>F</td>\n",
       "      <td>F</td>\n",
       "      <td>M</td>\n",
       "      <td>M</td>\n",
       "    </tr>\n",
       "    <tr>\n",
       "      <th>SITUACION_LABORAL</th>\n",
       "      <td>INDEPENDIENTE</td>\n",
       "      <td>DEPENDIENTE</td>\n",
       "      <td>INDEPENDIENTE</td>\n",
       "      <td>INDEPENDIENTE</td>\n",
       "      <td>INDEPENDIENTE</td>\n",
       "    </tr>\n",
       "  </tbody>\n",
       "</table>\n",
       "</div>"
      ],
      "text/plain": [
       "                           522209          522210          522211  \\\n",
       "MES                        201702          201703          201703   \n",
       "CODIGOCLIENTE         00028048547     00026521148     00028268195   \n",
       "DISTRITO                 AYACUCHO  CERRO COLORADO   PUENTE PIEDRA   \n",
       "EDAD                           42              31              36   \n",
       "DEPARTAMENTO             AYACUCHO        AREQUIPA            LIMA   \n",
       "FLG_CELULAR                     1               1               1   \n",
       "FLG_EMAIL                       0               1               0   \n",
       "FLG_PROCEDENCIA         PROVINCIA       PROVINCIA   LIMA Y CALLAO   \n",
       "FLG_TELEFONO                    1               1               1   \n",
       "RNG_EDAD               3. 28 - 45      3. 28 - 45      3. 28 - 45   \n",
       "RNG_INGRESO_BRUTO  3. 1200 - 3999  4. 4000 - 9999  4. 4000 - 9999   \n",
       "PROVINCIA                HUAMANGA        AREQUIPA            LIMA   \n",
       "PROFESION                     NaN             NaN             NaN   \n",
       "SEXO                            F               F               F   \n",
       "SITUACION_LABORAL   INDEPENDIENTE     DEPENDIENTE   INDEPENDIENTE   \n",
       "\n",
       "                           522212          522213  \n",
       "MES                        201703          201702  \n",
       "CODIGOCLIENTE         00028249188     00027034454  \n",
       "DISTRITO                    RIMAC       SAN BORJA  \n",
       "EDAD                           57              32  \n",
       "DEPARTAMENTO                 LIMA            LIMA  \n",
       "FLG_CELULAR                     1               1  \n",
       "FLG_EMAIL                       1               1  \n",
       "FLG_PROCEDENCIA     LIMA Y CALLAO   LIMA Y CALLAO  \n",
       "FLG_TELEFONO                    1               1  \n",
       "RNG_EDAD               4. 46 - 65      3. 28 - 45  \n",
       "RNG_INGRESO_BRUTO  3. 1200 - 3999  3. 1200 - 3999  \n",
       "PROVINCIA                    LIMA            LIMA  \n",
       "PROFESION                     NaN             NaN  \n",
       "SEXO                            M               M  \n",
       "SITUACION_LABORAL   INDEPENDIENTE   INDEPENDIENTE  "
      ]
     },
     "execution_count": 63,
     "metadata": {},
     "output_type": "execute_result"
    }
   ],
   "source": [
    "dfClientes.tail().T"
   ]
  },
  {
   "cell_type": "code",
   "execution_count": 64,
   "metadata": {},
   "outputs": [
    {
     "data": {
      "text/html": [
       "<div>\n",
       "<style>\n",
       "    .dataframe thead tr:only-child th {\n",
       "        text-align: right;\n",
       "    }\n",
       "\n",
       "    .dataframe thead th {\n",
       "        text-align: left;\n",
       "    }\n",
       "\n",
       "    .dataframe tbody tr th {\n",
       "        vertical-align: top;\n",
       "    }\n",
       "</style>\n",
       "<table border=\"1\" class=\"dataframe\">\n",
       "  <thead>\n",
       "    <tr style=\"text-align: right;\">\n",
       "      <th></th>\n",
       "      <th>MES</th>\n",
       "      <th>CODIGOCLIENTE</th>\n",
       "      <th>MONTO_TRX</th>\n",
       "      <th>CANT_TRX</th>\n",
       "    </tr>\n",
       "  </thead>\n",
       "  <tbody>\n",
       "    <tr>\n",
       "      <th>0</th>\n",
       "      <td>201701</td>\n",
       "      <td>00027054023</td>\n",
       "      <td>0.0</td>\n",
       "      <td>0</td>\n",
       "    </tr>\n",
       "    <tr>\n",
       "      <th>1</th>\n",
       "      <td>201701</td>\n",
       "      <td>00026460063</td>\n",
       "      <td>100.0</td>\n",
       "      <td>1</td>\n",
       "    </tr>\n",
       "    <tr>\n",
       "      <th>2</th>\n",
       "      <td>201701</td>\n",
       "      <td>00025145314</td>\n",
       "      <td>0.0</td>\n",
       "      <td>0</td>\n",
       "    </tr>\n",
       "    <tr>\n",
       "      <th>3</th>\n",
       "      <td>201701</td>\n",
       "      <td>00024682578</td>\n",
       "      <td>0.0</td>\n",
       "      <td>0</td>\n",
       "    </tr>\n",
       "    <tr>\n",
       "      <th>4</th>\n",
       "      <td>201701</td>\n",
       "      <td>00017053741</td>\n",
       "      <td>2000.0</td>\n",
       "      <td>4</td>\n",
       "    </tr>\n",
       "  </tbody>\n",
       "</table>\n",
       "</div>"
      ],
      "text/plain": [
       "      MES CODIGOCLIENTE  MONTO_TRX  CANT_TRX\n",
       "0  201701   00027054023        0.0         0\n",
       "1  201701   00026460063      100.0         1\n",
       "2  201701   00025145314        0.0         0\n",
       "3  201701   00024682578        0.0         0\n",
       "4  201701   00017053741     2000.0         4"
      ]
     },
     "execution_count": 64,
     "metadata": {},
     "output_type": "execute_result"
    }
   ],
   "source": [
    "dfTransacciones.head()"
   ]
  },
  {
   "cell_type": "code",
   "execution_count": 65,
   "metadata": {},
   "outputs": [
    {
     "data": {
      "text/html": [
       "<div>\n",
       "<style>\n",
       "    .dataframe thead tr:only-child th {\n",
       "        text-align: right;\n",
       "    }\n",
       "\n",
       "    .dataframe thead th {\n",
       "        text-align: left;\n",
       "    }\n",
       "\n",
       "    .dataframe tbody tr th {\n",
       "        vertical-align: top;\n",
       "    }\n",
       "</style>\n",
       "<table border=\"1\" class=\"dataframe\">\n",
       "  <thead>\n",
       "    <tr style=\"text-align: right;\">\n",
       "      <th></th>\n",
       "      <th>MES</th>\n",
       "      <th>CODIGOCLIENTE</th>\n",
       "      <th>MONTO_TRX</th>\n",
       "      <th>CANT_TRX</th>\n",
       "    </tr>\n",
       "  </thead>\n",
       "  <tbody>\n",
       "    <tr>\n",
       "      <th>522209</th>\n",
       "      <td>201703</td>\n",
       "      <td>00026594725</td>\n",
       "      <td>0.0</td>\n",
       "      <td>0</td>\n",
       "    </tr>\n",
       "    <tr>\n",
       "      <th>522210</th>\n",
       "      <td>201701</td>\n",
       "      <td>00028483564</td>\n",
       "      <td>150.0</td>\n",
       "      <td>1</td>\n",
       "    </tr>\n",
       "    <tr>\n",
       "      <th>522211</th>\n",
       "      <td>201703</td>\n",
       "      <td>00025669428</td>\n",
       "      <td>0.0</td>\n",
       "      <td>0</td>\n",
       "    </tr>\n",
       "    <tr>\n",
       "      <th>522212</th>\n",
       "      <td>201702</td>\n",
       "      <td>00029309812</td>\n",
       "      <td>200.0</td>\n",
       "      <td>1</td>\n",
       "    </tr>\n",
       "    <tr>\n",
       "      <th>522213</th>\n",
       "      <td>201703</td>\n",
       "      <td>00011081424</td>\n",
       "      <td>0.0</td>\n",
       "      <td>13</td>\n",
       "    </tr>\n",
       "  </tbody>\n",
       "</table>\n",
       "</div>"
      ],
      "text/plain": [
       "           MES CODIGOCLIENTE  MONTO_TRX  CANT_TRX\n",
       "522209  201703   00026594725        0.0         0\n",
       "522210  201701   00028483564      150.0         1\n",
       "522211  201703   00025669428        0.0         0\n",
       "522212  201702   00029309812      200.0         1\n",
       "522213  201703   00011081424        0.0        13"
      ]
     },
     "execution_count": 65,
     "metadata": {},
     "output_type": "execute_result"
    }
   ],
   "source": [
    "dfTransacciones.tail()"
   ]
  },
  {
   "cell_type": "markdown",
   "metadata": {},
   "source": [
    "Podemos ver las dimensiones de un DataFrame con la propiedad `.shape`"
   ]
  },
  {
   "cell_type": "code",
   "execution_count": 66,
   "metadata": {},
   "outputs": [
    {
     "data": {
      "text/plain": [
       "(522214, 15)"
      ]
     },
     "execution_count": 66,
     "metadata": {},
     "output_type": "execute_result"
    }
   ],
   "source": [
    "dfClientes.shape"
   ]
  },
  {
   "cell_type": "code",
   "execution_count": 67,
   "metadata": {},
   "outputs": [
    {
     "data": {
      "text/plain": [
       "522214"
      ]
     },
     "execution_count": 67,
     "metadata": {},
     "output_type": "execute_result"
    }
   ],
   "source": [
    "dfClientes.shape[0]"
   ]
  },
  {
   "cell_type": "code",
   "execution_count": 68,
   "metadata": {},
   "outputs": [
    {
     "data": {
      "text/plain": [
       "15"
      ]
     },
     "execution_count": 68,
     "metadata": {},
     "output_type": "execute_result"
    }
   ],
   "source": [
    "dfClientes.shape[1]"
   ]
  },
  {
   "cell_type": "code",
   "execution_count": 69,
   "metadata": {},
   "outputs": [
    {
     "data": {
      "text/plain": [
       "(522214, 4)"
      ]
     },
     "execution_count": 69,
     "metadata": {},
     "output_type": "execute_result"
    }
   ],
   "source": [
    "dfTransacciones.shape"
   ]
  },
  {
   "cell_type": "markdown",
   "metadata": {},
   "source": [
    "Podemos ver información general sobre un DataFrame con el método `.info()`."
   ]
  },
  {
   "cell_type": "code",
   "execution_count": 70,
   "metadata": {},
   "outputs": [
    {
     "name": "stdout",
     "output_type": "stream",
     "text": [
      "<class 'pandas.core.frame.DataFrame'>\n",
      "RangeIndex: 522214 entries, 0 to 522213\n",
      "Data columns (total 15 columns):\n",
      "MES                  522214 non-null int64\n",
      "CODIGOCLIENTE        522214 non-null object\n",
      "DISTRITO             522214 non-null object\n",
      "EDAD                 522214 non-null int64\n",
      "DEPARTAMENTO         522214 non-null object\n",
      "FLG_CELULAR          522214 non-null int64\n",
      "FLG_EMAIL            522214 non-null int64\n",
      "FLG_PROCEDENCIA      522214 non-null object\n",
      "FLG_TELEFONO         522214 non-null int64\n",
      "RNG_EDAD             522214 non-null object\n",
      "RNG_INGRESO_BRUTO    522214 non-null object\n",
      "PROVINCIA            522214 non-null object\n",
      "PROFESION            93146 non-null object\n",
      "SEXO                 518435 non-null object\n",
      "SITUACION_LABORAL    522214 non-null object\n",
      "dtypes: int64(5), object(10)\n",
      "memory usage: 59.8+ MB\n"
     ]
    }
   ],
   "source": [
    "dfClientes.info()"
   ]
  },
  {
   "cell_type": "code",
   "execution_count": 71,
   "metadata": {},
   "outputs": [
    {
     "name": "stdout",
     "output_type": "stream",
     "text": [
      "<class 'pandas.core.frame.DataFrame'>\n",
      "RangeIndex: 522214 entries, 0 to 522213\n",
      "Data columns (total 4 columns):\n",
      "MES              522214 non-null int64\n",
      "CODIGOCLIENTE    522214 non-null object\n",
      "MONTO_TRX        522214 non-null float64\n",
      "CANT_TRX         522214 non-null int64\n",
      "dtypes: float64(1), int64(2), object(1)\n",
      "memory usage: 15.9+ MB\n"
     ]
    }
   ],
   "source": [
    "dfTransacciones.info()"
   ]
  },
  {
   "cell_type": "markdown",
   "metadata": {},
   "source": [
    "Podemos ver estadísticas descriptivas de los datos de un DataFrame con el método `.describe()`"
   ]
  },
  {
   "cell_type": "code",
   "execution_count": 72,
   "metadata": {
    "scrolled": true
   },
   "outputs": [
    {
     "data": {
      "text/html": [
       "<div>\n",
       "<style>\n",
       "    .dataframe thead tr:only-child th {\n",
       "        text-align: right;\n",
       "    }\n",
       "\n",
       "    .dataframe thead th {\n",
       "        text-align: left;\n",
       "    }\n",
       "\n",
       "    .dataframe tbody tr th {\n",
       "        vertical-align: top;\n",
       "    }\n",
       "</style>\n",
       "<table border=\"1\" class=\"dataframe\">\n",
       "  <thead>\n",
       "    <tr style=\"text-align: right;\">\n",
       "      <th></th>\n",
       "      <th>MES</th>\n",
       "      <th>EDAD</th>\n",
       "      <th>FLG_CELULAR</th>\n",
       "      <th>FLG_EMAIL</th>\n",
       "      <th>FLG_TELEFONO</th>\n",
       "    </tr>\n",
       "  </thead>\n",
       "  <tbody>\n",
       "    <tr>\n",
       "      <th>count</th>\n",
       "      <td>522214.000000</td>\n",
       "      <td>522214.000000</td>\n",
       "      <td>522214.000000</td>\n",
       "      <td>522214.000000</td>\n",
       "      <td>522214.000000</td>\n",
       "    </tr>\n",
       "    <tr>\n",
       "      <th>mean</th>\n",
       "      <td>201702.065492</td>\n",
       "      <td>38.965367</td>\n",
       "      <td>0.900351</td>\n",
       "      <td>0.778552</td>\n",
       "      <td>0.737925</td>\n",
       "    </tr>\n",
       "    <tr>\n",
       "      <th>std</th>\n",
       "      <td>0.799342</td>\n",
       "      <td>11.519734</td>\n",
       "      <td>0.299531</td>\n",
       "      <td>0.415221</td>\n",
       "      <td>0.439763</td>\n",
       "    </tr>\n",
       "    <tr>\n",
       "      <th>min</th>\n",
       "      <td>201701.000000</td>\n",
       "      <td>0.000000</td>\n",
       "      <td>0.000000</td>\n",
       "      <td>0.000000</td>\n",
       "      <td>0.000000</td>\n",
       "    </tr>\n",
       "    <tr>\n",
       "      <th>10%</th>\n",
       "      <td>201701.000000</td>\n",
       "      <td>26.000000</td>\n",
       "      <td>1.000000</td>\n",
       "      <td>0.000000</td>\n",
       "      <td>0.000000</td>\n",
       "    </tr>\n",
       "    <tr>\n",
       "      <th>25%</th>\n",
       "      <td>201701.000000</td>\n",
       "      <td>30.000000</td>\n",
       "      <td>1.000000</td>\n",
       "      <td>1.000000</td>\n",
       "      <td>0.000000</td>\n",
       "    </tr>\n",
       "    <tr>\n",
       "      <th>50%</th>\n",
       "      <td>201702.000000</td>\n",
       "      <td>36.000000</td>\n",
       "      <td>1.000000</td>\n",
       "      <td>1.000000</td>\n",
       "      <td>1.000000</td>\n",
       "    </tr>\n",
       "    <tr>\n",
       "      <th>75%</th>\n",
       "      <td>201703.000000</td>\n",
       "      <td>46.000000</td>\n",
       "      <td>1.000000</td>\n",
       "      <td>1.000000</td>\n",
       "      <td>1.000000</td>\n",
       "    </tr>\n",
       "    <tr>\n",
       "      <th>90%</th>\n",
       "      <td>201703.000000</td>\n",
       "      <td>56.000000</td>\n",
       "      <td>1.000000</td>\n",
       "      <td>1.000000</td>\n",
       "      <td>1.000000</td>\n",
       "    </tr>\n",
       "    <tr>\n",
       "      <th>95%</th>\n",
       "      <td>201703.000000</td>\n",
       "      <td>62.000000</td>\n",
       "      <td>1.000000</td>\n",
       "      <td>1.000000</td>\n",
       "      <td>1.000000</td>\n",
       "    </tr>\n",
       "    <tr>\n",
       "      <th>max</th>\n",
       "      <td>201703.000000</td>\n",
       "      <td>116.000000</td>\n",
       "      <td>1.000000</td>\n",
       "      <td>1.000000</td>\n",
       "      <td>1.000000</td>\n",
       "    </tr>\n",
       "  </tbody>\n",
       "</table>\n",
       "</div>"
      ],
      "text/plain": [
       "                 MES           EDAD    FLG_CELULAR      FLG_EMAIL  \\\n",
       "count  522214.000000  522214.000000  522214.000000  522214.000000   \n",
       "mean   201702.065492      38.965367       0.900351       0.778552   \n",
       "std         0.799342      11.519734       0.299531       0.415221   \n",
       "min    201701.000000       0.000000       0.000000       0.000000   \n",
       "10%    201701.000000      26.000000       1.000000       0.000000   \n",
       "25%    201701.000000      30.000000       1.000000       1.000000   \n",
       "50%    201702.000000      36.000000       1.000000       1.000000   \n",
       "75%    201703.000000      46.000000       1.000000       1.000000   \n",
       "90%    201703.000000      56.000000       1.000000       1.000000   \n",
       "95%    201703.000000      62.000000       1.000000       1.000000   \n",
       "max    201703.000000     116.000000       1.000000       1.000000   \n",
       "\n",
       "        FLG_TELEFONO  \n",
       "count  522214.000000  \n",
       "mean        0.737925  \n",
       "std         0.439763  \n",
       "min         0.000000  \n",
       "10%         0.000000  \n",
       "25%         0.000000  \n",
       "50%         1.000000  \n",
       "75%         1.000000  \n",
       "90%         1.000000  \n",
       "95%         1.000000  \n",
       "max         1.000000  "
      ]
     },
     "execution_count": 72,
     "metadata": {},
     "output_type": "execute_result"
    }
   ],
   "source": [
    "dfClientes.describe(percentiles=[.1, .25, .5, .75, .9, .95])"
   ]
  },
  {
   "cell_type": "code",
   "execution_count": 73,
   "metadata": {},
   "outputs": [
    {
     "data": {
      "text/html": [
       "<div>\n",
       "<style>\n",
       "    .dataframe thead tr:only-child th {\n",
       "        text-align: right;\n",
       "    }\n",
       "\n",
       "    .dataframe thead th {\n",
       "        text-align: left;\n",
       "    }\n",
       "\n",
       "    .dataframe tbody tr th {\n",
       "        vertical-align: top;\n",
       "    }\n",
       "</style>\n",
       "<table border=\"1\" class=\"dataframe\">\n",
       "  <thead>\n",
       "    <tr style=\"text-align: right;\">\n",
       "      <th></th>\n",
       "      <th>MES</th>\n",
       "      <th>MONTO_TRX</th>\n",
       "      <th>CANT_TRX</th>\n",
       "    </tr>\n",
       "  </thead>\n",
       "  <tbody>\n",
       "    <tr>\n",
       "      <th>count</th>\n",
       "      <td>522214.000000</td>\n",
       "      <td>522214.000000</td>\n",
       "      <td>522214.000000</td>\n",
       "    </tr>\n",
       "    <tr>\n",
       "      <th>mean</th>\n",
       "      <td>201702.065492</td>\n",
       "      <td>157.146068</td>\n",
       "      <td>1.079224</td>\n",
       "    </tr>\n",
       "    <tr>\n",
       "      <th>std</th>\n",
       "      <td>0.799342</td>\n",
       "      <td>773.288865</td>\n",
       "      <td>4.434939</td>\n",
       "    </tr>\n",
       "    <tr>\n",
       "      <th>min</th>\n",
       "      <td>201701.000000</td>\n",
       "      <td>0.000000</td>\n",
       "      <td>0.000000</td>\n",
       "    </tr>\n",
       "    <tr>\n",
       "      <th>10%</th>\n",
       "      <td>201701.000000</td>\n",
       "      <td>0.000000</td>\n",
       "      <td>0.000000</td>\n",
       "    </tr>\n",
       "    <tr>\n",
       "      <th>25%</th>\n",
       "      <td>201701.000000</td>\n",
       "      <td>0.000000</td>\n",
       "      <td>0.000000</td>\n",
       "    </tr>\n",
       "    <tr>\n",
       "      <th>50%</th>\n",
       "      <td>201702.000000</td>\n",
       "      <td>0.000000</td>\n",
       "      <td>0.000000</td>\n",
       "    </tr>\n",
       "    <tr>\n",
       "      <th>75%</th>\n",
       "      <td>201703.000000</td>\n",
       "      <td>50.000000</td>\n",
       "      <td>1.000000</td>\n",
       "    </tr>\n",
       "    <tr>\n",
       "      <th>90%</th>\n",
       "      <td>201703.000000</td>\n",
       "      <td>450.000000</td>\n",
       "      <td>3.000000</td>\n",
       "    </tr>\n",
       "    <tr>\n",
       "      <th>95%</th>\n",
       "      <td>201703.000000</td>\n",
       "      <td>860.000000</td>\n",
       "      <td>5.000000</td>\n",
       "    </tr>\n",
       "    <tr>\n",
       "      <th>max</th>\n",
       "      <td>201703.000000</td>\n",
       "      <td>137715.796320</td>\n",
       "      <td>582.000000</td>\n",
       "    </tr>\n",
       "  </tbody>\n",
       "</table>\n",
       "</div>"
      ],
      "text/plain": [
       "                 MES      MONTO_TRX       CANT_TRX\n",
       "count  522214.000000  522214.000000  522214.000000\n",
       "mean   201702.065492     157.146068       1.079224\n",
       "std         0.799342     773.288865       4.434939\n",
       "min    201701.000000       0.000000       0.000000\n",
       "10%    201701.000000       0.000000       0.000000\n",
       "25%    201701.000000       0.000000       0.000000\n",
       "50%    201702.000000       0.000000       0.000000\n",
       "75%    201703.000000      50.000000       1.000000\n",
       "90%    201703.000000     450.000000       3.000000\n",
       "95%    201703.000000     860.000000       5.000000\n",
       "max    201703.000000  137715.796320     582.000000"
      ]
     },
     "execution_count": 73,
     "metadata": {},
     "output_type": "execute_result"
    }
   ],
   "source": [
    "dfTransacciones.describe(percentiles=[.1, .25, .5, .75, .9, .95])"
   ]
  },
  {
   "cell_type": "markdown",
   "metadata": {},
   "source": [
    "Si quiero listar las columnas de un dataframe uso la propiedad `.columns`"
   ]
  },
  {
   "cell_type": "code",
   "execution_count": 74,
   "metadata": {},
   "outputs": [
    {
     "name": "stdout",
     "output_type": "stream",
     "text": [
      "['MES', 'CODIGOCLIENTE', 'DISTRITO', 'EDAD', 'DEPARTAMENTO', 'FLG_CELULAR', 'FLG_EMAIL', 'FLG_PROCEDENCIA', 'FLG_TELEFONO', 'RNG_EDAD', 'RNG_INGRESO_BRUTO', 'PROVINCIA', 'PROFESION', 'SEXO', 'SITUACION_LABORAL']\n"
     ]
    }
   ],
   "source": [
    "print(list(dfClientes.columns))"
   ]
  },
  {
   "cell_type": "markdown",
   "metadata": {},
   "source": [
    "Para acceder a los datos podemos usar los `[]` y/o los métodos `iloc[]` y `loc[]`"
   ]
  },
  {
   "cell_type": "code",
   "execution_count": 75,
   "metadata": {
    "scrolled": true
   },
   "outputs": [
    {
     "data": {
      "text/plain": [
       "0    32\n",
       "1    57\n",
       "2    31\n",
       "Name: EDAD, dtype: int64"
      ]
     },
     "execution_count": 75,
     "metadata": {},
     "output_type": "execute_result"
    }
   ],
   "source": [
    "dfClientes[\"EDAD\"].head(3)"
   ]
  },
  {
   "cell_type": "code",
   "execution_count": null,
   "metadata": {
    "scrolled": true
   },
   "outputs": [],
   "source": [
    "dfClientes.loc[:, \"FLG_CELULAR\"].head(3)"
   ]
  },
  {
   "cell_type": "code",
   "execution_count": null,
   "metadata": {
    "scrolled": false
   },
   "outputs": [],
   "source": [
    "dfClientes.iloc[:, 2].head(3)"
   ]
  },
  {
   "cell_type": "markdown",
   "metadata": {},
   "source": [
    "¿Y si quiero hacer Filtros?¿Qué debería usar?"
   ]
  },
  {
   "cell_type": "code",
   "execution_count": null,
   "metadata": {
    "scrolled": true
   },
   "outputs": [],
   "source": [
    "dfClientes[\"MES\"] == 201701"
   ]
  },
  {
   "cell_type": "code",
   "execution_count": null,
   "metadata": {},
   "outputs": [],
   "source": [
    "# Solo Analizar el periodo 201701\n",
    "dfClientes.loc[dfClientes[\"MES\"] == 201701].head()"
   ]
  },
  {
   "cell_type": "code",
   "execution_count": null,
   "metadata": {},
   "outputs": [],
   "source": [
    "# Solo Analizar el periodo 201701 y a aquellos clientes que son menores de 30 años\n",
    "dfClientes.loc[(dfClientes[\"MES\"] == 201701) & (dfClientes[\"EDAD\"] < 30)].head()"
   ]
  },
  {
   "cell_type": "code",
   "execution_count": null,
   "metadata": {},
   "outputs": [],
   "source": [
    "# Encontrar el 20vo registro de mi DataFrame\n",
    "dfClientes.iloc[20, :]"
   ]
  },
  {
   "cell_type": "code",
   "execution_count": null,
   "metadata": {},
   "outputs": [],
   "source": [
    "# Encontrar los registros que se encuentran entre las posiciones [10mo - 20vo] de mi DataFrame\n",
    "dfClientes.iloc[10:20, :]"
   ]
  },
  {
   "cell_type": "code",
   "execution_count": null,
   "metadata": {
    "scrolled": true
   },
   "outputs": [],
   "source": [
    "# Encontrar los registros que se encuentran entre las posiciones [10mo - 20vo] de mi DataFrame\n",
    "# pero sólo con las columnas de MES DISTRITO y EDAD\n",
    "dfClientes.iloc[10: 20, [0, 2, 3]]"
   ]
  },
  {
   "cell_type": "code",
   "execution_count": null,
   "metadata": {
    "scrolled": true
   },
   "outputs": [],
   "source": [
    "dfClientes.ix[10: 20, [0, 2, 3]]"
   ]
  },
  {
   "cell_type": "code",
   "execution_count": null,
   "metadata": {},
   "outputs": [],
   "source": [
    "dfClientes.head()"
   ]
  },
  {
   "cell_type": "code",
   "execution_count": null,
   "metadata": {},
   "outputs": [],
   "source": [
    "# Y si quiero actualizar el valor de una columna de los registros que cumplan una condición\n",
    "dfClientes.loc[dfClientes[\"CODIGOCLIENTE\"] == \"00028227742\", \"EDAD\"] = 26"
   ]
  },
  {
   "cell_type": "code",
   "execution_count": null,
   "metadata": {},
   "outputs": [],
   "source": [
    "# Y si quiero actualizar el valor de una columna en base a su índice en el DataFrame\n",
    "dfClientes.iloc[1, 3] = 50"
   ]
  },
  {
   "cell_type": "code",
   "execution_count": null,
   "metadata": {},
   "outputs": [],
   "source": [
    "dfClientes.head()"
   ]
  },
  {
   "cell_type": "markdown",
   "metadata": {},
   "source": [
    "Podemos hacer agrupaciones usando el método `.groupby()`"
   ]
  },
  {
   "cell_type": "code",
   "execution_count": null,
   "metadata": {},
   "outputs": [],
   "source": [
    "dfClientes.groupby(\"MES\").count()"
   ]
  },
  {
   "cell_type": "code",
   "execution_count": null,
   "metadata": {},
   "outputs": [],
   "source": [
    "dfClientes.groupby(\"MES\")[\"EDAD\"].mean()"
   ]
  },
  {
   "cell_type": "code",
   "execution_count": null,
   "metadata": {},
   "outputs": [],
   "source": [
    "dfClientes.groupby(\"MES\").agg({\"CODIGOCLIENTE\": [\"count\", \"nunique\"],\n",
    "                               \"EDAD\": [\"mean\", \"median\"],\n",
    "                               \"DISTRITO\": [pd.Series.mode, \"nunique\"],\n",
    "                               \"FLG_EMAIL\": \"mean\",\n",
    "                               \"FLG_TELEFONO\": \"mean\",\n",
    "                               \"RNG_EDAD\": [pd.Series.mode],\n",
    "                               \"RNG_INGRESO_BRUTO\": pd.Series.mode,\n",
    "                               \"SEXO\": pd.Series.mode\n",
    "                              })"
   ]
  },
  {
   "cell_type": "markdown",
   "metadata": {},
   "source": [
    "Y ... ¿puedo agrupar por más de una columna?"
   ]
  },
  {
   "cell_type": "code",
   "execution_count": null,
   "metadata": {},
   "outputs": [],
   "source": [
    "dfClientes.groupby([\"MES\", \"SEXO\"]).agg({\"CODIGOCLIENTE\": [\"count\", \"nunique\"],\n",
    "                               \"EDAD\": [\"mean\", \"median\"],\n",
    "                               \"DISTRITO\": [pd.Series.mode, \"nunique\"],\n",
    "                               \"FLG_EMAIL\": \"mean\",\n",
    "                               \"FLG_TELEFONO\": \"mean\",\n",
    "                               \"RNG_EDAD\": [pd.Series.mode],\n",
    "                               \"RNG_INGRESO_BRUTO\": pd.Series.mode\n",
    "                              })"
   ]
  },
  {
   "cell_type": "markdown",
   "metadata": {},
   "source": [
    "Pero estoy notando de que las columnas por las que agrupo son índices del DataFrame resultado. ¿Podría usarlas como columnas?"
   ]
  },
  {
   "cell_type": "code",
   "execution_count": null,
   "metadata": {},
   "outputs": [],
   "source": [
    "dfClientes.groupby([\"MES\", \"SEXO\"], as_index=False).agg({\"CODIGOCLIENTE\": [\"count\", \"nunique\"],\n",
    "                               \"EDAD\": [\"mean\", \"median\"],\n",
    "                               \"DISTRITO\": [pd.Series.mode, \"nunique\"],\n",
    "                               \"FLG_EMAIL\": \"mean\",\n",
    "                               \"FLG_TELEFONO\": \"mean\",\n",
    "                               \"RNG_EDAD\": [pd.Series.mode],\n",
    "                               \"RNG_INGRESO_BRUTO\": pd.Series.mode\n",
    "                              })"
   ]
  },
  {
   "cell_type": "markdown",
   "metadata": {},
   "source": [
    "¿Y si quiero renombrar algunas columnas?"
   ]
  },
  {
   "cell_type": "code",
   "execution_count": null,
   "metadata": {},
   "outputs": [],
   "source": [
    "dfClientes"
   ]
  },
  {
   "cell_type": "code",
   "execution_count": null,
   "metadata": {},
   "outputs": [],
   "source": [
    "dfClientes.rename(columns = {'PROFESION':'CARGO'}, inplace = True)"
   ]
  },
  {
   "cell_type": "markdown",
   "metadata": {},
   "source": [
    "Para realizar cruces entre DataFrames usar el método `merge()`."
   ]
  },
  {
   "cell_type": "code",
   "execution_count": null,
   "metadata": {},
   "outputs": [],
   "source": [
    "df = dfClientes.merge(dfTransacciones, how=\"left\", on=[\"MES\", \"CODIGOCLIENTE\"])"
   ]
  },
  {
   "cell_type": "code",
   "execution_count": null,
   "metadata": {},
   "outputs": [],
   "source": [
    "df.tail().T"
   ]
  },
  {
   "cell_type": "markdown",
   "metadata": {},
   "source": [
    "Pero veo que existe un método llamado `join()`. ¿Tienen la misma funcionalidad?"
   ]
  },
  {
   "cell_type": "code",
   "execution_count": null,
   "metadata": {
    "scrolled": true
   },
   "outputs": [],
   "source": [
    "dfClientes.join(dfTransacciones, on=[\"MES\", \"CODIGOCLIENTE\"])"
   ]
  },
  {
   "cell_type": "markdown",
   "metadata": {},
   "source": [
    "Pues la respuesta es que **`No`**. El método `join()` se usa cuando se quiere cruzar dos DataFrames en base a sus índices o en base al(a los) índice(s) de un DataFrame con la(s) columna(s) de la otra."
   ]
  },
  {
   "cell_type": "code",
   "execution_count": null,
   "metadata": {},
   "outputs": [],
   "source": [
    "dfClientes.join(dfTransacciones, lsuffix='_L', rsuffix='_R')"
   ]
  },
  {
   "cell_type": "markdown",
   "metadata": {},
   "source": [
    "¿Te acuerdas de las tablas dinámicas de Excel? Pues, DataFrame tiene una funcionalidad parecida."
   ]
  },
  {
   "cell_type": "code",
   "execution_count": null,
   "metadata": {
    "scrolled": false
   },
   "outputs": [],
   "source": [
    "dfClientes.pivot_table(index=\"MES\", columns=\"RNG_EDAD\", values=\"EDAD\", aggfunc=\"mean\", margins=True, margins_name='Todo')"
   ]
  },
  {
   "cell_type": "markdown",
   "metadata": {},
   "source": [
    "#### Programación Funcional con Pandas\n",
    "Las funciones `lambda`, `map` y `filter` vistas en los notebooks anteriores, son utilizadas por los DataFrames."
   ]
  },
  {
   "cell_type": "code",
   "execution_count": null,
   "metadata": {},
   "outputs": [],
   "source": [
    "# Defino una función lambda para poder sumar una unidad a un valor\n",
    "sumar_1 = lambda x: x + 1"
   ]
  },
  {
   "cell_type": "markdown",
   "metadata": {},
   "source": [
    "##### Lambda"
   ]
  },
  {
   "cell_type": "markdown",
   "metadata": {},
   "source": [
    "Con el método `apply` puedo utilizar las funciones definidas a una columna o a un conjunto de ellas."
   ]
  },
  {
   "cell_type": "code",
   "execution_count": null,
   "metadata": {
    "scrolled": true
   },
   "outputs": [],
   "source": [
    "# Sumar una unidad a una columna\n",
    "df[\"EDAD\"].apply(sumar_1)"
   ]
  },
  {
   "cell_type": "code",
   "execution_count": null,
   "metadata": {
    "scrolled": true
   },
   "outputs": [],
   "source": [
    "# Sumar una unidad a una columna sin usar el .apply()\n",
    "df[\"EDAD\"] + 1"
   ]
  },
  {
   "cell_type": "markdown",
   "metadata": {},
   "source": [
    "¿Puedo hacer operaciones con más de una columna?"
   ]
  },
  {
   "cell_type": "code",
   "execution_count": null,
   "metadata": {},
   "outputs": [],
   "source": [
    "monto_promedio = lambda row: round(row[\"MONTO_TRX\"] / row[\"CANT_TRX\"], 2) if row[\"CANT_TRX\"] > 0 else 0"
   ]
  },
  {
   "cell_type": "code",
   "execution_count": null,
   "metadata": {
    "scrolled": true
   },
   "outputs": [],
   "source": [
    "df[\"MONTO_PROMEDIO\"] = df.apply(monto_promedio, axis=1)"
   ]
  },
  {
   "cell_type": "code",
   "execution_count": null,
   "metadata": {},
   "outputs": [],
   "source": [
    "df"
   ]
  },
  {
   "cell_type": "markdown",
   "metadata": {},
   "source": [
    "##### Map\n",
    "Nos permite asociar un valor con otro."
   ]
  },
  {
   "cell_type": "code",
   "execution_count": null,
   "metadata": {},
   "outputs": [],
   "source": [
    "ingreso_rng_dict = {v: k for k, v in enumerate(df[\"RNG_INGRESO_BRUTO\"].unique().tolist())}\n",
    "ingreso_rng_dict"
   ]
  },
  {
   "cell_type": "code",
   "execution_count": null,
   "metadata": {
    "scrolled": true
   },
   "outputs": [],
   "source": [
    "df[\"RNG_INGRESO_BRUTO_COD\"] = df[\"RNG_INGRESO_BRUTO\"].map(ingreso_rng_dict)"
   ]
  },
  {
   "cell_type": "markdown",
   "metadata": {},
   "source": [
    "##### Filter\n",
    "Nos permite filtrar en base a los índices en cualquiera de los axis."
   ]
  },
  {
   "cell_type": "code",
   "execution_count": null,
   "metadata": {
    "scrolled": true
   },
   "outputs": [],
   "source": [
    "df.filter(items=[\"MES\", \"CODIGOCLIENTE\"], axis=1)"
   ]
  },
  {
   "cell_type": "code",
   "execution_count": null,
   "metadata": {
    "scrolled": true
   },
   "outputs": [],
   "source": [
    "# Filtrar solo las columnas que son FLG\n",
    "df.filter(like=\"FLG_\", axis=1)"
   ]
  },
  {
   "cell_type": "markdown",
   "metadata": {},
   "source": [
    "# Caso de Aplicación\n",
    "Practiquemos con nuestros datos de Facebook. En esta oportunidad, haremos uso de una de las herramientas de Facebook llamado **Facebook Graph** con el fin de extraer los datos generales por el uso en su Plataforma.\n",
    "\n",
    "Previo a su uso, necesitamos tener instalado el sdk de Facebook para python."
   ]
  },
  {
   "cell_type": "code",
   "execution_count": null,
   "metadata": {},
   "outputs": [],
   "source": [
    "!pip install facebook-sdk"
   ]
  },
  {
   "cell_type": "markdown",
   "metadata": {},
   "source": [
    "### API Graph de Facebook\n",
    "\n",
    "El Explorador de API Graph es una herramienta que te permite construir y realizar consultas a la API Graph y ver sus respuestas, para cualquier aplicación en la que tenga un rol de administrador, desarrollador o tester.\n",
    "\n",
    "La herramienta es extremadamente útil durante el desarrollo de aplicaciones porque hereda todas las configuraciones de su aplicación, incluidos los permisos de inicio de sesión aprobados, las funciones y la configuración de los productos que haya agregado.\n",
    "\n",
    "Puedes probarlo en el siguiente enlace: [API Graph de Facebook](https://developers.facebook.com/tools/explorer/?classic=0)\n",
    "\n",
    "<img src=\"images/facebook-graph.png\" width=\"700\">"
   ]
  },
  {
   "cell_type": "markdown",
   "metadata": {},
   "source": [
    "### Perfil Público\n",
    "A continuación, se muestra un ejemplo del uso de Graph de Facebook para extraer nuestro Perfil Público."
   ]
  },
  {
   "cell_type": "code",
   "execution_count": 1,
   "metadata": {},
   "outputs": [],
   "source": [
    "import json\n",
    "import facebook\n",
    "import requests\n",
    "import pandas as pd"
   ]
  },
  {
   "cell_type": "code",
   "execution_count": 2,
   "metadata": {},
   "outputs": [],
   "source": [
    "fb_token = \"EAACoxsqOdRQBAMWdlzVOTZCVZCbsYpKahZApDsS1veUJLPVEgZAo6vk70IkLrxKkzQTOSYkqwlTiwsd6twdbiTHjjQ9EWahenyGuPIIzajigz4ceSZCwdJZAZCZBGj9ZAk3BkAe8wSzw9viGqW8GG09ZANoAh7mX7rL7DCNHPHoSzXHDL5rnzoKEnZAGsiY7O07Kr8ZD\"\n",
    "graph = facebook.GraphAPI(access_token=fb_token)"
   ]
  },
  {
   "cell_type": "code",
   "execution_count": 3,
   "metadata": {},
   "outputs": [
    {
     "data": {
      "text/plain": [
       "{'email',\n",
       " 'manage_pages',\n",
       " 'pages_messaging',\n",
       " 'pages_messaging_phone_number',\n",
       " 'pages_messaging_subscriptions',\n",
       " 'pages_show_list',\n",
       " 'public_profile',\n",
       " 'user_birthday',\n",
       " 'user_friends',\n",
       " 'user_likes',\n",
       " 'user_posts',\n",
       " 'user_tagged_places'}"
      ]
     },
     "execution_count": 3,
     "metadata": {},
     "output_type": "execute_result"
    }
   ],
   "source": [
    "graph.get_permissions(\"1735180309878057\")"
   ]
  },
  {
   "cell_type": "code",
   "execution_count": 4,
   "metadata": {
    "scrolled": true
   },
   "outputs": [],
   "source": [
    "perfil = graph.get_object(\"me\", fields='id,\\\n",
    "                                        email,\\\n",
    "                                        first_name,\\\n",
    "                                        last_name,\\\n",
    "                                        name,\\\n",
    "                                        birthday,\\\n",
    "                                        age_range,\\\n",
    "                                        gender,\\\n",
    "                                        location{general_info,location},\\\n",
    "                                        languages{name,description},\\\n",
    "                                        picture.width(500).height(500)')"
   ]
  },
  {
   "cell_type": "code",
   "execution_count": 5,
   "metadata": {
    "scrolled": true
   },
   "outputs": [
    {
     "name": "stdout",
     "output_type": "stream",
     "text": [
      "{\n",
      "    \"id\": \"1735180309878057\",\n",
      "    \"email\": \"michael7000_2@hotmail.com\",\n",
      "    \"first_name\": \"Michael Bryan\",\n",
      "    \"last_name\": \"Larico Barzola\",\n",
      "    \"name\": \"Michael Bryan Larico Barzola\",\n",
      "    \"birthday\": \"04/14/1994\",\n",
      "    \"languages\": [\n",
      "        {\n",
      "            \"name\": \"Ingles\",\n",
      "            \"id\": \"110867825605119\"\n",
      "        }\n",
      "    ],\n",
      "    \"picture\": {\n",
      "        \"data\": {\n",
      "            \"height\": 720,\n",
      "            \"is_silhouette\": false,\n",
      "            \"url\": \"https://platform-lookaside.fbsbx.com/platform/profilepic/?asid=1735180309878057&height=500&width=500&ext=1535988174&hash=AeReIJgyfZo8rjaT\",\n",
      "            \"width\": 720\n",
      "        }\n",
      "    }\n",
      "}\n"
     ]
    }
   ],
   "source": [
    "print(json.dumps(perfil, indent=4))"
   ]
  },
  {
   "cell_type": "markdown",
   "metadata": {},
   "source": [
    "¿Cómo lo puedo tranformar a un DataFrame?"
   ]
  },
  {
   "cell_type": "code",
   "execution_count": 6,
   "metadata": {
    "scrolled": true
   },
   "outputs": [],
   "source": [
    "dfPerfil = pd.DataFrame.from_dict(perfil, orient=\"index\").T"
   ]
  },
  {
   "cell_type": "code",
   "execution_count": 7,
   "metadata": {},
   "outputs": [
    {
     "data": {
      "text/html": [
       "<div>\n",
       "<style>\n",
       "    .dataframe thead tr:only-child th {\n",
       "        text-align: right;\n",
       "    }\n",
       "\n",
       "    .dataframe thead th {\n",
       "        text-align: left;\n",
       "    }\n",
       "\n",
       "    .dataframe tbody tr th {\n",
       "        vertical-align: top;\n",
       "    }\n",
       "</style>\n",
       "<table border=\"1\" class=\"dataframe\">\n",
       "  <thead>\n",
       "    <tr style=\"text-align: right;\">\n",
       "      <th></th>\n",
       "      <th>id</th>\n",
       "      <th>email</th>\n",
       "      <th>first_name</th>\n",
       "      <th>last_name</th>\n",
       "      <th>name</th>\n",
       "      <th>birthday</th>\n",
       "      <th>languages</th>\n",
       "      <th>picture</th>\n",
       "    </tr>\n",
       "  </thead>\n",
       "  <tbody>\n",
       "    <tr>\n",
       "      <th>0</th>\n",
       "      <td>1735180309878057</td>\n",
       "      <td>michael7000_2@hotmail.com</td>\n",
       "      <td>Michael Bryan</td>\n",
       "      <td>Larico Barzola</td>\n",
       "      <td>Michael Bryan Larico Barzola</td>\n",
       "      <td>04/14/1994</td>\n",
       "      <td>[{'name': 'Ingles', 'id': '110867825605119'}]</td>\n",
       "      <td>{'data': {'height': 720, 'is_silhouette': Fals...</td>\n",
       "    </tr>\n",
       "  </tbody>\n",
       "</table>\n",
       "</div>"
      ],
      "text/plain": [
       "                 id                      email     first_name       last_name  \\\n",
       "0  1735180309878057  michael7000_2@hotmail.com  Michael Bryan  Larico Barzola   \n",
       "\n",
       "                           name    birthday  \\\n",
       "0  Michael Bryan Larico Barzola  04/14/1994   \n",
       "\n",
       "                                       languages  \\\n",
       "0  [{'name': 'Ingles', 'id': '110867825605119'}]   \n",
       "\n",
       "                                             picture  \n",
       "0  {'data': {'height': 720, 'is_silhouette': Fals...  "
      ]
     },
     "execution_count": 7,
     "metadata": {},
     "output_type": "execute_result"
    }
   ],
   "source": [
    "dfPerfil.head()"
   ]
  },
  {
   "cell_type": "markdown",
   "metadata": {},
   "source": [
    "### Likes\n",
    "\n",
    "Ahora, haremos uso de Graph de Facebook para extraer nuestros Likes."
   ]
  },
  {
   "cell_type": "code",
   "execution_count": 8,
   "metadata": {
    "scrolled": true
   },
   "outputs": [],
   "source": [
    "l = []\n",
    "likes = graph.get_connections('me', 'likes', fields='id,name,created_time,link,description,category,fan_count')\n",
    "while True:\n",
    "    try:\n",
    "        if 'data' in likes.keys():\n",
    "            l += likes['data']\n",
    "            likes = requests.get(likes['paging']['next']).json()\n",
    "    except KeyError:\n",
    "        break"
   ]
  },
  {
   "cell_type": "code",
   "execution_count": 9,
   "metadata": {},
   "outputs": [
    {
     "name": "stdout",
     "output_type": "stream",
     "text": [
      "Se han extraído 605 likes\n",
      "Un ejemplo de un registro de Like: \n",
      "\n",
      "{\n",
      "    \"id\": \"164338080265686\",\n",
      "    \"name\": \"Cisco Latinoam\\u00e9rica\",\n",
      "    \"link\": \"https://www.facebook.com/CiscoLatinoamerica/\",\n",
      "    \"description\": \"Gu\\u00eda de P\\u00e1gina de Facebook de Cisco. \\n\\n\\u00a1Bienvenido a la p\\u00e1gina oficial de Cisco Latinoam\\u00e9rica en Facebook!\\n\\nEst\\u00e1 p\\u00e1gina tiene el objetivo de proveer informaci\\u00f3n acerca de Cisco, sus productos y soluciones y las actividades de la empresa en Latinoam\\u00e9rica; as\\u00ed como interactuar con el p\\u00fablico en un di\\u00e1logo abierto sobre temas relacionados. En esta p\\u00e1gina tambi\\u00e9n ofrecemos ocasionalmente regal\\u00edas, rifas, concursos e informaci\\u00f3n sobre eventos. Le invitamos a unirse a la conversaci\\u00f3n y dejar sus comentarios. \\n\\nComentarios o respuestas que sean ofensivas, abusivas, difamatorias o de car\\u00e1cter publicitario, o que est\\u00e9n fuera de contexto son sujeto de ser removidas. \\n\\nQueremos conocer tu opini\\u00f3n sobre nuestros contenidos y tener animadas discusiones con otros fans de Cisco. Esperamos tus publicaciones en el muro, conversaciones en el foro de discusi\\u00f3n o publicar im\\u00e1genes en la secci\\u00f3n de fotos.\\n\\nDinos lo que piensas. \\u00a1Esperamos con inter\\u00e9s escuchar tu opini\\u00f3n!\",\n",
      "    \"category\": \"Computer Company\",\n",
      "    \"fan_count\": 1554211,\n",
      "    \"created_time\": \"2016-02-20T01:26:52+0000\"\n",
      "}\n"
     ]
    }
   ],
   "source": [
    "print(\"Se han extraído {0} likes\".format(len(l)))\n",
    "print(\"Un ejemplo de un registro de Like: \\n\")\n",
    "print(json.dumps(l[0], indent=4))"
   ]
  },
  {
   "cell_type": "markdown",
   "metadata": {},
   "source": [
    "A partir de la lista generada de likes, crea un DataFrame llamado `dfLikes` y ordena las columnas de la siguiente manera: `id, name, created_time, link, description, category y fan_count`."
   ]
  },
  {
   "cell_type": "code",
   "execution_count": 10,
   "metadata": {},
   "outputs": [],
   "source": [
    "dfLikes = pd.DataFrame(l)[[\"id\", \"name\", \"created_time\", \"link\", \"description\", \"category\", \"fan_count\"]]"
   ]
  },
  {
   "cell_type": "code",
   "execution_count": 11,
   "metadata": {},
   "outputs": [
    {
     "data": {
      "text/html": [
       "<div>\n",
       "<style>\n",
       "    .dataframe thead tr:only-child th {\n",
       "        text-align: right;\n",
       "    }\n",
       "\n",
       "    .dataframe thead th {\n",
       "        text-align: left;\n",
       "    }\n",
       "\n",
       "    .dataframe tbody tr th {\n",
       "        vertical-align: top;\n",
       "    }\n",
       "</style>\n",
       "<table border=\"1\" class=\"dataframe\">\n",
       "  <thead>\n",
       "    <tr style=\"text-align: right;\">\n",
       "      <th></th>\n",
       "      <th>id</th>\n",
       "      <th>name</th>\n",
       "      <th>created_time</th>\n",
       "      <th>link</th>\n",
       "      <th>description</th>\n",
       "      <th>category</th>\n",
       "      <th>fan_count</th>\n",
       "    </tr>\n",
       "  </thead>\n",
       "  <tbody>\n",
       "    <tr>\n",
       "      <th>0</th>\n",
       "      <td>164338080265686</td>\n",
       "      <td>Cisco Latinoamérica</td>\n",
       "      <td>2016-02-20T01:26:52+0000</td>\n",
       "      <td>https://www.facebook.com/CiscoLatinoamerica/</td>\n",
       "      <td>Guía de Página de Facebook de Cisco. \\n\\n¡Bien...</td>\n",
       "      <td>Computer Company</td>\n",
       "      <td>1554211</td>\n",
       "    </tr>\n",
       "    <tr>\n",
       "      <th>1</th>\n",
       "      <td>107810395970444</td>\n",
       "      <td>Redbubble</td>\n",
       "      <td>2018-07-29T19:51:10+0000</td>\n",
       "      <td>https://www.facebook.com/Redbubble/</td>\n",
       "      <td>From hobbyists to pros, we have artists share ...</td>\n",
       "      <td>Product/Service</td>\n",
       "      <td>800950</td>\n",
       "    </tr>\n",
       "    <tr>\n",
       "      <th>2</th>\n",
       "      <td>603226016373047</td>\n",
       "      <td>Slides</td>\n",
       "      <td>2018-07-29T19:34:37+0000</td>\n",
       "      <td>https://www.facebook.com/slidesapp/</td>\n",
       "      <td>NaN</td>\n",
       "      <td>App Page</td>\n",
       "      <td>2740</td>\n",
       "    </tr>\n",
       "    <tr>\n",
       "      <th>3</th>\n",
       "      <td>101291573906616</td>\n",
       "      <td>Data Science Research Perú</td>\n",
       "      <td>2018-07-19T04:40:55+0000</td>\n",
       "      <td>https://www.facebook.com/DataScienceResearch/</td>\n",
       "      <td>NaN</td>\n",
       "      <td>Media/News Company</td>\n",
       "      <td>446</td>\n",
       "    </tr>\n",
       "    <tr>\n",
       "      <th>4</th>\n",
       "      <td>1528711564024672</td>\n",
       "      <td>Silicon Valley Memes &amp; Quotes</td>\n",
       "      <td>2018-07-16T05:20:48+0000</td>\n",
       "      <td>https://www.facebook.com/Silicon-Valley-Memes-...</td>\n",
       "      <td>NaN</td>\n",
       "      <td>Community</td>\n",
       "      <td>2786</td>\n",
       "    </tr>\n",
       "  </tbody>\n",
       "</table>\n",
       "</div>"
      ],
      "text/plain": [
       "                 id                           name              created_time  \\\n",
       "0   164338080265686            Cisco Latinoamérica  2016-02-20T01:26:52+0000   \n",
       "1   107810395970444                      Redbubble  2018-07-29T19:51:10+0000   \n",
       "2   603226016373047                         Slides  2018-07-29T19:34:37+0000   \n",
       "3   101291573906616     Data Science Research Perú  2018-07-19T04:40:55+0000   \n",
       "4  1528711564024672  Silicon Valley Memes & Quotes  2018-07-16T05:20:48+0000   \n",
       "\n",
       "                                                link  \\\n",
       "0       https://www.facebook.com/CiscoLatinoamerica/   \n",
       "1                https://www.facebook.com/Redbubble/   \n",
       "2                https://www.facebook.com/slidesapp/   \n",
       "3      https://www.facebook.com/DataScienceResearch/   \n",
       "4  https://www.facebook.com/Silicon-Valley-Memes-...   \n",
       "\n",
       "                                         description            category  \\\n",
       "0  Guía de Página de Facebook de Cisco. \\n\\n¡Bien...    Computer Company   \n",
       "1  From hobbyists to pros, we have artists share ...     Product/Service   \n",
       "2                                                NaN            App Page   \n",
       "3                                                NaN  Media/News Company   \n",
       "4                                                NaN           Community   \n",
       "\n",
       "   fan_count  \n",
       "0    1554211  \n",
       "1     800950  \n",
       "2       2740  \n",
       "3        446  \n",
       "4       2786  "
      ]
     },
     "execution_count": 11,
     "metadata": {},
     "output_type": "execute_result"
    }
   ],
   "source": [
    "dfLikes.head()"
   ]
  },
  {
   "cell_type": "markdown",
   "metadata": {},
   "source": [
    "Demos un vistazo general al DataFrame para saber cuántos registros y columnas tiene, cuánto pesa, qué tipos de datos contiene y la cantidad de nulos por columna."
   ]
  },
  {
   "cell_type": "code",
   "execution_count": 12,
   "metadata": {
    "scrolled": true
   },
   "outputs": [
    {
     "name": "stdout",
     "output_type": "stream",
     "text": [
      "<class 'pandas.core.frame.DataFrame'>\n",
      "RangeIndex: 605 entries, 0 to 604\n",
      "Data columns (total 7 columns):\n",
      "id              605 non-null object\n",
      "name            605 non-null object\n",
      "created_time    599 non-null object\n",
      "link            605 non-null object\n",
      "description     374 non-null object\n",
      "category        605 non-null object\n",
      "fan_count       605 non-null int64\n",
      "dtypes: int64(1), object(6)\n",
      "memory usage: 33.2+ KB\n"
     ]
    }
   ],
   "source": [
    "dfLikes.info()"
   ]
  },
  {
   "cell_type": "markdown",
   "metadata": {},
   "source": [
    "Si nos damos cuenta, la columna **created_time** es del tipo `Object`. Necesitamos crear una nueva columna que tenga el formato \"YYYYMMDD\"."
   ]
  },
  {
   "cell_type": "code",
   "execution_count": null,
   "metadata": {},
   "outputs": [],
   "source": [
    "# importar la librería datetime\n",
    "from datetime import datetime"
   ]
  },
  {
   "cell_type": "code",
   "execution_count": null,
   "metadata": {},
   "outputs": [],
   "source": [
    "# Eliminar los registros que tengan nulos en la columna \"created_time\"\n",
    "dfLikes.dropna(subset=[\"created_time\"], inplace=True)"
   ]
  },
  {
   "cell_type": "code",
   "execution_count": null,
   "metadata": {
    "scrolled": true
   },
   "outputs": [],
   "source": [
    "# Crear la nueva columna usando funciones de la librería datetime\n",
    "dfLikes[\"date\"] = dfLikes[\"created_time\"].apply(lambda d: datetime.strptime(d, '%Y-%m-%dT%H:%M:%S+%f').strftime('%Y%m%d'))"
   ]
  },
  {
   "cell_type": "markdown",
   "metadata": {},
   "source": [
    "Ordena el DataFrame `dfLikes` por el nuevo campo **date** de forma ascendente."
   ]
  },
  {
   "cell_type": "code",
   "execution_count": null,
   "metadata": {},
   "outputs": [],
   "source": [
    "dfLikes.sort_values(by=\"date\", ascending=True, inplace=True)"
   ]
  },
  {
   "cell_type": "markdown",
   "metadata": {},
   "source": [
    "¿Cómo ha sido mi comportamiento diario dando likes? Es decir, ¿Cuántos likes he dado en cada día?"
   ]
  },
  {
   "cell_type": "code",
   "execution_count": null,
   "metadata": {
    "scrolled": true
   },
   "outputs": [],
   "source": [
    "# Agrupar por día y contar la cantidad de páginas a las que les dí likes\n",
    "dfLikes.groupby(\"date\").agg({\"id\": \"count\"})"
   ]
  },
  {
   "cell_type": "markdown",
   "metadata": {},
   "source": [
    "¿Cómo ha sido mi comportamiento mensual dando likes? Es decir, ¿Cuántos likes he dado en cada mes?"
   ]
  },
  {
   "cell_type": "code",
   "execution_count": null,
   "metadata": {},
   "outputs": [],
   "source": [
    "# Crear la nueva columna usando funciones de la librería datetime\n",
    "dfLikes[\"periodo\"] = dfLikes[\"created_time\"].apply(lambda d: datetime.strptime(d, '%Y-%m-%dT%H:%M:%S+%f').strftime('%Y%m'))"
   ]
  },
  {
   "cell_type": "code",
   "execution_count": null,
   "metadata": {
    "scrolled": true
   },
   "outputs": [],
   "source": [
    "# Agrupar por periodo y contar la cantidad de páginas a las que les dí likes\n",
    "dfLikes.groupby(\"periodo\").agg({\"id\": \"count\"})"
   ]
  },
  {
   "cell_type": "code",
   "execution_count": null,
   "metadata": {},
   "outputs": [],
   "source": [
    "# Crear la nueva columna usando funciones de la librería datetime\n",
    "dfLikes[\"año\"] = dfLikes[\"created_time\"].apply(lambda d: datetime.strptime(d, '%Y-%m-%dT%H:%M:%S+%f').strftime('%Y'))"
   ]
  },
  {
   "cell_type": "code",
   "execution_count": null,
   "metadata": {
    "scrolled": true
   },
   "outputs": [],
   "source": [
    "# Agrupar por Año y contar la cantidad de páginas a las que les dí likes\n",
    "dfLikes.groupby(\"año\").agg({\"id\": \"count\"})"
   ]
  },
  {
   "cell_type": "code",
   "execution_count": null,
   "metadata": {},
   "outputs": [],
   "source": [
    "# Agrupar por año y obtener el promedio de la cantidad de fans de las páginas a las que les dí likes\n",
    "dfLikes.groupby(\"año\").agg({\"fan_count\": \"mean\"}).astype(int)"
   ]
  },
  {
   "cell_type": "markdown",
   "metadata": {},
   "source": [
    "Ordenemos los registros en base a la columna created_time"
   ]
  },
  {
   "cell_type": "code",
   "execution_count": null,
   "metadata": {
    "scrolled": true
   },
   "outputs": [],
   "source": [
    "dfLikes.sort_values(by=\"date\", ascending=True, inplace=True)"
   ]
  },
  {
   "cell_type": "markdown",
   "metadata": {},
   "source": [
    "Agrupemos los likes por categoría, y ordenarlos de forma descendente en base a la cantidad de likes."
   ]
  },
  {
   "cell_type": "code",
   "execution_count": null,
   "metadata": {
    "scrolled": true
   },
   "outputs": [],
   "source": [
    "dfLikes.groupby(\"category\", as_index=False).agg({\"id\": \"count\"})"
   ]
  },
  {
   "cell_type": "markdown",
   "metadata": {},
   "source": [
    "Crear una Pivot Table, donde pueda observar la cantidad de páginas por año (columnas) y categoría (índices)."
   ]
  },
  {
   "cell_type": "code",
   "execution_count": null,
   "metadata": {
    "scrolled": true
   },
   "outputs": [],
   "source": [
    "dfLikesPivot = dfLikes.pivot_table(index=\"category\", columns=[\"año\"], values=\"id\", aggfunc=\"count\", fill_value=0, margins=True)"
   ]
  },
  {
   "cell_type": "markdown",
   "metadata": {},
   "source": [
    "En base a la tabla anterior, identificar cuántos likes he dado sólo a páginas de la categoría **Education**."
   ]
  },
  {
   "cell_type": "code",
   "execution_count": null,
   "metadata": {
    "scrolled": false
   },
   "outputs": [],
   "source": [
    "dfLikesPivot.reset_index(inplace=True)\n",
    "dfLikesPivot.loc[dfLikesPivot[\"category\"] == \"Education\"]"
   ]
  },
  {
   "cell_type": "markdown",
   "metadata": {},
   "source": [
    "### Tagged Places\n",
    "\n",
    "Ahora, haremos uso de Graph de Facebook para extraer nuestras Etiquetas."
   ]
  },
  {
   "cell_type": "code",
   "execution_count": null,
   "metadata": {
    "scrolled": true
   },
   "outputs": [],
   "source": [
    "l = []\n",
    "etiquetas = graph.get_connections(\"me\", \"tagged_places\", fields='id,created_time,place')\n",
    "while True:\n",
    "    try:\n",
    "        if 'data' in etiquetas.keys():\n",
    "            l += etiquetas['data']\n",
    "            etiquetas = requests.get(etiquetas['paging']['next']).json()\n",
    "    except:\n",
    "        break"
   ]
  },
  {
   "cell_type": "code",
   "execution_count": null,
   "metadata": {},
   "outputs": [],
   "source": [
    "print(\"Se han extraído {0} etiquetas\".format(len(l)))\n",
    "print(\"Un ejemplo de un registro de Etiqueta: \\n\")\n",
    "print(json.dumps(l[0], indent=4))"
   ]
  },
  {
   "cell_type": "markdown",
   "metadata": {},
   "source": [
    "A partir de la lista generada de etiquetas, crea un DataFrame llamado `dfEtiquetas` y ordena las columnas de la siguiente manera: `id, created_time y place`."
   ]
  },
  {
   "cell_type": "code",
   "execution_count": null,
   "metadata": {
    "scrolled": true
   },
   "outputs": [],
   "source": [
    "dfEtiquetas = pd.DataFrame(l)[[\"id\", \"created_time\", \"place\"]]"
   ]
  },
  {
   "cell_type": "markdown",
   "metadata": {},
   "source": [
    "Demos un vistazo general al DataFrame para saber cuántos registros y columnas tiene, cuánto pesa, qué tipos de datos contiene y la cantidad de nulos por columna."
   ]
  },
  {
   "cell_type": "code",
   "execution_count": null,
   "metadata": {
    "scrolled": true
   },
   "outputs": [],
   "source": [
    "dfEtiquetas.info()"
   ]
  },
  {
   "cell_type": "markdown",
   "metadata": {},
   "source": [
    "Si nos damos cuenta, la columna **created_time** es del tipo `Object`. Necesitamos crear una nueva columna que tenga el formato \"YYYYMMDD\"."
   ]
  },
  {
   "cell_type": "code",
   "execution_count": null,
   "metadata": {},
   "outputs": [],
   "source": [
    "# Eliminar los registros que tengan nulos en la columna \"created_time\"\n",
    "dfEtiquetas.dropna(subset=[\"created_time\"], inplace=True)"
   ]
  },
  {
   "cell_type": "code",
   "execution_count": null,
   "metadata": {
    "scrolled": true
   },
   "outputs": [],
   "source": [
    "# Crear la nueva columna usando funciones de la librería datetime\n",
    "dfEtiquetas[\"date\"] = dfEtiquetas[\"created_time\"].apply(lambda d: datetime.strptime(d, '%Y-%m-%dT%H:%M:%S+%f').strftime('%Y%m%d'))"
   ]
  },
  {
   "cell_type": "code",
   "execution_count": null,
   "metadata": {
    "scrolled": true
   },
   "outputs": [],
   "source": [
    "# Crear 2 nuevas columnas llamadas longitude y latitude, basados en el campo place\n",
    "dfEtiquetas[\"latitude\"] = dfEtiquetas[\"place\"].apply(lambda p: p[\"location\"][\"latitude\"])\n",
    "dfEtiquetas[\"longitude\"] = dfEtiquetas[\"place\"].apply(lambda p: p[\"location\"][\"longitude\"])"
   ]
  },
  {
   "cell_type": "code",
   "execution_count": null,
   "metadata": {
    "scrolled": true
   },
   "outputs": [],
   "source": [
    "dfEtiquetas"
   ]
  },
  {
   "cell_type": "code",
   "execution_count": null,
   "metadata": {
    "scrolled": true
   },
   "outputs": [],
   "source": [
    "# ¿En cuántas ciudades he sido etiquetado?... Y ¿Cuántas veces he sido etiquetado en cada ciudad?\n",
    "dfEtiquetas[\"city\"] = dfEtiquetas[\"place\"].apply(lambda p: p[\"location\"][\"city\"] if \"city\" in p[\"location\"].keys() else None)"
   ]
  },
  {
   "cell_type": "code",
   "execution_count": null,
   "metadata": {
    "scrolled": false
   },
   "outputs": [],
   "source": [
    "dfEtiquetas.groupby(\"city\", as_index=False).agg({\"id\": \"count\"}).sort_values(by=\"id\", ascending=False)"
   ]
  }
 ],
 "metadata": {
  "kernelspec": {
   "display_name": "Python 3",
   "language": "python",
   "name": "python3"
  },
  "language_info": {
   "codemirror_mode": {
    "name": "ipython",
    "version": 3
   },
   "file_extension": ".py",
   "mimetype": "text/x-python",
   "name": "python",
   "nbconvert_exporter": "python",
   "pygments_lexer": "ipython3",
   "version": "3.6.3"
  }
 },
 "nbformat": 4,
 "nbformat_minor": 2
}
