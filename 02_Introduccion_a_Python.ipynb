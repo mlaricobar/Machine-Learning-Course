{
 "cells": [
  {
   "cell_type": "markdown",
   "metadata": {},
   "source": [
    "## ¿Por qué elegir Python para Análisis de Datos?\n",
    "\n",
    "Python es el lenguaje de programación de elección para muchos científicos, en gran medida porque ofrece una gran cantidad de poder para analizar y modelar datos con relativamente pocos gastos generales en términos de tiempo de aprendizaje, instalación o desarrollo.\n",
    "\n",
    "El [tutorial de Python](http://docs.python.org/3/tutorial/) es un excelente lugar para comenzar a familiarizarse con el lenguaje. Aquí hay algunos motivos que favorecen el aprendizaje de Python:\n",
    "\n",
    "- De código abierto - gratis para instalar\n",
    "- Impresionante comunidad en línea\n",
    "- Muy fácil de aprender\n",
    "- Puede convertirse en un lenguaje común para la ciencia de datos y la producción de productos analíticos basados en la web.\n",
    "\n",
    "<img src=\"images/python_growing.jpg\" width=\"400\">"
   ]
  },
  {
   "cell_type": "markdown",
   "metadata": {},
   "source": [
    "## Pero ... y si ya sabemos R?\n",
    "\n",
    "... ¿Cuál es mejor? Es una pregunta difícil de responder, pero aquí dejamos algunos artículos que tratan de resaltar las ventajas y desventajas de cada uno.\n",
    "\n",
    "https://www.datanami.com/2018/07/19/python-gains-traction-among-data-scientists/\n",
    "\n",
    "https://elitedatascience.com/r-vs-python-for-data-science\n",
    "\n",
    "https://www.datacamp.com/community/tutorials/r-or-python-for-data-analysis\n",
    "\n",
    "http://www.kdnuggets.com/2015/05/r-vs-python-data-science.html\n",
    "\n",
    "http://www.kdnuggets.com/2015/03/the-grammar-data-science-python-vs-r.html\n",
    "\n",
    "https://www.dataquest.io/blog/python-vs-r/\n",
    "\n",
    "http://www.dataschool.io/python-or-r-for-data-science/\n",
    "\n",
    "https://www.digitalvidya.com/blog/r-vs-python/"
   ]
  },
  {
   "cell_type": "markdown",
   "metadata": {},
   "source": [
    "### Validemos la instalación de los paquetes de Anaconda\n",
    "\n",
    "Tu puedes ejecutar el siguiente código para revisar las versiones de los paquetes que deberían estár instalados.\n",
    "\n",
    "* [Python](http://www.python.org): Usaremos la version 3.6.\n",
    "* [Numpy](http://www.numpy.org): Extensión numérica para cálculos de algebra lineal y con matrices multidimensionales.\n",
    "* [Scipy](http://www.scipy.org): Libería adicional para programación científica.\n",
    "* [Matplotlib](http://matplotlib.sf.net): Librería para realizar gráficas y ploteos.\n",
    "* [IPython](http://ipython.org): Librería para manejar la interfaz del notebook.\n",
    "* [Pandas](http://pandas.pydata.org/): Librería para análisis de datos.\n",
    "* [Seaborn](stanford.edu/~mwaskom/software/seaborn/): Librería usado principalmente para gráficos con estilos.\n",
    "* [scikit-learn](http://scikit-learn.org), Librería de Machine learning."
   ]
  },
  {
   "cell_type": "code",
   "execution_count": 4,
   "metadata": {},
   "outputs": [
    {
     "name": "stdout",
     "output_type": "stream",
     "text": [
      "adal==0.6.0\n",
      "alabaster==0.7.10\n",
      "anaconda-client==1.6.14\n",
      "anaconda-navigator==1.8.3\n",
      "anaconda-project==0.8.0\n",
      "asn1crypto==0.22.0\n",
      "astroid==1.5.3\n",
      "astropy==2.0.2\n",
      "attrs==18.1.0\n",
      "awscli==1.15.39\n",
      "azure==3.0.0\n",
      "azure-batch==4.1.3\n",
      "azure-common==1.1.11\n",
      "azure-cosmosdb-nspkg==2.0.2\n",
      "azure-cosmosdb-table==1.0.2\n",
      "azure-datalake-store==0.0.19\n",
      "azure-eventgrid==0.1.0\n",
      "azure-graphrbac==0.40.0\n",
      "azure-keyvault==0.3.7\n",
      "azure-mgmt==2.0.0\n",
      "azure-mgmt-advisor==1.0.1\n",
      "azure-mgmt-applicationinsights==0.1.1\n",
      "azure-mgmt-authorization==0.30.0\n",
      "azure-mgmt-batch==5.0.0\n",
      "azure-mgmt-batchai==0.2.0\n",
      "azure-mgmt-billing==0.1.0\n",
      "azure-mgmt-cdn==2.0.0\n",
      "azure-mgmt-cognitiveservices==2.0.0\n",
      "azure-mgmt-commerce==1.0.1\n",
      "azure-mgmt-compute==3.0.1\n",
      "azure-mgmt-consumption==2.0.0\n",
      "azure-mgmt-containerinstance==0.3.1\n",
      "azure-mgmt-containerregistry==1.0.1\n",
      "azure-mgmt-containerservice==3.0.1\n",
      "azure-mgmt-cosmosdb==0.3.1\n",
      "azure-mgmt-datafactory==0.4.0\n",
      "azure-mgmt-datalake-analytics==0.3.0\n",
      "azure-mgmt-datalake-nspkg==2.0.0\n",
      "azure-mgmt-datalake-store==0.3.0\n",
      "azure-mgmt-devtestlabs==2.2.0\n",
      "azure-mgmt-dns==1.2.0\n",
      "azure-mgmt-eventgrid==0.4.0\n",
      "azure-mgmt-eventhub==1.2.0\n",
      "azure-mgmt-hanaonazure==0.1.1\n",
      "azure-mgmt-iothub==0.4.0\n",
      "azure-mgmt-iothubprovisioningservices==0.1.0\n",
      "azure-mgmt-keyvault==0.40.0\n",
      "azure-mgmt-loganalytics==0.1.0\n",
      "azure-mgmt-logic==2.1.0\n",
      "azure-mgmt-machinelearningcompute==0.4.0\n",
      "azure-mgmt-managementpartner==0.1.0\n",
      "azure-mgmt-marketplaceordering==0.1.0\n",
      "azure-mgmt-media==0.2.0\n",
      "azure-mgmt-monitor==0.4.0\n",
      "azure-mgmt-msi==0.1.0\n",
      "azure-mgmt-network==1.7.1\n",
      "azure-mgmt-notificationhubs==1.0.0\n",
      "azure-mgmt-nspkg==2.0.0\n",
      "azure-mgmt-powerbiembedded==1.0.0\n",
      "azure-mgmt-rdbms==0.1.0\n",
      "azure-mgmt-recoveryservices==0.2.0\n",
      "azure-mgmt-recoveryservicesbackup==0.1.1\n",
      "azure-mgmt-redis==5.0.0\n",
      "azure-mgmt-relay==0.1.0\n",
      "azure-mgmt-reservations==0.1.0\n",
      "azure-mgmt-resource==1.2.2\n",
      "azure-mgmt-scheduler==1.1.3\n",
      "azure-mgmt-search==1.0.0\n",
      "azure-mgmt-servermanager==1.2.0\n",
      "azure-mgmt-servicebus==0.4.0\n",
      "azure-mgmt-servicefabric==0.1.0\n",
      "azure-mgmt-sql==0.8.6\n",
      "azure-mgmt-storage==1.5.0\n",
      "azure-mgmt-subscription==0.1.0\n",
      "azure-mgmt-trafficmanager==0.40.0\n",
      "azure-mgmt-web==0.34.1\n",
      "azure-nspkg==2.0.0\n",
      "azure-servicebus==0.21.1\n",
      "azure-servicefabric==6.1.2.9\n",
      "azure-servicemanagement-legacy==0.20.6\n",
      "azure-storage-blob==1.1.0\n",
      "azure-storage-common==1.1.0\n",
      "azure-storage-file==1.1.0\n",
      "azure-storage-nspkg==3.0.0\n",
      "azure-storage-queue==1.1.0\n",
      "babel==2.5.0\n",
      "backports.shutil-get-terminal-size==1.0.0\n",
      "beautifulsoup4==4.6.0\n",
      "bitarray==0.8.1\n",
      "bkcharts==0.2\n",
      "blaze==0.11.3\n",
      "bleach==2.0.0\n",
      "bokeh==0.12.10\n",
      "boto==2.48.0\n",
      "boto3==1.7.39\n",
      "botocore==1.10.39\n",
      "Bottleneck==1.2.1\n",
      "bs4==0.0.1\n",
      "CacheControl==0.12.3\n",
      "captcha-solver==0.1.1\n",
      "catboost==0.6.1.1\n",
      "certifi==2018.4.16\n",
      "cffi==1.10.0\n",
      "chardet==3.0.4\n",
      "cheroot==6.0.0\n",
      "click==6.7\n",
      "click-plugins==1.0.3\n",
      "cligj==0.4.0\n",
      "cloudpickle==0.4.0\n",
      "clyent==1.2.2\n",
      "colorama==0.3.9\n",
      "comet-ml==1.0.16\n",
      "comtypes==1.1.2\n",
      "conda==4.4.7\n",
      "conda-build==3.0.27\n",
      "conda-verify==2.0.0\n",
      "configparser==3.5.0\n",
      "contextlib2==0.5.5\n",
      "cryptography==2.0.3\n",
      "cssselect==1.0.3\n",
      "cycler==0.10.0\n",
      "Cython==0.26.1\n",
      "cytoolz==0.8.2\n",
      "dash==0.21.1\n",
      "dash-core-components==0.22.1\n",
      "dash-html-components==0.10.1\n",
      "dash-renderer==0.12.1\n",
      "dask==0.17.5\n",
      "databricks-cli==0.7.2\n",
      "datashape==0.5.4\n",
      "deap==1.2.2\n",
      "decorator==4.1.2\n",
      "descartes==1.1.0\n",
      "distlib==0.2.5\n",
      "distributed==1.21.8\n",
      "docutils==0.14\n",
      "eli5==0.8\n",
      "entrypoints==0.2.3\n",
      "et-xmlfile==1.0.1\n",
      "-e git+https://github.com/mobolic/facebook-sdk.git@b953a62dba90dcce3dbea886fa90df93cf08cb70#egg=facebook_sdk\n",
      "fake-useragent==0.1.10\n",
      "fastcache==1.0.2\n",
      "filelock==2.0.12\n",
      "findspark==1.1.0\n",
      "Fiona==1.7.9\n",
      "Flask==0.12.2\n",
      "Flask-Compress==1.4.0\n",
      "Flask-Cors==3.0.3\n",
      "future==0.16.0\n",
      "futures==3.1.1\n",
      "geopandas==0.3.0\n",
      "gevent==1.2.2\n",
      "gitdb2==2.0.3\n",
      "GitPython==2.1.10\n",
      "glob2==0.5\n",
      "googlemaps==2.5.1\n",
      "graphviz==0.8.3\n",
      "greenlet==0.4.12\n",
      "gym==0.10.5\n",
      "h5py==2.7.0\n",
      "happybase==1.1.0\n",
      "heapdict==1.0.0\n",
      "html5lib==0.999999999\n",
      "idna==2.6\n",
      "imageio==2.2.0\n",
      "imagesize==0.7.1\n",
      "inflection==0.3.1\n",
      "ipykernel==4.6.1\n",
      "ipython==6.1.0\n",
      "ipython-genutils==0.2.0\n",
      "ipywidgets==7.0.0\n",
      "isodate==0.6.0\n",
      "isort==4.2.15\n",
      "itsdangerous==0.24\n",
      "jdcal==1.3\n",
      "jedi==0.10.2\n",
      "Jinja2==2.10\n",
      "jmespath==0.9.3\n",
      "joblib==0.11\n",
      "jsonschema==2.6.0\n",
      "jupyter-client==5.2.3\n",
      "jupyter-console==5.2.0\n",
      "jupyter-contrib-core==0.3.3\n",
      "jupyter-contrib-nbextensions==0.3.3\n",
      "jupyter-core==4.4.0\n",
      "jupyter-highlight-selected-word==0.1.0\n",
      "jupyter-latex-envs==1.4.1\n",
      "jupyter-nbextensions-configurator==0.4.0\n",
      "jupyterlab==0.32.1\n",
      "jupyterlab-launcher==0.10.5\n",
      "kafka-python==1.3.5\n",
      "kaggle==1.3.8\n",
      "keyring==12.2.1\n",
      "kmodes==0.8\n",
      "lazy-object-proxy==1.3.1\n",
      "lightgbm==2.1.0\n",
      "llvmlite==0.20.0\n",
      "locket==0.2.0\n",
      "lockfile==0.12.2\n",
      "lxml==4.1.0\n",
      "MarkupSafe==1.0\n",
      "matplotlib==2.1.0\n",
      "mccabe==0.6.1\n",
      "menuinst==1.4.10\n",
      "mistune==0.7.4\n",
      "mkl-fft==1.0.2\n",
      "mkl-random==1.0.1\n",
      "mlflow==0.1.0\n",
      "more-itertools==4.1.0\n",
      "mpmath==0.19\n",
      "msgpack==0.5.6\n",
      "msgpack-python==0.4.8\n",
      "msrest==0.4.29\n",
      "msrestazure==0.4.31\n",
      "multipledispatch==0.4.9\n",
      "munch==2.3.1\n",
      "navigator-updater==0.1.0\n",
      "nbconvert==5.3.1\n",
      "nbformat==4.4.0\n",
      "networkx==2.0\n",
      "nltk==3.2.4\n",
      "nose==1.3.7\n",
      "notebook==5.3.1\n",
      "numba==0.35.0+10.g143f70e\n",
      "numexpr==2.6.2\n",
      "numpy==1.13.3\n",
      "numpydoc==0.7.0\n",
      "oauthlib==2.1.0\n",
      "odo==0.5.1\n",
      "olefile==0.44\n",
      "opencv-python==3.4.0.12\n",
      "openpyxl==2.4.8\n",
      "packaging==16.8\n",
      "pandas==0.20.3\n",
      "pandas-datareader==0.6.0\n",
      "pandocfilters==1.4.2\n",
      "parse==1.8.2\n",
      "partd==0.3.8\n",
      "path.py==10.3.1\n",
      "pathlib2==2.3.0\n",
      "patsy==0.4.1\n",
      "pep8==1.7.0\n",
      "pickleshare==0.7.4\n",
      "Pillow==4.2.1\n",
      "pkginfo==1.4.1\n",
      "plotly==2.5.1\n",
      "ply==3.10\n",
      "portend==2.2\n",
      "progress==1.3\n",
      "prompt-toolkit==1.0.15\n",
      "protobuf==3.6.0\n",
      "psutil==5.4.0\n",
      "psycopg2==2.7.4\n",
      "py==1.4.34\n",
      "py4j==0.10.6\n",
      "pyasn1==0.4.3\n",
      "PyAutoGUI==0.9.36\n",
      "pycodestyle==2.3.1\n",
      "pycosat==0.6.3\n",
      "pycparser==2.18\n",
      "pycrypto==2.6.1\n",
      "pycurl==7.43.0\n",
      "pydocumentdb==2.3.1\n",
      "pyee==5.0.0\n",
      "pyfcm==1.4.5\n",
      "pyflakes==1.6.0\n",
      "pygal==2.4.0\n",
      "pyglet==1.3.2\n",
      "Pygments==2.2.0\n",
      "PyJWT==1.6.3\n",
      "pylint==1.7.4\n",
      "PyMsgBox==1.0.6\n",
      "pyodbc==4.0.17\n",
      "pyOpenSSL==17.2.0\n",
      "pyparsing==2.2.0\n",
      "pypiwin32==220\n",
      "pyppeteer==0.0.12\n",
      "pyproj==1.9.5.1\n",
      "pyquery==1.4.0\n",
      "PySAL==1.14.3\n",
      "PyScreeze==0.1.13\n",
      "pyshp==1.2.12\n",
      "PySocks==1.6.7\n",
      "pyspark==2.3.0\n",
      "pytesseract==0.2.0\n",
      "pytest==3.2.1\n",
      "python-dateutil==2.6.1\n",
      "PyTweening==1.0.3\n",
      "pytz==2017.2\n",
      "PyWavelets==0.5.2\n",
      "pywin32==221\n",
      "pywin32-ctypes==0.1.2\n",
      "pywinpty==0.5.1\n",
      "PyYAML==3.12\n",
      "pyzmq==16.0.2\n",
      "QtAwesome==0.4.4\n",
      "qtconsole==4.3.1\n",
      "QtPy==1.3.1\n",
      "querystring-parser==1.2.3\n",
      "rauth==0.7.3\n",
      "requests==2.18.4\n",
      "requests-file==1.4.3\n",
      "requests-ftp==0.3.1\n",
      "requests-html==0.8.0\n",
      "requests-oauthlib==0.8.0\n",
      "requests-toolbelt==0.8.0\n",
      "rise==5.1.0\n",
      "rope==0.10.5\n",
      "rpy2==2.8.6\n",
      "rsa==3.4.2\n",
      "Rtree==0.8.3\n",
      "ruamel-yaml==0.11.14\n",
      "s3transfer==0.1.13\n",
      "scikit-image==0.13.0\n",
      "scikit-learn==0.19.1\n",
      "scikit-plot==0.3.4\n",
      "scipy==0.19.1\n",
      "seaborn==0.8\n",
      "selenium==3.9.0\n",
      "Send2Trash==1.5.0\n",
      "Shapely==1.6.4.post1\n",
      "simplegeneric==0.8.1\n",
      "singledispatch==3.4.0.3\n",
      "six==1.11.0\n",
      "smmap2==2.0.3\n",
      "snowballstemmer==1.2.1\n",
      "sortedcollections==0.5.3\n",
      "sortedcontainers==1.5.7\n",
      "Sphinx==1.6.3\n",
      "sphinxcontrib-websupport==1.0.1\n",
      "spyder==3.2.4\n",
      "SQLAlchemy==1.1.13\n",
      "statsmodels==0.8.0\n",
      "stopit==1.1.2\n",
      "sympy==1.1.1\n",
      "tables==3.4.2\n",
      "tabulate==0.8.2\n",
      "tblib==1.3.2\n",
      "tempora==1.10\n",
      "terminado==0.8.1\n",
      "testpath==0.3.1\n",
      "thriftpy==0.3.9\n",
      "toolz==0.8.2\n",
      "tornado==4.5.2\n",
      "TPOT==0.9.3\n",
      "tqdm==4.23.4\n",
      "traitlets==4.3.2\n",
      "typing==3.6.2\n",
      "unicodecsv==0.14.1\n",
      "Unidecode==1.0.22\n",
      "update-checker==0.16\n",
      "urllib3==1.22\n",
      "utm==0.4.2\n",
      "uuid==1.30\n",
      "vecstack==0.2.1\n",
      "virtualenv==15.1.0\n",
      "w3lib==1.19.0\n",
      "wcwidth==0.1.7\n",
      "webencodings==0.5.1\n",
      "websocket-client==0.47.0\n",
      "websockets==4.0.1\n",
      "Werkzeug==0.14.1\n",
      "widgetsnbextension==3.0.2\n",
      "win-inet-pton==1.0.1\n",
      "win-unicode-console==0.5\n",
      "wincertstore==0.2\n",
      "woe==0.1.4\n",
      "wrapt==1.10.11\n",
      "wurlitzer==1.0.2\n",
      "xgboost==0.7\n",
      "xlrd==1.1.0\n",
      "XlsxWriter==1.0.2\n",
      "xlwings==0.11.4\n",
      "xlwt==1.3.0\n",
      "yapf==0.20.1\n",
      "zict==0.1.3\n",
      "zipstream==1.1.4\n"
     ]
    }
   ],
   "source": [
    "!pip freeze"
   ]
  },
  {
   "cell_type": "code",
   "execution_count": 5,
   "metadata": {},
   "outputs": [
    {
     "name": "stdout",
     "output_type": "stream",
     "text": [
      " Volume in drive D has no label.\n",
      " Volume Serial Number is 80BD-A8D7\n",
      "\n",
      " Directory of D:\\Clases\\Segundo_Curso\\Material\n",
      "\n",
      "21/07/2018  03:15 p.m.    <DIR>          .\n",
      "21/07/2018  03:15 p.m.    <DIR>          ..\n",
      "21/07/2018  03:02 p.m.    <DIR>          .ipynb_checkpoints\n",
      "04/07/2018  02:44 p.m.           254,853 01_Instrucciones_de_como_usar_Python.html\n",
      "21/07/2018  03:15 p.m.           169,731 02_Introduccion_a_Python.ipynb\n",
      "21/07/2018  08:10 a.m.            10,357 03_Introduccion_a_Numpy.ipynb\n",
      "21/07/2018  07:28 a.m.            43,106 04_Introduccion_a_Pandas.ipynb\n",
      "21/07/2018  08:10 a.m.    <DIR>          data\n",
      "21/07/2018  07:55 a.m.             5,702 Ejercicios - Introducción a Python.ipynb\n",
      "21/07/2018  07:44 a.m.    <DIR>          images\n",
      "21/07/2018  03:02 p.m.           277,843 Resolucion.ipynb\n",
      "               6 File(s)        761,592 bytes\n",
      "               5 Dir(s)  707,657,175,040 bytes free\n"
     ]
    }
   ],
   "source": [
    "!dir"
   ]
  },
  {
   "cell_type": "markdown",
   "metadata": {},
   "source": [
    "<div class=\"alert alert-info\" role=\"alert\">\n",
    "  <strong>Nota:</strong> Para ejecutar el contenido de una celda presionar **`shift` + `enter`**\n",
    "</div>"
   ]
  },
  {
   "cell_type": "code",
   "execution_count": 6,
   "metadata": {},
   "outputs": [
    {
     "name": "stdout",
     "output_type": "stream",
     "text": [
      "Versión de Python: 3.6.3 |Anaconda custom (64-bit)| (default, Oct 15 2017, 03:27:45) [MSC v.1900 64 bit (AMD64)]\n",
      "IPython: 6.1.0\n",
      "Numpy: 1.13.3\n",
      "Scipy: 0.19.1\n",
      "Matplotlib: 2.1.0\n",
      "Pandas: 0.20.3\n",
      "Scikit-learn: 0.19.1\n",
      "Seaborn 0.8.0\n"
     ]
    }
   ],
   "source": [
    "import sys\n",
    "\n",
    "print('Versión de Python:', sys.version)\n",
    "\n",
    "import IPython\n",
    "print('IPython:', IPython.__version__)\n",
    "\n",
    "import numpy\n",
    "print('Numpy:', numpy.__version__)\n",
    "\n",
    "import scipy\n",
    "print('Scipy:', scipy.__version__)\n",
    "\n",
    "import matplotlib\n",
    "print('Matplotlib:', matplotlib.__version__)\n",
    "\n",
    "import pandas\n",
    "print('Pandas:', pandas.__version__)\n",
    "\n",
    "import sklearn\n",
    "print('Scikit-learn:', sklearn.__version__)\n",
    "\n",
    "import seaborn\n",
    "print('Seaborn', seaborn.__version__)"
   ]
  },
  {
   "cell_type": "markdown",
   "metadata": {},
   "source": [
    "En este notebook tendremos una introducción a Python. Existen muchos recursos en línea donde se puede aprender este lenguaje con mayor profundidad. El [Tutorial de Python](http://docs.python.org/2/tutorial/) es un buen punto de partida. Aquí listo algunos de los más importantes:\n",
    "\n",
    "1. [Udemy](https://www.udemy.com/)\n",
    "2. [DataCamp](https://www.datacamp.com/)\n",
    "3. [DataQuest](https://www.dataquest.io/)\n",
    "4. [Coursera](https://www.coursera.org/)\n",
    "5. [Udacity](https://www.udacity.com/)\n",
    "6. [Analytics Vidya](https://www.analyticsvidhya.com/)\n",
    "7. [Databricks](https://databricks.com/) (Uso del Api de Python para Spark)\n",
    "8. [Towards Data Science](https://towardsdatascience.com/)\n",
    "9. [Kdnuggets](https://www.kdnuggets.com/)\n",
    "\n",
    "Durante las sesiones de clase, haremos uso de los Notebooks. Una buena introducción a los notebooks se puede encontrar en la [Documentación de Jupyter](https://jupyter-notebook.readthedocs.io/en/stable/).\n",
    "\n",
    "De forma general, los notebooks tiene celdas de código (que por lo general son seguidas de celdas de resultados) y de texto. Un ejemplo de celda de texto es lo que estas leyendo ahora. Las celdas de código se reconocen fácilmente porque empiezan con **`In []:`** y con algún número, por lo general entre los corchetes, una vez que son ejecutados. Si ubicas tu cursor en una de las celdas de código y presionas **`shift` + `enter`**, el código se ejecutará en el intérprete de Python y el resultado se pintará en la celda de salida o resultado.\n",
    "\n",
    "<img src=\"images/blank-notebook-ui.png\" width=\"700\">"
   ]
  },
  {
   "cell_type": "markdown",
   "metadata": {},
   "source": [
    "# I. Tipos de variables\n",
    "\n",
    "Python es un lenguaje de tipado dinámico, o sea que las variables no tienen un tipo y por lo tanto no deben ser declaradas. Los valores, sin embargo, tienen tipo. Puedes consultar a una variable el tipo de valor que contiene.\n",
    "\n",
    "Estos tipos son,\n",
    "\n",
    "| Nro | Tipo de Dato |\n",
    "|------|------|\n",
    "| 1. |   Booleanos  |\n",
    "| 2. |   Numéricos  |\n",
    "| 3. |   Cadenas de caractéres o Strings  |\n",
    "| 4. |   Datos binarios o Bytes  |\n",
    "| 5. |   Listas  |\n",
    "| 6. |   Tuplas  |\n",
    "| 7. |   Rangos  |\n",
    "| 8. |   Conjuntos o Sets  |\n",
    "| 9. |   Diccionarios  |"
   ]
  },
  {
   "cell_type": "markdown",
   "metadata": {},
   "source": [
    "## 1. Booleanos\n",
    "\n",
    "Los tipos de datos booleanos pueden tomar dos valores: Verdadero (True) o Falso (False). Se pueden declarar variables con un valor de tipo booleano y también evaluar expresiones para obtener un valor tipo booleano."
   ]
  },
  {
   "cell_type": "code",
   "execution_count": 7,
   "metadata": {},
   "outputs": [
    {
     "name": "stdout",
     "output_type": "stream",
     "text": [
      "True <class 'bool'>\n"
     ]
    }
   ],
   "source": [
    "# Declarar una variable con un valor del tipo booleano\n",
    "var = True\n",
    "print(var, type(var))"
   ]
  },
  {
   "cell_type": "code",
   "execution_count": 8,
   "metadata": {},
   "outputs": [
    {
     "name": "stdout",
     "output_type": "stream",
     "text": [
      "True <class 'bool'>\n"
     ]
    }
   ],
   "source": [
    "# Declarar una variable con un valor resultado de una expresión\n",
    "x = 24\n",
    "var = (x > 20)\n",
    "print(var, type(var))"
   ]
  },
  {
   "cell_type": "markdown",
   "metadata": {},
   "source": [
    "## 2. Numéricos\n",
    "\n",
    "Los tipos de datos numéricos son ampliamente usados en Python. Existen 3 tipos importantes,\n",
    "\n",
    "- Números enteros (\"int\" del inglés integer, entero)\n",
    "- Números racionales (\"float\" del inglés floating point, punto flotante)\n",
    "- Números complejos (\"complex\" del inglés complex, complejo)\n",
    "\n",
    "En Python 2 existía int (entero corto) y long (entero largo). En Python 3 sólo existe int."
   ]
  },
  {
   "cell_type": "markdown",
   "metadata": {},
   "source": [
    "### Tipo de dato entero"
   ]
  },
  {
   "cell_type": "code",
   "execution_count": 9,
   "metadata": {},
   "outputs": [
    {
     "name": "stdout",
     "output_type": "stream",
     "text": [
      "24 <class 'int'>\n"
     ]
    }
   ],
   "source": [
    "# Declarar un variable con un valor entero\n",
    "x = 24\n",
    "print(x, type(x))"
   ]
  },
  {
   "cell_type": "code",
   "execution_count": 10,
   "metadata": {},
   "outputs": [
    {
     "name": "stdout",
     "output_type": "stream",
     "text": [
      "3 <class 'int'>\n"
     ]
    }
   ],
   "source": [
    "# Declarar una variable con un valor numérico usando la función int\n",
    "x = int(3.1416)\n",
    "print(x, type(x))"
   ]
  },
  {
   "cell_type": "markdown",
   "metadata": {},
   "source": [
    "<div class=\"alert alert-info\" role=\"alert\">\n",
    "  <strong>Nota:</strong> Help es uno de los comandos utilizados para obtener documentación sobre objetos definidos en el scope actual, tanto los incorporados como los definidos por el usuario.\n",
    "</div>"
   ]
  },
  {
   "cell_type": "code",
   "execution_count": 5,
   "metadata": {},
   "outputs": [
    {
     "name": "stdout",
     "output_type": "stream",
     "text": [
      "Help on class int in module builtins:\n",
      "\n",
      "class int(object)\n",
      " |  int(x=0) -> integer\n",
      " |  int(x, base=10) -> integer\n",
      " |  \n",
      " |  Convert a number or string to an integer, or return 0 if no arguments\n",
      " |  are given.  If x is a number, return x.__int__().  For floating point\n",
      " |  numbers, this truncates towards zero.\n",
      " |  \n",
      " |  If x is not a number or if base is given, then x must be a string,\n",
      " |  bytes, or bytearray instance representing an integer literal in the\n",
      " |  given base.  The literal can be preceded by '+' or '-' and be surrounded\n",
      " |  by whitespace.  The base defaults to 10.  Valid bases are 0 and 2-36.\n",
      " |  Base 0 means to interpret the base from the string as an integer literal.\n",
      " |  >>> int('0b100', base=0)\n",
      " |  4\n",
      " |  \n",
      " |  Methods defined here:\n",
      " |  \n",
      " |  __abs__(self, /)\n",
      " |      abs(self)\n",
      " |  \n",
      " |  __add__(self, value, /)\n",
      " |      Return self+value.\n",
      " |  \n",
      " |  __and__(self, value, /)\n",
      " |      Return self&value.\n",
      " |  \n",
      " |  __bool__(self, /)\n",
      " |      self != 0\n",
      " |  \n",
      " |  __ceil__(...)\n",
      " |      Ceiling of an Integral returns itself.\n",
      " |  \n",
      " |  __divmod__(self, value, /)\n",
      " |      Return divmod(self, value).\n",
      " |  \n",
      " |  __eq__(self, value, /)\n",
      " |      Return self==value.\n",
      " |  \n",
      " |  __float__(self, /)\n",
      " |      float(self)\n",
      " |  \n",
      " |  __floor__(...)\n",
      " |      Flooring an Integral returns itself.\n",
      " |  \n",
      " |  __floordiv__(self, value, /)\n",
      " |      Return self//value.\n",
      " |  \n",
      " |  __format__(...)\n",
      " |      default object formatter\n",
      " |  \n",
      " |  __ge__(self, value, /)\n",
      " |      Return self>=value.\n",
      " |  \n",
      " |  __getattribute__(self, name, /)\n",
      " |      Return getattr(self, name).\n",
      " |  \n",
      " |  __getnewargs__(...)\n",
      " |  \n",
      " |  __gt__(self, value, /)\n",
      " |      Return self>value.\n",
      " |  \n",
      " |  __hash__(self, /)\n",
      " |      Return hash(self).\n",
      " |  \n",
      " |  __index__(self, /)\n",
      " |      Return self converted to an integer, if self is suitable for use as an index into a list.\n",
      " |  \n",
      " |  __int__(self, /)\n",
      " |      int(self)\n",
      " |  \n",
      " |  __invert__(self, /)\n",
      " |      ~self\n",
      " |  \n",
      " |  __le__(self, value, /)\n",
      " |      Return self<=value.\n",
      " |  \n",
      " |  __lshift__(self, value, /)\n",
      " |      Return self<<value.\n",
      " |  \n",
      " |  __lt__(self, value, /)\n",
      " |      Return self<value.\n",
      " |  \n",
      " |  __mod__(self, value, /)\n",
      " |      Return self%value.\n",
      " |  \n",
      " |  __mul__(self, value, /)\n",
      " |      Return self*value.\n",
      " |  \n",
      " |  __ne__(self, value, /)\n",
      " |      Return self!=value.\n",
      " |  \n",
      " |  __neg__(self, /)\n",
      " |      -self\n",
      " |  \n",
      " |  __new__(*args, **kwargs) from builtins.type\n",
      " |      Create and return a new object.  See help(type) for accurate signature.\n",
      " |  \n",
      " |  __or__(self, value, /)\n",
      " |      Return self|value.\n",
      " |  \n",
      " |  __pos__(self, /)\n",
      " |      +self\n",
      " |  \n",
      " |  __pow__(self, value, mod=None, /)\n",
      " |      Return pow(self, value, mod).\n",
      " |  \n",
      " |  __radd__(self, value, /)\n",
      " |      Return value+self.\n",
      " |  \n",
      " |  __rand__(self, value, /)\n",
      " |      Return value&self.\n",
      " |  \n",
      " |  __rdivmod__(self, value, /)\n",
      " |      Return divmod(value, self).\n",
      " |  \n",
      " |  __repr__(self, /)\n",
      " |      Return repr(self).\n",
      " |  \n",
      " |  __rfloordiv__(self, value, /)\n",
      " |      Return value//self.\n",
      " |  \n",
      " |  __rlshift__(self, value, /)\n",
      " |      Return value<<self.\n",
      " |  \n",
      " |  __rmod__(self, value, /)\n",
      " |      Return value%self.\n",
      " |  \n",
      " |  __rmul__(self, value, /)\n",
      " |      Return value*self.\n",
      " |  \n",
      " |  __ror__(self, value, /)\n",
      " |      Return value|self.\n",
      " |  \n",
      " |  __round__(...)\n",
      " |      Rounding an Integral returns itself.\n",
      " |      Rounding with an ndigits argument also returns an integer.\n",
      " |  \n",
      " |  __rpow__(self, value, mod=None, /)\n",
      " |      Return pow(value, self, mod).\n",
      " |  \n",
      " |  __rrshift__(self, value, /)\n",
      " |      Return value>>self.\n",
      " |  \n",
      " |  __rshift__(self, value, /)\n",
      " |      Return self>>value.\n",
      " |  \n",
      " |  __rsub__(self, value, /)\n",
      " |      Return value-self.\n",
      " |  \n",
      " |  __rtruediv__(self, value, /)\n",
      " |      Return value/self.\n",
      " |  \n",
      " |  __rxor__(self, value, /)\n",
      " |      Return value^self.\n",
      " |  \n",
      " |  __sizeof__(...)\n",
      " |      Returns size in memory, in bytes\n",
      " |  \n",
      " |  __str__(self, /)\n",
      " |      Return str(self).\n",
      " |  \n",
      " |  __sub__(self, value, /)\n",
      " |      Return self-value.\n",
      " |  \n",
      " |  __truediv__(self, value, /)\n",
      " |      Return self/value.\n",
      " |  \n",
      " |  __trunc__(...)\n",
      " |      Truncating an Integral returns itself.\n",
      " |  \n",
      " |  __xor__(self, value, /)\n",
      " |      Return self^value.\n",
      " |  \n",
      " |  bit_length(...)\n",
      " |      int.bit_length() -> int\n",
      " |      \n",
      " |      Number of bits necessary to represent self in binary.\n",
      " |      >>> bin(37)\n",
      " |      '0b100101'\n",
      " |      >>> (37).bit_length()\n",
      " |      6\n",
      " |  \n",
      " |  conjugate(...)\n",
      " |      Returns self, the complex conjugate of any int.\n",
      " |  \n",
      " |  from_bytes(...) from builtins.type\n",
      " |      int.from_bytes(bytes, byteorder, *, signed=False) -> int\n",
      " |      \n",
      " |      Return the integer represented by the given array of bytes.\n",
      " |      \n",
      " |      The bytes argument must be a bytes-like object (e.g. bytes or bytearray).\n",
      " |      \n",
      " |      The byteorder argument determines the byte order used to represent the\n",
      " |      integer.  If byteorder is 'big', the most significant byte is at the\n",
      " |      beginning of the byte array.  If byteorder is 'little', the most\n",
      " |      significant byte is at the end of the byte array.  To request the native\n",
      " |      byte order of the host system, use `sys.byteorder' as the byte order value.\n",
      " |      \n",
      " |      The signed keyword-only argument indicates whether two's complement is\n",
      " |      used to represent the integer.\n",
      " |  \n",
      " |  to_bytes(...)\n",
      " |      int.to_bytes(length, byteorder, *, signed=False) -> bytes\n",
      " |      \n",
      " |      Return an array of bytes representing an integer.\n",
      " |      \n",
      " |      The integer is represented using length bytes.  An OverflowError is\n",
      " |      raised if the integer is not representable with the given number of\n",
      " |      bytes.\n",
      " |      \n",
      " |      The byteorder argument determines the byte order used to represent the\n",
      " |      integer.  If byteorder is 'big', the most significant byte is at the\n",
      " |      beginning of the byte array.  If byteorder is 'little', the most\n",
      " |      significant byte is at the end of the byte array.  To request the native\n",
      " |      byte order of the host system, use `sys.byteorder' as the byte order value.\n",
      " |      \n",
      " |      The signed keyword-only argument determines whether two's complement is\n",
      " |      used to represent the integer.  If signed is False and a negative integer\n",
      " |      is given, an OverflowError is raised.\n",
      " |  \n",
      " |  ----------------------------------------------------------------------\n",
      " |  Data descriptors defined here:\n",
      " |  \n",
      " |  denominator\n",
      " |      the denominator of a rational number in lowest terms\n",
      " |  \n",
      " |  imag\n",
      " |      the imaginary part of a complex number\n",
      " |  \n",
      " |  numerator\n",
      " |      the numerator of a rational number in lowest terms\n",
      " |  \n",
      " |  real\n",
      " |      the real part of a complex number\n",
      "\n"
     ]
    }
   ],
   "source": [
    "help(int)"
   ]
  },
  {
   "cell_type": "code",
   "execution_count": 11,
   "metadata": {},
   "outputs": [],
   "source": [
    "??int"
   ]
  },
  {
   "cell_type": "code",
   "execution_count": 12,
   "metadata": {},
   "outputs": [
    {
     "name": "stdout",
     "output_type": "stream",
     "text": [
      "Help on int object:\n",
      "\n",
      "class int(object)\n",
      " |  int(x=0) -> integer\n",
      " |  int(x, base=10) -> integer\n",
      " |  \n",
      " |  Convert a number or string to an integer, or return 0 if no arguments\n",
      " |  are given.  If x is a number, return x.__int__().  For floating point\n",
      " |  numbers, this truncates towards zero.\n",
      " |  \n",
      " |  If x is not a number or if base is given, then x must be a string,\n",
      " |  bytes, or bytearray instance representing an integer literal in the\n",
      " |  given base.  The literal can be preceded by '+' or '-' and be surrounded\n",
      " |  by whitespace.  The base defaults to 10.  Valid bases are 0 and 2-36.\n",
      " |  Base 0 means to interpret the base from the string as an integer literal.\n",
      " |  >>> int('0b100', base=0)\n",
      " |  4\n",
      " |  \n",
      " |  Methods defined here:\n",
      " |  \n",
      " |  __abs__(self, /)\n",
      " |      abs(self)\n",
      " |  \n",
      " |  __add__(self, value, /)\n",
      " |      Return self+value.\n",
      " |  \n",
      " |  __and__(self, value, /)\n",
      " |      Return self&value.\n",
      " |  \n",
      " |  __bool__(self, /)\n",
      " |      self != 0\n",
      " |  \n",
      " |  __ceil__(...)\n",
      " |      Ceiling of an Integral returns itself.\n",
      " |  \n",
      " |  __divmod__(self, value, /)\n",
      " |      Return divmod(self, value).\n",
      " |  \n",
      " |  __eq__(self, value, /)\n",
      " |      Return self==value.\n",
      " |  \n",
      " |  __float__(self, /)\n",
      " |      float(self)\n",
      " |  \n",
      " |  __floor__(...)\n",
      " |      Flooring an Integral returns itself.\n",
      " |  \n",
      " |  __floordiv__(self, value, /)\n",
      " |      Return self//value.\n",
      " |  \n",
      " |  __format__(...)\n",
      " |      default object formatter\n",
      " |  \n",
      " |  __ge__(self, value, /)\n",
      " |      Return self>=value.\n",
      " |  \n",
      " |  __getattribute__(self, name, /)\n",
      " |      Return getattr(self, name).\n",
      " |  \n",
      " |  __getnewargs__(...)\n",
      " |  \n",
      " |  __gt__(self, value, /)\n",
      " |      Return self>value.\n",
      " |  \n",
      " |  __hash__(self, /)\n",
      " |      Return hash(self).\n",
      " |  \n",
      " |  __index__(self, /)\n",
      " |      Return self converted to an integer, if self is suitable for use as an index into a list.\n",
      " |  \n",
      " |  __int__(self, /)\n",
      " |      int(self)\n",
      " |  \n",
      " |  __invert__(self, /)\n",
      " |      ~self\n",
      " |  \n",
      " |  __le__(self, value, /)\n",
      " |      Return self<=value.\n",
      " |  \n",
      " |  __lshift__(self, value, /)\n",
      " |      Return self<<value.\n",
      " |  \n",
      " |  __lt__(self, value, /)\n",
      " |      Return self<value.\n",
      " |  \n",
      " |  __mod__(self, value, /)\n",
      " |      Return self%value.\n",
      " |  \n",
      " |  __mul__(self, value, /)\n",
      " |      Return self*value.\n",
      " |  \n",
      " |  __ne__(self, value, /)\n",
      " |      Return self!=value.\n",
      " |  \n",
      " |  __neg__(self, /)\n",
      " |      -self\n",
      " |  \n",
      " |  __new__(*args, **kwargs) from builtins.type\n",
      " |      Create and return a new object.  See help(type) for accurate signature.\n",
      " |  \n",
      " |  __or__(self, value, /)\n",
      " |      Return self|value.\n",
      " |  \n",
      " |  __pos__(self, /)\n",
      " |      +self\n",
      " |  \n",
      " |  __pow__(self, value, mod=None, /)\n",
      " |      Return pow(self, value, mod).\n",
      " |  \n",
      " |  __radd__(self, value, /)\n",
      " |      Return value+self.\n",
      " |  \n",
      " |  __rand__(self, value, /)\n",
      " |      Return value&self.\n",
      " |  \n",
      " |  __rdivmod__(self, value, /)\n",
      " |      Return divmod(value, self).\n",
      " |  \n",
      " |  __repr__(self, /)\n",
      " |      Return repr(self).\n",
      " |  \n",
      " |  __rfloordiv__(self, value, /)\n",
      " |      Return value//self.\n",
      " |  \n",
      " |  __rlshift__(self, value, /)\n",
      " |      Return value<<self.\n",
      " |  \n",
      " |  __rmod__(self, value, /)\n",
      " |      Return value%self.\n",
      " |  \n",
      " |  __rmul__(self, value, /)\n",
      " |      Return value*self.\n",
      " |  \n",
      " |  __ror__(self, value, /)\n",
      " |      Return value|self.\n",
      " |  \n",
      " |  __round__(...)\n",
      " |      Rounding an Integral returns itself.\n",
      " |      Rounding with an ndigits argument also returns an integer.\n",
      " |  \n",
      " |  __rpow__(self, value, mod=None, /)\n",
      " |      Return pow(value, self, mod).\n",
      " |  \n",
      " |  __rrshift__(self, value, /)\n",
      " |      Return value>>self.\n",
      " |  \n",
      " |  __rshift__(self, value, /)\n",
      " |      Return self>>value.\n",
      " |  \n",
      " |  __rsub__(self, value, /)\n",
      " |      Return value-self.\n",
      " |  \n",
      " |  __rtruediv__(self, value, /)\n",
      " |      Return value/self.\n",
      " |  \n",
      " |  __rxor__(self, value, /)\n",
      " |      Return value^self.\n",
      " |  \n",
      " |  __sizeof__(...)\n",
      " |      Returns size in memory, in bytes\n",
      " |  \n",
      " |  __str__(self, /)\n",
      " |      Return str(self).\n",
      " |  \n",
      " |  __sub__(self, value, /)\n",
      " |      Return self-value.\n",
      " |  \n",
      " |  __truediv__(self, value, /)\n",
      " |      Return self/value.\n",
      " |  \n",
      " |  __trunc__(...)\n",
      " |      Truncating an Integral returns itself.\n",
      " |  \n",
      " |  __xor__(self, value, /)\n",
      " |      Return self^value.\n",
      " |  \n",
      " |  bit_length(...)\n",
      " |      int.bit_length() -> int\n",
      " |      \n",
      " |      Number of bits necessary to represent self in binary.\n",
      " |      >>> bin(37)\n",
      " |      '0b100101'\n",
      " |      >>> (37).bit_length()\n",
      " |      6\n",
      " |  \n",
      " |  conjugate(...)\n",
      " |      Returns self, the complex conjugate of any int.\n",
      " |  \n",
      " |  from_bytes(...) from builtins.type\n",
      " |      int.from_bytes(bytes, byteorder, *, signed=False) -> int\n",
      " |      \n",
      " |      Return the integer represented by the given array of bytes.\n",
      " |      \n",
      " |      The bytes argument must be a bytes-like object (e.g. bytes or bytearray).\n",
      " |      \n",
      " |      The byteorder argument determines the byte order used to represent the\n",
      " |      integer.  If byteorder is 'big', the most significant byte is at the\n",
      " |      beginning of the byte array.  If byteorder is 'little', the most\n",
      " |      significant byte is at the end of the byte array.  To request the native\n",
      " |      byte order of the host system, use `sys.byteorder' as the byte order value.\n",
      " |      \n",
      " |      The signed keyword-only argument indicates whether two's complement is\n",
      " |      used to represent the integer.\n",
      " |  \n",
      " |  to_bytes(...)\n",
      " |      int.to_bytes(length, byteorder, *, signed=False) -> bytes\n",
      " |      \n",
      " |      Return an array of bytes representing an integer.\n",
      " |      \n",
      " |      The integer is represented using length bytes.  An OverflowError is\n",
      " |      raised if the integer is not representable with the given number of\n",
      " |      bytes.\n",
      " |      \n",
      " |      The byteorder argument determines the byte order used to represent the\n",
      " |      integer.  If byteorder is 'big', the most significant byte is at the\n",
      " |      beginning of the byte array.  If byteorder is 'little', the most\n",
      " |      significant byte is at the end of the byte array.  To request the native\n",
      " |      byte order of the host system, use `sys.byteorder' as the byte order value.\n",
      " |      \n",
      " |      The signed keyword-only argument determines whether two's complement is\n",
      " |      used to represent the integer.  If signed is False and a negative integer\n",
      " |      is given, an OverflowError is raised.\n",
      " |  \n",
      " |  ----------------------------------------------------------------------\n",
      " |  Data descriptors defined here:\n",
      " |  \n",
      " |  denominator\n",
      " |      the denominator of a rational number in lowest terms\n",
      " |  \n",
      " |  imag\n",
      " |      the imaginary part of a complex number\n",
      " |  \n",
      " |  numerator\n",
      " |      the numerator of a rational number in lowest terms\n",
      " |  \n",
      " |  real\n",
      " |      the real part of a complex number\n",
      "\n"
     ]
    }
   ],
   "source": [
    "help(x)"
   ]
  },
  {
   "cell_type": "markdown",
   "metadata": {},
   "source": [
    "Los métodos que empiezan y terminan con doble guión bajo (\\_\\_) se usan para indicar que son objetos o atributos mágicos. Estos métodos pueden ser invocados directamente, pero su propósito es ser ejecutados de manera indirecta."
   ]
  },
  {
   "cell_type": "code",
   "execution_count": 13,
   "metadata": {},
   "outputs": [
    {
     "data": {
      "text/plain": [
       "3"
      ]
     },
     "execution_count": 13,
     "metadata": {},
     "output_type": "execute_result"
    }
   ],
   "source": [
    "x.__abs__()"
   ]
  },
  {
   "cell_type": "code",
   "execution_count": 14,
   "metadata": {},
   "outputs": [
    {
     "data": {
      "text/plain": [
       "3"
      ]
     },
     "execution_count": 14,
     "metadata": {},
     "output_type": "execute_result"
    }
   ],
   "source": [
    "abs(x)"
   ]
  },
  {
   "cell_type": "markdown",
   "metadata": {},
   "source": [
    "### Tipo de dato de punto flotante"
   ]
  },
  {
   "cell_type": "code",
   "execution_count": 15,
   "metadata": {},
   "outputs": [
    {
     "name": "stdout",
     "output_type": "stream",
     "text": [
      "24.0 <class 'float'>\n"
     ]
    }
   ],
   "source": [
    "# Declarar un variable con un valor del tipo punto flotante\n",
    "\n",
    "x = 24.0\n",
    "print(x, type(x))"
   ]
  },
  {
   "cell_type": "code",
   "execution_count": 16,
   "metadata": {},
   "outputs": [
    {
     "name": "stdout",
     "output_type": "stream",
     "text": [
      "24.0 <class 'float'>\n"
     ]
    }
   ],
   "source": [
    "# Declarar una variable con un valor numérico usando la función float\n",
    "\n",
    "x = float(24)\n",
    "print(x, type(x))"
   ]
  },
  {
   "cell_type": "markdown",
   "metadata": {},
   "source": [
    "### Tipo de dato complejo"
   ]
  },
  {
   "cell_type": "code",
   "execution_count": 17,
   "metadata": {},
   "outputs": [
    {
     "name": "stdout",
     "output_type": "stream",
     "text": [
      "(24+20j) <class 'complex'>\n"
     ]
    }
   ],
   "source": [
    "# Declarar un variable con un valor del tipo complejo\n",
    "\n",
    "var = 24 + 20j\n",
    "print(var, type(var))"
   ]
  },
  {
   "cell_type": "code",
   "execution_count": 18,
   "metadata": {},
   "outputs": [
    {
     "name": "stdout",
     "output_type": "stream",
     "text": [
      "(24+20j) <class 'complex'>\n"
     ]
    }
   ],
   "source": [
    "# Declarar una variable con un un para de valores numéricos usando la función complex\n",
    "\n",
    "var = complex(24, 20)\n",
    "print(var, type(var))"
   ]
  },
  {
   "cell_type": "code",
   "execution_count": 19,
   "metadata": {},
   "outputs": [
    {
     "name": "stdout",
     "output_type": "stream",
     "text": [
      "24.0\n",
      "20.0\n"
     ]
    }
   ],
   "source": [
    "print(var.real)\n",
    "print(var.imag)"
   ]
  },
  {
   "cell_type": "markdown",
   "metadata": {},
   "source": [
    "## 3. Cadenas de caractéres\n",
    "\n",
    "Los tipos de datos string o cadenas de caractéres son ampliamente usados en la administración y análisis de datos. Python soporta el uso de dos diversos tipo de cadenas: ASCII y Unicode. \n",
    "\n",
    "- Las cadenas ASCII se delimitan por '...', \"...\" o \"\"\"...\"\"\". Las comillas triples delimitan cadenas multilínea. Las cadenas Unicode comienzan con un `u` seguido por la cadena conteniendo caracteres Unicode.\n",
    "\n",
    "- Unicode es un estándar de codificación de caracteres diseñado para facilitar el tratamiento de textos de múltiples lenguajes. Una cadena Unicode puede convertirse en una cadena ASCII seleccionando una codificación, por ejemplo el utf-8."
   ]
  },
  {
   "cell_type": "markdown",
   "metadata": {},
   "source": [
    "<div class=\"alert alert-info\" role=\"alert\">\n",
    "  <strong>Nota:</strong> En Python 3.x todas las cadenas de texto cuando se declaran son secuencias de caracteres Unicode, es decir no existen cadenas codificadas en CP-1252 o en UTF-8 y, por tanto, no sería correcto hablar de codificaciones específicas si no es para decir que es posible convertir una cadena de caracteres en una secuencia de bytes (o viceversa) con una codificación determinada (como UTF-8, por poner un ejemplo)\n",
    "</div>"
   ]
  },
  {
   "cell_type": "code",
   "execution_count": 20,
   "metadata": {},
   "outputs": [
    {
     "name": "stdout",
     "output_type": "stream",
     "text": [
      "Aprender Python es fácil <class 'str'> \n",
      " Aprender Python es fácil <class 'str'> \n",
      " b'Aprender Python es f\\xc3\\xa1cil' <class 'bytes'> \n",
      " b'\\xff\\xfeA\\x00p\\x00r\\x00e\\x00n\\x00d\\x00e\\x00r\\x00 \\x00P\\x00y\\x00t\\x00h\\x00o\\x00n\\x00 \\x00e\\x00s\\x00 \\x00f\\x00\\xe1\\x00c\\x00i\\x00l\\x00' <class 'bytes'> \n",
      " b'Aprender Python es f\\xe1cil' <class 'bytes'>\n"
     ]
    }
   ],
   "source": [
    "a = 'Aprender Python es fácil'\n",
    "b = u'Aprender Python es fácil'\n",
    "c = b.encode('utf-8')\n",
    "d = b.encode('utf-16')\n",
    "e = b.encode('latin-1')\n",
    "print(a,  type(a), '\\n', b, type(b), '\\n', c, type(c), '\\n', d, type(d), '\\n', e, type(e))"
   ]
  },
  {
   "cell_type": "code",
   "execution_count": 21,
   "metadata": {},
   "outputs": [
    {
     "ename": "UnicodeEncodeError",
     "evalue": "'ascii' codec can't encode character '\\xe1' in position 20: ordinal not in range(128)",
     "output_type": "error",
     "traceback": [
      "\u001b[1;31m---------------------------------------------------------------------------\u001b[0m",
      "\u001b[1;31mUnicodeEncodeError\u001b[0m                        Traceback (most recent call last)",
      "\u001b[1;32m<ipython-input-21-1f368be597fa>\u001b[0m in \u001b[0;36m<module>\u001b[1;34m()\u001b[0m\n\u001b[0;32m      1\u001b[0m \u001b[1;31m# ¿Que pasa si queremos codificar esa cadena en una codificación ascii?\u001b[0m\u001b[1;33m\u001b[0m\u001b[1;33m\u001b[0m\u001b[0m\n\u001b[1;32m----> 2\u001b[1;33m \u001b[0mf\u001b[0m \u001b[1;33m=\u001b[0m \u001b[0mb\u001b[0m\u001b[1;33m.\u001b[0m\u001b[0mencode\u001b[0m\u001b[1;33m(\u001b[0m\u001b[1;34m'ascii'\u001b[0m\u001b[1;33m)\u001b[0m\u001b[1;33m\u001b[0m\u001b[0m\n\u001b[0m\u001b[0;32m      3\u001b[0m \u001b[0mprint\u001b[0m\u001b[1;33m(\u001b[0m\u001b[0mf\u001b[0m\u001b[1;33m,\u001b[0m \u001b[0mtype\u001b[0m\u001b[1;33m(\u001b[0m\u001b[0mb\u001b[0m\u001b[1;33m)\u001b[0m\u001b[1;33m)\u001b[0m\u001b[1;33m\u001b[0m\u001b[0m\n",
      "\u001b[1;31mUnicodeEncodeError\u001b[0m: 'ascii' codec can't encode character '\\xe1' in position 20: ordinal not in range(128)"
     ]
    }
   ],
   "source": [
    "# ¿Que pasa si queremos codificar esa cadena en una codificación ascii?\n",
    "f = b.encode('ascii')\n",
    "print(f, type(b))"
   ]
  },
  {
   "cell_type": "code",
   "execution_count": 22,
   "metadata": {},
   "outputs": [
    {
     "ename": "SyntaxError",
     "evalue": "bytes can only contain ASCII literal characters. (<ipython-input-22-e54473af05cc>, line 1)",
     "output_type": "error",
     "traceback": [
      "\u001b[1;36m  File \u001b[1;32m\"<ipython-input-22-e54473af05cc>\"\u001b[1;36m, line \u001b[1;32m1\u001b[0m\n\u001b[1;33m    b'í'\u001b[0m\n\u001b[1;37m        ^\u001b[0m\n\u001b[1;31mSyntaxError\u001b[0m\u001b[1;31m:\u001b[0m bytes can only contain ASCII literal characters.\n"
     ]
    }
   ],
   "source": [
    "b'í'"
   ]
  },
  {
   "cell_type": "markdown",
   "metadata": {},
   "source": [
    "Además es posible utilizar variables en cadenas de distintas formas:"
   ]
  },
  {
   "cell_type": "code",
   "execution_count": 25,
   "metadata": {},
   "outputs": [
    {
     "name": "stdout",
     "output_type": "stream",
     "text": [
      "La versión de Python es 3.6\n",
      "La versión de Python es 3.6\n",
      "La versión de Python es 3.6\n",
      "La versión de Python es 3.611\n",
      "La versión de Python es 3.6\n",
      "La versión de Python es 3.6\n",
      "La versión de Python es 3.6\n",
      "La versión de Python es 3.6\n",
      "La versión de Python es 3.6\n"
     ]
    }
   ],
   "source": [
    "print('La versión de Python es ' + str(3) + '.' + str(6))\n",
    "print('La versión de Python es %s.%s' % (3, 6))\n",
    "print('La versión de Python es %.1f' % (3.6))\n",
    "print('La versión de Python es %.3f' % (3.611232138167))\n",
    "print('La versión de Python es %(numero)s.%(decimal)s' % dict(numero=3, decimal=6))\n",
    "print('La versión de Python es {0}.{1}'.format(3, 6))\n",
    "print('La versión de Python es {0:.1f}'.format(3.611232138167))\n",
    "print('La versión de Python es {numero}.{decimal}'.format(numero=3, decimal=6))\n",
    "print('La versión de Python es {numero:.1f}'.format(numero=3.611232138167))"
   ]
  },
  {
   "cell_type": "code",
   "execution_count": 26,
   "metadata": {},
   "outputs": [
    {
     "name": "stdout",
     "output_type": "stream",
     "text": [
      "\"Machine Learning con Python\" <class 'str'>\n"
     ]
    }
   ],
   "source": [
    "# Definición de variables con tipo de valor 'str' (Unicode)\n",
    "\n",
    "x=str('\"Machine Learning con Python\"')\n",
    "print(x, type(x))"
   ]
  },
  {
   "cell_type": "code",
   "execution_count": 27,
   "metadata": {},
   "outputs": [
    {
     "name": "stdout",
     "output_type": "stream",
     "text": [
      "Machine Learning con Python <class 'str'>\n"
     ]
    }
   ],
   "source": [
    "x='Machine Learning con Python'\n",
    "print(x, type(x))"
   ]
  },
  {
   "cell_type": "code",
   "execution_count": 28,
   "metadata": {},
   "outputs": [
    {
     "name": "stdout",
     "output_type": "stream",
     "text": [
      "Machine Learning con Python <class 'str'>\n"
     ]
    }
   ],
   "source": [
    "x=\"Machine Learning con Python\"\n",
    "print(x, type(x))"
   ]
  },
  {
   "cell_type": "code",
   "execution_count": 29,
   "metadata": {},
   "outputs": [
    {
     "name": "stdout",
     "output_type": "stream",
     "text": [
      "Help on class str in module builtins:\n",
      "\n",
      "class str(object)\n",
      " |  str(object='') -> str\n",
      " |  str(bytes_or_buffer[, encoding[, errors]]) -> str\n",
      " |  \n",
      " |  Create a new string object from the given object. If encoding or\n",
      " |  errors is specified, then the object must expose a data buffer\n",
      " |  that will be decoded using the given encoding and error handler.\n",
      " |  Otherwise, returns the result of object.__str__() (if defined)\n",
      " |  or repr(object).\n",
      " |  encoding defaults to sys.getdefaultencoding().\n",
      " |  errors defaults to 'strict'.\n",
      " |  \n",
      " |  Methods defined here:\n",
      " |  \n",
      " |  __add__(self, value, /)\n",
      " |      Return self+value.\n",
      " |  \n",
      " |  __contains__(self, key, /)\n",
      " |      Return key in self.\n",
      " |  \n",
      " |  __eq__(self, value, /)\n",
      " |      Return self==value.\n",
      " |  \n",
      " |  __format__(...)\n",
      " |      S.__format__(format_spec) -> str\n",
      " |      \n",
      " |      Return a formatted version of S as described by format_spec.\n",
      " |  \n",
      " |  __ge__(self, value, /)\n",
      " |      Return self>=value.\n",
      " |  \n",
      " |  __getattribute__(self, name, /)\n",
      " |      Return getattr(self, name).\n",
      " |  \n",
      " |  __getitem__(self, key, /)\n",
      " |      Return self[key].\n",
      " |  \n",
      " |  __getnewargs__(...)\n",
      " |  \n",
      " |  __gt__(self, value, /)\n",
      " |      Return self>value.\n",
      " |  \n",
      " |  __hash__(self, /)\n",
      " |      Return hash(self).\n",
      " |  \n",
      " |  __iter__(self, /)\n",
      " |      Implement iter(self).\n",
      " |  \n",
      " |  __le__(self, value, /)\n",
      " |      Return self<=value.\n",
      " |  \n",
      " |  __len__(self, /)\n",
      " |      Return len(self).\n",
      " |  \n",
      " |  __lt__(self, value, /)\n",
      " |      Return self<value.\n",
      " |  \n",
      " |  __mod__(self, value, /)\n",
      " |      Return self%value.\n",
      " |  \n",
      " |  __mul__(self, value, /)\n",
      " |      Return self*value.n\n",
      " |  \n",
      " |  __ne__(self, value, /)\n",
      " |      Return self!=value.\n",
      " |  \n",
      " |  __new__(*args, **kwargs) from builtins.type\n",
      " |      Create and return a new object.  See help(type) for accurate signature.\n",
      " |  \n",
      " |  __repr__(self, /)\n",
      " |      Return repr(self).\n",
      " |  \n",
      " |  __rmod__(self, value, /)\n",
      " |      Return value%self.\n",
      " |  \n",
      " |  __rmul__(self, value, /)\n",
      " |      Return self*value.\n",
      " |  \n",
      " |  __sizeof__(...)\n",
      " |      S.__sizeof__() -> size of S in memory, in bytes\n",
      " |  \n",
      " |  __str__(self, /)\n",
      " |      Return str(self).\n",
      " |  \n",
      " |  capitalize(...)\n",
      " |      S.capitalize() -> str\n",
      " |      \n",
      " |      Return a capitalized version of S, i.e. make the first character\n",
      " |      have upper case and the rest lower case.\n",
      " |  \n",
      " |  casefold(...)\n",
      " |      S.casefold() -> str\n",
      " |      \n",
      " |      Return a version of S suitable for caseless comparisons.\n",
      " |  \n",
      " |  center(...)\n",
      " |      S.center(width[, fillchar]) -> str\n",
      " |      \n",
      " |      Return S centered in a string of length width. Padding is\n",
      " |      done using the specified fill character (default is a space)\n",
      " |  \n",
      " |  count(...)\n",
      " |      S.count(sub[, start[, end]]) -> int\n",
      " |      \n",
      " |      Return the number of non-overlapping occurrences of substring sub in\n",
      " |      string S[start:end].  Optional arguments start and end are\n",
      " |      interpreted as in slice notation.\n",
      " |  \n",
      " |  encode(...)\n",
      " |      S.encode(encoding='utf-8', errors='strict') -> bytes\n",
      " |      \n",
      " |      Encode S using the codec registered for encoding. Default encoding\n",
      " |      is 'utf-8'. errors may be given to set a different error\n",
      " |      handling scheme. Default is 'strict' meaning that encoding errors raise\n",
      " |      a UnicodeEncodeError. Other possible values are 'ignore', 'replace' and\n",
      " |      'xmlcharrefreplace' as well as any other name registered with\n",
      " |      codecs.register_error that can handle UnicodeEncodeErrors.\n",
      " |  \n",
      " |  endswith(...)\n",
      " |      S.endswith(suffix[, start[, end]]) -> bool\n",
      " |      \n",
      " |      Return True if S ends with the specified suffix, False otherwise.\n",
      " |      With optional start, test S beginning at that position.\n",
      " |      With optional end, stop comparing S at that position.\n",
      " |      suffix can also be a tuple of strings to try.\n",
      " |  \n",
      " |  expandtabs(...)\n",
      " |      S.expandtabs(tabsize=8) -> str\n",
      " |      \n",
      " |      Return a copy of S where all tab characters are expanded using spaces.\n",
      " |      If tabsize is not given, a tab size of 8 characters is assumed.\n",
      " |  \n",
      " |  find(...)\n",
      " |      S.find(sub[, start[, end]]) -> int\n",
      " |      \n",
      " |      Return the lowest index in S where substring sub is found,\n",
      " |      such that sub is contained within S[start:end].  Optional\n",
      " |      arguments start and end are interpreted as in slice notation.\n",
      " |      \n",
      " |      Return -1 on failure.\n",
      " |  \n",
      " |  format(...)\n",
      " |      S.format(*args, **kwargs) -> str\n",
      " |      \n",
      " |      Return a formatted version of S, using substitutions from args and kwargs.\n",
      " |      The substitutions are identified by braces ('{' and '}').\n",
      " |  \n",
      " |  format_map(...)\n",
      " |      S.format_map(mapping) -> str\n",
      " |      \n",
      " |      Return a formatted version of S, using substitutions from mapping.\n",
      " |      The substitutions are identified by braces ('{' and '}').\n",
      " |  \n",
      " |  index(...)\n",
      " |      S.index(sub[, start[, end]]) -> int\n",
      " |      \n",
      " |      Return the lowest index in S where substring sub is found, \n",
      " |      such that sub is contained within S[start:end].  Optional\n",
      " |      arguments start and end are interpreted as in slice notation.\n",
      " |      \n",
      " |      Raises ValueError when the substring is not found.\n",
      " |  \n",
      " |  isalnum(...)\n",
      " |      S.isalnum() -> bool\n",
      " |      \n",
      " |      Return True if all characters in S are alphanumeric\n",
      " |      and there is at least one character in S, False otherwise.\n",
      " |  \n",
      " |  isalpha(...)\n",
      " |      S.isalpha() -> bool\n",
      " |      \n",
      " |      Return True if all characters in S are alphabetic\n",
      " |      and there is at least one character in S, False otherwise.\n",
      " |  \n",
      " |  isdecimal(...)\n",
      " |      S.isdecimal() -> bool\n",
      " |      \n",
      " |      Return True if there are only decimal characters in S,\n",
      " |      False otherwise.\n",
      " |  \n",
      " |  isdigit(...)\n",
      " |      S.isdigit() -> bool\n",
      " |      \n",
      " |      Return True if all characters in S are digits\n",
      " |      and there is at least one character in S, False otherwise.\n",
      " |  \n",
      " |  isidentifier(...)\n",
      " |      S.isidentifier() -> bool\n",
      " |      \n",
      " |      Return True if S is a valid identifier according\n",
      " |      to the language definition.\n",
      " |      \n",
      " |      Use keyword.iskeyword() to test for reserved identifiers\n",
      " |      such as \"def\" and \"class\".\n",
      " |  \n",
      " |  islower(...)\n",
      " |      S.islower() -> bool\n",
      " |      \n",
      " |      Return True if all cased characters in S are lowercase and there is\n",
      " |      at least one cased character in S, False otherwise.\n",
      " |  \n",
      " |  isnumeric(...)\n",
      " |      S.isnumeric() -> bool\n",
      " |      \n",
      " |      Return True if there are only numeric characters in S,\n",
      " |      False otherwise.\n",
      " |  \n",
      " |  isprintable(...)\n",
      " |      S.isprintable() -> bool\n",
      " |      \n",
      " |      Return True if all characters in S are considered\n",
      " |      printable in repr() or S is empty, False otherwise.\n",
      " |  \n",
      " |  isspace(...)\n",
      " |      S.isspace() -> bool\n",
      " |      \n",
      " |      Return True if all characters in S are whitespace\n",
      " |      and there is at least one character in S, False otherwise.\n",
      " |  \n",
      " |  istitle(...)\n",
      " |      S.istitle() -> bool\n",
      " |      \n",
      " |      Return True if S is a titlecased string and there is at least one\n",
      " |      character in S, i.e. upper- and titlecase characters may only\n",
      " |      follow uncased characters and lowercase characters only cased ones.\n",
      " |      Return False otherwise.\n",
      " |  \n",
      " |  isupper(...)\n",
      " |      S.isupper() -> bool\n",
      " |      \n",
      " |      Return True if all cased characters in S are uppercase and there is\n",
      " |      at least one cased character in S, False otherwise.\n",
      " |  \n",
      " |  join(...)\n",
      " |      S.join(iterable) -> str\n",
      " |      \n",
      " |      Return a string which is the concatenation of the strings in the\n",
      " |      iterable.  The separator between elements is S.\n",
      " |  \n",
      " |  ljust(...)\n",
      " |      S.ljust(width[, fillchar]) -> str\n",
      " |      \n",
      " |      Return S left-justified in a Unicode string of length width. Padding is\n",
      " |      done using the specified fill character (default is a space).\n",
      " |  \n",
      " |  lower(...)\n",
      " |      S.lower() -> str\n",
      " |      \n",
      " |      Return a copy of the string S converted to lowercase.\n",
      " |  \n",
      " |  lstrip(...)\n",
      " |      S.lstrip([chars]) -> str\n",
      " |      \n",
      " |      Return a copy of the string S with leading whitespace removed.\n",
      " |      If chars is given and not None, remove characters in chars instead.\n",
      " |  \n",
      " |  partition(...)\n",
      " |      S.partition(sep) -> (head, sep, tail)\n",
      " |      \n",
      " |      Search for the separator sep in S, and return the part before it,\n",
      " |      the separator itself, and the part after it.  If the separator is not\n",
      " |      found, return S and two empty strings.\n",
      " |  \n",
      " |  replace(...)\n",
      " |      S.replace(old, new[, count]) -> str\n",
      " |      \n",
      " |      Return a copy of S with all occurrences of substring\n",
      " |      old replaced by new.  If the optional argument count is\n",
      " |      given, only the first count occurrences are replaced.\n",
      " |  \n",
      " |  rfind(...)\n",
      " |      S.rfind(sub[, start[, end]]) -> int\n",
      " |      \n",
      " |      Return the highest index in S where substring sub is found,\n",
      " |      such that sub is contained within S[start:end].  Optional\n",
      " |      arguments start and end are interpreted as in slice notation.\n",
      " |      \n",
      " |      Return -1 on failure.\n",
      " |  \n",
      " |  rindex(...)\n",
      " |      S.rindex(sub[, start[, end]]) -> int\n",
      " |      \n",
      " |      Return the highest index in S where substring sub is found,\n",
      " |      such that sub is contained within S[start:end].  Optional\n",
      " |      arguments start and end are interpreted as in slice notation.\n",
      " |      \n",
      " |      Raises ValueError when the substring is not found.\n",
      " |  \n",
      " |  rjust(...)\n",
      " |      S.rjust(width[, fillchar]) -> str\n",
      " |      \n",
      " |      Return S right-justified in a string of length width. Padding is\n",
      " |      done using the specified fill character (default is a space).\n",
      " |  \n",
      " |  rpartition(...)\n",
      " |      S.rpartition(sep) -> (head, sep, tail)\n",
      " |      \n",
      " |      Search for the separator sep in S, starting at the end of S, and return\n",
      " |      the part before it, the separator itself, and the part after it.  If the\n",
      " |      separator is not found, return two empty strings and S.\n",
      " |  \n",
      " |  rsplit(...)\n",
      " |      S.rsplit(sep=None, maxsplit=-1) -> list of strings\n",
      " |      \n",
      " |      Return a list of the words in S, using sep as the\n",
      " |      delimiter string, starting at the end of the string and\n",
      " |      working to the front.  If maxsplit is given, at most maxsplit\n",
      " |      splits are done. If sep is not specified, any whitespace string\n",
      " |      is a separator.\n",
      " |  \n",
      " |  rstrip(...)\n",
      " |      S.rstrip([chars]) -> str\n",
      " |      \n",
      " |      Return a copy of the string S with trailing whitespace removed.\n",
      " |      If chars is given and not None, remove characters in chars instead.\n",
      " |  \n",
      " |  split(...)\n",
      " |      S.split(sep=None, maxsplit=-1) -> list of strings\n",
      " |      \n",
      " |      Return a list of the words in S, using sep as the\n",
      " |      delimiter string.  If maxsplit is given, at most maxsplit\n",
      " |      splits are done. If sep is not specified or is None, any\n",
      " |      whitespace string is a separator and empty strings are\n",
      " |      removed from the result.\n",
      " |  \n",
      " |  splitlines(...)\n",
      " |      S.splitlines([keepends]) -> list of strings\n",
      " |      \n",
      " |      Return a list of the lines in S, breaking at line boundaries.\n",
      " |      Line breaks are not included in the resulting list unless keepends\n",
      " |      is given and true.\n",
      " |  \n",
      " |  startswith(...)\n",
      " |      S.startswith(prefix[, start[, end]]) -> bool\n",
      " |      \n",
      " |      Return True if S starts with the specified prefix, False otherwise.\n",
      " |      With optional start, test S beginning at that position.\n",
      " |      With optional end, stop comparing S at that position.\n",
      " |      prefix can also be a tuple of strings to try.\n",
      " |  \n",
      " |  strip(...)\n",
      " |      S.strip([chars]) -> str\n",
      " |      \n",
      " |      Return a copy of the string S with leading and trailing\n",
      " |      whitespace removed.\n",
      " |      If chars is given and not None, remove characters in chars instead.\n",
      " |  \n",
      " |  swapcase(...)\n",
      " |      S.swapcase() -> str\n",
      " |      \n",
      " |      Return a copy of S with uppercase characters converted to lowercase\n",
      " |      and vice versa.\n",
      " |  \n",
      " |  title(...)\n",
      " |      S.title() -> str\n",
      " |      \n",
      " |      Return a titlecased version of S, i.e. words start with title case\n",
      " |      characters, all remaining cased characters have lower case.\n",
      " |  \n",
      " |  translate(...)\n",
      " |      S.translate(table) -> str\n",
      " |      \n",
      " |      Return a copy of the string S in which each character has been mapped\n",
      " |      through the given translation table. The table must implement\n",
      " |      lookup/indexing via __getitem__, for instance a dictionary or list,\n",
      " |      mapping Unicode ordinals to Unicode ordinals, strings, or None. If\n",
      " |      this operation raises LookupError, the character is left untouched.\n",
      " |      Characters mapped to None are deleted.\n",
      " |  \n",
      " |  upper(...)\n",
      " |      S.upper() -> str\n",
      " |      \n",
      " |      Return a copy of S converted to uppercase.\n",
      " |  \n",
      " |  zfill(...)\n",
      " |      S.zfill(width) -> str\n",
      " |      \n",
      " |      Pad a numeric string S with zeros on the left, to fill a field\n",
      " |      of the specified width. The string S is never truncated.\n",
      " |  \n",
      " |  ----------------------------------------------------------------------\n",
      " |  Static methods defined here:\n",
      " |  \n",
      " |  maketrans(x, y=None, z=None, /)\n",
      " |      Return a translation table usable for str.translate().\n",
      " |      \n",
      " |      If there is only one argument, it must be a dictionary mapping Unicode\n",
      " |      ordinals (integers) or characters to Unicode ordinals, strings or None.\n",
      " |      Character keys will be then converted to ordinals.\n",
      " |      If there are two arguments, they must be strings of equal length, and\n",
      " |      in the resulting dictionary, each character in x will be mapped to the\n",
      " |      character at the same position in y. If there is a third argument, it\n",
      " |      must be a string, whose characters will be mapped to None in the result.\n",
      "\n"
     ]
    }
   ],
   "source": [
    "help(str)"
   ]
  },
  {
   "cell_type": "markdown",
   "metadata": {},
   "source": [
    "Algunos métodos con las cadenas"
   ]
  },
  {
   "cell_type": "code",
   "execution_count": 30,
   "metadata": {},
   "outputs": [
    {
     "data": {
      "text/plain": [
       "'machine learning con python'"
      ]
     },
     "execution_count": 30,
     "metadata": {},
     "output_type": "execute_result"
    }
   ],
   "source": [
    "x.lower()"
   ]
  },
  {
   "cell_type": "code",
   "execution_count": 31,
   "metadata": {},
   "outputs": [
    {
     "data": {
      "text/plain": [
       "'MACHINE LEARNING CON PYTHON'"
      ]
     },
     "execution_count": 31,
     "metadata": {},
     "output_type": "execute_result"
    }
   ],
   "source": [
    "x.upper()"
   ]
  },
  {
   "cell_type": "code",
   "execution_count": 24,
   "metadata": {},
   "outputs": [
    {
     "data": {
      "text/plain": [
       "'Machine Learning Con Python'"
      ]
     },
     "execution_count": 24,
     "metadata": {},
     "output_type": "execute_result"
    }
   ],
   "source": [
    "x.title()"
   ]
  },
  {
   "cell_type": "code",
   "execution_count": 32,
   "metadata": {},
   "outputs": [
    {
     "data": {
      "text/plain": [
       "['Machine', 'Learning', 'con', 'Python']"
      ]
     },
     "execution_count": 32,
     "metadata": {},
     "output_type": "execute_result"
    }
   ],
   "source": [
    "x.split(\" \")"
   ]
  },
  {
   "cell_type": "code",
   "execution_count": 33,
   "metadata": {},
   "outputs": [
    {
     "name": "stdout",
     "output_type": "stream",
     "text": [
      " Machine Learning con Python  <class 'str'>\n"
     ]
    }
   ],
   "source": [
    "x=\" Machine Learning con Python \"\n",
    "print(x, type(x))"
   ]
  },
  {
   "cell_type": "code",
   "execution_count": 35,
   "metadata": {},
   "outputs": [
    {
     "data": {
      "text/plain": [
       "'Machine Learning con Python'"
      ]
     },
     "execution_count": 35,
     "metadata": {},
     "output_type": "execute_result"
    }
   ],
   "source": [
    "x.strip()"
   ]
  },
  {
   "cell_type": "code",
   "execution_count": 36,
   "metadata": {},
   "outputs": [],
   "source": [
    "x = \"123\""
   ]
  },
  {
   "cell_type": "code",
   "execution_count": 37,
   "metadata": {},
   "outputs": [
    {
     "data": {
      "text/plain": [
       "'0000000123'"
      ]
     },
     "execution_count": 37,
     "metadata": {},
     "output_type": "execute_result"
    }
   ],
   "source": [
    "x.zfill(10)"
   ]
  },
  {
   "cell_type": "code",
   "execution_count": 38,
   "metadata": {},
   "outputs": [],
   "source": [
    "??x.zfill()"
   ]
  },
  {
   "cell_type": "markdown",
   "metadata": {},
   "source": [
    "## 4. Datos binarios: Bytes y arreglos de Bytes\n",
    "\n",
    "Las variables tipo bytes corresponden a secuencias inmutables de enteros pequeños en el rango 0 <= x < 256. Se pueden crear usando la función bytes().\n",
    "\n",
    "Las variables tipo bytearray corresponden a secuencias mutables de enteros pequeños en el rango 0 <= x < 256. Se pueden crear usando la función bytearray().\n",
    "\n",
    "bytes() comparte los mismos métodos que bytearray(), simplemente es una versión inmutable."
   ]
  },
  {
   "cell_type": "markdown",
   "metadata": {},
   "source": [
    "### Tipo de datos bytes"
   ]
  },
  {
   "cell_type": "code",
   "execution_count": 39,
   "metadata": {},
   "outputs": [
    {
     "name": "stdout",
     "output_type": "stream",
     "text": [
      "b'\\x01' <class 'bytes'> 1\n"
     ]
    }
   ],
   "source": [
    "# Creación de un objeto tipo bytes que contiene el valor 1\n",
    "\n",
    "x1=bytes([1])\n",
    "print(x1, type(x1), len(x1))"
   ]
  },
  {
   "cell_type": "code",
   "execution_count": 40,
   "metadata": {},
   "outputs": [
    {
     "name": "stdout",
     "output_type": "stream",
     "text": [
      "b'1' <class 'bytes'> 1\n"
     ]
    }
   ],
   "source": [
    "# Otro manera de crear bytes esa usando el prefijo b\n",
    "\n",
    "x2=b'1'\n",
    "print(x2, type(x2), len(x2))"
   ]
  },
  {
   "cell_type": "code",
   "execution_count": 41,
   "metadata": {},
   "outputs": [
    {
     "data": {
      "text/plain": [
       "False"
      ]
     },
     "execution_count": 41,
     "metadata": {},
     "output_type": "execute_result"
    }
   ],
   "source": [
    "x1 == x2"
   ]
  },
  {
   "cell_type": "code",
   "execution_count": 42,
   "metadata": {},
   "outputs": [
    {
     "name": "stdout",
     "output_type": "stream",
     "text": [
      "b'1' <class 'bytes'> 1\n"
     ]
    }
   ],
   "source": [
    "x1=bytes(\"1\", encoding=\"ascii\")\n",
    "print(x1, type(x1), len(x1))"
   ]
  },
  {
   "cell_type": "code",
   "execution_count": 43,
   "metadata": {},
   "outputs": [
    {
     "data": {
      "text/plain": [
       "True"
      ]
     },
     "execution_count": 43,
     "metadata": {},
     "output_type": "execute_result"
    }
   ],
   "source": [
    "x1 == x2"
   ]
  },
  {
   "cell_type": "code",
   "execution_count": 44,
   "metadata": {},
   "outputs": [
    {
     "data": {
      "text/plain": [
       "'1'"
      ]
     },
     "execution_count": 44,
     "metadata": {},
     "output_type": "execute_result"
    }
   ],
   "source": [
    "# Transformar a str\n",
    "\n",
    "x1.decode(\"ascii\")"
   ]
  },
  {
   "cell_type": "code",
   "execution_count": 45,
   "metadata": {},
   "outputs": [
    {
     "name": "stdout",
     "output_type": "stream",
     "text": [
      "b'\\x00\\x00\\x00\\x00\\x00\\x00\\x00\\x00\\x00\\x00' <class 'bytes'> 10\n"
     ]
    }
   ],
   "source": [
    "# Creación de un objeto tipo bytes de largo 10\n",
    "\n",
    "x=bytes(10)\n",
    "print(x, type(x), len(x))"
   ]
  },
  {
   "cell_type": "code",
   "execution_count": 46,
   "metadata": {},
   "outputs": [
    {
     "data": {
      "text/plain": [
       "0"
      ]
     },
     "execution_count": 46,
     "metadata": {},
     "output_type": "execute_result"
    }
   ],
   "source": [
    "# Acceder al elemento 0 de la secuencia\n",
    "\n",
    "x[0]"
   ]
  },
  {
   "cell_type": "code",
   "execution_count": 47,
   "metadata": {
    "scrolled": true
   },
   "outputs": [
    {
     "ename": "TypeError",
     "evalue": "'bytes' object does not support item assignment",
     "output_type": "error",
     "traceback": [
      "\u001b[1;31m---------------------------------------------------------------------------\u001b[0m",
      "\u001b[1;31mTypeError\u001b[0m                                 Traceback (most recent call last)",
      "\u001b[1;32m<ipython-input-47-b81c3e485bf1>\u001b[0m in \u001b[0;36m<module>\u001b[1;34m()\u001b[0m\n\u001b[0;32m      1\u001b[0m \u001b[1;31m# Cambiar el valor del elemento 0\u001b[0m\u001b[1;33m\u001b[0m\u001b[1;33m\u001b[0m\u001b[0m\n\u001b[0;32m      2\u001b[0m \u001b[1;33m\u001b[0m\u001b[0m\n\u001b[1;32m----> 3\u001b[1;33m \u001b[0mx\u001b[0m\u001b[1;33m[\u001b[0m\u001b[1;36m0\u001b[0m\u001b[1;33m]\u001b[0m\u001b[1;33m=\u001b[0m\u001b[1;36m1\u001b[0m\u001b[1;33m\u001b[0m\u001b[0m\n\u001b[0m\u001b[0;32m      4\u001b[0m \u001b[0mx\u001b[0m\u001b[1;33m\u001b[0m\u001b[0m\n",
      "\u001b[1;31mTypeError\u001b[0m: 'bytes' object does not support item assignment"
     ]
    }
   ],
   "source": [
    "# Cambiar el valor del elemento 0\n",
    "\n",
    "x[0]=1\n",
    "x"
   ]
  },
  {
   "cell_type": "code",
   "execution_count": 48,
   "metadata": {},
   "outputs": [
    {
     "name": "stdout",
     "output_type": "stream",
     "text": [
      "bytearray(b'Aprender python es facil') <class 'bytearray'> 24\n"
     ]
    }
   ],
   "source": [
    "# Crear un objeto tipo bytearray a partir de un string\n",
    "\n",
    "x=bytearray(\"Aprender python es facil\", \"utf8\")\n",
    "print(x, type(x), len(x))"
   ]
  },
  {
   "cell_type": "code",
   "execution_count": 49,
   "metadata": {},
   "outputs": [
    {
     "name": "stdout",
     "output_type": "stream",
     "text": [
      "Help on class bytearray in module builtins:\n",
      "\n",
      "class bytearray(object)\n",
      " |  bytearray(iterable_of_ints) -> bytearray\n",
      " |  bytearray(string, encoding[, errors]) -> bytearray\n",
      " |  bytearray(bytes_or_buffer) -> mutable copy of bytes_or_buffer\n",
      " |  bytearray(int) -> bytes array of size given by the parameter initialized with null bytes\n",
      " |  bytearray() -> empty bytes array\n",
      " |  \n",
      " |  Construct a mutable bytearray object from:\n",
      " |    - an iterable yielding integers in range(256)\n",
      " |    - a text string encoded using the specified encoding\n",
      " |    - a bytes or a buffer object\n",
      " |    - any object implementing the buffer API.\n",
      " |    - an integer\n",
      " |  \n",
      " |  Methods defined here:\n",
      " |  \n",
      " |  __add__(self, value, /)\n",
      " |      Return self+value.\n",
      " |  \n",
      " |  __alloc__(...)\n",
      " |      B.__alloc__() -> int\n",
      " |      \n",
      " |      Return the number of bytes actually allocated.\n",
      " |  \n",
      " |  __contains__(self, key, /)\n",
      " |      Return key in self.\n",
      " |  \n",
      " |  __delitem__(self, key, /)\n",
      " |      Delete self[key].\n",
      " |  \n",
      " |  __eq__(self, value, /)\n",
      " |      Return self==value.\n",
      " |  \n",
      " |  __ge__(self, value, /)\n",
      " |      Return self>=value.\n",
      " |  \n",
      " |  __getattribute__(self, name, /)\n",
      " |      Return getattr(self, name).\n",
      " |  \n",
      " |  __getitem__(self, key, /)\n",
      " |      Return self[key].\n",
      " |  \n",
      " |  __gt__(self, value, /)\n",
      " |      Return self>value.\n",
      " |  \n",
      " |  __iadd__(self, value, /)\n",
      " |      Implement self+=value.\n",
      " |  \n",
      " |  __imul__(self, value, /)\n",
      " |      Implement self*=value.\n",
      " |  \n",
      " |  __init__(self, /, *args, **kwargs)\n",
      " |      Initialize self.  See help(type(self)) for accurate signature.\n",
      " |  \n",
      " |  __iter__(self, /)\n",
      " |      Implement iter(self).\n",
      " |  \n",
      " |  __le__(self, value, /)\n",
      " |      Return self<=value.\n",
      " |  \n",
      " |  __len__(self, /)\n",
      " |      Return len(self).\n",
      " |  \n",
      " |  __lt__(self, value, /)\n",
      " |      Return self<value.\n",
      " |  \n",
      " |  __mod__(self, value, /)\n",
      " |      Return self%value.\n",
      " |  \n",
      " |  __mul__(self, value, /)\n",
      " |      Return self*value.n\n",
      " |  \n",
      " |  __ne__(self, value, /)\n",
      " |      Return self!=value.\n",
      " |  \n",
      " |  __new__(*args, **kwargs) from builtins.type\n",
      " |      Create and return a new object.  See help(type) for accurate signature.\n",
      " |  \n",
      " |  __reduce__(self, /)\n",
      " |      Return state information for pickling.\n",
      " |  \n",
      " |  __reduce_ex__(self, proto=0, /)\n",
      " |      Return state information for pickling.\n",
      " |  \n",
      " |  __repr__(self, /)\n",
      " |      Return repr(self).\n",
      " |  \n",
      " |  __rmod__(self, value, /)\n",
      " |      Return value%self.\n",
      " |  \n",
      " |  __rmul__(self, value, /)\n",
      " |      Return self*value.\n",
      " |  \n",
      " |  __setitem__(self, key, value, /)\n",
      " |      Set self[key] to value.\n",
      " |  \n",
      " |  __sizeof__(self, /)\n",
      " |      Returns the size of the bytearray object in memory, in bytes.\n",
      " |  \n",
      " |  __str__(self, /)\n",
      " |      Return str(self).\n",
      " |  \n",
      " |  append(self, item, /)\n",
      " |      Append a single item to the end of the bytearray.\n",
      " |      \n",
      " |      item\n",
      " |        The item to be appended.\n",
      " |  \n",
      " |  capitalize(...)\n",
      " |      B.capitalize() -> copy of B\n",
      " |      \n",
      " |      Return a copy of B with only its first character capitalized (ASCII)\n",
      " |      and the rest lower-cased.\n",
      " |  \n",
      " |  center(...)\n",
      " |      B.center(width[, fillchar]) -> copy of B\n",
      " |      \n",
      " |      Return B centered in a string of length width.  Padding is\n",
      " |      done using the specified fill character (default is a space).\n",
      " |  \n",
      " |  clear(self, /)\n",
      " |      Remove all items from the bytearray.\n",
      " |  \n",
      " |  copy(self, /)\n",
      " |      Return a copy of B.\n",
      " |  \n",
      " |  count(...)\n",
      " |      B.count(sub[, start[, end]]) -> int\n",
      " |      \n",
      " |      Return the number of non-overlapping occurrences of subsection sub in\n",
      " |      bytes B[start:end].  Optional arguments start and end are interpreted\n",
      " |      as in slice notation.\n",
      " |  \n",
      " |  decode(self, /, encoding='utf-8', errors='strict')\n",
      " |      Decode the bytearray using the codec registered for encoding.\n",
      " |      \n",
      " |      encoding\n",
      " |        The encoding with which to decode the bytearray.\n",
      " |      errors\n",
      " |        The error handling scheme to use for the handling of decoding errors.\n",
      " |        The default is 'strict' meaning that decoding errors raise a\n",
      " |        UnicodeDecodeError. Other possible values are 'ignore' and 'replace'\n",
      " |        as well as any other name registered with codecs.register_error that\n",
      " |        can handle UnicodeDecodeErrors.\n",
      " |  \n",
      " |  endswith(...)\n",
      " |      B.endswith(suffix[, start[, end]]) -> bool\n",
      " |      \n",
      " |      Return True if B ends with the specified suffix, False otherwise.\n",
      " |      With optional start, test B beginning at that position.\n",
      " |      With optional end, stop comparing B at that position.\n",
      " |      suffix can also be a tuple of bytes to try.\n",
      " |  \n",
      " |  expandtabs(...)\n",
      " |      B.expandtabs(tabsize=8) -> copy of B\n",
      " |      \n",
      " |      Return a copy of B where all tab characters are expanded using spaces.\n",
      " |      If tabsize is not given, a tab size of 8 characters is assumed.\n",
      " |  \n",
      " |  extend(self, iterable_of_ints, /)\n",
      " |      Append all the items from the iterator or sequence to the end of the bytearray.\n",
      " |      \n",
      " |      iterable_of_ints\n",
      " |        The iterable of items to append.\n",
      " |  \n",
      " |  find(...)\n",
      " |      B.find(sub[, start[, end]]) -> int\n",
      " |      \n",
      " |      Return the lowest index in B where subsection sub is found,\n",
      " |      such that sub is contained within B[start,end].  Optional\n",
      " |      arguments start and end are interpreted as in slice notation.\n",
      " |      \n",
      " |      Return -1 on failure.\n",
      " |  \n",
      " |  fromhex(string, /) from builtins.type\n",
      " |      Create a bytearray object from a string of hexadecimal numbers.\n",
      " |      \n",
      " |      Spaces between two numbers are accepted.\n",
      " |      Example: bytearray.fromhex('B9 01EF') -> bytearray(b'\\\\xb9\\\\x01\\\\xef')\n",
      " |  \n",
      " |  hex(...)\n",
      " |      B.hex() -> string\n",
      " |      \n",
      " |      Create a string of hexadecimal numbers from a bytearray object.\n",
      " |      Example: bytearray([0xb9, 0x01, 0xef]).hex() -> 'b901ef'.\n",
      " |  \n",
      " |  index(...)\n",
      " |      B.index(sub[, start[, end]]) -> int\n",
      " |      \n",
      " |      Return the lowest index in B where subsection sub is found,\n",
      " |      such that sub is contained within B[start,end].  Optional\n",
      " |      arguments start and end are interpreted as in slice notation.\n",
      " |      \n",
      " |      Raises ValueError when the subsection is not found.\n",
      " |  \n",
      " |  insert(self, index, item, /)\n",
      " |      Insert a single item into the bytearray before the given index.\n",
      " |      \n",
      " |      index\n",
      " |        The index where the value is to be inserted.\n",
      " |      item\n",
      " |        The item to be inserted.\n",
      " |  \n",
      " |  isalnum(...)\n",
      " |      B.isalnum() -> bool\n",
      " |      \n",
      " |      Return True if all characters in B are alphanumeric\n",
      " |      and there is at least one character in B, False otherwise.\n",
      " |  \n",
      " |  isalpha(...)\n",
      " |      B.isalpha() -> bool\n",
      " |      \n",
      " |      Return True if all characters in B are alphabetic\n",
      " |      and there is at least one character in B, False otherwise.\n",
      " |  \n",
      " |  isdigit(...)\n",
      " |      B.isdigit() -> bool\n",
      " |      \n",
      " |      Return True if all characters in B are digits\n",
      " |      and there is at least one character in B, False otherwise.\n",
      " |  \n",
      " |  islower(...)\n",
      " |      B.islower() -> bool\n",
      " |      \n",
      " |      Return True if all cased characters in B are lowercase and there is\n",
      " |      at least one cased character in B, False otherwise.\n",
      " |  \n",
      " |  isspace(...)\n",
      " |      B.isspace() -> bool\n",
      " |      \n",
      " |      Return True if all characters in B are whitespace\n",
      " |      and there is at least one character in B, False otherwise.\n",
      " |  \n",
      " |  istitle(...)\n",
      " |      B.istitle() -> bool\n",
      " |      \n",
      " |      Return True if B is a titlecased string and there is at least one\n",
      " |      character in B, i.e. uppercase characters may only follow uncased\n",
      " |      characters and lowercase characters only cased ones. Return False\n",
      " |      otherwise.\n",
      " |  \n",
      " |  isupper(...)\n",
      " |      B.isupper() -> bool\n",
      " |      \n",
      " |      Return True if all cased characters in B are uppercase and there is\n",
      " |      at least one cased character in B, False otherwise.\n",
      " |  \n",
      " |  join(self, iterable_of_bytes, /)\n",
      " |      Concatenate any number of bytes/bytearray objects.\n",
      " |      \n",
      " |      The bytearray whose method is called is inserted in between each pair.\n",
      " |      \n",
      " |      The result is returned as a new bytearray object.\n",
      " |  \n",
      " |  ljust(...)\n",
      " |      B.ljust(width[, fillchar]) -> copy of B\n",
      " |      \n",
      " |      Return B left justified in a string of length width. Padding is\n",
      " |      done using the specified fill character (default is a space).\n",
      " |  \n",
      " |  lower(...)\n",
      " |      B.lower() -> copy of B\n",
      " |      \n",
      " |      Return a copy of B with all ASCII characters converted to lowercase.\n",
      " |  \n",
      " |  lstrip(self, bytes=None, /)\n",
      " |      Strip leading bytes contained in the argument.\n",
      " |      \n",
      " |      If the argument is omitted or None, strip leading ASCII whitespace.\n",
      " |  \n",
      " |  partition(self, sep, /)\n",
      " |      Partition the bytearray into three parts using the given separator.\n",
      " |      \n",
      " |      This will search for the separator sep in the bytearray. If the separator is\n",
      " |      found, returns a 3-tuple containing the part before the separator, the\n",
      " |      separator itself, and the part after it.\n",
      " |      \n",
      " |      If the separator is not found, returns a 3-tuple containing the original\n",
      " |      bytearray object and two empty bytearray objects.\n",
      " |  \n",
      " |  pop(self, index=-1, /)\n",
      " |      Remove and return a single item from B.\n",
      " |      \n",
      " |        index\n",
      " |          The index from where to remove the item.\n",
      " |          -1 (the default value) means remove the last item.\n",
      " |      \n",
      " |      If no index argument is given, will pop the last item.\n",
      " |  \n",
      " |  remove(self, value, /)\n",
      " |      Remove the first occurrence of a value in the bytearray.\n",
      " |      \n",
      " |      value\n",
      " |        The value to remove.\n",
      " |  \n",
      " |  replace(self, old, new, count=-1, /)\n",
      " |      Return a copy with all occurrences of substring old replaced by new.\n",
      " |      \n",
      " |        count\n",
      " |          Maximum number of occurrences to replace.\n",
      " |          -1 (the default value) means replace all occurrences.\n",
      " |      \n",
      " |      If the optional argument count is given, only the first count occurrences are\n",
      " |      replaced.\n",
      " |  \n",
      " |  reverse(self, /)\n",
      " |      Reverse the order of the values in B in place.\n",
      " |  \n",
      " |  rfind(...)\n",
      " |      B.rfind(sub[, start[, end]]) -> int\n",
      " |      \n",
      " |      Return the highest index in B where subsection sub is found,\n",
      " |      such that sub is contained within B[start,end].  Optional\n",
      " |      arguments start and end are interpreted as in slice notation.\n",
      " |      \n",
      " |      Return -1 on failure.\n",
      " |  \n",
      " |  rindex(...)\n",
      " |      B.rindex(sub[, start[, end]]) -> int\n",
      " |      \n",
      " |      Return the highest index in B where subsection sub is found,\n",
      " |      such that sub is contained within B[start,end].  Optional\n",
      " |      arguments start and end are interpreted as in slice notation.\n",
      " |      \n",
      " |      Raise ValueError when the subsection is not found.\n",
      " |  \n",
      " |  rjust(...)\n",
      " |      B.rjust(width[, fillchar]) -> copy of B\n",
      " |      \n",
      " |      Return B right justified in a string of length width. Padding is\n",
      " |      done using the specified fill character (default is a space)\n",
      " |  \n",
      " |  rpartition(self, sep, /)\n",
      " |      Partition the bytes into three parts using the given separator.\n",
      " |      \n",
      " |      This will search for the separator sep in the bytearray, starting and the end.\n",
      " |      If the separator is found, returns a 3-tuple containing the part before the\n",
      " |      separator, the separator itself, and the part after it.\n",
      " |      \n",
      " |      If the separator is not found, returns a 3-tuple containing two empty bytearray\n",
      " |      objects and the original bytearray object.\n",
      " |  \n",
      " |  rsplit(self, /, sep=None, maxsplit=-1)\n",
      " |      Return a list of the sections in the bytearray, using sep as the delimiter.\n",
      " |      \n",
      " |        sep\n",
      " |          The delimiter according which to split the bytearray.\n",
      " |          None (the default value) means split on ASCII whitespace characters\n",
      " |          (space, tab, return, newline, formfeed, vertical tab).\n",
      " |        maxsplit\n",
      " |          Maximum number of splits to do.\n",
      " |          -1 (the default value) means no limit.\n",
      " |      \n",
      " |      Splitting is done starting at the end of the bytearray and working to the front.\n",
      " |  \n",
      " |  rstrip(self, bytes=None, /)\n",
      " |      Strip trailing bytes contained in the argument.\n",
      " |      \n",
      " |      If the argument is omitted or None, strip trailing ASCII whitespace.\n",
      " |  \n",
      " |  split(self, /, sep=None, maxsplit=-1)\n",
      " |      Return a list of the sections in the bytearray, using sep as the delimiter.\n",
      " |      \n",
      " |      sep\n",
      " |        The delimiter according which to split the bytearray.\n",
      " |        None (the default value) means split on ASCII whitespace characters\n",
      " |        (space, tab, return, newline, formfeed, vertical tab).\n",
      " |      maxsplit\n",
      " |        Maximum number of splits to do.\n",
      " |        -1 (the default value) means no limit.\n",
      " |  \n",
      " |  splitlines(self, /, keepends=False)\n",
      " |      Return a list of the lines in the bytearray, breaking at line boundaries.\n",
      " |      \n",
      " |      Line breaks are not included in the resulting list unless keepends is given and\n",
      " |      true.\n",
      " |  \n",
      " |  startswith(...)\n",
      " |      B.startswith(prefix[, start[, end]]) -> bool\n",
      " |      \n",
      " |      Return True if B starts with the specified prefix, False otherwise.\n",
      " |      With optional start, test B beginning at that position.\n",
      " |      With optional end, stop comparing B at that position.\n",
      " |      prefix can also be a tuple of bytes to try.\n",
      " |  \n",
      " |  strip(self, bytes=None, /)\n",
      " |      Strip leading and trailing bytes contained in the argument.\n",
      " |      \n",
      " |      If the argument is omitted or None, strip leading and trailing ASCII whitespace.\n",
      " |  \n",
      " |  swapcase(...)\n",
      " |      B.swapcase() -> copy of B\n",
      " |      \n",
      " |      Return a copy of B with uppercase ASCII characters converted\n",
      " |      to lowercase ASCII and vice versa.\n",
      " |  \n",
      " |  title(...)\n",
      " |      B.title() -> copy of B\n",
      " |      \n",
      " |      Return a titlecased version of B, i.e. ASCII words start with uppercase\n",
      " |      characters, all remaining cased characters have lowercase.\n",
      " |  \n",
      " |  translate(self, table, /, delete=b'')\n",
      " |      Return a copy with each character mapped by the given translation table.\n",
      " |      \n",
      " |        table\n",
      " |          Translation table, which must be a bytes object of length 256.\n",
      " |      \n",
      " |      All characters occurring in the optional argument delete are removed.\n",
      " |      The remaining characters are mapped through the given translation table.\n",
      " |  \n",
      " |  upper(...)\n",
      " |      B.upper() -> copy of B\n",
      " |      \n",
      " |      Return a copy of B with all ASCII characters converted to uppercase.\n",
      " |  \n",
      " |  zfill(...)\n",
      " |      B.zfill(width) -> copy of B\n",
      " |      \n",
      " |      Pad a numeric string B with zeros on the left, to fill a field\n",
      " |      of the specified width.  B is never truncated.\n",
      " |  \n",
      " |  ----------------------------------------------------------------------\n",
      " |  Static methods defined here:\n",
      " |  \n",
      " |  maketrans(frm, to, /)\n",
      " |      Return a translation table useable for the bytes or bytearray translate method.\n",
      " |      \n",
      " |      The returned table will be one where each byte in frm is mapped to the byte at\n",
      " |      the same position in to.\n",
      " |      \n",
      " |      The bytes objects frm and to must be of the same length.\n",
      " |  \n",
      " |  ----------------------------------------------------------------------\n",
      " |  Data and other attributes defined here:\n",
      " |  \n",
      " |  __hash__ = None\n",
      "\n"
     ]
    }
   ],
   "source": [
    "help(bytearray)"
   ]
  },
  {
   "cell_type": "code",
   "execution_count": 50,
   "metadata": {},
   "outputs": [
    {
     "data": {
      "text/plain": [
       "'Aprender python es facil'"
      ]
     },
     "execution_count": 50,
     "metadata": {},
     "output_type": "execute_result"
    }
   ],
   "source": [
    "# Usar el método decode() para transformarlo en string\n",
    "\n",
    "x.decode()"
   ]
  },
  {
   "cell_type": "code",
   "execution_count": 51,
   "metadata": {},
   "outputs": [
    {
     "data": {
      "text/plain": [
       "'417072656e64657220707974686f6e20657320666163696c'"
      ]
     },
     "execution_count": 51,
     "metadata": {},
     "output_type": "execute_result"
    }
   ],
   "source": [
    "# Usar el método hex() para transformarlo en hexadecimal\n",
    "\n",
    "x.hex()"
   ]
  },
  {
   "cell_type": "code",
   "execution_count": 52,
   "metadata": {},
   "outputs": [
    {
     "data": {
      "text/plain": [
       "65"
      ]
     },
     "execution_count": 52,
     "metadata": {},
     "output_type": "execute_result"
    }
   ],
   "source": [
    "# Acceder al elemento 0 de la secuencia\n",
    "\n",
    "x[0]"
   ]
  },
  {
   "cell_type": "code",
   "execution_count": 53,
   "metadata": {},
   "outputs": [
    {
     "data": {
      "text/plain": [
       "bytearray(b'Iprender python es facil')"
      ]
     },
     "execution_count": 53,
     "metadata": {},
     "output_type": "execute_result"
    }
   ],
   "source": [
    "# Podemos cambiar el valor del primer elemento\n",
    "\n",
    "x[0]=73\n",
    "x"
   ]
  },
  {
   "cell_type": "markdown",
   "metadata": {},
   "source": [
    "## 5. Listas\n",
    "\n",
    "Una lista es una secuencia ordenada de valores. Son mutables, es decir, puede redefinirse el número de elementos y cambiar sus valores. Se pueden crear usando la función list() o los símbolos [ ].\n",
    "\n",
    "Las listas son el tipo de variables más usadas en Python, dada su facilidad y flexibilidad para almacenar diferentes tipos de valores."
   ]
  },
  {
   "cell_type": "markdown",
   "metadata": {},
   "source": [
    "### Definir un objeto tipo lista"
   ]
  },
  {
   "cell_type": "code",
   "execution_count": 54,
   "metadata": {},
   "outputs": [
    {
     "name": "stdout",
     "output_type": "stream",
     "text": [
      "[] <class 'list'> 0\n"
     ]
    }
   ],
   "source": [
    "# Crear una lista vacía\n",
    "\n",
    "x=list()\n",
    "print(x, type(x), len(x))"
   ]
  },
  {
   "cell_type": "code",
   "execution_count": 55,
   "metadata": {},
   "outputs": [
    {
     "name": "stdout",
     "output_type": "stream",
     "text": [
      "[1, 2, 3] <class 'list'> 3\n"
     ]
    }
   ],
   "source": [
    "# Crear una lista que contiene un par de valores enteros\n",
    "\n",
    "x=list([1,2,3])\n",
    "print(x, type(x), len(x))"
   ]
  },
  {
   "cell_type": "code",
   "execution_count": 56,
   "metadata": {},
   "outputs": [
    {
     "name": "stdout",
     "output_type": "stream",
     "text": [
      "[1, 2.0, '3', 4.0] <class 'list'> 4\n"
     ]
    }
   ],
   "source": [
    "# Crear una lista que mezcla enteros, punto flotante y string\n",
    "\n",
    "x=list([1,2.,'3',4.])\n",
    "print(x, type(x), len(x))"
   ]
  },
  {
   "cell_type": "code",
   "execution_count": 48,
   "metadata": {},
   "outputs": [
    {
     "data": {
      "text/plain": [
       "'3'"
      ]
     },
     "execution_count": 48,
     "metadata": {},
     "output_type": "execute_result"
    }
   ],
   "source": [
    "x[2]"
   ]
  },
  {
   "cell_type": "code",
   "execution_count": 57,
   "metadata": {},
   "outputs": [
    {
     "data": {
      "text/plain": [
       "2.0"
      ]
     },
     "execution_count": 57,
     "metadata": {},
     "output_type": "execute_result"
    }
   ],
   "source": [
    "x[1]"
   ]
  },
  {
   "cell_type": "code",
   "execution_count": 58,
   "metadata": {},
   "outputs": [
    {
     "name": "stdout",
     "output_type": "stream",
     "text": [
      "[1, 2.0, '3', 4.0] <class 'list'> 4\n"
     ]
    }
   ],
   "source": [
    "# Crear una lista usando los símbolos []\n",
    "\n",
    "x=[1,2.,'3',4.]\n",
    "print(x, type(x), len(x))"
   ]
  },
  {
   "cell_type": "markdown",
   "metadata": {},
   "source": [
    "### Acceder a un elemento y cambiar su valor"
   ]
  },
  {
   "cell_type": "code",
   "execution_count": 59,
   "metadata": {},
   "outputs": [
    {
     "data": {
      "text/plain": [
       "1"
      ]
     },
     "execution_count": 59,
     "metadata": {},
     "output_type": "execute_result"
    }
   ],
   "source": [
    "# Acceder al primer elemento de la lista\n",
    "\n",
    "x[0]"
   ]
  },
  {
   "cell_type": "code",
   "execution_count": 60,
   "metadata": {},
   "outputs": [
    {
     "data": {
      "text/plain": [
       "['Machine Learning con Python', 2.0, '3', 4.0]"
      ]
     },
     "execution_count": 60,
     "metadata": {},
     "output_type": "execute_result"
    }
   ],
   "source": [
    "# Cambiar el valor del elemento 0\n",
    "\n",
    "x[0]='Machine Learning con Python'\n",
    "x"
   ]
  },
  {
   "cell_type": "code",
   "execution_count": 61,
   "metadata": {},
   "outputs": [
    {
     "data": {
      "text/plain": [
       "4.0"
      ]
     },
     "execution_count": 61,
     "metadata": {},
     "output_type": "execute_result"
    }
   ],
   "source": [
    "x[3]"
   ]
  },
  {
   "cell_type": "code",
   "execution_count": 63,
   "metadata": {},
   "outputs": [
    {
     "data": {
      "text/plain": [
       "'3'"
      ]
     },
     "execution_count": 63,
     "metadata": {},
     "output_type": "execute_result"
    }
   ],
   "source": [
    "# Acceder al último elemento de la lista\n",
    "\n",
    "x[-2]"
   ]
  },
  {
   "cell_type": "markdown",
   "metadata": {},
   "source": [
    "### Acceder a un slice de la lista"
   ]
  },
  {
   "cell_type": "code",
   "execution_count": 64,
   "metadata": {},
   "outputs": [
    {
     "data": {
      "text/plain": [
       "['Machine Learning con Python', 2.0]"
      ]
     },
     "execution_count": 64,
     "metadata": {},
     "output_type": "execute_result"
    }
   ],
   "source": [
    "# Acceder a un slice desde el primer elemento hasta el segundo elemento. Usamos los indices 0 y 2\n",
    "\n",
    "x[0:2]"
   ]
  },
  {
   "cell_type": "code",
   "execution_count": 65,
   "metadata": {},
   "outputs": [
    {
     "data": {
      "text/plain": [
       "['Machine Learning con Python', 2.0]"
      ]
     },
     "execution_count": 65,
     "metadata": {},
     "output_type": "execute_result"
    }
   ],
   "source": [
    "x[:2]"
   ]
  },
  {
   "cell_type": "code",
   "execution_count": 66,
   "metadata": {},
   "outputs": [
    {
     "data": {
      "text/plain": [
       "['3', 4.0]"
      ]
     },
     "execution_count": 66,
     "metadata": {},
     "output_type": "execute_result"
    }
   ],
   "source": [
    "# Acceder a un slice desde el tercer elemento hasta el último elemento. Usamos los índices 2 y el último lo dejamos en blanco\n",
    "\n",
    "x[2:]"
   ]
  },
  {
   "cell_type": "code",
   "execution_count": 67,
   "metadata": {},
   "outputs": [
    {
     "data": {
      "text/plain": [
       "[2.0, '3', 4.0]"
      ]
     },
     "execution_count": 67,
     "metadata": {},
     "output_type": "execute_result"
    }
   ],
   "source": [
    "# Acceder a los últimos dos elementos de la lista. Usamos los índices -2 y dejamos en blanco el último\n",
    "\n",
    "x[-3:]"
   ]
  },
  {
   "cell_type": "markdown",
   "metadata": {},
   "source": [
    "### Agregar elementos a la lista"
   ]
  },
  {
   "cell_type": "code",
   "execution_count": 68,
   "metadata": {},
   "outputs": [
    {
     "data": {
      "text/plain": [
       "['Machine Learning con Python', 2.0, '3', 4.0, 5, '6']"
      ]
     },
     "execution_count": 68,
     "metadata": {},
     "output_type": "execute_result"
    }
   ],
   "source": [
    "# Usar el operador suma\n",
    "\n",
    "x=x+[5,'6']\n",
    "x"
   ]
  },
  {
   "cell_type": "code",
   "execution_count": 69,
   "metadata": {},
   "outputs": [
    {
     "data": {
      "text/plain": [
       "['Machine Learning con Python', 2.0, '3', 4.0, 5, '6', 7.0]"
      ]
     },
     "execution_count": 69,
     "metadata": {},
     "output_type": "execute_result"
    }
   ],
   "source": [
    "# Usar el método append. El nuevo elemento se agrega al final de la lista.\n",
    "# En caso que el elemento sea una lista, esta se agrega tal cual\n",
    "\n",
    "x.append(7.)\n",
    "x"
   ]
  },
  {
   "cell_type": "code",
   "execution_count": 70,
   "metadata": {},
   "outputs": [
    {
     "data": {
      "text/plain": [
       "['Machine Learning con Python', 2.0, '3', 4.0, 5, '6', 7.0, [8, '9']]"
      ]
     },
     "execution_count": 70,
     "metadata": {},
     "output_type": "execute_result"
    }
   ],
   "source": [
    "x.append([8,'9'])\n",
    "x"
   ]
  },
  {
   "cell_type": "code",
   "execution_count": 71,
   "metadata": {},
   "outputs": [
    {
     "data": {
      "text/plain": [
       "['Machine Learning con Python',\n",
       " 2.0,\n",
       " '3',\n",
       " 4.0,\n",
       " 5,\n",
       " '6',\n",
       " 7.0,\n",
       " [8, '9'],\n",
       " 10,\n",
       " '11',\n",
       " '6']"
      ]
     },
     "execution_count": 71,
     "metadata": {},
     "output_type": "execute_result"
    }
   ],
   "source": [
    "# Usar el método extend. El nuevo elemento se agrega al final de la lista.\n",
    "# En caso de ser una lista, cada elemento se agrega por separado\n",
    "\n",
    "x.extend([10,'11','6'])\n",
    "x"
   ]
  },
  {
   "cell_type": "code",
   "execution_count": 61,
   "metadata": {},
   "outputs": [
    {
     "data": {
      "text/plain": [
       "['Machine Learning con Python',\n",
       " 2.0,\n",
       " '3',\n",
       " 4.0,\n",
       " 5,\n",
       " '6',\n",
       " 7.0,\n",
       " [8, '9'],\n",
       " 10,\n",
       " '11',\n",
       " '6',\n",
       " 10,\n",
       " '11',\n",
       " ['6', 7, 8.0]]"
      ]
     },
     "execution_count": 61,
     "metadata": {},
     "output_type": "execute_result"
    }
   ],
   "source": [
    "x.extend([10,'11',['6', 7, 8.0]])\n",
    "x"
   ]
  },
  {
   "cell_type": "markdown",
   "metadata": {},
   "source": [
    "### Buscar elementos en una lista"
   ]
  },
  {
   "cell_type": "code",
   "execution_count": 77,
   "metadata": {},
   "outputs": [
    {
     "data": {
      "text/plain": [
       "1"
      ]
     },
     "execution_count": 77,
     "metadata": {},
     "output_type": "execute_result"
    }
   ],
   "source": [
    "# Usar el método count() para contar ocurrencias de algún elemento\n",
    "\n",
    "x.count(5)"
   ]
  },
  {
   "cell_type": "code",
   "execution_count": 74,
   "metadata": {},
   "outputs": [
    {
     "data": {
      "text/plain": [
       "False"
      ]
     },
     "execution_count": 74,
     "metadata": {},
     "output_type": "execute_result"
    }
   ],
   "source": [
    "# Usar la función in para determinar si elemento existe en la lista\n",
    "\n",
    "'5' in x"
   ]
  },
  {
   "cell_type": "code",
   "execution_count": 79,
   "metadata": {},
   "outputs": [
    {
     "name": "stdout",
     "output_type": "stream",
     "text": [
      "Help on built-in function index:\n",
      "\n",
      "index(...) method of builtins.list instance\n",
      "    L.index(value, [start, [stop]]) -> integer -- return first index of value.\n",
      "    Raises ValueError if the value is not present.\n",
      "\n"
     ]
    }
   ],
   "source": [
    "# Determinar el índice en el cual se encuentra el elemento\n",
    "\n",
    "x.index('6')\n",
    "help(x.index)"
   ]
  },
  {
   "cell_type": "code",
   "execution_count": 80,
   "metadata": {},
   "outputs": [
    {
     "ename": "ValueError",
     "evalue": "894556456465456 is not in list",
     "output_type": "error",
     "traceback": [
      "\u001b[1;31m---------------------------------------------------------------------------\u001b[0m",
      "\u001b[1;31mValueError\u001b[0m                                Traceback (most recent call last)",
      "\u001b[1;32m<ipython-input-80-bce68618dac5>\u001b[0m in \u001b[0;36m<module>\u001b[1;34m()\u001b[0m\n\u001b[0;32m      1\u001b[0m \u001b[1;31m# ¿Que suecede si buscamos un valor que no se encuentra en la lista?\u001b[0m\u001b[1;33m\u001b[0m\u001b[1;33m\u001b[0m\u001b[0m\n\u001b[0;32m      2\u001b[0m \u001b[1;33m\u001b[0m\u001b[0m\n\u001b[1;32m----> 3\u001b[1;33m \u001b[0mx\u001b[0m\u001b[1;33m.\u001b[0m\u001b[0mindex\u001b[0m\u001b[1;33m(\u001b[0m\u001b[1;36m894556456465456\u001b[0m\u001b[1;33m)\u001b[0m\u001b[1;33m\u001b[0m\u001b[0m\n\u001b[0m",
      "\u001b[1;31mValueError\u001b[0m: 894556456465456 is not in list"
     ]
    }
   ],
   "source": [
    "# ¿Que suecede si buscamos un valor que no se encuentra en la lista?\n",
    "\n",
    "x.index(894556456465456)"
   ]
  },
  {
   "cell_type": "markdown",
   "metadata": {},
   "source": [
    "### Eliminar elementos de una lista"
   ]
  },
  {
   "cell_type": "code",
   "execution_count": 81,
   "metadata": {},
   "outputs": [
    {
     "data": {
      "text/plain": [
       "['Machine Learning con Python',\n",
       " 2.0,\n",
       " '3',\n",
       " 4.0,\n",
       " 5,\n",
       " '6',\n",
       " 7.0,\n",
       " [8, '9'],\n",
       " 10,\n",
       " '11',\n",
       " '6']"
      ]
     },
     "execution_count": 81,
     "metadata": {},
     "output_type": "execute_result"
    }
   ],
   "source": [
    "x"
   ]
  },
  {
   "cell_type": "code",
   "execution_count": 82,
   "metadata": {},
   "outputs": [
    {
     "data": {
      "text/plain": [
       "[2.0, '3', 4.0, 5, '6', 7.0, [8, '9'], 10, '11', '6']"
      ]
     },
     "execution_count": 82,
     "metadata": {},
     "output_type": "execute_result"
    }
   ],
   "source": [
    "# Eliminar elementos usando el indice\n",
    "\n",
    "del x[0]\n",
    "x"
   ]
  },
  {
   "cell_type": "code",
   "execution_count": 83,
   "metadata": {},
   "outputs": [
    {
     "data": {
      "text/plain": [
       "[2.0, '3', 4.0, 5, 7.0, [8, '9'], 10, '11', '6']"
      ]
     },
     "execution_count": 83,
     "metadata": {},
     "output_type": "execute_result"
    }
   ],
   "source": [
    "# Eliminar elementos usando el método remove(). Elimina la primera ocurrencia del elemento\n",
    "\n",
    "x.remove('6')\n",
    "x"
   ]
  },
  {
   "cell_type": "code",
   "execution_count": 84,
   "metadata": {},
   "outputs": [
    {
     "ename": "ValueError",
     "evalue": "list.remove(x): x not in list",
     "output_type": "error",
     "traceback": [
      "\u001b[1;31m---------------------------------------------------------------------------\u001b[0m",
      "\u001b[1;31mValueError\u001b[0m                                Traceback (most recent call last)",
      "\u001b[1;32m<ipython-input-84-af47978b566c>\u001b[0m in \u001b[0;36m<module>\u001b[1;34m()\u001b[0m\n\u001b[0;32m      1\u001b[0m \u001b[1;31m# ¿Que suecede si borramos un elemento que no existe en la lista?\u001b[0m\u001b[1;33m\u001b[0m\u001b[1;33m\u001b[0m\u001b[0m\n\u001b[0;32m      2\u001b[0m \u001b[1;33m\u001b[0m\u001b[0m\n\u001b[1;32m----> 3\u001b[1;33m \u001b[0mx\u001b[0m\u001b[1;33m.\u001b[0m\u001b[0mremove\u001b[0m\u001b[1;33m(\u001b[0m\u001b[1;36m20\u001b[0m\u001b[1;33m)\u001b[0m\u001b[1;33m\u001b[0m\u001b[0m\n\u001b[0m\u001b[0;32m      4\u001b[0m \u001b[0mx\u001b[0m\u001b[1;33m\u001b[0m\u001b[0m\n",
      "\u001b[1;31mValueError\u001b[0m: list.remove(x): x not in list"
     ]
    }
   ],
   "source": [
    "# ¿Que suecede si borramos un elemento que no existe en la lista?\n",
    "\n",
    "x.remove(20)\n",
    "x"
   ]
  },
  {
   "cell_type": "code",
   "execution_count": 85,
   "metadata": {},
   "outputs": [
    {
     "data": {
      "text/plain": [
       "[2.0, '3', 4.0, 5, 7.0, [8, '9'], 10, '11', '6']"
      ]
     },
     "execution_count": 85,
     "metadata": {},
     "output_type": "execute_result"
    }
   ],
   "source": [
    "x"
   ]
  },
  {
   "cell_type": "code",
   "execution_count": 86,
   "metadata": {},
   "outputs": [
    {
     "name": "stdout",
     "output_type": "stream",
     "text": [
      "6\n",
      "[2.0, '3', 4.0, 5, 7.0, [8, '9'], 10, '11']\n"
     ]
    }
   ],
   "source": [
    "# Eliminar elementos usando el método pop().\n",
    "# Este método extrae una copia del último elemento de la lista y lo remueve\n",
    "\n",
    "y=x.pop()\n",
    "print(y)\n",
    "print(x)"
   ]
  },
  {
   "cell_type": "code",
   "execution_count": 87,
   "metadata": {},
   "outputs": [
    {
     "name": "stdout",
     "output_type": "stream",
     "text": [
      "2.0\n",
      "['3', 4.0, 5, 7.0, [8, '9'], 10, '11']\n"
     ]
    }
   ],
   "source": [
    "y=x.pop(0)\n",
    "print(y)\n",
    "print(x)"
   ]
  },
  {
   "cell_type": "code",
   "execution_count": 88,
   "metadata": {},
   "outputs": [
    {
     "name": "stdout",
     "output_type": "stream",
     "text": [
      "Help on list object:\n",
      "\n",
      "class list(object)\n",
      " |  list() -> new empty list\n",
      " |  list(iterable) -> new list initialized from iterable's items\n",
      " |  \n",
      " |  Methods defined here:\n",
      " |  \n",
      " |  __add__(self, value, /)\n",
      " |      Return self+value.\n",
      " |  \n",
      " |  __contains__(self, key, /)\n",
      " |      Return key in self.\n",
      " |  \n",
      " |  __delitem__(self, key, /)\n",
      " |      Delete self[key].\n",
      " |  \n",
      " |  __eq__(self, value, /)\n",
      " |      Return self==value.\n",
      " |  \n",
      " |  __ge__(self, value, /)\n",
      " |      Return self>=value.\n",
      " |  \n",
      " |  __getattribute__(self, name, /)\n",
      " |      Return getattr(self, name).\n",
      " |  \n",
      " |  __getitem__(...)\n",
      " |      x.__getitem__(y) <==> x[y]\n",
      " |  \n",
      " |  __gt__(self, value, /)\n",
      " |      Return self>value.\n",
      " |  \n",
      " |  __iadd__(self, value, /)\n",
      " |      Implement self+=value.\n",
      " |  \n",
      " |  __imul__(self, value, /)\n",
      " |      Implement self*=value.\n",
      " |  \n",
      " |  __init__(self, /, *args, **kwargs)\n",
      " |      Initialize self.  See help(type(self)) for accurate signature.\n",
      " |  \n",
      " |  __iter__(self, /)\n",
      " |      Implement iter(self).\n",
      " |  \n",
      " |  __le__(self, value, /)\n",
      " |      Return self<=value.\n",
      " |  \n",
      " |  __len__(self, /)\n",
      " |      Return len(self).\n",
      " |  \n",
      " |  __lt__(self, value, /)\n",
      " |      Return self<value.\n",
      " |  \n",
      " |  __mul__(self, value, /)\n",
      " |      Return self*value.n\n",
      " |  \n",
      " |  __ne__(self, value, /)\n",
      " |      Return self!=value.\n",
      " |  \n",
      " |  __new__(*args, **kwargs) from builtins.type\n",
      " |      Create and return a new object.  See help(type) for accurate signature.\n",
      " |  \n",
      " |  __repr__(self, /)\n",
      " |      Return repr(self).\n",
      " |  \n",
      " |  __reversed__(...)\n",
      " |      L.__reversed__() -- return a reverse iterator over the list\n",
      " |  \n",
      " |  __rmul__(self, value, /)\n",
      " |      Return self*value.\n",
      " |  \n",
      " |  __setitem__(self, key, value, /)\n",
      " |      Set self[key] to value.\n",
      " |  \n",
      " |  __sizeof__(...)\n",
      " |      L.__sizeof__() -- size of L in memory, in bytes\n",
      " |  \n",
      " |  append(...)\n",
      " |      L.append(object) -> None -- append object to end\n",
      " |  \n",
      " |  clear(...)\n",
      " |      L.clear() -> None -- remove all items from L\n",
      " |  \n",
      " |  copy(...)\n",
      " |      L.copy() -> list -- a shallow copy of L\n",
      " |  \n",
      " |  count(...)\n",
      " |      L.count(value) -> integer -- return number of occurrences of value\n",
      " |  \n",
      " |  extend(...)\n",
      " |      L.extend(iterable) -> None -- extend list by appending elements from the iterable\n",
      " |  \n",
      " |  index(...)\n",
      " |      L.index(value, [start, [stop]]) -> integer -- return first index of value.\n",
      " |      Raises ValueError if the value is not present.\n",
      " |  \n",
      " |  insert(...)\n",
      " |      L.insert(index, object) -- insert object before index\n",
      " |  \n",
      " |  pop(...)\n",
      " |      L.pop([index]) -> item -- remove and return item at index (default last).\n",
      " |      Raises IndexError if list is empty or index is out of range.\n",
      " |  \n",
      " |  remove(...)\n",
      " |      L.remove(value) -> None -- remove first occurrence of value.\n",
      " |      Raises ValueError if the value is not present.\n",
      " |  \n",
      " |  reverse(...)\n",
      " |      L.reverse() -- reverse *IN PLACE*\n",
      " |  \n",
      " |  sort(...)\n",
      " |      L.sort(key=None, reverse=False) -> None -- stable sort *IN PLACE*\n",
      " |  \n",
      " |  ----------------------------------------------------------------------\n",
      " |  Data and other attributes defined here:\n",
      " |  \n",
      " |  __hash__ = None\n",
      "\n"
     ]
    }
   ],
   "source": [
    "help(x)"
   ]
  },
  {
   "cell_type": "markdown",
   "metadata": {},
   "source": [
    "### List Comprehensions\n",
    "Las comprensiones son constructos que permiten que las secuencias se construyan a partir de otras secuencias.\n",
    "\n",
    "\n",
    "<img src=\"images/listComprehensions.gif\" width=\"700\">"
   ]
  },
  {
   "cell_type": "code",
   "execution_count": 89,
   "metadata": {},
   "outputs": [
    {
     "data": {
      "text/plain": [
       "[1, 2, 3, 4]"
      ]
     },
     "execution_count": 89,
     "metadata": {},
     "output_type": "execute_result"
    }
   ],
   "source": [
    "# Definimos una lista\n",
    "\n",
    "x = [1, 2, 3, 4]\n",
    "x"
   ]
  },
  {
   "cell_type": "code",
   "execution_count": 90,
   "metadata": {},
   "outputs": [
    {
     "name": "stdout",
     "output_type": "stream",
     "text": [
      "[1, 4, 9, 16]\n"
     ]
    }
   ],
   "source": [
    "# ¿Qué hacemos si queremos elevar al cuadrado a todos los elementos de la lista definida?\n",
    "\n",
    "x2 = [e ** 2 for e in x]\n",
    "print(x2)"
   ]
  },
  {
   "cell_type": "code",
   "execution_count": 97,
   "metadata": {},
   "outputs": [
    {
     "name": "stdout",
     "output_type": "stream",
     "text": [
      "[1, 4]\n"
     ]
    }
   ],
   "source": [
    "x2 = [e ** 2 for e in x if e < 3]\n",
    "print(x2)"
   ]
  },
  {
   "cell_type": "code",
   "execution_count": 98,
   "metadata": {},
   "outputs": [
    {
     "data": {
      "text/plain": [
       "[1, 2, 3, 4, 'Machine Learning con Pyhthon']"
      ]
     },
     "execution_count": 98,
     "metadata": {},
     "output_type": "execute_result"
    }
   ],
   "source": [
    "# Agregemos un elemento más a la lista\n",
    "\n",
    "x.append(\"Machine Learning con Pyhthon\")\n",
    "x"
   ]
  },
  {
   "cell_type": "code",
   "execution_count": 99,
   "metadata": {},
   "outputs": [
    {
     "ename": "TypeError",
     "evalue": "unsupported operand type(s) for ** or pow(): 'str' and 'int'",
     "output_type": "error",
     "traceback": [
      "\u001b[1;31m---------------------------------------------------------------------------\u001b[0m",
      "\u001b[1;31mTypeError\u001b[0m                                 Traceback (most recent call last)",
      "\u001b[1;32m<ipython-input-99-54905453630e>\u001b[0m in \u001b[0;36m<module>\u001b[1;34m()\u001b[0m\n\u001b[0;32m      1\u001b[0m \u001b[1;31m#  Ahora ... ¿Qué hacemos si queremos elevar al cuadrado a todos los elementos enteros de la lista definida?\u001b[0m\u001b[1;33m\u001b[0m\u001b[1;33m\u001b[0m\u001b[0m\n\u001b[0;32m      2\u001b[0m \u001b[1;33m\u001b[0m\u001b[0m\n\u001b[1;32m----> 3\u001b[1;33m \u001b[0mx2\u001b[0m \u001b[1;33m=\u001b[0m \u001b[1;33m[\u001b[0m\u001b[0me\u001b[0m \u001b[1;33m**\u001b[0m \u001b[1;36m2\u001b[0m \u001b[1;32mfor\u001b[0m \u001b[0me\u001b[0m \u001b[1;32min\u001b[0m \u001b[0mx\u001b[0m\u001b[1;33m]\u001b[0m\u001b[1;33m\u001b[0m\u001b[0m\n\u001b[0m\u001b[0;32m      4\u001b[0m \u001b[0mprint\u001b[0m\u001b[1;33m(\u001b[0m\u001b[0mx2\u001b[0m\u001b[1;33m)\u001b[0m\u001b[1;33m\u001b[0m\u001b[0m\n",
      "\u001b[1;32m<ipython-input-99-54905453630e>\u001b[0m in \u001b[0;36m<listcomp>\u001b[1;34m(.0)\u001b[0m\n\u001b[0;32m      1\u001b[0m \u001b[1;31m#  Ahora ... ¿Qué hacemos si queremos elevar al cuadrado a todos los elementos enteros de la lista definida?\u001b[0m\u001b[1;33m\u001b[0m\u001b[1;33m\u001b[0m\u001b[0m\n\u001b[0;32m      2\u001b[0m \u001b[1;33m\u001b[0m\u001b[0m\n\u001b[1;32m----> 3\u001b[1;33m \u001b[0mx2\u001b[0m \u001b[1;33m=\u001b[0m \u001b[1;33m[\u001b[0m\u001b[0me\u001b[0m \u001b[1;33m**\u001b[0m \u001b[1;36m2\u001b[0m \u001b[1;32mfor\u001b[0m \u001b[0me\u001b[0m \u001b[1;32min\u001b[0m \u001b[0mx\u001b[0m\u001b[1;33m]\u001b[0m\u001b[1;33m\u001b[0m\u001b[0m\n\u001b[0m\u001b[0;32m      4\u001b[0m \u001b[0mprint\u001b[0m\u001b[1;33m(\u001b[0m\u001b[0mx2\u001b[0m\u001b[1;33m)\u001b[0m\u001b[1;33m\u001b[0m\u001b[0m\n",
      "\u001b[1;31mTypeError\u001b[0m: unsupported operand type(s) for ** or pow(): 'str' and 'int'"
     ]
    }
   ],
   "source": [
    "#  Ahora ... ¿Qué hacemos si queremos elevar al cuadrado a todos los elementos enteros de la lista definida?\n",
    "\n",
    "x2 = [e ** 2 for e in x]\n",
    "print(x2)"
   ]
  },
  {
   "cell_type": "code",
   "execution_count": 100,
   "metadata": {},
   "outputs": [
    {
     "name": "stdout",
     "output_type": "stream",
     "text": [
      "[1, 4, 9, 16]\n"
     ]
    }
   ],
   "source": [
    "# Agreguemos una condición de que el tipo de valor sea entero\n",
    "\n",
    "x2 = [e ** 2 for e in x if type(e) == int]\n",
    "print(x2)"
   ]
  },
  {
   "cell_type": "code",
   "execution_count": 101,
   "metadata": {},
   "outputs": [
    {
     "data": {
      "text/plain": [
       "[1, 2, 3, 4, 'Machine Learning con Pyhthon']"
      ]
     },
     "execution_count": 101,
     "metadata": {},
     "output_type": "execute_result"
    }
   ],
   "source": [
    "x"
   ]
  },
  {
   "cell_type": "code",
   "execution_count": 109,
   "metadata": {},
   "outputs": [],
   "source": [
    "# Otra forma de resolverlo (... las funciones map, filter y lambda los veremos más adelante)\n",
    "\n",
    "x2_ = list(filter(lambda e: type(e) == int, x))"
   ]
  },
  {
   "cell_type": "code",
   "execution_count": 110,
   "metadata": {},
   "outputs": [
    {
     "data": {
      "text/plain": [
       "[1, 2, 3, 4]"
      ]
     },
     "execution_count": 110,
     "metadata": {},
     "output_type": "execute_result"
    }
   ],
   "source": [
    "x2_"
   ]
  },
  {
   "cell_type": "code",
   "execution_count": 104,
   "metadata": {},
   "outputs": [
    {
     "data": {
      "text/plain": [
       "[1, 4, 9, 16]"
      ]
     },
     "execution_count": 104,
     "metadata": {},
     "output_type": "execute_result"
    }
   ],
   "source": [
    "x2 = list(map(lambda e: e**2, x2_))\n",
    "x2"
   ]
  },
  {
   "cell_type": "markdown",
   "metadata": {},
   "source": [
    "## 6. Tuplas\n",
    "\n",
    "Una tupla es una lista inmutable. Una tupla no puede ser alterada de ninguna manera una vez definida.\n",
    "\n",
    "Se pueden crear usando la función tuple() o los símbolos ( ).\n",
    "\n",
    "Las tuplas no tienen los métodos append(), extend(), insert(), remove() y pop()"
   ]
  },
  {
   "cell_type": "markdown",
   "metadata": {},
   "source": [
    "### Definir un objeto tipo tupla"
   ]
  },
  {
   "cell_type": "code",
   "execution_count": 111,
   "metadata": {},
   "outputs": [
    {
     "name": "stdout",
     "output_type": "stream",
     "text": [
      "() <class 'tuple'> 0\n"
     ]
    }
   ],
   "source": [
    "# Crear una tupla vacía\n",
    "\n",
    "x=tuple()\n",
    "print(x, type(x), len(x))"
   ]
  },
  {
   "cell_type": "code",
   "execution_count": 112,
   "metadata": {},
   "outputs": [
    {
     "name": "stdout",
     "output_type": "stream",
     "text": [
      "(1, 2.0, '3', 4.0) <class 'tuple'> 4\n"
     ]
    }
   ],
   "source": [
    "# Crear una tupla usando la función tuple()\n",
    "\n",
    "x=tuple([1,2.,'3',4.])\n",
    "print(x, type(x), len(x))"
   ]
  },
  {
   "cell_type": "code",
   "execution_count": 113,
   "metadata": {},
   "outputs": [
    {
     "name": "stdout",
     "output_type": "stream",
     "text": [
      "(1, 2.0, '3', 4.0) <class 'tuple'> 4\n"
     ]
    }
   ],
   "source": [
    "# Crear una tupla usando los símbolos ()\n",
    "\n",
    "x=(1,2.,'3',4.)\n",
    "print(x, type(x), len(x))"
   ]
  },
  {
   "cell_type": "markdown",
   "metadata": {},
   "source": [
    "### Acceder a un elemento"
   ]
  },
  {
   "cell_type": "code",
   "execution_count": 114,
   "metadata": {},
   "outputs": [
    {
     "data": {
      "text/plain": [
       "1"
      ]
     },
     "execution_count": 114,
     "metadata": {},
     "output_type": "execute_result"
    }
   ],
   "source": [
    "# Acceder al elemento 0 de la lista\n",
    "\n",
    "x[0]"
   ]
  },
  {
   "cell_type": "code",
   "execution_count": 115,
   "metadata": {},
   "outputs": [
    {
     "ename": "TypeError",
     "evalue": "'tuple' object does not support item assignment",
     "output_type": "error",
     "traceback": [
      "\u001b[1;31m---------------------------------------------------------------------------\u001b[0m",
      "\u001b[1;31mTypeError\u001b[0m                                 Traceback (most recent call last)",
      "\u001b[1;32m<ipython-input-115-bfc4ac1083aa>\u001b[0m in \u001b[0;36m<module>\u001b[1;34m()\u001b[0m\n\u001b[0;32m      1\u001b[0m \u001b[1;31m# ¿Que sucede si tratamos de cambiar el valor del elemento 0?\u001b[0m\u001b[1;33m\u001b[0m\u001b[1;33m\u001b[0m\u001b[0m\n\u001b[0;32m      2\u001b[0m \u001b[1;33m\u001b[0m\u001b[0m\n\u001b[1;32m----> 3\u001b[1;33m \u001b[0mx\u001b[0m\u001b[1;33m[\u001b[0m\u001b[1;36m0\u001b[0m\u001b[1;33m]\u001b[0m\u001b[1;33m=\u001b[0m\u001b[1;34m'Hola mundo'\u001b[0m\u001b[1;33m\u001b[0m\u001b[0m\n\u001b[0m\u001b[0;32m      4\u001b[0m \u001b[0mx\u001b[0m\u001b[1;33m\u001b[0m\u001b[0m\n",
      "\u001b[1;31mTypeError\u001b[0m: 'tuple' object does not support item assignment"
     ]
    }
   ],
   "source": [
    "# ¿Que sucede si tratamos de cambiar el valor del elemento 0?\n",
    "\n",
    "x[0]='Hola mundo'\n",
    "x"
   ]
  },
  {
   "cell_type": "markdown",
   "metadata": {},
   "source": [
    "### Acceder a un slice de la tupla"
   ]
  },
  {
   "cell_type": "code",
   "execution_count": 116,
   "metadata": {},
   "outputs": [
    {
     "data": {
      "text/plain": [
       "(1, 2.0)"
      ]
     },
     "execution_count": 116,
     "metadata": {},
     "output_type": "execute_result"
    }
   ],
   "source": [
    "# Acceder a un slice desde el primer elemento hasta el segundo elemento. Usamos los indices 0 y 2\n",
    "\n",
    "x[0:2]"
   ]
  },
  {
   "cell_type": "code",
   "execution_count": 117,
   "metadata": {},
   "outputs": [
    {
     "data": {
      "text/plain": [
       "('3', 4.0)"
      ]
     },
     "execution_count": 117,
     "metadata": {},
     "output_type": "execute_result"
    }
   ],
   "source": [
    "# Acceder a un slice desde el tercer elemento hasta el último elemento. Usamos los índices 2 y el último lo dejamos en blanco\n",
    "\n",
    "x[2:]"
   ]
  },
  {
   "cell_type": "code",
   "execution_count": 118,
   "metadata": {},
   "outputs": [
    {
     "data": {
      "text/plain": [
       "('3', 4.0)"
      ]
     },
     "execution_count": 118,
     "metadata": {},
     "output_type": "execute_result"
    }
   ],
   "source": [
    "# Acceder a los últimos dos elementos de la tupla. Usamos los índices -2 y dejamos en blanco el último\n",
    "\n",
    "x[-2:]"
   ]
  },
  {
   "cell_type": "markdown",
   "metadata": {},
   "source": [
    "## 7. Rangos\n",
    "\n",
    "Un rango corresponde a una secuencia inmutable de números y es comúnmente usada en ciclos for para repetir un número finito de veces alguna expresión.\n",
    "\n",
    "Los rangos se pueden crear usando la función range(). Puede ser llamada usando un sólo parámetro **range(stop)**, dos parámetros **range(start,stop)** y hasta tres parámetros **range(start, stop, step)**\n",
    "\n",
    "En Python 2 range() era una función que creaba una lista de largo finitio, y también existía una función llamada xrange() que creaba un tipo de dato xrange(). En Python 3 la función original range() fue descontinuada y ahora range es un tipo de dato."
   ]
  },
  {
   "cell_type": "code",
   "execution_count": 119,
   "metadata": {
    "scrolled": true
   },
   "outputs": [
    {
     "name": "stdout",
     "output_type": "stream",
     "text": [
      "range(0, 10) <class 'range'>\n"
     ]
    }
   ],
   "source": [
    "x=range(0,10)\n",
    "print(x, type(x))"
   ]
  },
  {
   "cell_type": "code",
   "execution_count": 120,
   "metadata": {},
   "outputs": [
    {
     "name": "stdout",
     "output_type": "stream",
     "text": [
      "0\n",
      "1\n",
      "2\n",
      "3\n",
      "4\n",
      "5\n",
      "6\n",
      "7\n",
      "8\n",
      "9\n"
     ]
    }
   ],
   "source": [
    "for i in x:\n",
    "    print(i)"
   ]
  },
  {
   "cell_type": "code",
   "execution_count": 121,
   "metadata": {},
   "outputs": [
    {
     "data": {
      "text/plain": [
       "range(1, 10, 2)"
      ]
     },
     "execution_count": 121,
     "metadata": {},
     "output_type": "execute_result"
    }
   ],
   "source": [
    "x=range(1,10,2)\n",
    "x"
   ]
  },
  {
   "cell_type": "code",
   "execution_count": 122,
   "metadata": {},
   "outputs": [
    {
     "name": "stdout",
     "output_type": "stream",
     "text": [
      "1\n",
      "3\n",
      "5\n",
      "7\n",
      "9\n"
     ]
    }
   ],
   "source": [
    "for i in x:\n",
    "    print(i)"
   ]
  },
  {
   "cell_type": "code",
   "execution_count": 123,
   "metadata": {},
   "outputs": [
    {
     "ename": "TypeError",
     "evalue": "'float' object cannot be interpreted as an integer",
     "output_type": "error",
     "traceback": [
      "\u001b[1;31m---------------------------------------------------------------------------\u001b[0m",
      "\u001b[1;31mTypeError\u001b[0m                                 Traceback (most recent call last)",
      "\u001b[1;32m<ipython-input-123-bc287f610155>\u001b[0m in \u001b[0;36m<module>\u001b[1;34m()\u001b[0m\n\u001b[0;32m      1\u001b[0m \u001b[1;31m# ¿Qué sucede si tratamos de crear un rango usando un paso no entero\u001b[0m\u001b[1;33m\u001b[0m\u001b[1;33m\u001b[0m\u001b[0m\n\u001b[1;32m----> 2\u001b[1;33m \u001b[0mx\u001b[0m\u001b[1;33m=\u001b[0m\u001b[0mrange\u001b[0m\u001b[1;33m(\u001b[0m\u001b[1;36m1\u001b[0m\u001b[1;33m,\u001b[0m\u001b[1;36m10\u001b[0m\u001b[1;33m,\u001b[0m\u001b[1;36m0.1\u001b[0m\u001b[1;33m)\u001b[0m\u001b[1;33m\u001b[0m\u001b[0m\n\u001b[0m",
      "\u001b[1;31mTypeError\u001b[0m: 'float' object cannot be interpreted as an integer"
     ]
    }
   ],
   "source": [
    "# ¿Qué sucede si tratamos de crear un rango usando un paso no entero\n",
    "x=range(1,10,0.1)"
   ]
  },
  {
   "cell_type": "markdown",
   "metadata": {},
   "source": [
    "## 8. Conjuntos\n",
    "\n",
    "Un conjunto es una colección no ordenada y sin elementos repetidos. Los usos básicos de éstos incluyen verificación de pertenencia y eliminación de entradas duplicadas. Los conjuntos también soportan operaciones matemáticas como la unión, intersección, diferencia, y diferencia simétrica.\n",
    "\n",
    "Los conjuntos se pueden crear usando la función set() o los símbolos {}."
   ]
  },
  {
   "cell_type": "markdown",
   "metadata": {},
   "source": [
    "### Definir un objeto tipo conjunto"
   ]
  },
  {
   "cell_type": "code",
   "execution_count": 124,
   "metadata": {},
   "outputs": [
    {
     "name": "stdout",
     "output_type": "stream",
     "text": [
      "{'learning', 'machine'} <class 'set'> 2\n"
     ]
    }
   ],
   "source": [
    "x = set(['machine', 'learning'])\n",
    "print(x, type(x), len(x))"
   ]
  },
  {
   "cell_type": "code",
   "execution_count": 126,
   "metadata": {},
   "outputs": [
    {
     "name": "stdout",
     "output_type": "stream",
     "text": [
      "{'learning', 'machine'} <class 'set'> 2\n"
     ]
    }
   ],
   "source": [
    "x={'machine', 'learning'}\n",
    "print(x, type(x), len(x))"
   ]
  },
  {
   "cell_type": "code",
   "execution_count": 127,
   "metadata": {},
   "outputs": [
    {
     "name": "stdout",
     "output_type": "stream",
     "text": [
      "{'machine', 'xgboost', 'tpot', 'python', 'sklearn', 'learning'}\n"
     ]
    }
   ],
   "source": [
    "# Crear un conjunto con múltiples elementos\n",
    "\n",
    "element_set = {'machine', 'learning', 'python', 'sklearn', 'tpot', 'xgboost'}\n",
    "print(element_set)"
   ]
  },
  {
   "cell_type": "code",
   "execution_count": 128,
   "metadata": {},
   "outputs": [
    {
     "data": {
      "text/plain": [
       "True"
      ]
     },
     "execution_count": 128,
     "metadata": {},
     "output_type": "execute_result"
    }
   ],
   "source": [
    "# Determinar si elemento existe en set\n",
    "\n",
    "'python' in element_set "
   ]
  },
  {
   "cell_type": "code",
   "execution_count": 129,
   "metadata": {},
   "outputs": [
    {
     "data": {
      "text/plain": [
       "False"
      ]
     },
     "execution_count": 129,
     "metadata": {},
     "output_type": "execute_result"
    }
   ],
   "source": [
    "# Determinar si elemento existe en set\n",
    "\n",
    "'deep learning' in element_set "
   ]
  },
  {
   "cell_type": "markdown",
   "metadata": {},
   "source": [
    "### Definir un conjunto usando letras únicas de palabras"
   ]
  },
  {
   "cell_type": "code",
   "execution_count": 136,
   "metadata": {},
   "outputs": [
    {
     "name": "stdout",
     "output_type": "stream",
     "text": [
      "Letras únicas en x:  {'m', 'a', 'n', 'i', 'h', 'e', 'c'}\n",
      "Letras únicas en y:  {'t', 'o', 'p', 'n', 'h', 'y'}\n"
     ]
    }
   ],
   "source": [
    "x=set('machine')\n",
    "y=set('python')\n",
    "\n",
    "print(\"Letras únicas en x: \", x)\n",
    "print(\"Letras únicas en y: \", y)"
   ]
  },
  {
   "cell_type": "code",
   "execution_count": 131,
   "metadata": {},
   "outputs": [
    {
     "data": {
      "text/plain": [
       "{'a', 'c', 'e', 'i', 'm'}"
      ]
     },
     "execution_count": 131,
     "metadata": {},
     "output_type": "execute_result"
    }
   ],
   "source": [
    "# letras en x pero no en y\n",
    "\n",
    "x-y"
   ]
  },
  {
   "cell_type": "code",
   "execution_count": 132,
   "metadata": {},
   "outputs": [
    {
     "data": {
      "text/plain": [
       "{'a', 'c', 'e', 'h', 'i', 'm', 'n', 'o', 'p', 't', 'y'}"
      ]
     },
     "execution_count": 132,
     "metadata": {},
     "output_type": "execute_result"
    }
   ],
   "source": [
    "# letras en a o en b o en ambas\n",
    "\n",
    "x | y"
   ]
  },
  {
   "cell_type": "code",
   "execution_count": 133,
   "metadata": {},
   "outputs": [
    {
     "data": {
      "text/plain": [
       "{'h', 'n'}"
      ]
     },
     "execution_count": 133,
     "metadata": {},
     "output_type": "execute_result"
    }
   ],
   "source": [
    "# letras en a y en b\n",
    "\n",
    "x & y"
   ]
  },
  {
   "cell_type": "code",
   "execution_count": 134,
   "metadata": {},
   "outputs": [
    {
     "data": {
      "text/plain": [
       "{'a', 'c', 'e', 'i', 'm', 'o', 'p', 't', 'y'}"
      ]
     },
     "execution_count": 134,
     "metadata": {},
     "output_type": "execute_result"
    }
   ],
   "source": [
    "# letras en x o y pero no en ambos\n",
    "\n",
    "x ^ y"
   ]
  },
  {
   "cell_type": "code",
   "execution_count": 139,
   "metadata": {},
   "outputs": [
    {
     "name": "stdout",
     "output_type": "stream",
     "text": [
      "2\n",
      "1\n"
     ]
    }
   ],
   "source": [
    "print(2)\n",
    "print(1)"
   ]
  },
  {
   "cell_type": "markdown",
   "metadata": {},
   "source": [
    "## 9. Diccionarios\n",
    "\n",
    "Otro tipo de dato útil incluído en Python es el diccionario. Los diccionarios se encuentran a veces en otros lenguajes como \"memorias asociativas\" o \"arreglos asociativos\". A diferencia de las secuencias, que se indexan mediante un rango numérico, los diccionarios se indexan con claves, que pueden ser cualquier tipo inmutable; las cadenas y números siempre pueden ser claves.\n",
    "\n",
    "Las tuplas pueden usarse como claves si solamente contienen cadenas, números o tuplas; si una tupla contiene cualquier objeto mutable directa o indirectamente, no puede usarse como clave. No se pueden usar listas como claves, ya que las listas pueden modificarse.\n",
    "\n",
    "Lo mejor es pensar en un diccionario como un conjunto no ordenado de pares clave: valor, con el requisito de que las claves sean únicas (dentro de un diccionario en particular).\n",
    "\n",
    "Los diccionarios se pueden crear usando la función dict() o los símbolos {}."
   ]
  },
  {
   "cell_type": "markdown",
   "metadata": {},
   "source": [
    "### Definir un objeto tipo diccionario"
   ]
  },
  {
   "cell_type": "code",
   "execution_count": 140,
   "metadata": {},
   "outputs": [
    {
     "name": "stdout",
     "output_type": "stream",
     "text": [
      "{} <class 'dict'> 0\n"
     ]
    }
   ],
   "source": [
    "x = dict()\n",
    "print(x, type(x), len(x))"
   ]
  },
  {
   "cell_type": "code",
   "execution_count": 141,
   "metadata": {},
   "outputs": [
    {
     "name": "stdout",
     "output_type": "stream",
     "text": [
      "{'Perú': 2, 'Brasil': 5, 'Colombia': 5, 'Argentina': 3, 'Uruguay': 5, 'Chile': 0} <class 'dict'>\n"
     ]
    }
   ],
   "source": [
    "# Crear un diccionario que contiene la cantidad de goles realizados por los países de Sudamérica en la fase de grupos \n",
    "# del Mundial de Rusia 2018\n",
    "\n",
    "goles={'Perú': 2, 'Brasil': 5, 'Colombia': 5, 'Argentina': 3, 'Uruguay': 5, 'Chile': 0}\n",
    "\n",
    "print(goles, type(goles))"
   ]
  },
  {
   "cell_type": "code",
   "execution_count": 146,
   "metadata": {},
   "outputs": [
    {
     "data": {
      "text/plain": [
       "['Perú', 'Brasil', 'Colombia', 'Argentina', 'Uruguay', 'Chile']"
      ]
     },
     "execution_count": 146,
     "metadata": {},
     "output_type": "execute_result"
    }
   ],
   "source": [
    "# Recuperar las claves de la variable goles\n",
    "\n",
    "paises = list(goles.keys())\n",
    "paises"
   ]
  },
  {
   "cell_type": "code",
   "execution_count": 145,
   "metadata": {},
   "outputs": [
    {
     "data": {
      "text/plain": [
       "'Perú'"
      ]
     },
     "execution_count": 145,
     "metadata": {},
     "output_type": "execute_result"
    }
   ],
   "source": [
    "paises[0]"
   ]
  },
  {
   "cell_type": "code",
   "execution_count": 148,
   "metadata": {},
   "outputs": [
    {
     "data": {
      "text/plain": [
       "[2, 5, 5, 3, 5, 0]"
      ]
     },
     "execution_count": 148,
     "metadata": {},
     "output_type": "execute_result"
    }
   ],
   "source": [
    "# Recuperar los valores de la variable goles\n",
    "\n",
    "list(goles.values())"
   ]
  },
  {
   "cell_type": "code",
   "execution_count": 149,
   "metadata": {},
   "outputs": [
    {
     "data": {
      "text/plain": [
       "2"
      ]
     },
     "execution_count": 149,
     "metadata": {},
     "output_type": "execute_result"
    }
   ],
   "source": [
    "# Recuperar la cantidad de goles de un país usando la clave\n",
    "\n",
    "goles['Perú']"
   ]
  },
  {
   "cell_type": "code",
   "execution_count": 150,
   "metadata": {},
   "outputs": [
    {
     "name": "stdout",
     "output_type": "stream",
     "text": [
      "{'Perú': 2, 'Brasil': 5, 'Colombia': 5, 'Argentina': 3, 'Uruguay': 5, 'Chile': 0, 'México': 3}\n"
     ]
    }
   ],
   "source": [
    "# Agregar un nuevo elemento al diccionario\n",
    "\n",
    "goles['México']=3\n",
    "print(goles)"
   ]
  },
  {
   "cell_type": "code",
   "execution_count": 156,
   "metadata": {},
   "outputs": [],
   "source": [
    "goles['prueba'] = [1, 2, 3]"
   ]
  },
  {
   "cell_type": "code",
   "execution_count": 157,
   "metadata": {},
   "outputs": [
    {
     "data": {
      "text/plain": [
       "{'Argentina': 3,\n",
       " 'Brasil': 5,\n",
       " 'Chile': 0,\n",
       " 'Colombia': 5,\n",
       " 'México': 3,\n",
       " 'Perú': 2,\n",
       " 'Uruguay': 5,\n",
       " 'prueba': [1, 2, 3]}"
      ]
     },
     "execution_count": 157,
     "metadata": {},
     "output_type": "execute_result"
    }
   ],
   "source": [
    "goles"
   ]
  },
  {
   "cell_type": "code",
   "execution_count": 153,
   "metadata": {},
   "outputs": [
    {
     "name": "stdout",
     "output_type": "stream",
     "text": [
      "Perú\n",
      "Brasil\n",
      "Colombia\n",
      "Argentina\n",
      "Uruguay\n",
      "Chile\n",
      "México\n"
     ]
    }
   ],
   "source": [
    "# Imprimir cada una de las claves del diccionario\n",
    "\n",
    "for i in goles:\n",
    "    print(i)"
   ]
  },
  {
   "cell_type": "code",
   "execution_count": 155,
   "metadata": {},
   "outputs": [
    {
     "name": "stdout",
     "output_type": "stream",
     "text": [
      "Perú :  2\n",
      "Brasil :  5\n",
      "Colombia :  5\n",
      "Argentina :  3\n",
      "Uruguay :  5\n",
      "Chile :  0\n",
      "México :  3\n"
     ]
    }
   ],
   "source": [
    "# Imprimir cada par de clave y valor\n",
    "\n",
    "for key, value in goles.items():\n",
    "    print(key, \": \", value)"
   ]
  },
  {
   "cell_type": "markdown",
   "metadata": {},
   "source": [
    "## 10. Expresiones Regulares\n",
    "Las expresiones regulares se usan para identificar si un patrón existe en una secuencia dada de caracteres (cadena) o no. Ayudan a manipular datos textuales, que a menudo es un requisito previo para los proyectos de ciencia de datos que involucran la extracción de texto.\n",
    "En Python, las expresiones regulares son soportadas por el módulo re."
   ]
  },
  {
   "cell_type": "code",
   "execution_count": 158,
   "metadata": {},
   "outputs": [],
   "source": [
    "import re"
   ]
  },
  {
   "cell_type": "markdown",
   "metadata": {},
   "source": [
    "### Caracteres ordinarios:\n",
    "\n",
    "Los caracteres ordinarios son las expresiones regulares más simples. Se emparejan exactamente y no tienen un significado especial en su sintaxis de expresión regular. Los caracteres comunes se pueden usar para realizar coincidencias exactas simples:"
   ]
  },
  {
   "cell_type": "code",
   "execution_count": 159,
   "metadata": {},
   "outputs": [
    {
     "name": "stdout",
     "output_type": "stream",
     "text": [
      "\tpython\n",
      "\\tpython\n"
     ]
    }
   ],
   "source": [
    "print(\"\\tpython\")\n",
    "print(r\"\\tpython\")"
   ]
  },
  {
   "cell_type": "code",
   "execution_count": 160,
   "metadata": {},
   "outputs": [
    {
     "name": "stdout",
     "output_type": "stream",
     "text": [
      "Coincide!\n"
     ]
    }
   ],
   "source": [
    "pattern = r\"Machine\"\n",
    "sequence = \"Machine Learning\"\n",
    "if re.match(pattern, sequence):\n",
    "    print(\"Coincide!\")\n",
    "else:\n",
    "    print(\"No Coincide!\")"
   ]
  },
  {
   "cell_type": "markdown",
   "metadata": {},
   "source": [
    "La función match () devuelve un objeto coincidente si el texto coincide con el patrón. De lo contrario, devuelve `None`.\n",
    "\n",
    "Por otro lado, aquellas cadenas de caracteres que empiezan con la letra `r` son llamados `raw string` o `cadenas en crudo o sin procesar`. La diferencia con las cadenas es que por ejemplo caracteres especiales como el backslash `\\` podrán ser reconocidos como unos caracteres más y no como parte de una sequencia de escape."
   ]
  },
  {
   "cell_type": "code",
   "execution_count": 161,
   "metadata": {},
   "outputs": [
    {
     "name": "stdout",
     "output_type": "stream",
     "text": [
      "\\n\n",
      "\n",
      "\n",
      "\\t\n",
      "\t\n"
     ]
    }
   ],
   "source": [
    "# \\n es un salto de línea\n",
    "print(r\"\\n\")\n",
    "print(\"\\n\")\n",
    "\n",
    "# \\t es una tabulación\n",
    "print(r\"\\t\")\n",
    "print(\"\\t\")"
   ]
  },
  {
   "cell_type": "markdown",
   "metadata": {},
   "source": [
    "### Caracteres comodín o `wild card`:\n",
    "\n",
    "Los caracteres comodín son caracteres que no coinciden como se ven, sin embargo tienen un significado especial cuando se usan en una expresión regular.\n",
    "Los caracteres comodín más usados son:\n",
    "- `.`: Coincide con cualquier caracter, excepto el caracter de nueva línea.\n",
    "- `\\w`: Coincide con cualquier letra, dígito o guión bajo.\n",
    "- `\\W`: Coincide con cualquier caracter que no forme parte de `\\w`\n",
    "- `\\s`: Coincide con un solo caracter en blanco como: espacio, nueva línea, tab.\n",
    "- `\\S`: Coincide con cualquier caracter que no forme parte de \\s.\n",
    "- `\\t`: Coincide con tab.\n",
    "- `\\n`: Coincide con una nueva línea.\n",
    "- `\\r`: Coincide con un retorno.\n",
    "- `\\d`: Coincide con el dígito decimal 0-9.\n",
    "- `^`: Coincide con un patrón al comienzo de la cadena.\n",
    "- `$`: Coincide con un patrón al final de la cadena.\n",
    "- `[abc]`: Coincide con a, b o c.\n",
    "- `[a-zA-Z0-9]`: Coincide con cualquier caracter entre (a a z) o (A a Z) o (0 a 9).\n",
    "- `\\A`: Coincide solo al comienzo de la cadena. Funciona en múltiples líneas también.\n",
    "- `\\b`: Coincide solo con el principio o el final de la palabra.\n",
    "- `\\`: Si el caracter que sigue al backslash es un caracter de escape reconocido, entonces se toma el significado especial del término. Por ejemplo, \\n se considera como una nueva línea. Sin embargo, si el caracter que sigue a \\ no es un caracter de escape reconocido, entonces el \\ se trata como cualquier otro caracter.\n",
    "\n",
    "La función group () devuelve la cadena que coincide con el patrón. Veamos la aplicación de estos caracteres comodín:"
   ]
  },
  {
   "cell_type": "code",
   "execution_count": 1,
   "metadata": {},
   "outputs": [],
   "source": [
    "import re"
   ]
  },
  {
   "cell_type": "code",
   "execution_count": 2,
   "metadata": {},
   "outputs": [
    {
     "name": "stdout",
     "output_type": "stream",
     "text": [
      "Machine\n",
      "Learning\n",
      "M@chin€\n",
      "Machine Learning\n",
      "Python\n",
      "Machine\tLearning\n",
      "Pyth0n\n",
      "Machine\n",
      "Machine Learning\n",
      "Python: 6 módulos\n",
      "Python: 5 módulos\n",
      "Cython\n",
      "Python\n",
      "Machine\\Learning\n",
      "Machine Learning\n"
     ]
    }
   ],
   "source": [
    "print(re.search(r'Mac.i.e', 'Machine Learning').group())\n",
    "print(re.search(r'Lea\\wn\\wng', 'MachineLearning').group())\n",
    "print(re.search(r'M\\Wchin\\W', 'M@chin€').group())\n",
    "print(re.search(r'Machine\\sLearning', 'Machine Learning').group())\n",
    "print(re.search(r'Pyth\\Sn', 'Python').group())\n",
    "print(re.search(r'Machine\\tLearning', 'Machine\tLearning').group())\n",
    "print(re.search(r'Pyth\\dn', 'Pyth0n').group())\n",
    "print(re.search(r'^Machine', 'Machine Learning con Python').group())\n",
    "print(re.search(r'Machine Learning$', 'Machine Learning').group())\n",
    "print(re.search(r'Python: [1-9] módulos', 'Python: 6 módulos').group())\n",
    "print(re.search(r'Python: [^6] módulos', 'Python: 5 módulos').group())\n",
    "print(re.search(r'\\A[A-Q]ython', 'Cython').group())\n",
    "print(re.search(r'\\b[A-Z]ython', 'Python Machine Learning').group())\n",
    "print(re.search(r'Machine\\\\Learning', 'Machine\\Learning').group())\n",
    "print(re.search(r'Machine\\sLearning', 'Machine Learning').group())"
   ]
  },
  {
   "cell_type": "markdown",
   "metadata": {},
   "source": [
    "### Repeticiones\n",
    "\n",
    "Se vuelve bastante tedioso si buscas encontrar patrones largos en una cadena de caracteres. Afortunadamente, el módulo `re` maneja las repeticiones usando los siguientes caracteres especiales:\n",
    "\n",
    "- `+`: Comprueba uno o más caracteres desde su izquierda.\n",
    "- `*`: Comprueba cero o más caracteres desde su izquierda.\n",
    "- `?`: Comprueba exactamente cero o un caracter a su izquierda.\n",
    "- `{x}`: Repite x veces.\n",
    "- `{x,}`: Repite como mínimo x veces\n",
    "- `{x, y}`: Repite como mínimo **x** veces y máximo **y** veces."
   ]
  },
  {
   "cell_type": "code",
   "execution_count": 164,
   "metadata": {},
   "outputs": [
    {
     "data": {
      "text/plain": [
       "'098765'"
      ]
     },
     "execution_count": 164,
     "metadata": {},
     "output_type": "execute_result"
    }
   ],
   "source": [
    "re.search(r'\\d{3,6}', '0987654321').group()"
   ]
  },
  {
   "cell_type": "code",
   "execution_count": 170,
   "metadata": {},
   "outputs": [
    {
     "data": {
      "text/plain": [
       "'0987654321'"
      ]
     },
     "execution_count": 170,
     "metadata": {},
     "output_type": "execute_result"
    }
   ],
   "source": [
    "re.search(r'\\d+', '0987654321 3 Machine Learning').group()"
   ]
  },
  {
   "cell_type": "code",
   "execution_count": 172,
   "metadata": {},
   "outputs": [
    {
     "data": {
      "text/plain": [
       "''"
      ]
     },
     "execution_count": 172,
     "metadata": {},
     "output_type": "execute_result"
    }
   ],
   "source": [
    "re.search(r'\\d*', 'aaaaa').group()"
   ]
  },
  {
   "cell_type": "code",
   "execution_count": 173,
   "metadata": {},
   "outputs": [
    {
     "data": {
      "text/plain": [
       "''"
      ]
     },
     "execution_count": 173,
     "metadata": {},
     "output_type": "execute_result"
    }
   ],
   "source": [
    "re.search(r'\\d?', 'aaaaa').group()"
   ]
  },
  {
   "cell_type": "markdown",
   "metadata": {},
   "source": [
    "### Groups and Grouping\n",
    "\n",
    "Imaginemos que queremos validar direcciones de correo electrónico y verificar el nombre de usuario y host por separado. Para ello podemos hacer uso de la función group, que nos permite coger partes del texto correspondiente."
   ]
  },
  {
   "cell_type": "code",
   "execution_count": 174,
   "metadata": {},
   "outputs": [
    {
     "name": "stdout",
     "output_type": "stream",
     "text": [
      "machinelearning@fullstack.com\n",
      "machinelearning\n",
      "fullstack.com\n"
     ]
    }
   ],
   "source": [
    "correo = \"Por favor contactar a: machinelearning@fullstack.com\"\n",
    "match = re.search(r'([\\w\\.-]+)@([\\w\\.-]+)', correo)\n",
    "if match:\n",
    "    print(match.group(0))\n",
    "    print(match.group(1))\n",
    "    print(match.group(2))"
   ]
  },
  {
   "cell_type": "markdown",
   "metadata": {},
   "source": [
    "En general, las principales funciones que la librería `re` nos proporciona son:\n",
    "- **search(pattern, string, flags=0)**: Con esta función, se escanea la cadena dada buscando la primera posición donde la expresión regular (o patrón) produce una coincidencia. Devuelve un objeto de coincidencia si se encuentra una coincidencia, de lo contrario devuelve None."
   ]
  },
  {
   "cell_type": "code",
   "execution_count": null,
   "metadata": {},
   "outputs": [],
   "source": [
    "pattern = r\"Machine\"\n",
    "sequence = \"Machine learning\"\n",
    "\n",
    "re.search(pattern, sequence).group()"
   ]
  },
  {
   "cell_type": "markdown",
   "metadata": {},
   "source": [
    "- **match(pattern, string, flags=0)**: Devuelve el objeto de coincidencia correspondiente si 0 o más caracteres al comienzo de la cadena coinciden con el patrón. De lo contrario, devuelve None."
   ]
  },
  {
   "cell_type": "code",
   "execution_count": null,
   "metadata": {},
   "outputs": [],
   "source": [
    "pattern = r\"L\"\n",
    "sequence1 = \"Machine Learning\"\n",
    "\n",
    "# No habrá match dado que \"L\" no está al inicio de 'Machine Learning'\n",
    "re.match(pattern, sequence1)"
   ]
  },
  {
   "cell_type": "markdown",
   "metadata": {},
   "source": [
    "<div class=\"alert alert-info\" role=\"alert\">\n",
    "  <strong>Nota:</strong> La función `match()` busca una coincidencia solo al comienzo de la cadena (por defecto) mientras que la función `search()` busca una coincidencia en cualquier lugar de la cadena.\n",
    "</div>"
   ]
  },
  {
   "cell_type": "markdown",
   "metadata": {},
   "source": [
    "- **findall(pattern, string, flags=0)**: Encuentra todas las coincidencias posibles en toda la cadena y las devuelve como una lista de cadenas. Cada cadena devuelta representa una coincidencia."
   ]
  },
  {
   "cell_type": "code",
   "execution_count": null,
   "metadata": {},
   "outputs": [],
   "source": [
    "mensaje = \"Por favor contactar a: machinelearning@fullstack.com, deeplearning@fullstack.com, datascience@fullstack.com, bigdata@fullstack.com\"\n",
    "\n",
    "#'correos' es una lista que contiene todas las posibles coincidencias\n",
    "correos = re.findall(r'[\\w\\.-]+@[\\w\\.-]+', mensaje)\n",
    "for correo in correos: \n",
    "    print(correo)"
   ]
  },
  {
   "cell_type": "markdown",
   "metadata": {},
   "source": [
    "- **sub(pattern, repl, string, count=0, flags=0)**: Esta es la función sustituta. Devuelve la cadena obtenida reemplazando o sustituyendo las apariciones no superpuestas más a la izquierda del patrón en cadena por la sustitución reemplazada. Si no se encuentra el patrón, la cadena se devuelve sin cambios."
   ]
  },
  {
   "cell_type": "code",
   "execution_count": 3,
   "metadata": {},
   "outputs": [
    {
     "name": "stdout",
     "output_type": "stream",
     "text": [
      "Por favor contactar a: deeplearning@fullstack.com\n"
     ]
    }
   ],
   "source": [
    "mensaje = \"Por favor contactar a: machinelearning@fullstack.com\"\n",
    "nuevo_mensaje = re.sub(r'([\\w\\.-]+)@([\\w\\.-]+)', r'deeplearning@fullstack.com', mensaje)\n",
    "print(nuevo_mensaje)"
   ]
  },
  {
   "cell_type": "markdown",
   "metadata": {},
   "source": [
    "- **compile(pattern, flags=0)**: Compila un patrón de expresión regular en un objeto de expresión regular. Cuando necesite usar una expresión varias veces en un solo programa, usar la función compile () para guardar el objeto de expresión regular resultante para reutilizar es más eficiente. Esto se debe a que las versiones compiladas de los patrones más recientes pasados a compilar () y las funciones de concordancia a nivel de módulo están en caché."
   ]
  },
  {
   "cell_type": "code",
   "execution_count": null,
   "metadata": {
    "scrolled": true
   },
   "outputs": [],
   "source": [
    "pattern = re.compile(r'([\\w\\.-]+)@([\\w\\.-]+)')\n",
    "mensaje = \"Por favor contactar a: machinelearning@fullstack.com\"\n",
    "pattern.search(mensaje).group()"
   ]
  },
  {
   "cell_type": "code",
   "execution_count": null,
   "metadata": {},
   "outputs": [],
   "source": [
    "mensajes = [\"Contactarse con: machinelearning@fullstack.com\",\n",
    "            \"Comunicarse a: deeplearning@fullstack.com\",\n",
    "            \"Para más información con: datascientist@python.pe\",\n",
    "            \"reinforcement@learning.pe es mi correo\"]\n",
    "for mensaje in mensajes:\n",
    "    print(pattern.search(mensaje).group())"
   ]
  },
  {
   "cell_type": "code",
   "execution_count": null,
   "metadata": {},
   "outputs": [],
   "source": [
    "# Es lo mismo que: \n",
    "re.search(pattern, mensaje).group()"
   ]
  },
  {
   "cell_type": "markdown",
   "metadata": {},
   "source": [
    "# Ejercicios\n",
    "\n",
    "Realice los siguientes ejercicios. En caso de tener dudas, puede apoyarse con sus compañeros, preguntarle al profesor y hacer búsquedas en internet."
   ]
  },
  {
   "cell_type": "markdown",
   "metadata": {},
   "source": [
    "1. Cree una variable llamada **x** que contenga un número entero\n",
    "2. Cree una variable llamada **y** que contenga un número de punto flotante\n",
    "3. Cree una variable llamada **z** que contenga el nombre del tipo de dato que más le ha parecido interesante"
   ]
  },
  {
   "cell_type": "code",
   "execution_count": null,
   "metadata": {},
   "outputs": [],
   "source": []
  },
  {
   "cell_type": "markdown",
   "metadata": {},
   "source": [
    "4. Cree una variable llamada **a** que corresponda a la suma entre **x** e **y**\n",
    "5. Cree una variable llamada **b** que corresponda a la suma entre **x** y **z**. En caso de fallar, determine una manera viable para sumar ambos objetos.\n",
    "\n",
    "6. Cree una lista llamada **c** que contenga los objetos **x** y **y**.\n",
    "7. Agregue a la lista **c** los objetos **a** y **b**,"
   ]
  },
  {
   "cell_type": "code",
   "execution_count": null,
   "metadata": {},
   "outputs": [],
   "source": []
  },
  {
   "cell_type": "markdown",
   "metadata": {},
   "source": [
    "1. Cree un diccionario llamado **equipos** que contenga 4 claves con nombres de equipos que estuvieron en el mundial. El valor de cada clave debe corresponder al número de goles que hizo en la fase de grupos.\n",
    "2. Por cada equipo determine cuánto goles anotarán en el siguiente mundial si se estima que duplicarán su producción goleadora."
   ]
  },
  {
   "cell_type": "code",
   "execution_count": null,
   "metadata": {},
   "outputs": [],
   "source": []
  },
  {
   "cell_type": "markdown",
   "metadata": {},
   "source": [
    "# II. Operaciones y funciones nativas\n",
    "Sobre todos los tipos de objetos de Python se pueden aplicar operaciones. El tipo de operaciones varia dependiendo de cada tipo."
   ]
  },
  {
   "cell_type": "markdown",
   "metadata": {},
   "source": [
    "## Operadores booleanos\n",
    "\n",
    "- x **or** y: Si x es falso, entonces devuelve y. Sino, devuelve x \\\\\n",
    "- x **and** y: Si x es falso, entonces devuelve x. Sino, devuelve y \\\\\n",
    "- **not** x: Si x es falso, entonces devuelve True. Sino, devuelve False"
   ]
  },
  {
   "cell_type": "code",
   "execution_count": 175,
   "metadata": {},
   "outputs": [
    {
     "data": {
      "text/plain": [
       "True"
      ]
     },
     "execution_count": 175,
     "metadata": {},
     "output_type": "execute_result"
    }
   ],
   "source": [
    "x=False\n",
    "y=True\n",
    "x or y"
   ]
  },
  {
   "cell_type": "code",
   "execution_count": 176,
   "metadata": {},
   "outputs": [
    {
     "data": {
      "text/plain": [
       "False"
      ]
     },
     "execution_count": 176,
     "metadata": {},
     "output_type": "execute_result"
    }
   ],
   "source": [
    "x=False\n",
    "y=True\n",
    "x and y"
   ]
  },
  {
   "cell_type": "code",
   "execution_count": 177,
   "metadata": {},
   "outputs": [
    {
     "data": {
      "text/plain": [
       "True"
      ]
     },
     "execution_count": 177,
     "metadata": {},
     "output_type": "execute_result"
    }
   ],
   "source": [
    "x=True\n",
    "y=True\n",
    "x and y"
   ]
  },
  {
   "cell_type": "code",
   "execution_count": 178,
   "metadata": {},
   "outputs": [
    {
     "data": {
      "text/plain": [
       "True"
      ]
     },
     "execution_count": 178,
     "metadata": {},
     "output_type": "execute_result"
    }
   ],
   "source": [
    "x=False\n",
    "not x"
   ]
  },
  {
   "cell_type": "markdown",
   "metadata": {},
   "source": [
    "## Operadores de comparación\n",
    "\n",
    "- < : Estrictamente menor que\n",
    "- <= : Menor o igual que\n",
    "- \\>\t: Estrictamente mayor que\n",
    "- \\>= :\tMayor o igual que\n",
    "- == : Igual\n",
    "- != : No es igual\n",
    "- is : Identidad del objeto\n",
    "- is not : Negación de la identidad del objeto"
   ]
  },
  {
   "cell_type": "code",
   "execution_count": 179,
   "metadata": {},
   "outputs": [],
   "source": [
    "x = 4"
   ]
  },
  {
   "cell_type": "code",
   "execution_count": 180,
   "metadata": {},
   "outputs": [
    {
     "data": {
      "text/plain": [
       "True"
      ]
     },
     "execution_count": 180,
     "metadata": {},
     "output_type": "execute_result"
    }
   ],
   "source": [
    "x < 10"
   ]
  },
  {
   "cell_type": "code",
   "execution_count": 181,
   "metadata": {},
   "outputs": [
    {
     "data": {
      "text/plain": [
       "False"
      ]
     },
     "execution_count": 181,
     "metadata": {},
     "output_type": "execute_result"
    }
   ],
   "source": [
    "x == 10"
   ]
  },
  {
   "cell_type": "code",
   "execution_count": 184,
   "metadata": {},
   "outputs": [
    {
     "data": {
      "text/plain": [
       "True"
      ]
     },
     "execution_count": 184,
     "metadata": {},
     "output_type": "execute_result"
    }
   ],
   "source": [
    "x != 10"
   ]
  },
  {
   "cell_type": "code",
   "execution_count": 185,
   "metadata": {},
   "outputs": [
    {
     "data": {
      "text/plain": [
       "True"
      ]
     },
     "execution_count": 185,
     "metadata": {},
     "output_type": "execute_result"
    }
   ],
   "source": [
    "x is 4"
   ]
  },
  {
   "cell_type": "code",
   "execution_count": 186,
   "metadata": {},
   "outputs": [
    {
     "data": {
      "text/plain": [
       "True"
      ]
     },
     "execution_count": 186,
     "metadata": {},
     "output_type": "execute_result"
    }
   ],
   "source": [
    "isinstance(x,int)"
   ]
  },
  {
   "cell_type": "code",
   "execution_count": 188,
   "metadata": {},
   "outputs": [
    {
     "data": {
      "text/plain": [
       "False"
      ]
     },
     "execution_count": 188,
     "metadata": {},
     "output_type": "execute_result"
    }
   ],
   "source": [
    "x is not 4"
   ]
  },
  {
   "cell_type": "markdown",
   "metadata": {},
   "source": [
    "## Operadores para objetos del tipo numéricos\n",
    "\n",
    "- x + y: Suma de x e y\n",
    "- x - y: Diferencia de x e y\n",
    "- x * y: Multipliación de x e y\n",
    "- x / y: División de x e y\n",
    "- x // y: Numero entero inferior más próximo de división entre x e y\n",
    "- x % y: Módulo de x e y\n",
    "- -x: Negación del valor de x\n",
    "- +x: El valor de x no es alterado\n",
    "- x \\*\\* y: El valor de x a la potencia de y"
   ]
  },
  {
   "cell_type": "code",
   "execution_count": 189,
   "metadata": {},
   "outputs": [],
   "source": [
    "s=[1,2,3,4] ; t=[5,6,7,8]"
   ]
  },
  {
   "cell_type": "code",
   "execution_count": 190,
   "metadata": {},
   "outputs": [
    {
     "data": {
      "text/plain": [
       "True"
      ]
     },
     "execution_count": 190,
     "metadata": {},
     "output_type": "execute_result"
    }
   ],
   "source": [
    "1 in s"
   ]
  },
  {
   "cell_type": "code",
   "execution_count": 191,
   "metadata": {},
   "outputs": [
    {
     "data": {
      "text/plain": [
       "False"
      ]
     },
     "execution_count": 191,
     "metadata": {},
     "output_type": "execute_result"
    }
   ],
   "source": [
    "5 in s"
   ]
  },
  {
   "cell_type": "code",
   "execution_count": 192,
   "metadata": {},
   "outputs": [
    {
     "data": {
      "text/plain": [
       "[1, 2, 3, 4, 5, 6, 7, 8]"
      ]
     },
     "execution_count": 192,
     "metadata": {},
     "output_type": "execute_result"
    }
   ],
   "source": [
    "s+t"
   ]
  },
  {
   "cell_type": "code",
   "execution_count": 193,
   "metadata": {},
   "outputs": [
    {
     "data": {
      "text/plain": [
       "[1, 2, 3, 4, 1, 2, 3, 4, 1, 2, 3, 4]"
      ]
     },
     "execution_count": 193,
     "metadata": {},
     "output_type": "execute_result"
    }
   ],
   "source": [
    "s*3"
   ]
  },
  {
   "cell_type": "code",
   "execution_count": 197,
   "metadata": {},
   "outputs": [
    {
     "data": {
      "text/plain": [
       "[3, 6, 6, 8]"
      ]
     },
     "execution_count": 197,
     "metadata": {},
     "output_type": "execute_result"
    }
   ],
   "source": [
    "[e*3 if e < 3 else e*2 for e in s]"
   ]
  },
  {
   "cell_type": "code",
   "execution_count": 198,
   "metadata": {},
   "outputs": [
    {
     "data": {
      "text/plain": [
       "4"
      ]
     },
     "execution_count": 198,
     "metadata": {},
     "output_type": "execute_result"
    }
   ],
   "source": [
    "len(s)"
   ]
  },
  {
   "cell_type": "code",
   "execution_count": 199,
   "metadata": {},
   "outputs": [
    {
     "data": {
      "text/plain": [
       "1"
      ]
     },
     "execution_count": 199,
     "metadata": {},
     "output_type": "execute_result"
    }
   ],
   "source": [
    "min(s)"
   ]
  },
  {
   "cell_type": "code",
   "execution_count": 200,
   "metadata": {},
   "outputs": [
    {
     "data": {
      "text/plain": [
       "4"
      ]
     },
     "execution_count": 200,
     "metadata": {},
     "output_type": "execute_result"
    }
   ],
   "source": [
    "max(s)"
   ]
  },
  {
   "cell_type": "markdown",
   "metadata": {},
   "source": [
    "## Funciones nativas de Python\n",
    "\n",
    "Python 3.6 cuenta con 68 funciones incluidas por defecto. Estas funciones son muy variadas y facilitan el análisis numérico y la evaluación de expresiones. A continuación se listan alfabéticamente.\n",
    "\n",
    "<img src=\"images/python_builtin_functions.png\" width=800>"
   ]
  },
  {
   "cell_type": "code",
   "execution_count": 201,
   "metadata": {},
   "outputs": [
    {
     "name": "stdout",
     "output_type": "stream",
     "text": [
      "-4\n"
     ]
    }
   ],
   "source": [
    "x=-4\n",
    "print(x)"
   ]
  },
  {
   "cell_type": "code",
   "execution_count": 202,
   "metadata": {},
   "outputs": [
    {
     "name": "stdout",
     "output_type": "stream",
     "text": [
      "4\n"
     ]
    }
   ],
   "source": [
    "y=abs(x)\n",
    "print(y)"
   ]
  },
  {
   "cell_type": "code",
   "execution_count": 203,
   "metadata": {},
   "outputs": [
    {
     "data": {
      "text/plain": [
       "True"
      ]
     },
     "execution_count": 203,
     "metadata": {},
     "output_type": "execute_result"
    }
   ],
   "source": [
    "isinstance(x,int)"
   ]
  },
  {
   "cell_type": "code",
   "execution_count": 204,
   "metadata": {},
   "outputs": [
    {
     "data": {
      "text/plain": [
       "False"
      ]
     },
     "execution_count": 204,
     "metadata": {},
     "output_type": "execute_result"
    }
   ],
   "source": [
    "isinstance(x,float)"
   ]
  },
  {
   "cell_type": "code",
   "execution_count": 205,
   "metadata": {},
   "outputs": [
    {
     "name": "stdout",
     "output_type": "stream",
     "text": [
      "4.654321\n"
     ]
    }
   ],
   "source": [
    "x=4.654321\n",
    "print(x)"
   ]
  },
  {
   "cell_type": "code",
   "execution_count": 206,
   "metadata": {},
   "outputs": [
    {
     "data": {
      "text/plain": [
       "5"
      ]
     },
     "execution_count": 206,
     "metadata": {},
     "output_type": "execute_result"
    }
   ],
   "source": [
    "round(x)"
   ]
  },
  {
   "cell_type": "code",
   "execution_count": 207,
   "metadata": {},
   "outputs": [
    {
     "data": {
      "text/plain": [
       "4.65"
      ]
     },
     "execution_count": 207,
     "metadata": {},
     "output_type": "execute_result"
    }
   ],
   "source": [
    "round(x,2)"
   ]
  },
  {
   "cell_type": "markdown",
   "metadata": {},
   "source": [
    "# Ejercicios\n",
    "\n",
    "Realice los siguientes ejercicios. En caso de tener dudas, puede apoyarse con sus compañeros, preguntarle al profesor y hacer búsquedas en internet.\n"
   ]
  },
  {
   "cell_type": "markdown",
   "metadata": {},
   "source": [
    "1. Cree una variable llamada **x** que contenga el valor 3.141592 y una variable **y** que contenga el valor 4\n",
    "2. Evalue si **x** es menor que **y**\n",
    "3. Cree una variable llama **z** que contenga el valor de **x** a la potencia de **y**"
   ]
  },
  {
   "cell_type": "code",
   "execution_count": null,
   "metadata": {},
   "outputs": [],
   "source": []
  },
  {
   "cell_type": "markdown",
   "metadata": {},
   "source": [
    "4. Cree una lista llamada **a** que contenga 30 veces repetido el valor de la variable **x**.\n",
    "5. Cree un rango llamado **b** que parta desde el valor 0 y llegue hasta el 30.\n",
    "6. Transforme la varible **b** en una tipo lista y almacene el resultado en la variable **c**\n",
    "7. Cree una lista llamada **d** la cual corresponda a la suma elemento a elemento entre las listas **a** y **c** (element wise sum)"
   ]
  },
  {
   "cell_type": "code",
   "execution_count": null,
   "metadata": {},
   "outputs": [],
   "source": []
  },
  {
   "cell_type": "markdown",
   "metadata": {},
   "source": [
    "# III. Uso de sentencias de control de flujo"
   ]
  },
  {
   "cell_type": "markdown",
   "metadata": {},
   "source": [
    "Python soporta las sentencias de control de flujo que podemos encontrar en otros lenguajes de programación tales como C, R y Java.\n",
    "\n",
    "Las sentencias presentes en Python 3.6 son\n",
    "\n",
    "- If\n",
    "- Else\n",
    "\n",
    "- While\n",
    "- For\n",
    "- Break\n",
    "- Continue\n",
    "- Pass\n",
    "\n",
    "- Try\n",
    "- With\n"
   ]
  },
  {
   "cell_type": "markdown",
   "metadata": {},
   "source": [
    "## 1. If\n",
    "\n",
    "La sentencia if es quizás la más conocida. Esta sentencua se usa para ejecución condicional de código.\n",
    "\n",
    "Puede haber cero o más bloques elif, y el bloque else es opcional. La palabra reservada ‘elif‘ es una abreviación de ‘else if’, y es útil para evitar un sangrado excesivo.\n",
    "\n",
    "Una secuencia if ... elif ... elif ... sustituye las sentencias switch o case encontradas en otros lenguajes."
   ]
  },
  {
   "cell_type": "code",
   "execution_count": 208,
   "metadata": {},
   "outputs": [
    {
     "name": "stdout",
     "output_type": "stream",
     "text": [
      "Negativo cambiado a cero\n",
      "Valor:  0\n"
     ]
    }
   ],
   "source": [
    "x=-30\n",
    "\n",
    "if x < 0:\n",
    "    x = 0\n",
    "    print('Negativo cambiado a cero')\n",
    "elif x == 0:\n",
    "    print('Cero')\n",
    "elif x == 1:\n",
    "    print('Igual a uno')\n",
    "else:\n",
    "    print('Mayor a uno')\n",
    "    \n",
    "print(\"Valor: \", x)"
   ]
  },
  {
   "cell_type": "markdown",
   "metadata": {},
   "source": [
    "## 2. While\n",
    "\n",
    "La sentencia while es usada para repetir la ejecución de un código mientras la condición sea verdadera.\n",
    "\n",
    "El primer bloque corresponde al código que se ejecuta mientras la condición sea verdadera. Se puede crear un segundo bloque opcional con la sentencia else, la cual permite ejecutar ese bloque antes de terminar la ejecución del bucle while.\n",
    "\n",
    "Se pueden usar las sentencias **break** y **continue** en el primer bloque."
   ]
  },
  {
   "cell_type": "code",
   "execution_count": null,
   "metadata": {},
   "outputs": [],
   "source": [
    "a=0;b=1"
   ]
  },
  {
   "cell_type": "code",
   "execution_count": null,
   "metadata": {},
   "outputs": [],
   "source": [
    "a, b = 0, 1\n",
    "while b < 1000:\n",
    "    print(b, end=',')\n",
    "    a, b = b, a+b"
   ]
  },
  {
   "cell_type": "code",
   "execution_count": null,
   "metadata": {},
   "outputs": [],
   "source": [
    "a, b = 0, 1\n",
    "while b < 1000:\n",
    "    print(b, end=',')\n",
    "    a, b = b, a+b\n",
    "else:\n",
    "    print(\"\\nEl valor de b es mayor que 1000\")"
   ]
  },
  {
   "cell_type": "code",
   "execution_count": null,
   "metadata": {},
   "outputs": [],
   "source": [
    "a, b = 0, 1\n",
    "while b < 1000:\n",
    "    print(b, end=',')\n",
    "    a, b = b, a+b\n",
    "    break"
   ]
  },
  {
   "cell_type": "markdown",
   "metadata": {},
   "source": [
    "## 3. For\n",
    "\n",
    "La sentencia for se usa para iterar sobre los elementos que pertenecen a una secuencia del tipo string, tupla, lista o cualquier otro objeto iterable.\n",
    "\n",
    "La sentencia for en Python difiere un poco de lo que uno puede estar acostumbrado en lenguajes como C o Pascal. En lugar de siempre iterar sobre una progresión aritmética de números (como en Pascal) o darle al usuario la posibilidad de definir tanto el paso de la iteración como la condición de fin (como en C), la sentencia for de Python itera sobre los ítems de cualquier secuencia (una lista o una cadena de texto), en el orden que aparecen en la secuencia."
   ]
  },
  {
   "cell_type": "code",
   "execution_count": null,
   "metadata": {},
   "outputs": [],
   "source": [
    "palabras = ['Machine', 'Learning', 'Data Science']\n",
    "for p in palabras:\n",
    "    print(p, len(p))"
   ]
  },
  {
   "cell_type": "code",
   "execution_count": null,
   "metadata": {},
   "outputs": [],
   "source": [
    "for i in range(len(palabras)):\n",
    "    print(palabras[i])"
   ]
  },
  {
   "cell_type": "markdown",
   "metadata": {},
   "source": [
    "## 4. Try\n",
    "\n",
    "La sentencia try se usa para el manejo de excepciones y/o la limpieza de código para un grupo de expresiones.\n",
    "\n",
    "Es posible escribir programas que manejen determinadas excepciones. En el siguiente ejemplo se le pide al usuario una entrada hasta que ingrese un entero válido, pero permite al usuario interrumpir el programa (usando Control-C o lo que sea que el sistema operativo soporte).\n",
    "\n",
    "Notar que una interrupción generada por el usuario se señaliza generando la excepción KeyboardInterrupt."
   ]
  },
  {
   "cell_type": "code",
   "execution_count": null,
   "metadata": {},
   "outputs": [],
   "source": [
    "while True:\n",
    "    try:\n",
    "        x = int(input(\"Por favor ingrese un número: \"))\n",
    "        break\n",
    "    except ValueError:\n",
    "        print(\"Oops! No era válido. Intente nuevamente...\")"
   ]
  },
  {
   "cell_type": "markdown",
   "metadata": {},
   "source": [
    "La declaración try funciona de la siguiente manera:\n",
    "\n",
    "- Primero, se ejecuta el bloque try (el código entre las declaración try y except).\n",
    "- Si no ocurre ninguna excepción, el bloque except se salta y termina la ejecución de la declaración try.\n",
    "- Si ocurre una excepción durante la ejecución del bloque try, el resto del bloque se salta. Luego, si su tipo coincide con la excepción nombrada luego de la palabra reservada except, se ejecuta el bloque except, y la ejecución continúa luego de la declaración try.\n",
    "- Si ocurre una excepción que no coincide con la excepción nombrada en el except, esta se pasa a declaraciones try de más afuera; si no se encuentra nada que la maneje, es una excepción no manejada, y la ejecución se frena con un mensaje como los mostrados arriba.\n",
    "\n",
    "Una declaración try puede tener más de un except, para especificar manejadores para distintas excepciones. A lo sumo un manejador será ejecutado.\n",
    "\n",
    "Sólo se manejan excepciones que ocurren en el correspondiente try, no en otros manejadores del mismo try. Un except puede nombrar múltiples excepciones usando paréntesis, por ejemplo:"
   ]
  },
  {
   "cell_type": "code",
   "execution_count": null,
   "metadata": {},
   "outputs": [],
   "source": [
    "while True:\n",
    "    try:\n",
    "        x = int(input(\"Por favor ingrese un número: \"))\n",
    "        break\n",
    "    except (ValueError, RuntimeError, TypeError, NameError):\n",
    "        print(\"Oops! No era válido. Intente nuevamente...\")"
   ]
  },
  {
   "cell_type": "code",
   "execution_count": null,
   "metadata": {},
   "outputs": [],
   "source": [
    "try:\n",
    "    file='data/file_01.txt'\n",
    "    f = open(file)\n",
    "except OSError:\n",
    "    print(\"No se pudo abrir el archivo \", file)\n",
    "else:\n",
    "    print(\"Archivo abierto de manera correcta \", file)\n",
    "    print(\"El archivo tiene \", len(f.readlines()), 'lineas')\n",
    "    f.close()"
   ]
  },
  {
   "cell_type": "markdown",
   "metadata": {},
   "source": [
    "# Ejercicios\n",
    "\n",
    "Realice los siguientes ejercicios. En caso de tener dudas, puede apoyarse con sus compañeros, preguntarle al profesor y hacer búsquedas en internet."
   ]
  },
  {
   "cell_type": "markdown",
   "metadata": {},
   "source": [
    "1. Use un sentencia for para calcular la suma de todos los números entre el 1 y el 100. Es decir, 1+2+3+....+99+100\n",
    "\n",
    "2. Cree una lista que contenga 10 elementos de diferentes tipos. La lista debe tener al menos dos string y dos punto flotante. Cree una expresión que recorra la lista e imprima en pantalla el tipo de variable al que corresponde el elemento."
   ]
  },
  {
   "cell_type": "code",
   "execution_count": null,
   "metadata": {},
   "outputs": [],
   "source": []
  },
  {
   "cell_type": "markdown",
   "metadata": {},
   "source": [
    "# IV. Definición de funciones y clases\n"
   ]
  },
  {
   "cell_type": "markdown",
   "metadata": {},
   "source": [
    "# 1. Definición de funciones\n",
    "\n",
    "La palabra reservada **def** se usa para definir funciones. Debe seguirle el nombre de la función y la lista de parámetros formales entre paréntesis. Las sentencias que forman el cuerpo de la función empiezan en la línea siguiente, y deben estar con sangría.\n",
    "\n",
    "La primer sentencia del cuerpo de la función puede ser opcionalmente una cadena de texto literal; esta es la cadena de texto de documentación de la función, o docstring. (Podés encontrar más acerca de docstrings en la sección Cadenas de texto de documentación.)"
   ]
  },
  {
   "cell_type": "code",
   "execution_count": null,
   "metadata": {},
   "outputs": [],
   "source": [
    "def suma(x, y=4):\n",
    "    return x + y"
   ]
  },
  {
   "cell_type": "code",
   "execution_count": null,
   "metadata": {},
   "outputs": [],
   "source": [
    "# Llamamos a la función suma con un solo parámetro\n",
    "\n",
    "suma(4)"
   ]
  },
  {
   "cell_type": "code",
   "execution_count": null,
   "metadata": {},
   "outputs": [],
   "source": [
    "# Llamamos a la función suma usando los dos parámetros\n",
    "\n",
    "suma(2,10)"
   ]
  },
  {
   "cell_type": "markdown",
   "metadata": {},
   "source": [
    "Otra forma de escribir funciones, aunque menos utilizada, es con la palabra clave lambda. Las funciones Lambda pueden ser usadas en cualquier lugar donde sea requerido un objeto de tipo función. Están sintácticamente restringidas a una sola expresión."
   ]
  },
  {
   "cell_type": "code",
   "execution_count": null,
   "metadata": {},
   "outputs": [],
   "source": [
    "suma = lambda x, y = 2: x + y"
   ]
  },
  {
   "cell_type": "code",
   "execution_count": null,
   "metadata": {},
   "outputs": [],
   "source": [
    "suma(4)"
   ]
  },
  {
   "cell_type": "code",
   "execution_count": null,
   "metadata": {},
   "outputs": [],
   "source": [
    "suma(4,10)"
   ]
  },
  {
   "cell_type": "markdown",
   "metadata": {},
   "source": [
    "## 2. Definición de clases\n",
    "\n",
    "En el contexto de la programación orientada a objetos se habla de objetos, clases, métodos y atributos. En una clase un \"método\" equivale a una \"función\", y un \"atributo\" equivale a una \"variable\".\n",
    "\n",
    "Las clases proveen una forma de empaquetar datos y funcionalidad juntos. Al crear una nueva clase, se crea un nuevo tipo de objeto, permitiendo crear nuevas instancias de ese tipo. Cada instancia de clase puede tener atributos adjuntos para mantener su estado. Las instancias de clase también pueden tener métodos (definidos por su clase) para modificar su estado.\n",
    "\n",
    "Las clases de Python proveen todas las características normales de la Programación Orientada a Objetos:\n",
    "\n",
    "- El mecanismo de la herencia de clases permite múltiples clases base\n",
    "- Una clase derivada puede sobre escribir cualquier método de su(s) clase(s) base\n",
    "- Un método puede llamar al método de la clase base con el mismo nombre\n",
    "\n",
    "Los objetos pueden tener una cantidad arbitraria de datos de cualquier tipo. Igual que con los módulos, las clases participan de la naturaleza dinámica de Python: se crean en tiempo de ejecución, y pueden modificarse luego de la creación."
   ]
  },
  {
   "cell_type": "markdown",
   "metadata": {},
   "source": [
    "### Sintáxis en la definición de clases\n",
    "\n",
    "La forma más sencilla de definición de una clase se ve así\n",
    "\n",
    "```\n",
    "class Clase:\n",
    "    <declaración-1>\n",
    "    .\n",
    "    .\n",
    "    .\n",
    "    <declaración-N>\n",
    "```\n",
    "\n",
    "Las definiciones de clases, al igual que las definiciones de funciones (instrucciones def) deben ejecutarse antes de que tengan efecto alguno. Es concebible poner una definición de clase dentro de una rama de un if, o dentro de una función.\n",
    "\n",
    "Cuando una definición de clase se finaliza normalmente se crea un objeto clase. Básicamente, este objeto envuelve los contenidos del espacio de nombres creado por la definición de la clase"
   ]
  },
  {
   "cell_type": "markdown",
   "metadata": {},
   "source": [
    "### Objeto clase\n",
    "\n",
    "Los objetos clase soportan dos tipos de operaciones: hacer referencia a atributos e instanciación.\n",
    "\n",
    "#### Referencia a atributos\n",
    "\n",
    "Para hacer referencia a atributos se usa la sintaxis estándar de todas las referencias a atributos en Python: objeto.nombre.\n",
    "\n",
    "Los nombres de atributo válidos son todos los nombres que estaban en el espacio de nombres de la clase cuando ésta se creó. Por lo tanto, si la definición de la clase es así"
   ]
  },
  {
   "cell_type": "code",
   "execution_count": null,
   "metadata": {},
   "outputs": [],
   "source": [
    "class MiClase:\n",
    "    \"\"\"Simple clase de ejemplo\"\"\"\n",
    "    i = 12345\n",
    "    def f(self):\n",
    "        return 'Hola mundo'"
   ]
  },
  {
   "cell_type": "markdown",
   "metadata": {},
   "source": [
    "entonces MiClase.i y MiClase.f son referencias de atributos válidas, que devuelven un entero y un objeto función respectivamente.\n",
    "\n",
    "Los atributos de clase también pueden ser asignados, o sea que se pueden cambiar el valor de MiClase.i mediante asignación."
   ]
  },
  {
   "cell_type": "markdown",
   "metadata": {},
   "source": [
    "#### Instantación de clases\n",
    "\n",
    "La instanciación de clases usa la notación de funciones. Suponga que el objeto de clase es una función sin parámetros que devuelve una nueva instancia de la clase. Por ejemplo,"
   ]
  },
  {
   "cell_type": "code",
   "execution_count": null,
   "metadata": {},
   "outputs": [],
   "source": [
    "x=MiClase()"
   ]
  },
  {
   "cell_type": "markdown",
   "metadata": {},
   "source": [
    "crea una nueva instancia de la clase y asigna este objeto a la variable local x.\n",
    "\n",
    "Podemos ejecutar el método f() del objeto x."
   ]
  },
  {
   "cell_type": "code",
   "execution_count": null,
   "metadata": {},
   "outputs": [],
   "source": [
    "x.f()"
   ]
  },
  {
   "cell_type": "markdown",
   "metadata": {},
   "source": [
    "Cuando una clase define un método __init__(), la instanciación de la clase automáticamente invoca a __init__() para la instancia recién creada."
   ]
  },
  {
   "cell_type": "code",
   "execution_count": null,
   "metadata": {},
   "outputs": [],
   "source": [
    "class Complejo:\n",
    "    def __init__(self, partereal, parteimaginaria):\n",
    "        self.r = partereal\n",
    "        self.i = parteimaginaria"
   ]
  },
  {
   "cell_type": "code",
   "execution_count": null,
   "metadata": {},
   "outputs": [],
   "source": [
    "x = Complejo(3.0, -4.5)\n",
    "x.r, x.i"
   ]
  },
  {
   "cell_type": "markdown",
   "metadata": {},
   "source": [
    "### Variables de clase y de instancia\n",
    "\n",
    "En general, las variables de instancia son para datos únicos de cada instancia y las variables de clase son para atributos y métodos compartidos por todas las instancias de la clase:"
   ]
  },
  {
   "cell_type": "code",
   "execution_count": null,
   "metadata": {},
   "outputs": [],
   "source": [
    "class Perro:\n",
    "\n",
    "    tipo = 'canino'                 # variable de clase compartida por todas las instancias\n",
    "\n",
    "    def __init__(self, nombre):\n",
    "        self.nombre = nombre        # variable de instancia única para la instancia"
   ]
  },
  {
   "cell_type": "code",
   "execution_count": null,
   "metadata": {},
   "outputs": [],
   "source": [
    "d = Perro('Fido')\n",
    "e = Perro('Buddy')"
   ]
  },
  {
   "cell_type": "code",
   "execution_count": null,
   "metadata": {},
   "outputs": [],
   "source": [
    "# Variable compartida por todos los perros\n",
    "\n",
    "print(d.tipo)\n",
    "print(e.tipo)"
   ]
  },
  {
   "cell_type": "code",
   "execution_count": null,
   "metadata": {},
   "outputs": [],
   "source": [
    "# Única para cada objeto\n",
    "\n",
    "print(d.nombre)\n",
    "print(e.nombre)"
   ]
  },
  {
   "cell_type": "markdown",
   "metadata": {},
   "source": [
    "# Ejercicios\n",
    "\n",
    "Realice los siguientes ejercicios. En caso de tener dudas, puede apoyarse con sus compañeros, preguntarle al profesor y hacer búsquedas en internet.\n"
   ]
  },
  {
   "cell_type": "markdown",
   "metadata": {},
   "source": [
    "1. Cree una función llamada **resta** la cual permita restar dos valores que son ingresados como parámetros. El primer parámetro se llama x y es obligatorio, mientras que el segundo es opcional y por defecto tiene un valor igual a 0\n",
    "2. Evalue la función resta de dos maneras: usando solo un parámetro y luego usando ambos parámetros de la función"
   ]
  },
  {
   "cell_type": "code",
   "execution_count": null,
   "metadata": {},
   "outputs": [],
   "source": []
  },
  {
   "cell_type": "markdown",
   "metadata": {},
   "source": [
    "1. Cree una clase llamada **Gato**, la cual debe cotener una variable llamada tipo y cuyo valor sea 'felino'. La clase debe permitir ser instanciada con dos valores, el primero que corresponda al nombre del gato y el segundo al color del pelo.\n",
    "2. Cree dos objetos del tipo Gato. El primer objeto se llamara gato1, el nombre del gato es \"Garfield\" y el color de pelo es \"naranjo\". El seguno objeto se llama gato2, el nombre del gato es \"Silvestre\" y el color del pelo es \"gris\"."
   ]
  },
  {
   "cell_type": "code",
   "execution_count": null,
   "metadata": {},
   "outputs": [],
   "source": []
  },
  {
   "cell_type": "code",
   "execution_count": null,
   "metadata": {},
   "outputs": [],
   "source": []
  },
  {
   "cell_type": "code",
   "execution_count": null,
   "metadata": {},
   "outputs": [],
   "source": []
  },
  {
   "cell_type": "markdown",
   "metadata": {},
   "source": [
    "# Caso de Aplicación"
   ]
  },
  {
   "cell_type": "markdown",
   "metadata": {},
   "source": [
    "El año pasado se realizó una clasificación de clientes a través de un algoritmo de segmentación y el algoritmo se subió al repositorio Git de la empresa. La semana pasada, solicitaron un conteo de cuántos clientes pertenecen a una categoría. Lamentablemente, el algoritmo de segmentación se subió en una rama que ya no existe y que nunca fue integrada al código base. Se perdió la lógica y nunca se grabó una columna de tipo de cliente. \n",
    "\n",
    "Uno de los miembros del equipo de desarrollo recordó que los identificadores de los clientes fueron creados a partir del tipo de cliente, y que en teoría podrían utilizarse para recrear el segmento al que pertenecen.\n",
    "\n",
    "Dentro de los identificadores se encuentra el siguiente patrón:\n",
    " \n",
    "●\tPara los clientes tipo A, se repite un carácter justo después de otro, al menos una vez (por ejemplo, \"XX\" y \"pppp\") y al menos una vocal.\n",
    "\n",
    "●\tPara los clientes tipo B, se tienen más letras mayúsculas que minúsculas y/o al menos un dígito impar.\n",
    "\n",
    "●\tPara los clientes tipo C, se tiene al menos una de las siguientes secuencias de caracteres: \"jn\", \"cg\", \"ar\", \"mp\", \"fs\" o \"ic\"\n",
    " \n",
    "Adicionalmente,\n",
    "\n",
    "●\tUn cliente no puede pertenecer a más de un segmento y las reglas están en orden prioridad (es decir, la regla para tipo A predomina sobre la tipo B; así, el cliente solo puede ser tipo B si es que no es tipo A, y solo puede ser tipo C si es que no es tipo B).\n",
    "\n",
    "●\tSi no cumple con ningún patrón, entonces es tipo D.\n",
    " \n",
    "La tarea consiste en determinar cuántos clientes tipo A, B, C y D existen en la base de datos. Para este problema, utilice el archivo dentro de la carpeta Data llamado segmentacion.txt\n"
   ]
  },
  {
   "cell_type": "code",
   "execution_count": null,
   "metadata": {},
   "outputs": [],
   "source": []
  }
 ],
 "metadata": {
  "kernelspec": {
   "display_name": "Python 3",
   "language": "python",
   "name": "python3"
  },
  "language_info": {
   "codemirror_mode": {
    "name": "ipython",
    "version": 3
   },
   "file_extension": ".py",
   "mimetype": "text/x-python",
   "name": "python",
   "nbconvert_exporter": "python",
   "pygments_lexer": "ipython3",
   "version": "3.6.3"
  }
 },
 "nbformat": 4,
 "nbformat_minor": 1
}
